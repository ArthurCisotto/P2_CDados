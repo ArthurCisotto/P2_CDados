{
 "cells": [
  {
   "cell_type": "markdown",
   "metadata": {},
   "source": [
    "# Projeto 2 - Ciência dos Dados"
   ]
  },
  {
   "cell_type": "markdown",
   "metadata": {},
   "source": [
    "### Proposta geral do Projeto 2: Prevendo _targets_ baseando-se em um grupo de _features_. \n",
    "### Turma A\n",
    "\n",
    "**Membros:**\n",
    "-\n",
    "+ Alessandra Yumi Carvalho Ogawa\n",
    "+ André Brito\n",
    "+ Arthur Cisotto Machado\n",
    "+ Camila Bernardi Moniz\n"
   ]
  },
  {
   "cell_type": "code",
   "execution_count": 1,
   "metadata": {},
   "outputs": [],
   "source": [
    "%matplotlib inline\n",
    "import pandas as pd\n",
    "import matplotlib.pyplot as plt\n",
    "import numpy as np\n",
    "import os\n",
    "import re "
   ]
  },
  {
   "cell_type": "markdown",
   "metadata": {},
   "source": [
    "## A. Introdução  \n",
    "    \"Detalhar objetivo escolhido para trabalhar neste projeto juntamente com\n",
    "    descrição da base de dados. Pesquise trabalhos na literatura que discutam o\n",
    "    tema escolhido. Para trabalhos acadêmicos, acesse\n",
    "    https://scholar.google.com.br/. Guarde as referências estudadas para citá-las\n",
    "    no seu projeto.\""
   ]
  },
  {
   "cell_type": "markdown",
   "metadata": {},
   "source": [
    "## B. Minerando Dados e Características do Dataset  \n",
    "    Se necessário, faça filtro na base de dados tanto de linhas como de colunas\n",
    "    em prol do objetivo traçado anteriormente. Descreva as variáveis finais que serão utilizadas a partir deste ponto.\n",
    "    Faça análise descritiva detalhada das variáveis, norteado pelo objetivo do\n",
    "    problema. Aqui, é interessante entender como sua variável target se\n",
    "    comporta cruzada com cada feature. Note que ao cruzar duas variáveis, pode obter o cruzamento entre: duas variáveis quantitativas; duas variáveis\n",
    "    qualitativas; ou uma de cada tipo. Cada cruzamento irá exigir ferramentas\n",
    "    descritivas distintas. A tabela a seguir apresenta algumas ferramentas descritivas vistas no curso:"
   ]
  },
  {
   "cell_type": "code",
   "execution_count": 11,
   "metadata": {},
   "outputs": [
    {
     "data": {
      "text/html": [
       "<div>\n",
       "<style scoped>\n",
       "    .dataframe tbody tr th:only-of-type {\n",
       "        vertical-align: middle;\n",
       "    }\n",
       "\n",
       "    .dataframe tbody tr th {\n",
       "        vertical-align: top;\n",
       "    }\n",
       "\n",
       "    .dataframe thead th {\n",
       "        text-align: right;\n",
       "    }\n",
       "</style>\n",
       "<table border=\"1\" class=\"dataframe\">\n",
       "  <thead>\n",
       "    <tr style=\"text-align: right;\">\n",
       "      <th></th>\n",
       "      <th></th>\n",
       "      <th>Ferramentas estatísticas</th>\n",
       "    </tr>\n",
       "  </thead>\n",
       "  <tbody>\n",
       "    <tr>\n",
       "      <th>0</th>\n",
       "      <td>Duas variáveis qualitativas</td>\n",
       "      <td>Tabela cruzadas (com uso de normalize adequado ao problema); Gráficos de barras (empilhados ou stacked); entre outras</td>\n",
       "    </tr>\n",
       "    <tr>\n",
       "      <th>1</th>\n",
       "      <td>Duas variáveis quantitativas</td>\n",
       "      <td>Medidas de associação; Gráfico de dispersão; entre outras</td>\n",
       "    </tr>\n",
       "    <tr>\n",
       "      <th>2</th>\n",
       "      <td>Uma variável de cada</td>\n",
       "      <td>Medidas-resumo da variável quantitativa segmentando por rótulo da variável qualitativa; Histograma (ou boxplot) da variável quantitativa segmentando por rótulo da variável qualitativa; entre outras</td>\n",
       "    </tr>\n",
       "  </tbody>\n",
       "</table>\n",
       "</div>"
      ],
      "text/plain": [
       "                                 \\\n",
       "0   Duas variáveis qualitativas   \n",
       "1  Duas variáveis quantitativas   \n",
       "2          Uma variável de cada   \n",
       "\n",
       "                                                                                                                                                                                Ferramentas estatísticas  \n",
       "0                                                                                  Tabela cruzadas (com uso de normalize adequado ao problema); Gráficos de barras (empilhados ou stacked); entre outras  \n",
       "1                                                                                                                                              Medidas de associação; Gráfico de dispersão; entre outras  \n",
       "2  Medidas-resumo da variável quantitativa segmentando por rótulo da variável qualitativa; Histograma (ou boxplot) da variável quantitativa segmentando por rótulo da variável qualitativa; entre outras  "
      ]
     },
     "execution_count": 11,
     "metadata": {},
     "output_type": "execute_result"
    }
   ],
   "source": [
    "d = {'': ['Duas variáveis qualitativas', 'Duas variáveis quantitativas', 'Uma variável de cada'], 'Ferramentas estatísticas': ['Tabela cruzadas (com uso de normalize adequado ao problema); Gráficos de barras (empilhados ou stacked); entre outras', 'Medidas de associação; Gráfico de dispersão; entre outras', 'Medidas-resumo da variável quantitativa segmentando por rótulo da variável qualitativa; Histograma (ou boxplot) da variável quantitativa segmentando por rótulo da variável qualitativa; entre outras']}\n",
    "df = pd.DataFrame(data=d)\n",
    "pd.set_option('display.max_colwidth', None)\n",
    "df"
   ]
  },
  {
   "cell_type": "markdown",
   "metadata": {},
   "source": [
    "    Storytelling com dados: encontre uma representação gráfica que descreva\n",
    "    bem os seus dados e que também favoreça no storytelling que pretende\n",
    "    fazer ao explicar sua linha de raciocínio às outras pessoas (seja em formato\n",
    "    escrito ou em apresentação). "
   ]
  },
  {
   "cell_type": "markdown",
   "metadata": {},
   "source": [
    "## C. Modelos de Predição  \n",
    "    Descreva e justifique sua escolha de pelo menos DOIS modelos de predição. Exemplos de uso de modelos neste trabalho:\n",
    "    https://paulovasconcellos.com.br/10-skills-que-voc%C3%AA-precisar%C3%A1-para-trabalhar-com-data-science-em-2020-d1fe0da75914\n",
    "    Mas você pode usar outros que\n",
    "    fizerem mais sentido para o seu problema. Nesta etapa, ajuste cada modelo\n",
    "    preditivo apenas a uma parte da base de dados chamada de treinamento. A\n",
    "    validação do modelo está descrita no próximo subitem."
   ]
  },
  {
   "cell_type": "markdown",
   "metadata": {},
   "source": [
    "## D. Processo e Estatísticas de Validação\n",
    "    \n",
    "    Para os modelos preditivos que foram desenvolvidos no item anterior, é\n",
    "    necessário calcular medidas que informam a performance de cada modelo\n",
    "    ajustado. Assim, para cada modelo preditivo, faça:\n",
    "     \n",
    "    o  Divida a base de dados na parte treinamento e na parte teste. Use a\n",
    "    parte treinamento para estimar cada modelo preditivo. \n",
    "    o  Estude as medidas que permitem validar que seu modelo de previsão\n",
    "    está funcionando bem. Veja alguns exemplos nos links a seguir: link 1,\n",
    "    link 2 e link 3 (este apenas se target for quantitativo). Escolha medidas\n",
    "    de performance para os modelos de predição feitos em seu projeto e\n",
    "    compare-as após calcular tanto predizer a variável usando os dados de\n",
    "    treinamento como para a parte dos dados teste (o mais importante). \n",
    "    o  Discuta se essas duas medidas se comportam de forma semelhante\n",
    "    para as duas partes de dados. Leia o texto disponível aqui para\n",
    "    compreender overfitting e underfitting e refinar senso crítico para\n",
    "    discutir sobre as medidas calculadas. \n",
    "    o  Extra: Faça o processo de Validação Cruzada utilizando\n",
    "    também 10 ciclos e calcule a performance média e desvio\n",
    "    padrão das duas medidas R2 e RMS tanto para a parte\n",
    "    treinamento como para a parte teste. Discuta com riqueza de\n",
    "    detalhes."
   ]
  },
  {
   "cell_type": "markdown",
   "metadata": {},
   "source": [
    "## E. Conclusão  \n",
    "    Faça conclusão final com detalhes levando em consideração todas as\n",
    "    interpretações realizadas no decorrer do projeto."
   ]
  },
  {
   "cell_type": "markdown",
   "metadata": {},
   "source": [
    "## F. Referências Bibliográficas    \n",
    "    Todas as pesquisas feitas e estudadas que foram relevantes para o\n",
    "    desenvolvimento devem ser citadas no projeto. "
   ]
  }
 ],
 "metadata": {
  "interpreter": {
   "hash": "b8480431bb365df6bcb1c44b7387c7b698c6b108659e761b6ab654603c809c5e"
  },
  "kernelspec": {
   "display_name": "Python 3.8.5 64-bit ('base': conda)",
   "language": "python",
   "name": "python3"
  },
  "language_info": {
   "codemirror_mode": {
    "name": "ipython",
    "version": 3
   },
   "file_extension": ".py",
   "mimetype": "text/x-python",
   "name": "python",
   "nbconvert_exporter": "python",
   "pygments_lexer": "ipython3",
   "version": "3.8.5"
  },
  "orig_nbformat": 4
 },
 "nbformat": 4,
 "nbformat_minor": 2
}

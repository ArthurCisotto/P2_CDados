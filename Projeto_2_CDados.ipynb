{
 "cells": [
  {
   "cell_type": "markdown",
   "metadata": {},
   "source": [
    "# Projeto 2 - Ciência dos Dados"
   ]
  },
  {
   "cell_type": "markdown",
   "metadata": {},
   "source": [
    "### Proposta geral do Projeto 2: Prevendo _targets_ baseando-se em um grupo de _features_. \n",
    "### Turma A\n",
    "\n",
    "**Membros:**\n",
    "-\n",
    "+ Alessandra Yumi Carvalho Ogawa\n",
    "+ André Brito\n",
    "+ Arthur Cisotto Machado\n",
    "+ Camila Bernardi Moniz\n"
   ]
  },
  {
   "cell_type": "markdown",
   "metadata": {},
   "source": [
    "### Importando as Bibliotecas Necessárias"
   ]
  },
  {
   "cell_type": "code",
   "execution_count": 278,
   "metadata": {},
   "outputs": [],
   "source": [
    "%matplotlib inline\n",
    "import pandas as pd\n",
    "import matplotlib.pyplot as plt\n",
    "from scipy import stats \n",
    "import itertools\n",
    "import plotly.express as px\n",
    "import seaborn as sns\n",
    "import numpy as np\n",
    "import os\n",
    "import re\n",
    "from sklearn import tree\n",
    "from sklearn.model_selection import train_test_split\n",
    "from sklearn.ensemble import RandomForestClassifier\n",
    "from sklearn.model_selection import cross_val_score\n",
    "from sklearn.metrics import accuracy_score\n",
    "from sklearn.preprocessing import LabelEncoder\n",
    "from sklearn.metrics import confusion_matrix\n",
    "from sklearn.model_selection import cross_validate\n",
    "from sklearn.metrics import confusion_matrix\n",
    "from sklearn.metrics import roc_curve\n",
    "from sklearn.metrics import auc\n",
    "from sklearn.preprocessing import label_binarize"
   ]
  },
  {
   "cell_type": "markdown",
   "metadata": {},
   "source": [
    "## A. Introdução  \n",
    "    \"Detalhar objetivo escolhido para trabalhar neste projeto juntamente com\n",
    "    descrição da base de dados. Pesquise trabalhos na literatura que discutam o\n",
    "    tema escolhido. Para trabalhos acadêmicos, acesse\n",
    "    https://scholar.google.com.br/. Guarde as referências estudadas para citá-las\n",
    "    no seu projeto.\""
   ]
  },
  {
   "cell_type": "markdown",
   "metadata": {},
   "source": [
    "## B. Minerando Dados e Características do Dataset  \n",
    "    Se necessário, faça filtro na base de dados tanto de linhas como de colunas\n",
    "    em prol do objetivo traçado anteriormente. Descreva as variáveis finais que serão utilizadas a partir deste ponto.\n",
    "    Faça análise descritiva detalhada das variáveis, norteado pelo objetivo do\n",
    "    problema. Aqui, é interessante entender como sua variável target se\n",
    "    comporta cruzada com cada feature. Note que ao cruzar duas variáveis, pode obter o cruzamento entre: duas variáveis quantitativas; duas variáveis\n",
    "    qualitativas; ou uma de cada tipo. Cada cruzamento irá exigir ferramentas\n",
    "    descritivas distintas. A tabela a seguir apresenta algumas ferramentas descritivas vistas no curso:"
   ]
  },
  {
   "cell_type": "code",
   "execution_count": 279,
   "metadata": {},
   "outputs": [
    {
     "data": {
      "text/html": [
       "<style  type=\"text/css\" >\n",
       "</style><table id=\"T_2a3b3_\" ><thead>    <tr>        <th class=\"col_heading level0 col0\" ></th>        <th class=\"col_heading level0 col1\" >Ferramentas estatísticas</th>    </tr></thead><tbody>\n",
       "                <tr>\n",
       "                                <td id=\"T_2a3b3_row0_col0\" class=\"data row0 col0\" >Duas variáveis qualitativas</td>\n",
       "                        <td id=\"T_2a3b3_row0_col1\" class=\"data row0 col1\" >Tabela cruzadas (com uso de normalize adequado ao problema); Gráficos de barras (empilhados ou stacked); entre outras</td>\n",
       "            </tr>\n",
       "            <tr>\n",
       "                                <td id=\"T_2a3b3_row1_col0\" class=\"data row1 col0\" >Duas variáveis quantitativas</td>\n",
       "                        <td id=\"T_2a3b3_row1_col1\" class=\"data row1 col1\" >Medidas de associação; Gráfico de dispersão; entre outras</td>\n",
       "            </tr>\n",
       "            <tr>\n",
       "                                <td id=\"T_2a3b3_row2_col0\" class=\"data row2 col0\" >Uma variável de cada</td>\n",
       "                        <td id=\"T_2a3b3_row2_col1\" class=\"data row2 col1\" >Medidas-resumo da variável quantitativa segmentando por rótulo da variável qualitativa; Histograma (ou boxplot) da variável quantitativa segmentando por rótulo da variável qualitativa; entre outras</td>\n",
       "            </tr>\n",
       "    </tbody></table>"
      ],
      "text/plain": [
       "<pandas.io.formats.style.Styler at 0x2220b5cb630>"
      ]
     },
     "execution_count": 279,
     "metadata": {},
     "output_type": "execute_result"
    }
   ],
   "source": [
    "d = {'': ['Duas variáveis qualitativas', 'Duas variáveis quantitativas', 'Uma variável de cada'], 'Ferramentas estatísticas': ['Tabela cruzadas (com uso de normalize adequado ao problema); Gráficos de barras (empilhados ou stacked); entre outras', 'Medidas de associação; Gráfico de dispersão; entre outras', 'Medidas-resumo da variável quantitativa segmentando por rótulo da variável qualitativa; Histograma (ou boxplot) da variável quantitativa segmentando por rótulo da variável qualitativa; entre outras']}\n",
    "df = pd.DataFrame(data=d)\n",
    "pd.set_option('display.max_colwidth', None)\n",
    "df.style.hide_index()"
   ]
  },
  {
   "cell_type": "markdown",
   "metadata": {},
   "source": [
    "    Storytelling com dados: encontre uma representação gráfica que descreva\n",
    "    bem os seus dados e que também favoreça no storytelling que pretende\n",
    "    fazer ao explicar sua linha de raciocínio às outras pessoas (seja em formato\n",
    "    escrito ou em apresentação). "
   ]
  },
  {
   "cell_type": "markdown",
   "metadata": {},
   "source": [
    "### Importando o Dataset"
   ]
  },
  {
   "cell_type": "code",
   "execution_count": 280,
   "metadata": {},
   "outputs": [
    {
     "data": {
      "text/html": [
       "<div>\n",
       "<style scoped>\n",
       "    .dataframe tbody tr th:only-of-type {\n",
       "        vertical-align: middle;\n",
       "    }\n",
       "\n",
       "    .dataframe tbody tr th {\n",
       "        vertical-align: top;\n",
       "    }\n",
       "\n",
       "    .dataframe thead th {\n",
       "        text-align: right;\n",
       "    }\n",
       "</style>\n",
       "<table border=\"1\" class=\"dataframe\">\n",
       "  <thead>\n",
       "    <tr style=\"text-align: right;\">\n",
       "      <th></th>\n",
       "      <th>pos</th>\n",
       "      <th>flw</th>\n",
       "      <th>flg</th>\n",
       "      <th>bl</th>\n",
       "      <th>pic</th>\n",
       "      <th>lin</th>\n",
       "      <th>cl</th>\n",
       "      <th>cz</th>\n",
       "      <th>ni</th>\n",
       "      <th>erl</th>\n",
       "      <th>erc</th>\n",
       "      <th>lt</th>\n",
       "      <th>hc</th>\n",
       "      <th>pr</th>\n",
       "      <th>fo</th>\n",
       "      <th>cs</th>\n",
       "      <th>pi</th>\n",
       "      <th>class</th>\n",
       "    </tr>\n",
       "  </thead>\n",
       "  <tbody>\n",
       "    <tr>\n",
       "      <th>0</th>\n",
       "      <td>69</td>\n",
       "      <td>541</td>\n",
       "      <td>440</td>\n",
       "      <td>293</td>\n",
       "      <td>1</td>\n",
       "      <td>0</td>\n",
       "      <td>223</td>\n",
       "      <td>0.000000</td>\n",
       "      <td>0.111</td>\n",
       "      <td>10.120000</td>\n",
       "      <td>0.50</td>\n",
       "      <td>0.944</td>\n",
       "      <td>0.556</td>\n",
       "      <td>0.0</td>\n",
       "      <td>0.000</td>\n",
       "      <td>0.107055</td>\n",
       "      <td>334.596802</td>\n",
       "      <td>r</td>\n",
       "    </tr>\n",
       "    <tr>\n",
       "      <th>1</th>\n",
       "      <td>9</td>\n",
       "      <td>783</td>\n",
       "      <td>803</td>\n",
       "      <td>76</td>\n",
       "      <td>1</td>\n",
       "      <td>0</td>\n",
       "      <td>101</td>\n",
       "      <td>0.000000</td>\n",
       "      <td>0.000</td>\n",
       "      <td>19.820000</td>\n",
       "      <td>1.99</td>\n",
       "      <td>0.889</td>\n",
       "      <td>0.222</td>\n",
       "      <td>0.0</td>\n",
       "      <td>0.000</td>\n",
       "      <td>0.007400</td>\n",
       "      <td>2137.979248</td>\n",
       "      <td>r</td>\n",
       "    </tr>\n",
       "    <tr>\n",
       "      <th>2</th>\n",
       "      <td>390</td>\n",
       "      <td>1200</td>\n",
       "      <td>925</td>\n",
       "      <td>103</td>\n",
       "      <td>1</td>\n",
       "      <td>0</td>\n",
       "      <td>723</td>\n",
       "      <td>0.000000</td>\n",
       "      <td>0.000</td>\n",
       "      <td>11.540000</td>\n",
       "      <td>0.76</td>\n",
       "      <td>1.000</td>\n",
       "      <td>2.389</td>\n",
       "      <td>0.0</td>\n",
       "      <td>0.000</td>\n",
       "      <td>0.221954</td>\n",
       "      <td>96.244957</td>\n",
       "      <td>r</td>\n",
       "    </tr>\n",
       "    <tr>\n",
       "      <th>3</th>\n",
       "      <td>138</td>\n",
       "      <td>1100</td>\n",
       "      <td>1000</td>\n",
       "      <td>40</td>\n",
       "      <td>1</td>\n",
       "      <td>0</td>\n",
       "      <td>24</td>\n",
       "      <td>0.166667</td>\n",
       "      <td>0.167</td>\n",
       "      <td>20.440001</td>\n",
       "      <td>1.61</td>\n",
       "      <td>0.833</td>\n",
       "      <td>0.111</td>\n",
       "      <td>0.0</td>\n",
       "      <td>0.000</td>\n",
       "      <td>0.025055</td>\n",
       "      <td>226.622437</td>\n",
       "      <td>r</td>\n",
       "    </tr>\n",
       "    <tr>\n",
       "      <th>4</th>\n",
       "      <td>1</td>\n",
       "      <td>228</td>\n",
       "      <td>487</td>\n",
       "      <td>84</td>\n",
       "      <td>1</td>\n",
       "      <td>0</td>\n",
       "      <td>30</td>\n",
       "      <td>0.000000</td>\n",
       "      <td>0.000</td>\n",
       "      <td>9.210000</td>\n",
       "      <td>1.75</td>\n",
       "      <td>1.000</td>\n",
       "      <td>0.000</td>\n",
       "      <td>0.0</td>\n",
       "      <td>0.000</td>\n",
       "      <td>0.000000</td>\n",
       "      <td>0.000000</td>\n",
       "      <td>r</td>\n",
       "    </tr>\n",
       "    <tr>\n",
       "      <th>5</th>\n",
       "      <td>17</td>\n",
       "      <td>358</td>\n",
       "      <td>298</td>\n",
       "      <td>374</td>\n",
       "      <td>1</td>\n",
       "      <td>0</td>\n",
       "      <td>122</td>\n",
       "      <td>0.000000</td>\n",
       "      <td>0.176</td>\n",
       "      <td>20.510000</td>\n",
       "      <td>1.20</td>\n",
       "      <td>0.824</td>\n",
       "      <td>0.824</td>\n",
       "      <td>0.0</td>\n",
       "      <td>0.000</td>\n",
       "      <td>0.029504</td>\n",
       "      <td>1249.813965</td>\n",
       "      <td>r</td>\n",
       "    </tr>\n",
       "    <tr>\n",
       "      <th>6</th>\n",
       "      <td>25</td>\n",
       "      <td>1100</td>\n",
       "      <td>1400</td>\n",
       "      <td>16</td>\n",
       "      <td>1</td>\n",
       "      <td>0</td>\n",
       "      <td>68</td>\n",
       "      <td>0.000000</td>\n",
       "      <td>0.111</td>\n",
       "      <td>9.120000</td>\n",
       "      <td>0.71</td>\n",
       "      <td>0.778</td>\n",
       "      <td>0.667</td>\n",
       "      <td>0.0</td>\n",
       "      <td>0.056</td>\n",
       "      <td>0.013411</td>\n",
       "      <td>1088.083862</td>\n",
       "      <td>r</td>\n",
       "    </tr>\n",
       "    <tr>\n",
       "      <th>7</th>\n",
       "      <td>77</td>\n",
       "      <td>259</td>\n",
       "      <td>2800</td>\n",
       "      <td>15</td>\n",
       "      <td>1</td>\n",
       "      <td>0</td>\n",
       "      <td>9</td>\n",
       "      <td>0.500000</td>\n",
       "      <td>0.000</td>\n",
       "      <td>13.730000</td>\n",
       "      <td>0.86</td>\n",
       "      <td>0.833</td>\n",
       "      <td>0.000</td>\n",
       "      <td>0.0</td>\n",
       "      <td>0.000</td>\n",
       "      <td>0.235294</td>\n",
       "      <td>159.321838</td>\n",
       "      <td>r</td>\n",
       "    </tr>\n",
       "    <tr>\n",
       "      <th>8</th>\n",
       "      <td>16</td>\n",
       "      <td>157</td>\n",
       "      <td>226</td>\n",
       "      <td>233</td>\n",
       "      <td>1</td>\n",
       "      <td>0</td>\n",
       "      <td>10</td>\n",
       "      <td>0.125000</td>\n",
       "      <td>0.000</td>\n",
       "      <td>24.920000</td>\n",
       "      <td>1.27</td>\n",
       "      <td>0.875</td>\n",
       "      <td>0.000</td>\n",
       "      <td>0.0</td>\n",
       "      <td>0.063</td>\n",
       "      <td>0.000000</td>\n",
       "      <td>1160.965820</td>\n",
       "      <td>r</td>\n",
       "    </tr>\n",
       "    <tr>\n",
       "      <th>9</th>\n",
       "      <td>195</td>\n",
       "      <td>717</td>\n",
       "      <td>475</td>\n",
       "      <td>118</td>\n",
       "      <td>1</td>\n",
       "      <td>0</td>\n",
       "      <td>14</td>\n",
       "      <td>0.444444</td>\n",
       "      <td>0.056</td>\n",
       "      <td>9.950000</td>\n",
       "      <td>0.96</td>\n",
       "      <td>0.944</td>\n",
       "      <td>0.111</td>\n",
       "      <td>0.0</td>\n",
       "      <td>0.000</td>\n",
       "      <td>0.191383</td>\n",
       "      <td>847.155212</td>\n",
       "      <td>r</td>\n",
       "    </tr>\n",
       "  </tbody>\n",
       "</table>\n",
       "</div>"
      ],
      "text/plain": [
       "   pos   flw   flg   bl  pic  lin   cl        cz     ni        erl   erc  \\\n",
       "0   69   541   440  293    1    0  223  0.000000  0.111  10.120000  0.50   \n",
       "1    9   783   803   76    1    0  101  0.000000  0.000  19.820000  1.99   \n",
       "2  390  1200   925  103    1    0  723  0.000000  0.000  11.540000  0.76   \n",
       "3  138  1100  1000   40    1    0   24  0.166667  0.167  20.440001  1.61   \n",
       "4    1   228   487   84    1    0   30  0.000000  0.000   9.210000  1.75   \n",
       "5   17   358   298  374    1    0  122  0.000000  0.176  20.510000  1.20   \n",
       "6   25  1100  1400   16    1    0   68  0.000000  0.111   9.120000  0.71   \n",
       "7   77   259  2800   15    1    0    9  0.500000  0.000  13.730000  0.86   \n",
       "8   16   157   226  233    1    0   10  0.125000  0.000  24.920000  1.27   \n",
       "9  195   717   475  118    1    0   14  0.444444  0.056   9.950000  0.96   \n",
       "\n",
       "      lt     hc   pr     fo        cs           pi class  \n",
       "0  0.944  0.556  0.0  0.000  0.107055   334.596802     r  \n",
       "1  0.889  0.222  0.0  0.000  0.007400  2137.979248     r  \n",
       "2  1.000  2.389  0.0  0.000  0.221954    96.244957     r  \n",
       "3  0.833  0.111  0.0  0.000  0.025055   226.622437     r  \n",
       "4  1.000  0.000  0.0  0.000  0.000000     0.000000     r  \n",
       "5  0.824  0.824  0.0  0.000  0.029504  1249.813965     r  \n",
       "6  0.778  0.667  0.0  0.056  0.013411  1088.083862     r  \n",
       "7  0.833  0.000  0.0  0.000  0.235294   159.321838     r  \n",
       "8  0.875  0.000  0.0  0.063  0.000000  1160.965820     r  \n",
       "9  0.944  0.111  0.0  0.000  0.191383   847.155212     r  "
      ]
     },
     "execution_count": 280,
     "metadata": {},
     "output_type": "execute_result"
    }
   ],
   "source": [
    "data = pd.read_csv('user_fake_authentic_4class.csv')\n",
    "data.head(10)"
   ]
  },
  {
   "cell_type": "markdown",
   "metadata": {},
   "source": [
    "### Legenda do Dataset:  "
   ]
  },
  {
   "cell_type": "code",
   "execution_count": 281,
   "metadata": {},
   "outputs": [
    {
     "data": {
      "text/html": [
       "<style  type=\"text/css\" >\n",
       "</style><table id=\"T_44b0d_\" ><thead>    <tr>        <th class=\"col_heading level0 col0\" >Nome da Variável</th>        <th class=\"col_heading level0 col1\" >Nome da Feature</th>        <th class=\"col_heading level0 col2\" >Descrição</th>    </tr></thead><tbody>\n",
       "                <tr>\n",
       "                                <td id=\"T_44b0d_row0_col0\" class=\"data row0 col0\" >pos</td>\n",
       "                        <td id=\"T_44b0d_row0_col1\" class=\"data row0 col1\" >Número de posts</td>\n",
       "                        <td id=\"T_44b0d_row0_col2\" class=\"data row0 col2\" >Número total de posts que o usuário já fez</td>\n",
       "            </tr>\n",
       "            <tr>\n",
       "                                <td id=\"T_44b0d_row1_col0\" class=\"data row1 col0\" >flw</td>\n",
       "                        <td id=\"T_44b0d_row1_col1\" class=\"data row1 col1\" >Número de seguidores</td>\n",
       "                        <td id=\"T_44b0d_row1_col2\" class=\"data row1 col2\" >Número de seguidores</td>\n",
       "            </tr>\n",
       "            <tr>\n",
       "                                <td id=\"T_44b0d_row2_col0\" class=\"data row2 col0\" >flg</td>\n",
       "                        <td id=\"T_44b0d_row2_col1\" class=\"data row2 col1\" >Número contas seguindo</td>\n",
       "                        <td id=\"T_44b0d_row2_col2\" class=\"data row2 col2\" >Número de contas que o usuário segue</td>\n",
       "            </tr>\n",
       "            <tr>\n",
       "                                <td id=\"T_44b0d_row3_col0\" class=\"data row3 col0\" >bl</td>\n",
       "                        <td id=\"T_44b0d_row3_col1\" class=\"data row3 col1\" >Tamanho da Biografia</td>\n",
       "                        <td id=\"T_44b0d_row3_col2\" class=\"data row3 col2\" >Número de caracteres da biografia do usuário</td>\n",
       "            </tr>\n",
       "            <tr>\n",
       "                                <td id=\"T_44b0d_row4_col0\" class=\"data row4 col0\" >pic</td>\n",
       "                        <td id=\"T_44b0d_row4_col1\" class=\"data row4 col1\" >Disponibilidade de Foto</td>\n",
       "                        <td id=\"T_44b0d_row4_col2\" class=\"data row4 col2\" >Valor 0 se o usuário não tem foto de perfil, 1 caso contrário</td>\n",
       "            </tr>\n",
       "            <tr>\n",
       "                                <td id=\"T_44b0d_row5_col0\" class=\"data row5 col0\" >lin</td>\n",
       "                        <td id=\"T_44b0d_row5_col1\" class=\"data row5 col1\" >Disponibilidade de Link</td>\n",
       "                        <td id=\"T_44b0d_row5_col2\" class=\"data row5 col2\" >Valor 0 se o usuário não tem Link externo no perfil, 1 caso contrário</td>\n",
       "            </tr>\n",
       "            <tr>\n",
       "                                <td id=\"T_44b0d_row6_col0\" class=\"data row6 col0\" >cl</td>\n",
       "                        <td id=\"T_44b0d_row6_col1\" class=\"data row6 col1\" >Tamanho médio da Legenda</td>\n",
       "                        <td id=\"T_44b0d_row6_col2\" class=\"data row6 col2\" >Número médio de caracteres nas legendas dos posts do usuário</td>\n",
       "            </tr>\n",
       "            <tr>\n",
       "                                <td id=\"T_44b0d_row7_col0\" class=\"data row7 col0\" >cz</td>\n",
       "                        <td id=\"T_44b0d_row7_col1\" class=\"data row7 col1\" >Legenda Zero</td>\n",
       "                        <td id=\"T_44b0d_row7_col2\" class=\"data row7 col2\" >Porcentagem (0.0 a 1.0) de legendas que possuem quase 0 (<=3) caracteres</td>\n",
       "            </tr>\n",
       "            <tr>\n",
       "                                <td id=\"T_44b0d_row8_col0\" class=\"data row8 col0\" >ni</td>\n",
       "                        <td id=\"T_44b0d_row8_col1\" class=\"data row8 col1\" >Porcentagem Sem Imagem</td>\n",
       "                        <td id=\"T_44b0d_row8_col2\" class=\"data row8 col2\" >Porcentagem (0.0 a 1.0) de posts que não são do tipo imagem (Existem 3 tipos de mídia em um post no Instagram, imagem, vídeo e carrosel)</td>\n",
       "            </tr>\n",
       "            <tr>\n",
       "                                <td id=\"T_44b0d_row9_col0\" class=\"data row9 col0\" >erl</td>\n",
       "                        <td id=\"T_44b0d_row9_col1\" class=\"data row9 col1\" >Taxa de Engajamento (Like)</td>\n",
       "                        <td id=\"T_44b0d_row9_col2\" class=\"data row9 col2\" >Número de Likes dividido pelo Número de Seguidores</td>\n",
       "            </tr>\n",
       "            <tr>\n",
       "                                <td id=\"T_44b0d_row10_col0\" class=\"data row10 col0\" >erc</td>\n",
       "                        <td id=\"T_44b0d_row10_col1\" class=\"data row10 col1\" >Taxa de Engajamento (Comentário)</td>\n",
       "                        <td id=\"T_44b0d_row10_col2\" class=\"data row10 col2\" >Número de Comentários dividiodo pelo Número de Seguidores</td>\n",
       "            </tr>\n",
       "            <tr>\n",
       "                                <td id=\"T_44b0d_row11_col0\" class=\"data row11 col0\" >lt</td>\n",
       "                        <td id=\"T_44b0d_row11_col1\" class=\"data row11 col1\" >Porcentagem de Localização</td>\n",
       "                        <td id=\"T_44b0d_row11_col2\" class=\"data row11 col2\" >Porcentagem (0.0 a 1.0) de posts com tag de localização</td>\n",
       "            </tr>\n",
       "            <tr>\n",
       "                                <td id=\"T_44b0d_row12_col0\" class=\"data row12 col0\" >hc</td>\n",
       "                        <td id=\"T_44b0d_row12_col1\" class=\"data row12 col1\" >Média de uso de Hashtags</td>\n",
       "                        <td id=\"T_44b0d_row12_col2\" class=\"data row12 col2\" >Número médio de hashtags usadas em um post</td>\n",
       "            </tr>\n",
       "            <tr>\n",
       "                                <td id=\"T_44b0d_row13_col0\" class=\"data row13 col0\" >pr</td>\n",
       "                        <td id=\"T_44b0d_row13_col1\" class=\"data row13 col1\" >Palavras-Chave Promocionais</td>\n",
       "                        <td id=\"T_44b0d_row13_col2\" class=\"data row13 col2\" >Número médio de palavras-chave promocionais em hashtags (por exemplo, regrann, contest, repost, giveaway, mention, share, give away, quiz, etc)</td>\n",
       "            </tr>\n",
       "            <tr>\n",
       "                                <td id=\"T_44b0d_row14_col0\" class=\"data row14 col0\" >fo</td>\n",
       "                        <td id=\"T_44b0d_row14_col1\" class=\"data row14 col1\" >Palavras-Chave Seguidores</td>\n",
       "                        <td id=\"T_44b0d_row14_col2\" class=\"data row14 col2\" >Número médio de palavras-chave procurando seguidores em hashtags (por exemplo, follow, like, folback, follback, f4f, etc)</td>\n",
       "            </tr>\n",
       "            <tr>\n",
       "                                <td id=\"T_44b0d_row15_col0\" class=\"data row15 col0\" >cs</td>\n",
       "                        <td id=\"T_44b0d_row15_col1\" class=\"data row15 col1\" >Similaridade por Cosseno</td>\n",
       "                        <td id=\"T_44b0d_row15_col2\" class=\"data row15 col2\" >Medida da similaridade de entre dois vetores (posts) num espaço vetorial que avalia o valor do cosseno do ângulo compreendido entre eles.</td>\n",
       "            </tr>\n",
       "            <tr>\n",
       "                                <td id=\"T_44b0d_row16_col0\" class=\"data row16 col0\" >pi</td>\n",
       "                        <td id=\"T_44b0d_row16_col1\" class=\"data row16 col1\" >Intervalo de Posts</td>\n",
       "                        <td id=\"T_44b0d_row16_col2\" class=\"data row16 col2\" >Intervalo de tempo médio entre posts (em horas)</td>\n",
       "            </tr>\n",
       "            <tr>\n",
       "                                <td id=\"T_44b0d_row17_col0\" class=\"data row17 col0\" >class</td>\n",
       "                        <td id=\"T_44b0d_row17_col1\" class=\"data row17 col1\" >Classe de Usuários</td>\n",
       "                        <td id=\"T_44b0d_row17_col2\" class=\"data row17 col2\" >Classes 2-class: r (usuários reais/autenticados), f (Usuário fake / Comprou seguidores) | Classes 4-class: r (usuários reais/autenticados), a (Usuário fake Ativo), i (Usuário fake Inativo), s (Usuário fake Spam). Note que as 3 classes de usuário fake (a, i, s) foram determinadas por avaliadores humanos.</td>\n",
       "            </tr>\n",
       "    </tbody></table>"
      ],
      "text/plain": [
       "<pandas.io.formats.style.Styler at 0x2220c38c6d8>"
      ]
     },
     "execution_count": 281,
     "metadata": {},
     "output_type": "execute_result"
    }
   ],
   "source": [
    "d1 = {'Nome da Variável': ['pos','flw', 'flg', 'bl', 'pic', 'lin', 'cl','cz','ni','erl', 'erc', 'lt', 'hc', 'pr', 'fo', 'cs', 'pi', 'class'], 'Nome da Feature': ['Número de posts', 'Número de seguidores', 'Número contas seguindo', 'Tamanho da Biografia', 'Disponibilidade de Foto', 'Disponibilidade de Link', 'Tamanho médio da Legenda', 'Legenda Zero', 'Porcentagem Sem Imagem', 'Taxa de Engajamento (Like)', 'Taxa de Engajamento (Comentário)', 'Porcentagem de Localização', 'Média de uso de Hashtags', 'Palavras-Chave Promocionais', 'Palavras-Chave Seguidores', 'Similaridade por Cosseno', 'Intervalo de Posts', 'Classe de Usuários'], 'Descrição': ['Número total de posts que o usuário já fez', 'Número de seguidores', 'Número de contas que o usuário segue', 'Número de caracteres da biografia do usuário', 'Valor 0 se o usuário não tem foto de perfil, 1 caso contrário', 'Valor 0 se o usuário não tem Link externo no perfil, 1 caso contrário', 'Número médio de caracteres nas legendas dos posts do usuário', 'Porcentagem (0.0 a 1.0) de legendas que possuem quase 0 (<=3) caracteres', 'Porcentagem (0.0 a 1.0) de posts que não são do tipo imagem (Existem 3 tipos de mídia em um post no Instagram, imagem, vídeo e carrosel)', 'Número de Likes dividido pelo Número de Seguidores', 'Número de Comentários dividiodo pelo Número de Seguidores', 'Porcentagem (0.0 a 1.0) de posts com tag de localização', 'Número médio de hashtags usadas em um post', 'Número médio de palavras-chave promocionais em hashtags (por exemplo, regrann, contest, repost, giveaway, mention, share, give away, quiz, etc)', 'Número médio de palavras-chave procurando seguidores em hashtags (por exemplo, follow, like, folback, follback, f4f, etc)', 'Medida da similaridade de entre dois vetores (posts) num espaço vetorial que avalia o valor do cosseno do ângulo compreendido entre eles.', 'Intervalo de tempo médio entre posts (em horas)', 'Classes 2-class: r (usuários reais/autenticados), f (Usuário fake / Comprou seguidores) | Classes 4-class: r (usuários reais/autenticados), a (Usuário fake Ativo), i (Usuário fake Inativo), s (Usuário fake Spam). Note que as 3 classes de usuário fake (a, i, s) foram determinadas por avaliadores humanos.' ]}\n",
    "df1 = pd.DataFrame(data=d1)\n",
    "pd.set_option('display.max_colwidth', None)\n",
    "df1.style.hide_index()\n"
   ]
  },
  {
   "cell_type": "markdown",
   "metadata": {},
   "source": [
    "## Análise Exploratória"
   ]
  },
  {
   "cell_type": "markdown",
   "metadata": {},
   "source": [
    "### Relação entre features\n",
    "Primeiramente, verificamos se existem correlações fortes entre features diferentes.  \n",
    "Se existirem 2 features diferentes fortemente relacionadas podemos descartar alguma delas para facilitar a análise dos dados."
   ]
  },
  {
   "cell_type": "code",
   "execution_count": 282,
   "metadata": {},
   "outputs": [
    {
     "data": {
      "text/html": [
       "<div>\n",
       "<style scoped>\n",
       "    .dataframe tbody tr th:only-of-type {\n",
       "        vertical-align: middle;\n",
       "    }\n",
       "\n",
       "    .dataframe tbody tr th {\n",
       "        vertical-align: top;\n",
       "    }\n",
       "\n",
       "    .dataframe thead th {\n",
       "        text-align: right;\n",
       "    }\n",
       "</style>\n",
       "<table border=\"1\" class=\"dataframe\">\n",
       "  <thead>\n",
       "    <tr style=\"text-align: right;\">\n",
       "      <th></th>\n",
       "      <th>pos</th>\n",
       "      <th>flw</th>\n",
       "      <th>flg</th>\n",
       "      <th>bl</th>\n",
       "      <th>pic</th>\n",
       "      <th>lin</th>\n",
       "      <th>cl</th>\n",
       "      <th>cz</th>\n",
       "      <th>ni</th>\n",
       "      <th>erl</th>\n",
       "      <th>erc</th>\n",
       "      <th>lt</th>\n",
       "      <th>hc</th>\n",
       "      <th>pr</th>\n",
       "      <th>fo</th>\n",
       "      <th>cs</th>\n",
       "      <th>pi</th>\n",
       "    </tr>\n",
       "  </thead>\n",
       "  <tbody>\n",
       "    <tr>\n",
       "      <th>pos</th>\n",
       "      <td>1.000000</td>\n",
       "      <td>0.166695</td>\n",
       "      <td>0.038562</td>\n",
       "      <td>0.141610</td>\n",
       "      <td>0.055275</td>\n",
       "      <td>0.139939</td>\n",
       "      <td>0.191024</td>\n",
       "      <td>-0.063103</td>\n",
       "      <td>0.064128</td>\n",
       "      <td>-0.024753</td>\n",
       "      <td>-0.029045</td>\n",
       "      <td>0.025164</td>\n",
       "      <td>0.011754</td>\n",
       "      <td>0.027358</td>\n",
       "      <td>-0.009527</td>\n",
       "      <td>-0.028462</td>\n",
       "      <td>-0.070077</td>\n",
       "    </tr>\n",
       "    <tr>\n",
       "      <th>flw</th>\n",
       "      <td>0.166695</td>\n",
       "      <td>1.000000</td>\n",
       "      <td>0.008143</td>\n",
       "      <td>0.048008</td>\n",
       "      <td>0.013466</td>\n",
       "      <td>0.060522</td>\n",
       "      <td>0.042617</td>\n",
       "      <td>-0.022574</td>\n",
       "      <td>0.024401</td>\n",
       "      <td>-0.006315</td>\n",
       "      <td>-0.007753</td>\n",
       "      <td>0.020658</td>\n",
       "      <td>0.009011</td>\n",
       "      <td>-0.000612</td>\n",
       "      <td>-0.001073</td>\n",
       "      <td>-0.018352</td>\n",
       "      <td>-0.009618</td>\n",
       "    </tr>\n",
       "    <tr>\n",
       "      <th>flg</th>\n",
       "      <td>0.038562</td>\n",
       "      <td>0.008143</td>\n",
       "      <td>1.000000</td>\n",
       "      <td>0.031344</td>\n",
       "      <td>-0.117024</td>\n",
       "      <td>0.015255</td>\n",
       "      <td>-0.106933</td>\n",
       "      <td>0.165158</td>\n",
       "      <td>-0.098679</td>\n",
       "      <td>0.033867</td>\n",
       "      <td>-0.005908</td>\n",
       "      <td>-0.093101</td>\n",
       "      <td>-0.038603</td>\n",
       "      <td>-0.076363</td>\n",
       "      <td>0.016669</td>\n",
       "      <td>0.195926</td>\n",
       "      <td>-0.051608</td>\n",
       "    </tr>\n",
       "    <tr>\n",
       "      <th>bl</th>\n",
       "      <td>0.141610</td>\n",
       "      <td>0.048008</td>\n",
       "      <td>0.031344</td>\n",
       "      <td>1.000000</td>\n",
       "      <td>0.166773</td>\n",
       "      <td>0.366875</td>\n",
       "      <td>0.295858</td>\n",
       "      <td>-0.212018</td>\n",
       "      <td>0.121772</td>\n",
       "      <td>-0.025033</td>\n",
       "      <td>-0.034935</td>\n",
       "      <td>0.218418</td>\n",
       "      <td>0.165403</td>\n",
       "      <td>-0.017546</td>\n",
       "      <td>0.031489</td>\n",
       "      <td>-0.167572</td>\n",
       "      <td>-0.065453</td>\n",
       "    </tr>\n",
       "    <tr>\n",
       "      <th>pic</th>\n",
       "      <td>0.055275</td>\n",
       "      <td>0.013466</td>\n",
       "      <td>-0.117024</td>\n",
       "      <td>0.166773</td>\n",
       "      <td>1.000000</td>\n",
       "      <td>0.091341</td>\n",
       "      <td>0.132968</td>\n",
       "      <td>0.113378</td>\n",
       "      <td>0.145210</td>\n",
       "      <td>-0.015730</td>\n",
       "      <td>-0.016664</td>\n",
       "      <td>0.133094</td>\n",
       "      <td>0.066943</td>\n",
       "      <td>0.033606</td>\n",
       "      <td>0.005830</td>\n",
       "      <td>-0.285706</td>\n",
       "      <td>0.105846</td>\n",
       "    </tr>\n",
       "    <tr>\n",
       "      <th>lin</th>\n",
       "      <td>0.139939</td>\n",
       "      <td>0.060522</td>\n",
       "      <td>0.015255</td>\n",
       "      <td>0.366875</td>\n",
       "      <td>0.091341</td>\n",
       "      <td>1.000000</td>\n",
       "      <td>0.239230</td>\n",
       "      <td>-0.141152</td>\n",
       "      <td>0.068616</td>\n",
       "      <td>-0.025193</td>\n",
       "      <td>-0.032901</td>\n",
       "      <td>0.147633</td>\n",
       "      <td>0.087192</td>\n",
       "      <td>-0.019877</td>\n",
       "      <td>0.009055</td>\n",
       "      <td>-0.078826</td>\n",
       "      <td>-0.047884</td>\n",
       "    </tr>\n",
       "    <tr>\n",
       "      <th>cl</th>\n",
       "      <td>0.191024</td>\n",
       "      <td>0.042617</td>\n",
       "      <td>-0.106933</td>\n",
       "      <td>0.295858</td>\n",
       "      <td>0.132968</td>\n",
       "      <td>0.239230</td>\n",
       "      <td>1.000000</td>\n",
       "      <td>-0.342882</td>\n",
       "      <td>0.088381</td>\n",
       "      <td>-0.034115</td>\n",
       "      <td>-0.037111</td>\n",
       "      <td>0.061298</td>\n",
       "      <td>0.191118</td>\n",
       "      <td>0.262864</td>\n",
       "      <td>0.071502</td>\n",
       "      <td>-0.158918</td>\n",
       "      <td>-0.075580</td>\n",
       "    </tr>\n",
       "    <tr>\n",
       "      <th>cz</th>\n",
       "      <td>-0.063103</td>\n",
       "      <td>-0.022574</td>\n",
       "      <td>0.165158</td>\n",
       "      <td>-0.212018</td>\n",
       "      <td>0.113378</td>\n",
       "      <td>-0.141152</td>\n",
       "      <td>-0.342882</td>\n",
       "      <td>1.000000</td>\n",
       "      <td>-0.094043</td>\n",
       "      <td>0.075819</td>\n",
       "      <td>0.078008</td>\n",
       "      <td>-0.171646</td>\n",
       "      <td>-0.202589</td>\n",
       "      <td>-0.080290</td>\n",
       "      <td>-0.054557</td>\n",
       "      <td>0.270140</td>\n",
       "      <td>0.065315</td>\n",
       "    </tr>\n",
       "    <tr>\n",
       "      <th>ni</th>\n",
       "      <td>0.064128</td>\n",
       "      <td>0.024401</td>\n",
       "      <td>-0.098679</td>\n",
       "      <td>0.121772</td>\n",
       "      <td>0.145210</td>\n",
       "      <td>0.068616</td>\n",
       "      <td>0.088381</td>\n",
       "      <td>-0.094043</td>\n",
       "      <td>1.000000</td>\n",
       "      <td>-0.017700</td>\n",
       "      <td>-0.018242</td>\n",
       "      <td>0.210334</td>\n",
       "      <td>0.055417</td>\n",
       "      <td>-0.024935</td>\n",
       "      <td>-0.005014</td>\n",
       "      <td>-0.273763</td>\n",
       "      <td>0.038901</td>\n",
       "    </tr>\n",
       "    <tr>\n",
       "      <th>erl</th>\n",
       "      <td>-0.024753</td>\n",
       "      <td>-0.006315</td>\n",
       "      <td>0.033867</td>\n",
       "      <td>-0.025033</td>\n",
       "      <td>-0.015730</td>\n",
       "      <td>-0.025193</td>\n",
       "      <td>-0.034115</td>\n",
       "      <td>0.075819</td>\n",
       "      <td>-0.017700</td>\n",
       "      <td>1.000000</td>\n",
       "      <td>0.440497</td>\n",
       "      <td>-0.009019</td>\n",
       "      <td>0.027886</td>\n",
       "      <td>-0.006053</td>\n",
       "      <td>0.033943</td>\n",
       "      <td>-0.036677</td>\n",
       "      <td>-0.002977</td>\n",
       "    </tr>\n",
       "    <tr>\n",
       "      <th>erc</th>\n",
       "      <td>-0.029045</td>\n",
       "      <td>-0.007753</td>\n",
       "      <td>-0.005908</td>\n",
       "      <td>-0.034935</td>\n",
       "      <td>-0.016664</td>\n",
       "      <td>-0.032901</td>\n",
       "      <td>-0.037111</td>\n",
       "      <td>0.078008</td>\n",
       "      <td>-0.018242</td>\n",
       "      <td>0.440497</td>\n",
       "      <td>1.000000</td>\n",
       "      <td>-0.004940</td>\n",
       "      <td>0.034758</td>\n",
       "      <td>0.014698</td>\n",
       "      <td>0.032646</td>\n",
       "      <td>-0.067143</td>\n",
       "      <td>0.005570</td>\n",
       "    </tr>\n",
       "    <tr>\n",
       "      <th>lt</th>\n",
       "      <td>0.025164</td>\n",
       "      <td>0.020658</td>\n",
       "      <td>-0.093101</td>\n",
       "      <td>0.218418</td>\n",
       "      <td>0.133094</td>\n",
       "      <td>0.147633</td>\n",
       "      <td>0.061298</td>\n",
       "      <td>-0.171646</td>\n",
       "      <td>0.210334</td>\n",
       "      <td>-0.009019</td>\n",
       "      <td>-0.004940</td>\n",
       "      <td>1.000000</td>\n",
       "      <td>0.124301</td>\n",
       "      <td>-0.063438</td>\n",
       "      <td>0.008034</td>\n",
       "      <td>-0.285055</td>\n",
       "      <td>0.101460</td>\n",
       "    </tr>\n",
       "    <tr>\n",
       "      <th>hc</th>\n",
       "      <td>0.011754</td>\n",
       "      <td>0.009011</td>\n",
       "      <td>-0.038603</td>\n",
       "      <td>0.165403</td>\n",
       "      <td>0.066943</td>\n",
       "      <td>0.087192</td>\n",
       "      <td>0.191118</td>\n",
       "      <td>-0.202589</td>\n",
       "      <td>0.055417</td>\n",
       "      <td>0.027886</td>\n",
       "      <td>0.034758</td>\n",
       "      <td>0.124301</td>\n",
       "      <td>1.000000</td>\n",
       "      <td>0.139947</td>\n",
       "      <td>0.377892</td>\n",
       "      <td>-0.162472</td>\n",
       "      <td>0.025071</td>\n",
       "    </tr>\n",
       "    <tr>\n",
       "      <th>pr</th>\n",
       "      <td>0.027358</td>\n",
       "      <td>-0.000612</td>\n",
       "      <td>-0.076363</td>\n",
       "      <td>-0.017546</td>\n",
       "      <td>0.033606</td>\n",
       "      <td>-0.019877</td>\n",
       "      <td>0.262864</td>\n",
       "      <td>-0.080290</td>\n",
       "      <td>-0.024935</td>\n",
       "      <td>-0.006053</td>\n",
       "      <td>0.014698</td>\n",
       "      <td>-0.063438</td>\n",
       "      <td>0.139947</td>\n",
       "      <td>1.000000</td>\n",
       "      <td>0.079571</td>\n",
       "      <td>-0.076957</td>\n",
       "      <td>-0.015310</td>\n",
       "    </tr>\n",
       "    <tr>\n",
       "      <th>fo</th>\n",
       "      <td>-0.009527</td>\n",
       "      <td>-0.001073</td>\n",
       "      <td>0.016669</td>\n",
       "      <td>0.031489</td>\n",
       "      <td>0.005830</td>\n",
       "      <td>0.009055</td>\n",
       "      <td>0.071502</td>\n",
       "      <td>-0.054557</td>\n",
       "      <td>-0.005014</td>\n",
       "      <td>0.033943</td>\n",
       "      <td>0.032646</td>\n",
       "      <td>0.008034</td>\n",
       "      <td>0.377892</td>\n",
       "      <td>0.079571</td>\n",
       "      <td>1.000000</td>\n",
       "      <td>-0.030671</td>\n",
       "      <td>-0.014232</td>\n",
       "    </tr>\n",
       "    <tr>\n",
       "      <th>cs</th>\n",
       "      <td>-0.028462</td>\n",
       "      <td>-0.018352</td>\n",
       "      <td>0.195926</td>\n",
       "      <td>-0.167572</td>\n",
       "      <td>-0.285706</td>\n",
       "      <td>-0.078826</td>\n",
       "      <td>-0.158918</td>\n",
       "      <td>0.270140</td>\n",
       "      <td>-0.273763</td>\n",
       "      <td>-0.036677</td>\n",
       "      <td>-0.067143</td>\n",
       "      <td>-0.285055</td>\n",
       "      <td>-0.162472</td>\n",
       "      <td>-0.076957</td>\n",
       "      <td>-0.030671</td>\n",
       "      <td>1.000000</td>\n",
       "      <td>-0.150720</td>\n",
       "    </tr>\n",
       "    <tr>\n",
       "      <th>pi</th>\n",
       "      <td>-0.070077</td>\n",
       "      <td>-0.009618</td>\n",
       "      <td>-0.051608</td>\n",
       "      <td>-0.065453</td>\n",
       "      <td>0.105846</td>\n",
       "      <td>-0.047884</td>\n",
       "      <td>-0.075580</td>\n",
       "      <td>0.065315</td>\n",
       "      <td>0.038901</td>\n",
       "      <td>-0.002977</td>\n",
       "      <td>0.005570</td>\n",
       "      <td>0.101460</td>\n",
       "      <td>0.025071</td>\n",
       "      <td>-0.015310</td>\n",
       "      <td>-0.014232</td>\n",
       "      <td>-0.150720</td>\n",
       "      <td>1.000000</td>\n",
       "    </tr>\n",
       "  </tbody>\n",
       "</table>\n",
       "</div>"
      ],
      "text/plain": [
       "          pos       flw       flg        bl       pic       lin        cl  \\\n",
       "pos  1.000000  0.166695  0.038562  0.141610  0.055275  0.139939  0.191024   \n",
       "flw  0.166695  1.000000  0.008143  0.048008  0.013466  0.060522  0.042617   \n",
       "flg  0.038562  0.008143  1.000000  0.031344 -0.117024  0.015255 -0.106933   \n",
       "bl   0.141610  0.048008  0.031344  1.000000  0.166773  0.366875  0.295858   \n",
       "pic  0.055275  0.013466 -0.117024  0.166773  1.000000  0.091341  0.132968   \n",
       "lin  0.139939  0.060522  0.015255  0.366875  0.091341  1.000000  0.239230   \n",
       "cl   0.191024  0.042617 -0.106933  0.295858  0.132968  0.239230  1.000000   \n",
       "cz  -0.063103 -0.022574  0.165158 -0.212018  0.113378 -0.141152 -0.342882   \n",
       "ni   0.064128  0.024401 -0.098679  0.121772  0.145210  0.068616  0.088381   \n",
       "erl -0.024753 -0.006315  0.033867 -0.025033 -0.015730 -0.025193 -0.034115   \n",
       "erc -0.029045 -0.007753 -0.005908 -0.034935 -0.016664 -0.032901 -0.037111   \n",
       "lt   0.025164  0.020658 -0.093101  0.218418  0.133094  0.147633  0.061298   \n",
       "hc   0.011754  0.009011 -0.038603  0.165403  0.066943  0.087192  0.191118   \n",
       "pr   0.027358 -0.000612 -0.076363 -0.017546  0.033606 -0.019877  0.262864   \n",
       "fo  -0.009527 -0.001073  0.016669  0.031489  0.005830  0.009055  0.071502   \n",
       "cs  -0.028462 -0.018352  0.195926 -0.167572 -0.285706 -0.078826 -0.158918   \n",
       "pi  -0.070077 -0.009618 -0.051608 -0.065453  0.105846 -0.047884 -0.075580   \n",
       "\n",
       "           cz        ni       erl       erc        lt        hc        pr  \\\n",
       "pos -0.063103  0.064128 -0.024753 -0.029045  0.025164  0.011754  0.027358   \n",
       "flw -0.022574  0.024401 -0.006315 -0.007753  0.020658  0.009011 -0.000612   \n",
       "flg  0.165158 -0.098679  0.033867 -0.005908 -0.093101 -0.038603 -0.076363   \n",
       "bl  -0.212018  0.121772 -0.025033 -0.034935  0.218418  0.165403 -0.017546   \n",
       "pic  0.113378  0.145210 -0.015730 -0.016664  0.133094  0.066943  0.033606   \n",
       "lin -0.141152  0.068616 -0.025193 -0.032901  0.147633  0.087192 -0.019877   \n",
       "cl  -0.342882  0.088381 -0.034115 -0.037111  0.061298  0.191118  0.262864   \n",
       "cz   1.000000 -0.094043  0.075819  0.078008 -0.171646 -0.202589 -0.080290   \n",
       "ni  -0.094043  1.000000 -0.017700 -0.018242  0.210334  0.055417 -0.024935   \n",
       "erl  0.075819 -0.017700  1.000000  0.440497 -0.009019  0.027886 -0.006053   \n",
       "erc  0.078008 -0.018242  0.440497  1.000000 -0.004940  0.034758  0.014698   \n",
       "lt  -0.171646  0.210334 -0.009019 -0.004940  1.000000  0.124301 -0.063438   \n",
       "hc  -0.202589  0.055417  0.027886  0.034758  0.124301  1.000000  0.139947   \n",
       "pr  -0.080290 -0.024935 -0.006053  0.014698 -0.063438  0.139947  1.000000   \n",
       "fo  -0.054557 -0.005014  0.033943  0.032646  0.008034  0.377892  0.079571   \n",
       "cs   0.270140 -0.273763 -0.036677 -0.067143 -0.285055 -0.162472 -0.076957   \n",
       "pi   0.065315  0.038901 -0.002977  0.005570  0.101460  0.025071 -0.015310   \n",
       "\n",
       "           fo        cs        pi  \n",
       "pos -0.009527 -0.028462 -0.070077  \n",
       "flw -0.001073 -0.018352 -0.009618  \n",
       "flg  0.016669  0.195926 -0.051608  \n",
       "bl   0.031489 -0.167572 -0.065453  \n",
       "pic  0.005830 -0.285706  0.105846  \n",
       "lin  0.009055 -0.078826 -0.047884  \n",
       "cl   0.071502 -0.158918 -0.075580  \n",
       "cz  -0.054557  0.270140  0.065315  \n",
       "ni  -0.005014 -0.273763  0.038901  \n",
       "erl  0.033943 -0.036677 -0.002977  \n",
       "erc  0.032646 -0.067143  0.005570  \n",
       "lt   0.008034 -0.285055  0.101460  \n",
       "hc   0.377892 -0.162472  0.025071  \n",
       "pr   0.079571 -0.076957 -0.015310  \n",
       "fo   1.000000 -0.030671 -0.014232  \n",
       "cs  -0.030671  1.000000 -0.150720  \n",
       "pi  -0.014232 -0.150720  1.000000  "
      ]
     },
     "execution_count": 282,
     "metadata": {},
     "output_type": "execute_result"
    }
   ],
   "source": [
    "data.corr()\n"
   ]
  },
  {
   "cell_type": "code",
   "execution_count": 283,
   "metadata": {},
   "outputs": [
    {
     "data": {
      "application/vnd.plotly.v1+json": {
       "config": {
        "plotlyServerURL": "https://plot.ly"
       },
       "data": [
        {
         "coloraxis": "coloraxis",
         "hovertemplate": "Features: %{x}<br>Features: %{y}<br>Correlação: %{z}<extra></extra>",
         "name": "0",
         "type": "heatmap",
         "x": [
          "pos",
          "flw",
          "flg",
          "bl",
          "pic",
          "lin",
          "cl",
          "cz",
          "ni",
          "erl",
          "erc",
          "lt",
          "hc",
          "pr",
          "fo",
          "cs",
          "pi"
         ],
         "xaxis": "x",
         "y": [
          "pos",
          "flw",
          "flg",
          "bl",
          "pic",
          "lin",
          "cl",
          "cz",
          "ni",
          "erl",
          "erc",
          "lt",
          "hc",
          "pr",
          "fo",
          "cs",
          "pi"
         ],
         "yaxis": "y",
         "z": [
          [
           1,
           0.16669460422880603,
           0.03856182465731653,
           0.14161017777669122,
           0.05527492290930087,
           0.13993918414701906,
           0.19102395872550862,
           -0.06310337746963451,
           0.06412792536240619,
           -0.024753183318311875,
           -0.02904483685762538,
           0.02516430156325721,
           0.011754339515392296,
           0.02735778442168598,
           -0.009527452160491523,
           -0.028462304503428692,
           -0.07007721984982629
          ],
          [
           0.16669460422880603,
           1,
           0.008143379878373287,
           0.048007677770055775,
           0.013465960811033802,
           0.06052224732914234,
           0.04261736652433164,
           -0.02257422604821494,
           0.02440122354636742,
           -0.006314730314818341,
           -0.007753308555735355,
           0.020657502954525776,
           0.009011258903829809,
           -0.0006118441750310768,
           -0.001072643358379281,
           -0.018352066870972013,
           -0.009618444822928089
          ],
          [
           0.03856182465731653,
           0.008143379878373287,
           1,
           0.031344057480675536,
           -0.11702444062901117,
           0.015255344038734985,
           -0.10693307131038612,
           0.165158341595721,
           -0.09867867441394518,
           0.033866894776511634,
           -0.005908104321471538,
           -0.09310063783537655,
           -0.03860346337737488,
           -0.07636272413107285,
           0.016669451207627372,
           0.19592596594377987,
           -0.05160794301337351
          ],
          [
           0.14161017777669122,
           0.048007677770055775,
           0.031344057480675536,
           1,
           0.16677272031794296,
           0.36687458764708564,
           0.29585798247859957,
           -0.2120176240204527,
           0.1217721400065441,
           -0.025033231378189275,
           -0.03493450710648151,
           0.2184184792481887,
           0.16540304350358548,
           -0.017545683469370982,
           0.031488657654174544,
           -0.16757183415817828,
           -0.06545282496060573
          ],
          [
           0.05527492290930087,
           0.013465960811033802,
           -0.11702444062901117,
           0.16677272031794296,
           1,
           0.09134105490436716,
           0.13296808191249357,
           0.11337761934200068,
           0.14521036700899803,
           -0.015730061709417653,
           -0.016663617784687897,
           0.13309378204216019,
           0.06694320833048252,
           0.03360553830534475,
           0.005829669835224548,
           -0.285706276607103,
           0.10584599351739683
          ],
          [
           0.13993918414701906,
           0.06052224732914234,
           0.015255344038734985,
           0.36687458764708564,
           0.09134105490436716,
           1,
           0.23923011919487616,
           -0.14115219168870954,
           0.06861642483650586,
           -0.0251929353007898,
           -0.0329013906651817,
           0.1476327422901998,
           0.08719166048618192,
           -0.01987742233743736,
           0.009055112274460297,
           -0.07882619503018597,
           -0.047884259541438164
          ],
          [
           0.19102395872550862,
           0.04261736652433164,
           -0.10693307131038612,
           0.29585798247859957,
           0.13296808191249357,
           0.23923011919487616,
           1,
           -0.3428821083645762,
           0.08838089157891703,
           -0.034115280554780976,
           -0.03711063161064967,
           0.06129780766108938,
           0.19111805908994037,
           0.2628638753175387,
           0.07150191991768072,
           -0.15891762546738253,
           -0.07558014371046658
          ],
          [
           -0.06310337746963451,
           -0.02257422604821494,
           0.165158341595721,
           -0.2120176240204527,
           0.11337761934200068,
           -0.14115219168870954,
           -0.3428821083645762,
           1,
           -0.09404328676792462,
           0.07581856310233434,
           0.07800844471900037,
           -0.17164585141433863,
           -0.20258887037066384,
           -0.08029022613274676,
           -0.054557167678402504,
           0.2701402484805248,
           0.06531495864830966
          ],
          [
           0.06412792536240619,
           0.02440122354636742,
           -0.09867867441394518,
           0.1217721400065441,
           0.14521036700899803,
           0.06861642483650586,
           0.08838089157891703,
           -0.09404328676792462,
           1,
           -0.017700468388179166,
           -0.018241705420564917,
           0.21033438822606604,
           0.05541678040816632,
           -0.024934714384779403,
           -0.0050138472618936536,
           -0.2737634088743421,
           0.03890083905867321
          ],
          [
           -0.024753183318311875,
           -0.006314730314818341,
           0.033866894776511634,
           -0.025033231378189275,
           -0.015730061709417653,
           -0.0251929353007898,
           -0.034115280554780976,
           0.07581856310233434,
           -0.017700468388179166,
           1,
           0.44049679787453194,
           -0.009019452137701589,
           0.02788613601190561,
           -0.006053055001751207,
           0.0339432979799171,
           -0.036677307045932035,
           -0.0029768587293548614
          ],
          [
           -0.02904483685762538,
           -0.007753308555735355,
           -0.005908104321471538,
           -0.03493450710648151,
           -0.016663617784687897,
           -0.0329013906651817,
           -0.03711063161064967,
           0.07800844471900037,
           -0.018241705420564917,
           0.44049679787453194,
           1,
           -0.004940418700426343,
           0.034758483750348575,
           0.01469810446689315,
           0.03264556175319711,
           -0.06714288392819412,
           0.005570279820299376
          ],
          [
           0.02516430156325721,
           0.020657502954525776,
           -0.09310063783537655,
           0.2184184792481887,
           0.13309378204216019,
           0.1476327422901998,
           0.06129780766108938,
           -0.17164585141433863,
           0.21033438822606604,
           -0.009019452137701589,
           -0.004940418700426343,
           1,
           0.12430140975936226,
           -0.06343841143910414,
           0.008034123246905455,
           -0.2850554813498128,
           0.10145988224521896
          ],
          [
           0.011754339515392296,
           0.009011258903829809,
           -0.03860346337737488,
           0.16540304350358548,
           0.06694320833048252,
           0.08719166048618192,
           0.19111805908994037,
           -0.20258887037066384,
           0.05541678040816632,
           0.02788613601190561,
           0.034758483750348575,
           0.12430140975936226,
           1,
           0.13994710112851919,
           0.37789202870217947,
           -0.16247245813041797,
           0.025070561179388575
          ],
          [
           0.02735778442168598,
           -0.0006118441750310768,
           -0.07636272413107285,
           -0.017545683469370982,
           0.03360553830534475,
           -0.01987742233743736,
           0.2628638753175387,
           -0.08029022613274676,
           -0.024934714384779403,
           -0.006053055001751207,
           0.01469810446689315,
           -0.06343841143910414,
           0.13994710112851919,
           1,
           0.07957063964257453,
           -0.07695724088018333,
           -0.015309545904441583
          ],
          [
           -0.009527452160491523,
           -0.001072643358379281,
           0.016669451207627372,
           0.031488657654174544,
           0.005829669835224548,
           0.009055112274460297,
           0.07150191991768072,
           -0.054557167678402504,
           -0.0050138472618936536,
           0.0339432979799171,
           0.03264556175319711,
           0.008034123246905455,
           0.37789202870217947,
           0.07957063964257453,
           1,
           -0.030670943149934522,
           -0.014232314376407337
          ],
          [
           -0.028462304503428692,
           -0.018352066870972013,
           0.19592596594377987,
           -0.16757183415817828,
           -0.285706276607103,
           -0.07882619503018597,
           -0.15891762546738253,
           0.2701402484805248,
           -0.2737634088743421,
           -0.036677307045932035,
           -0.06714288392819412,
           -0.2850554813498128,
           -0.16247245813041797,
           -0.07695724088018333,
           -0.030670943149934522,
           1,
           -0.15072047100058228
          ],
          [
           -0.07007721984982629,
           -0.009618444822928089,
           -0.05160794301337351,
           -0.06545282496060573,
           0.10584599351739683,
           -0.047884259541438164,
           -0.07558014371046658,
           0.06531495864830966,
           0.03890083905867321,
           -0.0029768587293548614,
           0.005570279820299376,
           0.10145988224521896,
           0.025070561179388575,
           -0.015309545904441583,
           -0.014232314376407337,
           -0.15072047100058228,
           1
          ]
         ]
        }
       ],
       "layout": {
        "coloraxis": {
         "cmax": 1,
         "cmin": -1,
         "colorbar": {
          "title": {
           "text": "Correlação"
          }
         },
         "colorscale": [
          [
           0,
           "#0d0887"
          ],
          [
           0.1111111111111111,
           "#46039f"
          ],
          [
           0.2222222222222222,
           "#7201a8"
          ],
          [
           0.3333333333333333,
           "#9c179e"
          ],
          [
           0.4444444444444444,
           "#bd3786"
          ],
          [
           0.5555555555555556,
           "#d8576b"
          ],
          [
           0.6666666666666666,
           "#ed7953"
          ],
          [
           0.7777777777777778,
           "#fb9f3a"
          ],
          [
           0.8888888888888888,
           "#fdca26"
          ],
          [
           1,
           "#f0f921"
          ]
         ]
        },
        "template": {
         "data": {
          "bar": [
           {
            "error_x": {
             "color": "#2a3f5f"
            },
            "error_y": {
             "color": "#2a3f5f"
            },
            "marker": {
             "line": {
              "color": "#E5ECF6",
              "width": 0.5
             },
             "pattern": {
              "fillmode": "overlay",
              "size": 10,
              "solidity": 0.2
             }
            },
            "type": "bar"
           }
          ],
          "barpolar": [
           {
            "marker": {
             "line": {
              "color": "#E5ECF6",
              "width": 0.5
             },
             "pattern": {
              "fillmode": "overlay",
              "size": 10,
              "solidity": 0.2
             }
            },
            "type": "barpolar"
           }
          ],
          "carpet": [
           {
            "aaxis": {
             "endlinecolor": "#2a3f5f",
             "gridcolor": "white",
             "linecolor": "white",
             "minorgridcolor": "white",
             "startlinecolor": "#2a3f5f"
            },
            "baxis": {
             "endlinecolor": "#2a3f5f",
             "gridcolor": "white",
             "linecolor": "white",
             "minorgridcolor": "white",
             "startlinecolor": "#2a3f5f"
            },
            "type": "carpet"
           }
          ],
          "choropleth": [
           {
            "colorbar": {
             "outlinewidth": 0,
             "ticks": ""
            },
            "type": "choropleth"
           }
          ],
          "contour": [
           {
            "colorbar": {
             "outlinewidth": 0,
             "ticks": ""
            },
            "colorscale": [
             [
              0,
              "#0d0887"
             ],
             [
              0.1111111111111111,
              "#46039f"
             ],
             [
              0.2222222222222222,
              "#7201a8"
             ],
             [
              0.3333333333333333,
              "#9c179e"
             ],
             [
              0.4444444444444444,
              "#bd3786"
             ],
             [
              0.5555555555555556,
              "#d8576b"
             ],
             [
              0.6666666666666666,
              "#ed7953"
             ],
             [
              0.7777777777777778,
              "#fb9f3a"
             ],
             [
              0.8888888888888888,
              "#fdca26"
             ],
             [
              1,
              "#f0f921"
             ]
            ],
            "type": "contour"
           }
          ],
          "contourcarpet": [
           {
            "colorbar": {
             "outlinewidth": 0,
             "ticks": ""
            },
            "type": "contourcarpet"
           }
          ],
          "heatmap": [
           {
            "colorbar": {
             "outlinewidth": 0,
             "ticks": ""
            },
            "colorscale": [
             [
              0,
              "#0d0887"
             ],
             [
              0.1111111111111111,
              "#46039f"
             ],
             [
              0.2222222222222222,
              "#7201a8"
             ],
             [
              0.3333333333333333,
              "#9c179e"
             ],
             [
              0.4444444444444444,
              "#bd3786"
             ],
             [
              0.5555555555555556,
              "#d8576b"
             ],
             [
              0.6666666666666666,
              "#ed7953"
             ],
             [
              0.7777777777777778,
              "#fb9f3a"
             ],
             [
              0.8888888888888888,
              "#fdca26"
             ],
             [
              1,
              "#f0f921"
             ]
            ],
            "type": "heatmap"
           }
          ],
          "heatmapgl": [
           {
            "colorbar": {
             "outlinewidth": 0,
             "ticks": ""
            },
            "colorscale": [
             [
              0,
              "#0d0887"
             ],
             [
              0.1111111111111111,
              "#46039f"
             ],
             [
              0.2222222222222222,
              "#7201a8"
             ],
             [
              0.3333333333333333,
              "#9c179e"
             ],
             [
              0.4444444444444444,
              "#bd3786"
             ],
             [
              0.5555555555555556,
              "#d8576b"
             ],
             [
              0.6666666666666666,
              "#ed7953"
             ],
             [
              0.7777777777777778,
              "#fb9f3a"
             ],
             [
              0.8888888888888888,
              "#fdca26"
             ],
             [
              1,
              "#f0f921"
             ]
            ],
            "type": "heatmapgl"
           }
          ],
          "histogram": [
           {
            "marker": {
             "pattern": {
              "fillmode": "overlay",
              "size": 10,
              "solidity": 0.2
             }
            },
            "type": "histogram"
           }
          ],
          "histogram2d": [
           {
            "colorbar": {
             "outlinewidth": 0,
             "ticks": ""
            },
            "colorscale": [
             [
              0,
              "#0d0887"
             ],
             [
              0.1111111111111111,
              "#46039f"
             ],
             [
              0.2222222222222222,
              "#7201a8"
             ],
             [
              0.3333333333333333,
              "#9c179e"
             ],
             [
              0.4444444444444444,
              "#bd3786"
             ],
             [
              0.5555555555555556,
              "#d8576b"
             ],
             [
              0.6666666666666666,
              "#ed7953"
             ],
             [
              0.7777777777777778,
              "#fb9f3a"
             ],
             [
              0.8888888888888888,
              "#fdca26"
             ],
             [
              1,
              "#f0f921"
             ]
            ],
            "type": "histogram2d"
           }
          ],
          "histogram2dcontour": [
           {
            "colorbar": {
             "outlinewidth": 0,
             "ticks": ""
            },
            "colorscale": [
             [
              0,
              "#0d0887"
             ],
             [
              0.1111111111111111,
              "#46039f"
             ],
             [
              0.2222222222222222,
              "#7201a8"
             ],
             [
              0.3333333333333333,
              "#9c179e"
             ],
             [
              0.4444444444444444,
              "#bd3786"
             ],
             [
              0.5555555555555556,
              "#d8576b"
             ],
             [
              0.6666666666666666,
              "#ed7953"
             ],
             [
              0.7777777777777778,
              "#fb9f3a"
             ],
             [
              0.8888888888888888,
              "#fdca26"
             ],
             [
              1,
              "#f0f921"
             ]
            ],
            "type": "histogram2dcontour"
           }
          ],
          "mesh3d": [
           {
            "colorbar": {
             "outlinewidth": 0,
             "ticks": ""
            },
            "type": "mesh3d"
           }
          ],
          "parcoords": [
           {
            "line": {
             "colorbar": {
              "outlinewidth": 0,
              "ticks": ""
             }
            },
            "type": "parcoords"
           }
          ],
          "pie": [
           {
            "automargin": true,
            "type": "pie"
           }
          ],
          "scatter": [
           {
            "marker": {
             "colorbar": {
              "outlinewidth": 0,
              "ticks": ""
             }
            },
            "type": "scatter"
           }
          ],
          "scatter3d": [
           {
            "line": {
             "colorbar": {
              "outlinewidth": 0,
              "ticks": ""
             }
            },
            "marker": {
             "colorbar": {
              "outlinewidth": 0,
              "ticks": ""
             }
            },
            "type": "scatter3d"
           }
          ],
          "scattercarpet": [
           {
            "marker": {
             "colorbar": {
              "outlinewidth": 0,
              "ticks": ""
             }
            },
            "type": "scattercarpet"
           }
          ],
          "scattergeo": [
           {
            "marker": {
             "colorbar": {
              "outlinewidth": 0,
              "ticks": ""
             }
            },
            "type": "scattergeo"
           }
          ],
          "scattergl": [
           {
            "marker": {
             "colorbar": {
              "outlinewidth": 0,
              "ticks": ""
             }
            },
            "type": "scattergl"
           }
          ],
          "scattermapbox": [
           {
            "marker": {
             "colorbar": {
              "outlinewidth": 0,
              "ticks": ""
             }
            },
            "type": "scattermapbox"
           }
          ],
          "scatterpolar": [
           {
            "marker": {
             "colorbar": {
              "outlinewidth": 0,
              "ticks": ""
             }
            },
            "type": "scatterpolar"
           }
          ],
          "scatterpolargl": [
           {
            "marker": {
             "colorbar": {
              "outlinewidth": 0,
              "ticks": ""
             }
            },
            "type": "scatterpolargl"
           }
          ],
          "scatterternary": [
           {
            "marker": {
             "colorbar": {
              "outlinewidth": 0,
              "ticks": ""
             }
            },
            "type": "scatterternary"
           }
          ],
          "surface": [
           {
            "colorbar": {
             "outlinewidth": 0,
             "ticks": ""
            },
            "colorscale": [
             [
              0,
              "#0d0887"
             ],
             [
              0.1111111111111111,
              "#46039f"
             ],
             [
              0.2222222222222222,
              "#7201a8"
             ],
             [
              0.3333333333333333,
              "#9c179e"
             ],
             [
              0.4444444444444444,
              "#bd3786"
             ],
             [
              0.5555555555555556,
              "#d8576b"
             ],
             [
              0.6666666666666666,
              "#ed7953"
             ],
             [
              0.7777777777777778,
              "#fb9f3a"
             ],
             [
              0.8888888888888888,
              "#fdca26"
             ],
             [
              1,
              "#f0f921"
             ]
            ],
            "type": "surface"
           }
          ],
          "table": [
           {
            "cells": {
             "fill": {
              "color": "#EBF0F8"
             },
             "line": {
              "color": "white"
             }
            },
            "header": {
             "fill": {
              "color": "#C8D4E3"
             },
             "line": {
              "color": "white"
             }
            },
            "type": "table"
           }
          ]
         },
         "layout": {
          "annotationdefaults": {
           "arrowcolor": "#2a3f5f",
           "arrowhead": 0,
           "arrowwidth": 1
          },
          "autotypenumbers": "strict",
          "coloraxis": {
           "colorbar": {
            "outlinewidth": 0,
            "ticks": ""
           }
          },
          "colorscale": {
           "diverging": [
            [
             0,
             "#8e0152"
            ],
            [
             0.1,
             "#c51b7d"
            ],
            [
             0.2,
             "#de77ae"
            ],
            [
             0.3,
             "#f1b6da"
            ],
            [
             0.4,
             "#fde0ef"
            ],
            [
             0.5,
             "#f7f7f7"
            ],
            [
             0.6,
             "#e6f5d0"
            ],
            [
             0.7,
             "#b8e186"
            ],
            [
             0.8,
             "#7fbc41"
            ],
            [
             0.9,
             "#4d9221"
            ],
            [
             1,
             "#276419"
            ]
           ],
           "sequential": [
            [
             0,
             "#0d0887"
            ],
            [
             0.1111111111111111,
             "#46039f"
            ],
            [
             0.2222222222222222,
             "#7201a8"
            ],
            [
             0.3333333333333333,
             "#9c179e"
            ],
            [
             0.4444444444444444,
             "#bd3786"
            ],
            [
             0.5555555555555556,
             "#d8576b"
            ],
            [
             0.6666666666666666,
             "#ed7953"
            ],
            [
             0.7777777777777778,
             "#fb9f3a"
            ],
            [
             0.8888888888888888,
             "#fdca26"
            ],
            [
             1,
             "#f0f921"
            ]
           ],
           "sequentialminus": [
            [
             0,
             "#0d0887"
            ],
            [
             0.1111111111111111,
             "#46039f"
            ],
            [
             0.2222222222222222,
             "#7201a8"
            ],
            [
             0.3333333333333333,
             "#9c179e"
            ],
            [
             0.4444444444444444,
             "#bd3786"
            ],
            [
             0.5555555555555556,
             "#d8576b"
            ],
            [
             0.6666666666666666,
             "#ed7953"
            ],
            [
             0.7777777777777778,
             "#fb9f3a"
            ],
            [
             0.8888888888888888,
             "#fdca26"
            ],
            [
             1,
             "#f0f921"
            ]
           ]
          },
          "colorway": [
           "#636efa",
           "#EF553B",
           "#00cc96",
           "#ab63fa",
           "#FFA15A",
           "#19d3f3",
           "#FF6692",
           "#B6E880",
           "#FF97FF",
           "#FECB52"
          ],
          "font": {
           "color": "#2a3f5f"
          },
          "geo": {
           "bgcolor": "white",
           "lakecolor": "white",
           "landcolor": "#E5ECF6",
           "showlakes": true,
           "showland": true,
           "subunitcolor": "white"
          },
          "hoverlabel": {
           "align": "left"
          },
          "hovermode": "closest",
          "mapbox": {
           "style": "light"
          },
          "paper_bgcolor": "white",
          "plot_bgcolor": "#E5ECF6",
          "polar": {
           "angularaxis": {
            "gridcolor": "white",
            "linecolor": "white",
            "ticks": ""
           },
           "bgcolor": "#E5ECF6",
           "radialaxis": {
            "gridcolor": "white",
            "linecolor": "white",
            "ticks": ""
           }
          },
          "scene": {
           "xaxis": {
            "backgroundcolor": "#E5ECF6",
            "gridcolor": "white",
            "gridwidth": 2,
            "linecolor": "white",
            "showbackground": true,
            "ticks": "",
            "zerolinecolor": "white"
           },
           "yaxis": {
            "backgroundcolor": "#E5ECF6",
            "gridcolor": "white",
            "gridwidth": 2,
            "linecolor": "white",
            "showbackground": true,
            "ticks": "",
            "zerolinecolor": "white"
           },
           "zaxis": {
            "backgroundcolor": "#E5ECF6",
            "gridcolor": "white",
            "gridwidth": 2,
            "linecolor": "white",
            "showbackground": true,
            "ticks": "",
            "zerolinecolor": "white"
           }
          },
          "shapedefaults": {
           "line": {
            "color": "#2a3f5f"
           }
          },
          "ternary": {
           "aaxis": {
            "gridcolor": "white",
            "linecolor": "white",
            "ticks": ""
           },
           "baxis": {
            "gridcolor": "white",
            "linecolor": "white",
            "ticks": ""
           },
           "bgcolor": "#E5ECF6",
           "caxis": {
            "gridcolor": "white",
            "linecolor": "white",
            "ticks": ""
           }
          },
          "title": {
           "x": 0.05
          },
          "xaxis": {
           "automargin": true,
           "gridcolor": "white",
           "linecolor": "white",
           "ticks": "",
           "title": {
            "standoff": 15
           },
           "zerolinecolor": "white",
           "zerolinewidth": 2
          },
          "yaxis": {
           "automargin": true,
           "gridcolor": "white",
           "linecolor": "white",
           "ticks": "",
           "title": {
            "standoff": 15
           },
           "zerolinecolor": "white",
           "zerolinewidth": 2
          }
         }
        },
        "title": {
         "text": "Correlação entre Features"
        },
        "xaxis": {
         "anchor": "y",
         "constrain": "domain",
         "domain": [
          0,
          1
         ],
         "scaleanchor": "y",
         "title": {
          "text": "Features"
         }
        },
        "yaxis": {
         "anchor": "x",
         "autorange": "reversed",
         "constrain": "domain",
         "domain": [
          0,
          1
         ],
         "title": {
          "text": "Features"
         }
        }
       }
      }
     },
     "metadata": {},
     "output_type": "display_data"
    }
   ],
   "source": [
    "x=data.corr()\n",
    "lista = x.values.tolist()\n",
    "fig = px.imshow(lista,  labels=dict(x=\"Features\", y=\"Features\", color=\"Correlação\"),\n",
    "                x=['pos', 'flw', 'flg', 'bl', 'pic', 'lin', 'cl', 'cz', 'ni', 'erl', 'erc', 'lt', 'hc', 'pr', 'fo', 'cs', 'pi'],\n",
    "                y=['pos', 'flw', 'flg', 'bl', 'pic', 'lin', 'cl', 'cz', 'ni', 'erl', 'erc', 'lt', 'hc', 'pr', 'fo', 'cs', 'pi'],\n",
    "                zmax = 1, zmin = -1, title = \"Correlação entre Features\")\n",
    "fig.show()"
   ]
  },
  {
   "cell_type": "markdown",
   "metadata": {},
   "source": [
    "#### Achando as maiores e menores correlações:"
   ]
  },
  {
   "cell_type": "code",
   "execution_count": 284,
   "metadata": {},
   "outputs": [
    {
     "name": "stdout",
     "output_type": "stream",
     "text": [
      "A maior correlação é 0.44049679787453194\n",
      "A menor correlação é -0.3428821083645762\n"
     ]
    }
   ],
   "source": [
    "lista_corrs = list(itertools.chain(*lista))\n",
    "\n",
    "lista_corrs_sem_1 = list(filter(lambda x: x != 1 and x != -1, lista_corrs))\n",
    "\n",
    "maximo = max(lista_corrs_sem_1)\n",
    "minimo = min(lista_corrs_sem_1)\n",
    "\n",
    "print(f\"A maior correlação é {maximo}\")\n",
    "print(f\"A menor correlação é {minimo}\")"
   ]
  },
  {
   "cell_type": "markdown",
   "metadata": {},
   "source": [
    "#### Como pode-se observar na célula de cima as maiores e menores correlações não são suficiente significativas a ponto de se destacarem de certo modo. Por isso, conclui-se que não será possível o descarte de nenhuma _feature_.\n",
    "\n",
    "#### Considerando-se que uma correlação só poderia ser considerada forte quando acima de 0.8."
   ]
  },
  {
   "cell_type": "markdown",
   "metadata": {},
   "source": [
    "### Relação entre a variável target (Class) e as features"
   ]
  },
  {
   "cell_type": "code",
   "execution_count": 285,
   "metadata": {},
   "outputs": [],
   "source": [
    "perfis_reais = data.loc[data['class']=='r']\n",
    "perfis_fake_ativo = data.loc[data['class']=='a']\n",
    "perfis_fake_inativo = data.loc[data['class']=='i']\n",
    "perfis_fake_spam = data.loc[data['class']=='s']"
   ]
  },
  {
   "cell_type": "markdown",
   "metadata": {},
   "source": [
    "**Observação:** em muitos dos histogramas à seguir foi utilizado algum tipo de limite para os eixos Y e X, procurando ter melhor visualização da distribuição de densidade. O estabelecimento de limites foram nescessários em muitos casos vistos que as classificações de usuários se diferem muito entre si, o que contribuiu para a aparição de alguns _outliers_ dificultando a interpretação visual dos gráficos."
   ]
  },
  {
   "cell_type": "markdown",
   "metadata": {},
   "source": [
    "+ #### Relação entre Class e Número de posts\t"
   ]
  },
  {
   "cell_type": "code",
   "execution_count": 286,
   "metadata": {},
   "outputs": [
    {
     "data": {
      "text/plain": [
       "<Figure size 1800x1800 with 0 Axes>"
      ]
     },
     "metadata": {},
     "output_type": "display_data"
    },
    {
     "data": {
      "image/png": "[encoded data removed]",
      "text/plain": [
       "<Figure size 432x288 with 1 Axes>"
      ]
     },
     "metadata": {
      "needs_background": "light"
     },
     "output_type": "display_data"
    }
   ],
   "source": [
    "plt.figure(figsize=(25,25))\n",
    "data.boxplot(column=\"pos\",by=\"class\")\n",
    "plt.tight_layout()\n",
    "plt.show()"
   ]
  },
  {
   "cell_type": "code",
   "execution_count": 287,
   "metadata": {},
   "outputs": [
    {
     "data": {
      "image/png": "[encoded data removed]",
      "text/plain": [
       "<Figure size 1080x504 with 1 Axes>"
      ]
     },
     "metadata": {
      "needs_background": "light"
     },
     "output_type": "display_data"
    }
   ],
   "source": [
    "fig = plt.figure(figsize=(15, 7))\n",
    "perfis_reais['pos'].plot.hist(color=('crimson'), alpha=0.6, density=True)\n",
    "perfis_fake_ativo['pos'].plot.hist(color=('midnightblue'), alpha=0.6, density=True)\n",
    "perfis_fake_inativo['pos'].plot.hist(color=('lime'), alpha=0.6, density=True)\n",
    "perfis_fake_spam['pos'].plot.hist(color=('yellow'), alpha=0.6, density=True)\n",
    "plt.legend(['r', 'a', 'i', 's'])\n",
    "plt.xlim(0,10000)\n",
    "plt.ylim(0,0.001)\n",
    "plt.xlabel('número de posts')\n",
    "plt.ylabel('densidade')\n",
    "plt.show()"
   ]
  },
  {
   "cell_type": "markdown",
   "metadata": {},
   "source": [
    "Em relação a _feature_ posts (POS) muito pode-se concluir do histograma. Fica claro por contraste visual que usuários que possuem uma extrema quantidade de posts, com grande probabilidade serão classificados como _spam_; o que já era de se esperar do comportamento desse tipo de usuário de Instagram. Outro ponto de muito destaque, é a concentração de usuários inativos na área que representa uma quantidade baixíssima de poasts; comportamento também esperado por esse tipo de usuário."
   ]
  },
  {
   "cell_type": "markdown",
   "metadata": {},
   "source": [
    "+ #### Relação entre Class e Número de seguidores\t"
   ]
  },
  {
   "cell_type": "code",
   "execution_count": 288,
   "metadata": {},
   "outputs": [
    {
     "data": {
      "text/plain": [
       "<Figure size 1800x1800 with 0 Axes>"
      ]
     },
     "metadata": {},
     "output_type": "display_data"
    },
    {
     "data": {
      "image/png": "[encoded data removed]",
      "text/plain": [
       "<Figure size 432x288 with 1 Axes>"
      ]
     },
     "metadata": {
      "needs_background": "light"
     },
     "output_type": "display_data"
    }
   ],
   "source": [
    "plt.figure(figsize=(25,25))\n",
    "data.boxplot(column=\"flw\",by=\"class\")\n",
    "plt.tight_layout()\n",
    "plt.show()"
   ]
  },
  {
   "cell_type": "code",
   "execution_count": 289,
   "metadata": {},
   "outputs": [
    {
     "data": {
      "image/png": "[encoded data removed]",
      "text/plain": [
       "<Figure size 1080x504 with 1 Axes>"
      ]
     },
     "metadata": {
      "needs_background": "light"
     },
     "output_type": "display_data"
    }
   ],
   "source": [
    "fig = plt.figure(figsize=(15, 7))\n",
    "perfis_reais['flw'].plot.hist(color=('crimson'), alpha=0.6, density=True)\n",
    "perfis_fake_ativo['flw'].plot.hist(color=('midnightblue'), alpha=0.6, density=True)\n",
    "perfis_fake_inativo['flw'].plot.hist(color=('lime'), alpha=0.6, density=True)\n",
    "perfis_fake_spam['flw'].plot.hist(color=('yellow'), alpha=0.6, density=True)\n",
    "plt.legend(['r', 'a', 'i', 's'])\n",
    "plt.xlim(0,30000)\n",
    "plt.ylim(0,0.0002)\n",
    "plt.xlabel('número de seguidores')\n",
    "plt.ylabel('densidade')\n",
    "plt.show()"
   ]
  },
  {
   "cell_type": "markdown",
   "metadata": {},
   "source": [
    "Em relação a _feature_ número de seguidores (FLW) verifica-se que tanto os usuários spam quanto os reais apresentam um comportamento similar, o que pode apresentar uma complicação na hora de classificar futuramente demais usuários. Apesar disso, verifica-se comportamentos distintos para usuários inativos e ativos fake; comportamentos esperados dada as características de atividade desses usuários."
   ]
  },
  {
   "cell_type": "markdown",
   "metadata": {},
   "source": [
    "+ #### Relação entre Class e Número contas seguindo"
   ]
  },
  {
   "cell_type": "code",
   "execution_count": 290,
   "metadata": {},
   "outputs": [
    {
     "data": {
      "text/plain": [
       "<Figure size 1800x1800 with 0 Axes>"
      ]
     },
     "metadata": {},
     "output_type": "display_data"
    },
    {
     "data": {
      "image/png": "[encoded data removed]",
      "text/plain": [
       "<Figure size 432x288 with 1 Axes>"
      ]
     },
     "metadata": {
      "needs_background": "light"
     },
     "output_type": "display_data"
    }
   ],
   "source": [
    "plt.figure(figsize=(25,25))\n",
    "data.boxplot(column=\"flg\",by=\"class\")\n",
    "plt.tight_layout()\n",
    "plt.show()"
   ]
  },
  {
   "cell_type": "code",
   "execution_count": 291,
   "metadata": {},
   "outputs": [
    {
     "data": {
      "image/png": "[encoded data removed]",
      "text/plain": [
       "<Figure size 1080x504 with 1 Axes>"
      ]
     },
     "metadata": {
      "needs_background": "light"
     },
     "output_type": "display_data"
    }
   ],
   "source": [
    "fig = plt.figure(figsize=(15, 7))\n",
    "perfis_reais['flg'].plot.hist(color=('crimson'), alpha=0.6, density=True)\n",
    "perfis_fake_ativo['flg'].plot.hist(color=('midnightblue'), alpha=0.6, density=True)\n",
    "perfis_fake_inativo['flg'].plot.hist(color=('lime'), alpha=0.6, density=True)\n",
    "perfis_fake_spam['flg'].plot.hist(color=('yellow'), alpha=0.6, density=True)\n",
    "plt.legend(['r', 'a', 'i', 's'])\n",
    "plt.xlim(0,10000)\n",
    "plt.ylim(0,0.001)\n",
    "plt.xlabel('número de contas que segue')\n",
    "plt.ylabel('densidade')\n",
    "plt.show()"
   ]
  },
  {
   "cell_type": "markdown",
   "metadata": {},
   "source": [
    "Analisando o primeiro gráfico a respeito da _feature_ número de contas seguindo (FLG) percebe-se que as medianas (representadas pela linha horizontal verde) são diferentes para cada uma das classificações. Isso leva a concluir que a faixa de número de seguidores em que uma conta de Instagram se classificar será importante para a classificação final de tipo de usuário."
   ]
  },
  {
   "cell_type": "markdown",
   "metadata": {},
   "source": [
    "+ #### Relação Class e Tamanho da Biografia\t"
   ]
  },
  {
   "cell_type": "code",
   "execution_count": 292,
   "metadata": {},
   "outputs": [
    {
     "data": {
      "text/plain": [
       "<Figure size 1800x1800 with 0 Axes>"
      ]
     },
     "metadata": {},
     "output_type": "display_data"
    },
    {
     "data": {
      "image/png": "[encoded data removed]",
      "text/plain": [
       "<Figure size 432x288 with 1 Axes>"
      ]
     },
     "metadata": {
      "needs_background": "light"
     },
     "output_type": "display_data"
    }
   ],
   "source": [
    "plt.figure(figsize=(25,25))\n",
    "data.boxplot(column=\"bl\",by=\"class\")\n",
    "plt.tight_layout()\n",
    "plt.show()"
   ]
  },
  {
   "cell_type": "code",
   "execution_count": 293,
   "metadata": {},
   "outputs": [
    {
     "data": {
      "image/png": "[encoded data removed]",
      "text/plain": [
       "<Figure size 1080x504 with 1 Axes>"
      ]
     },
     "metadata": {
      "needs_background": "light"
     },
     "output_type": "display_data"
    }
   ],
   "source": [
    "fig = plt.figure(figsize=(15, 7))\n",
    "perfis_reais['bl'].plot.hist(color=('crimson'), alpha=0.6, density=True)\n",
    "perfis_fake_ativo['bl'].plot.hist(color=('midnightblue'), alpha=0.6, density=True)\n",
    "perfis_fake_inativo['bl'].plot.hist(color=('lime'), alpha=0.6, density=True)\n",
    "perfis_fake_spam['bl'].plot.hist(color=('yellow'), alpha=0.6, density=True)\n",
    "plt.legend(['r', 'a', 'i', 's'])\n",
    "plt.xlabel('número de caracteres da bio')\n",
    "plt.ylabel('densidade')\n",
    "plt.show()"
   ]
  },
  {
   "cell_type": "markdown",
   "metadata": {},
   "source": [
    "A _feature_ tamanho da biografia (BL) não parece ser um elemento decisivo na classificação, dada a proximidade de suas medianas observadas no primeiro gráfico. Apesar disso, observando o histograma fica claro que há certa diferença de concentração entre as classificações, porém nada muito decisivo por se tratarem de _outliers_."
   ]
  },
  {
   "cell_type": "markdown",
   "metadata": {},
   "source": [
    "+ #### Relação Class e Disponibilidade de Foto\t"
   ]
  },
  {
   "cell_type": "code",
   "execution_count": 294,
   "metadata": {},
   "outputs": [],
   "source": [
    "perfis_sem_foto = data.loc[data['pic']== 0]\n",
    "perfis_com_foto = data.loc[data['pic']== 1]\n",
    "\n",
    "perfis_reais_com_foto = perfis_com_foto.loc[perfis_com_foto['class']=='r']\n",
    "perfis_fake_ativo_com_foto = perfis_com_foto.loc[perfis_com_foto['class']=='a']\n",
    "perfis_fake_inativo_com_foto = perfis_com_foto.loc[perfis_com_foto['class']=='i']\n",
    "perfis_fake_spam_com_foto = perfis_com_foto.loc[perfis_com_foto['class']=='s']\n",
    "\n",
    "perfis_reais_sem_foto = perfis_sem_foto.loc[perfis_sem_foto['class']=='r']\n",
    "perfis_fake_ativo_sem_foto = perfis_sem_foto.loc[perfis_sem_foto['class']=='a']\n",
    "perfis_fake_inativo_sem_foto = perfis_sem_foto.loc[perfis_sem_foto['class']=='i']\n",
    "perfis_fake_spam_sem_foto = perfis_sem_foto.loc[perfis_sem_foto['class']=='s']"
   ]
  },
  {
   "cell_type": "code",
   "execution_count": 295,
   "metadata": {},
   "outputs": [
    {
     "data": {
      "image/png": "[encoded data removed]",
      "text/plain": [
       "<Figure size 432x288 with 1 Axes>"
      ]
     },
     "metadata": {
      "needs_background": "light"
     },
     "output_type": "display_data"
    }
   ],
   "source": [
    "fig = plt.figure()\n",
    "ax = fig.add_axes([0,0,1,1])\n",
    "perfis = ['r', 'a', 'i', 's']\n",
    "quantidade = [perfis_reais_com_foto.shape[0]/perfis_com_foto.shape[0], perfis_fake_ativo_com_foto.shape[0]/perfis_com_foto.shape[0], perfis_fake_inativo_com_foto.shape[0]/perfis_com_foto.shape[0], perfis_fake_spam_com_foto.shape[0]/perfis_com_foto.shape[0]]\n",
    "ax.bar(perfis,quantidade, color=['crimson', 'midnightblue', 'lime', 'yellow'])\n",
    "plt.title('Com foto de perfil')\n",
    "plt.ylabel('densidade')\n",
    "plt.show()"
   ]
  },
  {
   "cell_type": "code",
   "execution_count": 296,
   "metadata": {},
   "outputs": [
    {
     "data": {
      "image/png": "[encoded data removed]",
      "text/plain": [
       "<Figure size 432x288 with 1 Axes>"
      ]
     },
     "metadata": {
      "needs_background": "light"
     },
     "output_type": "display_data"
    }
   ],
   "source": [
    "fig = plt.figure()\n",
    "ax = fig.add_axes([0,0,1,1])\n",
    "perfis = ['r', 'a', 'i', 's']\n",
    "quantidade = [perfis_reais_sem_foto.shape[0]/perfis_sem_foto.shape[0], perfis_fake_ativo_sem_foto.shape[0]/perfis_sem_foto.shape[0], perfis_fake_inativo_sem_foto.shape[0]/perfis_sem_foto.shape[0], perfis_fake_spam_sem_foto.shape[0]/perfis_sem_foto.shape[0]]\n",
    "ax.bar(perfis,quantidade,color=['crimson', 'midnightblue', 'lime', 'yellow'])\n",
    "plt.title('Sem foto de perfil')\n",
    "plt.ylabel('densidade')\n",
    "plt.show()"
   ]
  },
  {
   "cell_type": "markdown",
   "metadata": {},
   "source": [
    "A partir dos graficos, conclui-se que perfis sem disponibilidade de fotos tendem a serem classificados como fakes inativos,comportamento esperado já que fakes inativos.\" é uma classificação refetente a usuários que estão com a conta parada.Enquanto perfis com disponibilidade de fotos variam entre perfis de usuários ativos, fakes ativos e spam."
   ]
  },
  {
   "cell_type": "markdown",
   "metadata": {},
   "source": [
    "+ #### Relação Class e Disponibilidade de Link\t"
   ]
  },
  {
   "cell_type": "code",
   "execution_count": 297,
   "metadata": {},
   "outputs": [],
   "source": [
    "perfis_sem_link = data.loc[data['pic']== 0]\n",
    "perfis_com_link= data.loc[data['pic']== 1]\n",
    "\n",
    "perfis_reais_com_link = perfis_com_link.loc[perfis_com_link['class']=='r']\n",
    "perfis_fake_ativo_com_link = perfis_com_link.loc[perfis_com_link['class']=='a']\n",
    "perfis_fake_inativo_com_link = perfis_com_link.loc[perfis_com_link['class']=='i']\n",
    "perfis_fake_spam_com_link = perfis_com_link.loc[perfis_com_link['class']=='s']\n",
    "\n",
    "perfis_reais_sem_link = perfis_sem_link.loc[perfis_sem_link['class']=='r']\n",
    "perfis_fake_ativo_sem_link = perfis_sem_link.loc[perfis_sem_link['class']=='a']\n",
    "perfis_fake_inativo_sem_link = perfis_sem_link.loc[perfis_sem_link['class']=='i']\n",
    "perfis_fake_spam_sem_link = perfis_sem_link.loc[perfis_sem_link['class']=='s']"
   ]
  },
  {
   "cell_type": "code",
   "execution_count": 298,
   "metadata": {},
   "outputs": [
    {
     "data": {
      "image/png": "[encoded data removed]",
      "text/plain": [
       "<Figure size 432x288 with 1 Axes>"
      ]
     },
     "metadata": {
      "needs_background": "light"
     },
     "output_type": "display_data"
    }
   ],
   "source": [
    "fig = plt.figure()\n",
    "ax = fig.add_axes([0,0,1,1])\n",
    "perfis = ['r', 'a', 'i', 's']\n",
    "quantidade = [perfis_reais_com_link.shape[0]/perfis_com_link.shape[0], perfis_fake_ativo_com_link.shape[0]/perfis_com_link.shape[0], perfis_fake_inativo_com_link.shape[0]/perfis_com_link.shape[0], perfis_fake_spam_com_link.shape[0]/perfis_com_link.shape[0]]\n",
    "ax.bar(perfis,quantidade, color=['crimson', 'midnightblue', 'lime', 'yellow'])\n",
    "plt.title('Com link no perfil')\n",
    "plt.ylabel('densidade')\n",
    "plt.show()"
   ]
  },
  {
   "cell_type": "code",
   "execution_count": 299,
   "metadata": {},
   "outputs": [
    {
     "data": {
      "image/png": "[encoded data removed]",
      "text/plain": [
       "<Figure size 432x288 with 1 Axes>"
      ]
     },
     "metadata": {
      "needs_background": "light"
     },
     "output_type": "display_data"
    }
   ],
   "source": [
    "fig = plt.figure()\n",
    "ax = fig.add_axes([0,0,1,1])\n",
    "perfis = ['r', 'a', 'i', 's']\n",
    "quantidade = [perfis_reais_sem_link.shape[0]/perfis_sem_link.shape[0], perfis_fake_ativo_sem_link.shape[0]/perfis_sem_link.shape[0], perfis_fake_inativo_sem_link.shape[0]/perfis_sem_link.shape[0], perfis_fake_spam_sem_link.shape[0]/perfis_sem_link.shape[0]]\n",
    "ax.bar(perfis,quantidade, color=['crimson', 'midnightblue', 'lime', 'yellow'])\n",
    "plt.title('Sem link perfil')\n",
    "plt.ylabel('densidade')\n",
    "plt.show()"
   ]
  },
  {
   "cell_type": "markdown",
   "metadata": {},
   "source": [
    "A partir dos gráficos, nota-se que perfis que não possuem links tendem a estarem associados a perfis de fakes inativos, comportamento esperado pela característica da classificação de serem contas não mais acessadas. Enquanto perfis que possuem links tendem a estarem associados a usuários fakes ativos, spam e usuários reais (majoritariamente).\n"
   ]
  },
  {
   "cell_type": "markdown",
   "metadata": {},
   "source": [
    "+ #### Relação Class e Tamanho médio da Legenda\t"
   ]
  },
  {
   "cell_type": "code",
   "execution_count": 300,
   "metadata": {},
   "outputs": [
    {
     "data": {
      "text/plain": [
       "<Figure size 1800x1800 with 0 Axes>"
      ]
     },
     "metadata": {},
     "output_type": "display_data"
    },
    {
     "data": {
      "image/png": "[encoded data removed]",
      "text/plain": [
       "<Figure size 432x288 with 1 Axes>"
      ]
     },
     "metadata": {
      "needs_background": "light"
     },
     "output_type": "display_data"
    }
   ],
   "source": [
    "plt.figure(figsize=(25,25))\n",
    "data.boxplot(column=\"cl\",by=\"class\")\n",
    "plt.tight_layout()\n",
    "plt.show()"
   ]
  },
  {
   "cell_type": "code",
   "execution_count": 301,
   "metadata": {},
   "outputs": [
    {
     "data": {
      "image/png": "[encoded data removed]",
      "text/plain": [
       "<Figure size 1080x504 with 1 Axes>"
      ]
     },
     "metadata": {
      "needs_background": "light"
     },
     "output_type": "display_data"
    }
   ],
   "source": [
    "fig = plt.figure(figsize=(15, 7))\n",
    "perfis_reais['cl'].plot.hist(color=('crimson'), alpha=0.6, density=True)\n",
    "perfis_fake_ativo['cl'].plot.hist(color=('midnightblue'), alpha=0.6, density=True)\n",
    "perfis_fake_inativo['cl'].plot.hist(color=('lime'), alpha=0.6, density=True)\n",
    "perfis_fake_spam['cl'].plot.hist(color=('yellow'), alpha=0.6, density=True)\n",
    "plt.legend(['r', 'a', 'i', 's'])\n",
    "\n",
    "plt.xlim(0,2500)\n",
    "plt.xlabel('número médio de caracteres da legenda')\n",
    "plt.ylabel('densidade')\n",
    "\n",
    "plt.show()"
   ]
  },
  {
   "cell_type": "markdown",
   "metadata": {},
   "source": [
    "A partir do gráfico, conclui-se que todas as classificações possuem um número médio de caracteres próximo, porém a classificação spam tende a ter um número de caracteres mais alto, comportamento que se justifica na caractéristica de usuários \"spam\" ligada a propagação de informação em massa."
   ]
  },
  {
   "cell_type": "markdown",
   "metadata": {},
   "source": [
    "+ #### Relação Class e Legenda Zero\t"
   ]
  },
  {
   "cell_type": "code",
   "execution_count": 302,
   "metadata": {},
   "outputs": [
    {
     "data": {
      "text/plain": [
       "<Figure size 1800x1800 with 0 Axes>"
      ]
     },
     "metadata": {},
     "output_type": "display_data"
    },
    {
     "data": {
      "image/png": "[encoded data removed]",
      "text/plain": [
       "<Figure size 432x288 with 1 Axes>"
      ]
     },
     "metadata": {
      "needs_background": "light"
     },
     "output_type": "display_data"
    }
   ],
   "source": [
    "plt.figure(figsize=(25,25))\n",
    "data.boxplot(column=\"cz\",by=\"class\")\n",
    "plt.tight_layout()\n",
    "plt.show()"
   ]
  },
  {
   "cell_type": "code",
   "execution_count": 303,
   "metadata": {},
   "outputs": [
    {
     "data": {
      "image/png": "[encoded data removed]",
      "text/plain": [
       "<Figure size 1080x504 with 1 Axes>"
      ]
     },
     "metadata": {
      "needs_background": "light"
     },
     "output_type": "display_data"
    }
   ],
   "source": [
    "fig = plt.figure(figsize=(15, 7))\n",
    "perfis_reais['cz'].plot.hist(color=('crimson'), alpha=0.6, density=True)\n",
    "perfis_fake_ativo['cz'].plot.hist(color=('midnightblue'), alpha=0.6, density=True)\n",
    "perfis_fake_inativo['cz'].plot.hist(color=('lime'), alpha=0.6, density=True)\n",
    "perfis_fake_spam['cz'].plot.hist(color=('yellow'), alpha=0.6, density=True)\n",
    "plt.legend(['r', 'a', 'i', 's'])\n",
    "plt.xlabel('Porcentagem (0.0 a 1.0) de legendas que possuem quase 0 (<=3) caracteres')\n",
    "plt.ylabel('densidade')\n",
    "plt.show()"
   ]
  },
  {
   "cell_type": "markdown",
   "metadata": {},
   "source": [
    "A partir do gráfico, conclui-se que usuários ativos tendem a ter menos legenda zero, devido a atividade do usuário na rede  característica de sua classificação, entretanto, podemos observar sua presença nos extremos próximos de 1 da legenda zero, correpondente a \"outliers\". Ainda, observa-se que a mediana de usuários reais indica a alta presença de legendas (exceto por pontos outliers concentrados próximos a 1). Por fim, usuários spam possuem a maior mediana, ou seja, tendem mais a não ter legenda e usuários inativos encontram-se distribuídos ao longo do parâmetro, ou seja, não é uma feature que ajude a determinar este tipo de classificação."
   ]
  },
  {
   "cell_type": "markdown",
   "metadata": {},
   "source": [
    "+ #### Relação Class e Porcentagem Sem Imagem"
   ]
  },
  {
   "cell_type": "code",
   "execution_count": 304,
   "metadata": {},
   "outputs": [
    {
     "data": {
      "text/plain": [
       "<Figure size 1800x1800 with 0 Axes>"
      ]
     },
     "metadata": {},
     "output_type": "display_data"
    },
    {
     "data": {
      "image/png": "[encoded data removed]",
      "text/plain": [
       "<Figure size 432x288 with 1 Axes>"
      ]
     },
     "metadata": {
      "needs_background": "light"
     },
     "output_type": "display_data"
    }
   ],
   "source": [
    "plt.figure(figsize=(25,25))\n",
    "data.boxplot(column=\"ni\",by=\"class\")\n",
    "plt.tight_layout()\n",
    "plt.show()"
   ]
  },
  {
   "cell_type": "code",
   "execution_count": 305,
   "metadata": {},
   "outputs": [
    {
     "data": {
      "image/png": "[encoded data removed]",
      "text/plain": [
       "<Figure size 1080x504 with 1 Axes>"
      ]
     },
     "metadata": {
      "needs_background": "light"
     },
     "output_type": "display_data"
    }
   ],
   "source": [
    "fig = plt.figure(figsize=(15, 7))\n",
    "perfis_reais['ni'].plot.hist(color=('crimson'), alpha=0.6, density=True)\n",
    "perfis_fake_ativo['ni'].plot.hist(color=('midnightblue'), alpha=0.6, density=True)\n",
    "perfis_fake_inativo['ni'].plot.hist(color=('lime'), alpha=0.6, density=True)\n",
    "perfis_fake_spam['ni'].plot.hist(color=('yellow'), alpha=0.6, density=True)\n",
    "plt.legend(['r', 'a', 'i', 's'])\n",
    "plt.xlabel('Porcentagem (0.0 a 1.0) de posts que não são do tipo imagem')\n",
    "plt.ylabel('densidade')\n",
    "plt.show()"
   ]
  },
  {
   "cell_type": "markdown",
   "metadata": {},
   "source": [
    "Analisando o primeiro gráfico e o histograma a respeito da _feature_ de porcentagem de posts que não são tipo imagem (NI) percebe-se que essa variável tem comportamento semelhante para todos os tipos de perfil, no entanto perfis fakes inativos tem uma característica discrepante que é uma mediana igual a 0."
   ]
  },
  {
   "cell_type": "markdown",
   "metadata": {},
   "source": [
    "+ #### Relação Class e Taxa de Engajamento (Like)\t"
   ]
  },
  {
   "cell_type": "code",
   "execution_count": 306,
   "metadata": {},
   "outputs": [
    {
     "data": {
      "text/plain": [
       "<Figure size 1800x1800 with 0 Axes>"
      ]
     },
     "metadata": {},
     "output_type": "display_data"
    },
    {
     "data": {
      "image/png": "[encoded data removed]",
      "text/plain": [
       "<Figure size 432x288 with 1 Axes>"
      ]
     },
     "metadata": {
      "needs_background": "light"
     },
     "output_type": "display_data"
    }
   ],
   "source": [
    "plt.figure(figsize=(25,25))\n",
    "data.boxplot(column=\"erl\",by=\"class\")\n",
    "plt.tight_layout()\n",
    "plt.show()"
   ]
  },
  {
   "cell_type": "code",
   "execution_count": 307,
   "metadata": {},
   "outputs": [
    {
     "data": {
      "image/png": "[encoded data removed]",
      "text/plain": [
       "<Figure size 1080x504 with 1 Axes>"
      ]
     },
     "metadata": {
      "needs_background": "light"
     },
     "output_type": "display_data"
    }
   ],
   "source": [
    "fig = plt.figure(figsize=(15, 7))\n",
    "perfis_reais['erl'].plot.hist(color=('crimson'), alpha=0.6, density=True)\n",
    "perfis_fake_ativo['erl'].plot.hist(color=('midnightblue'), alpha=0.6, density=True)\n",
    "perfis_fake_inativo['erl'].plot.hist(color=('lime'), alpha=0.6, density=True)\n",
    "perfis_fake_spam['erl'].plot.hist(color=('yellow'), alpha=0.6, density=True)\n",
    "plt.legend(['r', 'a', 'i', 's'])\n",
    "plt.xlim(0,4000)\n",
    "plt.xlabel('Número de Likes dividido pelo Número de Seguidores')\n",
    "plt.ylabel('densidade')\n",
    "plt.show()"
   ]
  },
  {
   "cell_type": "markdown",
   "metadata": {},
   "source": [
    "A _feature_ Taxa de Engajamento em Likes (ERL) não parece ser um elemento decisivo na classificação, dada a proximidade de suas medianas observadas no primeiro gráfico. Apesar disso, observando o histograma fica claro que há certa diferença de concentração entre as classificações, porém nada muito decisivo por se tratarem de _outliers_."
   ]
  },
  {
   "cell_type": "markdown",
   "metadata": {},
   "source": [
    "+ #### Relação Class e Taxa de Engajamento (Comentário)\t"
   ]
  },
  {
   "cell_type": "code",
   "execution_count": 308,
   "metadata": {},
   "outputs": [
    {
     "data": {
      "text/plain": [
       "<Figure size 1800x1800 with 0 Axes>"
      ]
     },
     "metadata": {},
     "output_type": "display_data"
    },
    {
     "data": {
      "image/png": "[encoded data removed]",
      "text/plain": [
       "<Figure size 432x288 with 1 Axes>"
      ]
     },
     "metadata": {
      "needs_background": "light"
     },
     "output_type": "display_data"
    }
   ],
   "source": [
    "plt.figure(figsize=(25,25))\n",
    "data.boxplot(column=\"erc\",by=\"class\")\n",
    "plt.tight_layout()\n",
    "plt.show()"
   ]
  },
  {
   "cell_type": "code",
   "execution_count": 309,
   "metadata": {},
   "outputs": [
    {
     "data": {
      "image/png": "[encoded data removed]",
      "text/plain": [
       "<Figure size 1080x504 with 1 Axes>"
      ]
     },
     "metadata": {
      "needs_background": "light"
     },
     "output_type": "display_data"
    }
   ],
   "source": [
    "fig = plt.figure(figsize=(15, 7))\n",
    "perfis_reais['erc'].plot.hist(color=('crimson'), alpha=0.6, density=True)\n",
    "perfis_fake_ativo['erc'].plot.hist(color=('midnightblue'), alpha=0.6, density=True)\n",
    "perfis_fake_inativo['erc'].plot.hist(color=('lime'), alpha=0.6, density=True)\n",
    "perfis_fake_spam['erc'].plot.hist(color=('yellow'), alpha=0.6, density=True)\n",
    "plt.legend(['r', 'a', 'i', 's'])\n",
    "\n",
    "plt.xlim(0,100)\n",
    "plt.xlabel('Número de Comentários dividido pelo Número de Seguidores')\n",
    "plt.ylabel('densidade')\n",
    "plt.show()"
   ]
  },
  {
   "cell_type": "markdown",
   "metadata": {},
   "source": [
    "A _feature_ Taxa de Engajamento em Comentários (ERC) não parece ser um elemento decisivo na classificação, dada a proximidade de suas medianas observadas no primeiro gráfico. Apesar disso, observando o histograma fica claro que há certa diferença de concentração entre as classificações, porém nada muito decisivo por se tratarem de _outliers_."
   ]
  },
  {
   "cell_type": "markdown",
   "metadata": {},
   "source": [
    "+ #### Relação Class e Porcentagem de Localização"
   ]
  },
  {
   "cell_type": "code",
   "execution_count": 310,
   "metadata": {},
   "outputs": [
    {
     "data": {
      "text/plain": [
       "<Figure size 1800x1800 with 0 Axes>"
      ]
     },
     "metadata": {},
     "output_type": "display_data"
    },
    {
     "data": {
      "image/png": "[encoded data removed]",
      "text/plain": [
       "<Figure size 432x288 with 1 Axes>"
      ]
     },
     "metadata": {
      "needs_background": "light"
     },
     "output_type": "display_data"
    }
   ],
   "source": [
    "plt.figure(figsize=(25,25))\n",
    "data.boxplot(column=\"lt\",by=\"class\")\n",
    "plt.tight_layout()\n",
    "plt.show()"
   ]
  },
  {
   "cell_type": "code",
   "execution_count": 311,
   "metadata": {},
   "outputs": [
    {
     "data": {
      "image/png": "[encoded data removed]",
      "text/plain": [
       "<Figure size 1080x504 with 1 Axes>"
      ]
     },
     "metadata": {
      "needs_background": "light"
     },
     "output_type": "display_data"
    }
   ],
   "source": [
    "fig = plt.figure(figsize=(15, 7))\n",
    "perfis_reais['lt'].plot.hist(color=('crimson'), alpha=0.6, density=True)\n",
    "perfis_fake_ativo['lt'].plot.hist(color=('midnightblue'), alpha=0.6, density=True)\n",
    "perfis_fake_inativo['lt'].plot.hist(color=('lime'), alpha=0.6, density=True)\n",
    "perfis_fake_spam['lt'].plot.hist(color=('yellow'), alpha=0.6, density=True)\n",
    "plt.legend(['r', 'a', 'i', 's'])\n",
    "\n",
    "plt.xlim(0,1)\n",
    "plt.xlabel('Porcentagem (0.0 a 1.0) de posts com tag de localização')\n",
    "plt.ylabel('densidade')\n",
    "plt.show()"
   ]
  },
  {
   "cell_type": "markdown",
   "metadata": {},
   "source": [
    "A _feature_ Porcentagem de Localização (LT) parece ser um elemento decisivo na classificação, dado que a mediana observada no primeiro gráfico dos perfis reais é significativamente maior do que os perfis fakes. Observa-se também que as medianas dos perfis fakes inativos e spams são iguais a 0%."
   ]
  },
  {
   "cell_type": "markdown",
   "metadata": {},
   "source": [
    "+ #### Relação Class e Média de uso de Hashtags\t"
   ]
  },
  {
   "cell_type": "code",
   "execution_count": 312,
   "metadata": {},
   "outputs": [
    {
     "data": {
      "image/png": "[encoded data removed]",
      "text/plain": [
       "<Figure size 432x288 with 1 Axes>"
      ]
     },
     "metadata": {
      "needs_background": "light"
     },
     "output_type": "display_data"
    }
   ],
   "source": [
    "data.boxplot(column=\"hc\",by=\"class\")\n",
    "plt.tight_layout()\n",
    "plt.show()"
   ]
  },
  {
   "cell_type": "code",
   "execution_count": 313,
   "metadata": {},
   "outputs": [
    {
     "data": {
      "image/png": "[encoded data removed]",
      "text/plain": [
       "<Figure size 1080x504 with 1 Axes>"
      ]
     },
     "metadata": {
      "needs_background": "light"
     },
     "output_type": "display_data"
    }
   ],
   "source": [
    "fig = plt.figure(figsize=(15, 7))\n",
    "perfis_reais['hc'].plot.hist(color=('crimson'), alpha=0.6, density=True)\n",
    "perfis_fake_ativo['hc'].plot.hist(color=('midnightblue'), alpha=0.6, density=True)\n",
    "perfis_fake_inativo['hc'].plot.hist(color=('lime'), alpha=0.6, density=True)\n",
    "perfis_fake_spam['hc'].plot.hist(color=('yellow'), alpha=0.6, density=True)\n",
    "plt.legend(['r', 'a', 'i', 's'])\n",
    "\n",
    "plt.xlim(0,15)\n",
    "plt.xlabel('Número médio de hashtags usadas em um post')\n",
    "plt.ylabel('densidade')\n",
    "plt.show()"
   ]
  },
  {
   "cell_type": "markdown",
   "metadata": {},
   "source": [
    "Sobre a média de uso de hashtags (HC) o primeiro gráfico indicam que há uma grande quantidade de _outiliers_ em todas as classificações. Talvez porque o uso ou não desse símbolo parta de uma decisão mais pessoal do usuário. Apesar disso vale destacar que pelo histograma observa-se um maior uso de hashtags pelas contas spam."
   ]
  },
  {
   "cell_type": "markdown",
   "metadata": {},
   "source": [
    "+ #### Relação Class e Palavras-Chave Promocionais"
   ]
  },
  {
   "cell_type": "code",
   "execution_count": 314,
   "metadata": {},
   "outputs": [
    {
     "data": {
      "image/png": "[encoded data removed]",
      "text/plain": [
       "<Figure size 432x288 with 1 Axes>"
      ]
     },
     "metadata": {
      "needs_background": "light"
     },
     "output_type": "display_data"
    }
   ],
   "source": [
    "data.boxplot(column=\"hc\",by=\"class\")\n",
    "plt.tight_layout()\n",
    "plt.show()"
   ]
  },
  {
   "cell_type": "code",
   "execution_count": 315,
   "metadata": {},
   "outputs": [
    {
     "data": {
      "image/png": "[encoded data removed]",
      "text/plain": [
       "<Figure size 1080x504 with 1 Axes>"
      ]
     },
     "metadata": {
      "needs_background": "light"
     },
     "output_type": "display_data"
    }
   ],
   "source": [
    "fig = plt.figure(figsize=(15, 7))\n",
    "perfis_reais['pr'].plot.hist(color=('crimson'), alpha=0.6, density=True)\n",
    "perfis_fake_ativo['pr'].plot.hist(color=('midnightblue'), alpha=0.6, density=True)\n",
    "perfis_fake_inativo['pr'].plot.hist(color=('lime'), alpha=0.6, density=True)\n",
    "perfis_fake_spam['pr'].plot.hist(color=('yellow'), alpha=0.6, density=True)\n",
    "plt.legend(['r', 'a', 'i', 's'])\n",
    "\n",
    "plt.xlim(0,2.5)\n",
    "plt.xlabel('Número médio de palavras-chave promocionais em hashtags')\n",
    "plt.ylabel('densidade')\n",
    "plt.show()"
   ]
  },
  {
   "cell_type": "markdown",
   "metadata": {},
   "source": [
    "Sobre a _feature_ palavras-chave promocionais (HC) percebe-se pelo histograma que a grande maioria ocorre em contas spam; comportamento esperado por esse tipo de usuário. Além disso, vale distacar a quantidade de _outiliers_ nessa _feature_ verificada visualmente pelo primeiro gráfico; a coluna de pontos indica uma grande dispersão variada, o que talvez indique que essa variável não seja tão decisiva no momento da classificação."
   ]
  },
  {
   "cell_type": "markdown",
   "metadata": {},
   "source": [
    "+ #### Relação Class e Palavras-Chave Seguidores"
   ]
  },
  {
   "cell_type": "code",
   "execution_count": 316,
   "metadata": {},
   "outputs": [
    {
     "data": {
      "text/plain": [
       "<Figure size 1800x1800 with 0 Axes>"
      ]
     },
     "metadata": {},
     "output_type": "display_data"
    },
    {
     "data": {
      "image/png": "[encoded data removed]",
      "text/plain": [
       "<Figure size 432x288 with 1 Axes>"
      ]
     },
     "metadata": {
      "needs_background": "light"
     },
     "output_type": "display_data"
    }
   ],
   "source": [
    "plt.figure(figsize=(25,25))\n",
    "data.boxplot(column=\"fo\",by=\"class\")\n",
    "plt.tight_layout()\n",
    "plt.show()"
   ]
  },
  {
   "cell_type": "code",
   "execution_count": 317,
   "metadata": {},
   "outputs": [
    {
     "data": {
      "image/png": "[encoded data removed]",
      "text/plain": [
       "<Figure size 1080x504 with 1 Axes>"
      ]
     },
     "metadata": {
      "needs_background": "light"
     },
     "output_type": "display_data"
    }
   ],
   "source": [
    "fig = plt.figure(figsize=(15, 7))\n",
    "perfis_reais['fo'].plot.hist(color=('crimson'), alpha=0.6, density=True)\n",
    "perfis_fake_ativo['fo'].plot.hist(color=('midnightblue'), alpha=0.6, density=True)\n",
    "perfis_fake_inativo['fo'].plot.hist(color=('lime'), alpha=0.6, density=True)\n",
    "perfis_fake_spam['fo'].plot.hist(color=('yellow'), alpha=0.6, density=True)\n",
    "plt.legend(['r', 'a', 'i', 's'])\n",
    "\n",
    "plt.xlim(0,6)\n",
    "plt.ylim(0,5)\n",
    "plt.xlabel('Número médio de palavras-chave procurando seguidores em hashtags')\n",
    "plt.ylabel('densidade')\n",
    "plt.show()"
   ]
  },
  {
   "cell_type": "markdown",
   "metadata": {},
   "source": [
    "Em relação à _feature_ palavras-chave seguidores (FO) percebe-se pelo histograma maior ocorrência em perfis ativos, abrangindo-se também para spams. Esse elemento também pode ser considerado uma importante _featrure_ para classificação visto que a rpocura por seguidores em rede sociais pode dizer muito sobre o estado de um usuário."
   ]
  },
  {
   "cell_type": "markdown",
   "metadata": {},
   "source": [
    "+ #### Relação Class e Similaridade por Cosseno"
   ]
  },
  {
   "cell_type": "code",
   "execution_count": 318,
   "metadata": {},
   "outputs": [
    {
     "data": {
      "image/png": "[encoded data removed]",
      "text/plain": [
       "<Figure size 432x288 with 1 Axes>"
      ]
     },
     "metadata": {
      "needs_background": "light"
     },
     "output_type": "display_data"
    }
   ],
   "source": [
    "data.boxplot(column=\"cs\",by=\"class\")\n",
    "plt.tight_layout()\n",
    "plt.show()"
   ]
  },
  {
   "cell_type": "code",
   "execution_count": 319,
   "metadata": {},
   "outputs": [
    {
     "data": {
      "image/png": "[encoded data removed]",
      "text/plain": [
       "<Figure size 1080x504 with 1 Axes>"
      ]
     },
     "metadata": {
      "needs_background": "light"
     },
     "output_type": "display_data"
    }
   ],
   "source": [
    "fig = plt.figure(figsize=(15, 7))\n",
    "perfis_reais['cs'].plot.hist(color=('crimson'), alpha=0.6, density=True)\n",
    "perfis_fake_ativo['cs'].plot.hist(color=('midnightblue'), alpha=0.6, density=True)\n",
    "perfis_fake_inativo['cs'].plot.hist(color=('lime'), alpha=0.6, density=True)\n",
    "perfis_fake_spam['cs'].plot.hist(color=('yellow'), alpha=0.6, density=True)\n",
    "plt.legend(['r', 'a', 'i', 's'])\n",
    "\n",
    "plt.xlim(0,1)\n",
    "plt.ylim(0,5)\n",
    "plt.xlabel('Similaridade por Cosseno')\n",
    "plt.ylabel('densidade')\n",
    "plt.show()"
   ]
  },
  {
   "cell_type": "markdown",
   "metadata": {},
   "source": [
    "+ #### Relação Class e Intervalo de Posts"
   ]
  },
  {
   "cell_type": "code",
   "execution_count": 320,
   "metadata": {},
   "outputs": [
    {
     "data": {
      "text/plain": [
       "<Figure size 1800x1800 with 0 Axes>"
      ]
     },
     "metadata": {},
     "output_type": "display_data"
    },
    {
     "data": {
      "image/png": "[encoded data removed]",
      "text/plain": [
       "<Figure size 432x288 with 1 Axes>"
      ]
     },
     "metadata": {
      "needs_background": "light"
     },
     "output_type": "display_data"
    }
   ],
   "source": [
    "plt.figure(figsize=(25,25))\n",
    "data.boxplot(column=\"pi\",by=\"class\")\n",
    "plt.tight_layout()\n",
    "plt.show()"
   ]
  },
  {
   "cell_type": "code",
   "execution_count": 321,
   "metadata": {},
   "outputs": [
    {
     "data": {
      "image/png": "[encoded data removed]",
      "text/plain": [
       "<Figure size 1080x504 with 1 Axes>"
      ]
     },
     "metadata": {
      "needs_background": "light"
     },
     "output_type": "display_data"
    }
   ],
   "source": [
    "fig = plt.figure(figsize=(15, 7))\n",
    "perfis_reais['pi'].plot.hist(color=('crimson'), alpha=0.6, density=True)\n",
    "perfis_fake_ativo['pi'].plot.hist(color=('midnightblue'), alpha=0.6, density=True)\n",
    "perfis_fake_inativo['pi'].plot.hist(color=('lime'), alpha=0.6, density=True)\n",
    "perfis_fake_spam['pi'].plot.hist(color=('yellow'), alpha=0.6, density=True)\n",
    "plt.legend(['r', 'a', 'i', 's'])\n",
    "\n",
    "plt.xlim(0,10000)\n",
    "plt.xlabel('Intervalo de tempo médio entre posts (em horas)')\n",
    "plt.ylabel('densidade')\n",
    "plt.show()"
   ]
  },
  {
   "cell_type": "markdown",
   "metadata": {},
   "source": [
    "Observando o histograma fica muito claro o comportamento dos usuários spam em relação ao intervalo entre posts (PI) quando comparado com os outros. Em paralelo, o usuário spam possui um intervalo de tempo entre publicações significament menores; um comportamento esperado desse tipo de usuário. Outro comportamento comprovado pelo histograma que também já era esperado é o longo intervalo entre posots por parte dos usuários inativos."
   ]
  },
  {
   "cell_type": "markdown",
   "metadata": {},
   "source": [
    "## C. Modelos de Predição \n"
   ]
  },
  {
   "cell_type": "markdown",
   "metadata": {},
   "source": [
    "## Preparação do Dataset"
   ]
  },
  {
   "cell_type": "code",
   "execution_count": 322,
   "metadata": {},
   "outputs": [
    {
     "data": {
      "text/plain": [
       "0    12054\n",
       "1    10549\n",
       "2    10441\n",
       "3    10263\n",
       "Name: class, dtype: int64"
      ]
     },
     "execution_count": 322,
     "metadata": {},
     "output_type": "execute_result"
    }
   ],
   "source": [
    "dataToTree = pd.read_csv('user_fake_authentic_4class.csv')\n",
    "\n",
    "#Transformando os dados em um formato que a árvore de decisão possa entender (numérico)\n",
    "labelencoder = LabelEncoder()\n",
    "dataToTree['class'] = labelencoder.fit_transform(dataToTree['class'])\n",
    "dataToTree['class'].value_counts()\n",
    "\n",
    "# a -> 0, i -> 1, r -> 2, s -> 3"
   ]
  },
  {
   "cell_type": "code",
   "execution_count": 323,
   "metadata": {},
   "outputs": [],
   "source": [
    "#Features \n",
    "x = dataToTree.drop(\"class\", axis=1)\n",
    "#Target\n",
    "y = dataToTree[\"class\"]\n",
    "\n",
    "#Divisão do dataset em treino e teste \n",
    "Xtrain, Xval, Ytrain, Yval = train_test_split(x, y, test_size=0.5, random_state=0)"
   ]
  },
  {
   "cell_type": "markdown",
   "metadata": {},
   "source": [
    "## Decision Tree"
   ]
  },
  {
   "cell_type": "markdown",
   "metadata": {},
   "source": [
    "A aprendizagem baseada em árvores de decisão é uma das abordagens de modelagem preditiva mais usadas em estatística e machine learning. Ela usa uma árvore de decisão como modelo preditivo para, a partir de observações sobre um item (representadas nos galhos) chegar em conclusões sobre o valor de uma variável target (representada nas folhas). O modelo funciona construindo um procedimento de perguntas de sim ou não a partir de certas características (features), para obter o target, que pode ser categórico ou numérico. Escolhemos essa abordagem por conta da simplicidade de sua implementação e de sua eficácia na predição de targets categóricos.\n",
    "  \n"
   ]
  },
  {
   "cell_type": "markdown",
   "metadata": {},
   "source": [
    "#### Como interpretar uma árvore como um modelo de predição  \n",
    "Essa explicação foi baseada em um [artigo](#bibliografia) sobre o modelo de Decision Tree  \n",
    "\n",
    "A estrutura de árvore pode ser entendida por meio dos conceitos de ramos, nós, sub-árvores e folhas, como na imagem abaixo:"
   ]
  },
  {
   "cell_type": "markdown",
   "metadata": {},
   "source": [
    "<img src=img/exemplo_arvore.png>"
   ]
  },
  {
   "cell_type": "markdown",
   "metadata": {},
   "source": [
    "Os círculos roxos são chamados de nós e as linhas pretas que os ligam, de ramos. Os nós que não tem descendentes (com borda laranja na imagem) são chamados de folhas e o primeiro nó (com borda verde) é chamado de raiz. Juntos, os nós e ramos formam uma árvore.\n",
    "  \n",
    "A raiz representa o dataset inteiro e cada ramo representa uma decisão. O número total de perguntas feitas nesse processo é chamado de profundidade (ou altura) dessa árvore. No caso da figura acima, temos uma árvore de profundidade 3: precisamos de 3 ramos (3 perguntas) para ir da raiz até as folhas."
   ]
  },
  {
   "cell_type": "markdown",
   "metadata": {},
   "source": [
    "#### Aplicação do modelo de Decision Tree ao nosso Dataset  \n",
    "Escolhemos também uma profundidade de 3 ramos em nossa árvore:"
   ]
  },
  {
   "cell_type": "code",
   "execution_count": 324,
   "metadata": {},
   "outputs": [],
   "source": [
    "decision_tree = tree.DecisionTreeClassifier(max_depth=3,random_state=0)\n",
    "decision_tree = decision_tree.fit(Xtrain, Ytrain)"
   ]
  },
  {
   "cell_type": "markdown",
   "metadata": {},
   "source": [
    "## Random Forest"
   ]
  },
  {
   "cell_type": "markdown",
   "metadata": {},
   "source": [
    "Essa explicação foi baseada em um [artigo](#bibliografia) sobre o modelo de Random Forest  \n",
    "O método de Random Forest funciona basicamente de modo que ao invés de criar uma única árvore de decisão com todas as features ao mesmo tempo ele cria pequenas árvores de decisão a partir de algumas features aleatórias.  \n",
    "No final, é feita uma \"votação\" a partir dos valores retornados por cada árvore, de forma que cada mini árvore toma uma decisão a partir dos dados apresentados. A decisão mais votada é a resposta do algoritmo."
   ]
  },
  {
   "cell_type": "markdown",
   "metadata": {},
   "source": [
    "<img src=img/exemplo_random.png>"
   ]
  },
  {
   "cell_type": "markdown",
   "metadata": {},
   "source": [
    "Escolhemos essa abordagem por se tratar da evolução natural do método de Decision Tree aplicado anteriormente. Random Forests são populares por apresentarem bons resultados em diversos tipos de problema, tanto de regressão (ex.: prever valor de uma casa) quanto de classificação (e-mail é spam ou não é spam).\n",
    "\n",
    "  "
   ]
  },
  {
   "cell_type": "markdown",
   "metadata": {},
   "source": [
    "#### Aplicação do modelo de Random Forest ao nosso Dataset:"
   ]
  },
  {
   "cell_type": "code",
   "execution_count": 325,
   "metadata": {},
   "outputs": [
    {
     "data": {
      "text/plain": [
       "RandomForestClassifier(n_estimators=1000, n_jobs=-1, random_state=0)"
      ]
     },
     "execution_count": 325,
     "metadata": {},
     "output_type": "execute_result"
    }
   ],
   "source": [
    "trees = RandomForestClassifier(n_estimators=1000,random_state=0, n_jobs=-1)\n",
    "trees.fit(Xtrain, Ytrain)"
   ]
  },
  {
   "cell_type": "markdown",
   "metadata": {},
   "source": [
    "## D. Processo e Estatísticas de Validação"
   ]
  },
  {
   "cell_type": "markdown",
   "metadata": {},
   "source": [
    "### Score\n",
    "Pontuação de 0 a 1 referente a acurácia de classificação (função da biblioteca sklearn)"
   ]
  },
  {
   "cell_type": "code",
   "execution_count": 326,
   "metadata": {},
   "outputs": [
    {
     "name": "stdout",
     "output_type": "stream",
     "text": [
      "Score para o modelo de Decision Tree\n",
      "Score na base de treinamento: 0.7088625132776059\n",
      "Score na base de teste: 0.7052276715618362\n",
      "\n",
      "\n",
      "Score para o modelo de Random Forest\n",
      "Score na base de treinamento: 1.0\n",
      "Score na base de teste: 0.9044518333795142\n"
     ]
    }
   ],
   "source": [
    "print('Score para o modelo de Decision Tree')\n",
    "print(f'Score na base de treinamento: {decision_tree.score(Xtrain, Ytrain)}')\n",
    "print(f'Score na base de teste: {decision_tree.score(Xval, Yval)}')\n",
    "print('\\n')\n",
    "print('Score para o modelo de Random Forest')\n",
    "print(f'Score na base de treinamento: {trees.score(Xtrain, Ytrain)}')\n",
    "print(f'Score na base de teste: {trees.score(Xval, Yval)}')\n"
   ]
  },
  {
   "cell_type": "markdown",
   "metadata": {},
   "source": [
    "### Matriz de Confusão"
   ]
  },
  {
   "cell_type": "markdown",
   "metadata": {},
   "source": [
    "Essa explicação foi baseada em um [artigo](#bibliografia) sobre métricas de machine learning\n",
    "Uma matriz de confusão é uma métrica voltada para modelos de classificação.  \n",
    "Ela funciona como uma crosstab entre o valor previsto pelo modelo e o modelo real da base, permitindo calcular a quantidade de falso positivo e falso negativo; e de verdadeiro positivo e verdadeiro negativo, além de te fornecer a acurácia e sensibilidade. \n",
    "  \n",
    "Quando o modelo prevê um caso positivo corretamente, nós temos um caso de Verdadeiro Positivo (True Positive - TP); caso o seu modelo diga que é uma classificação, quando na verdade não é, nós temos um caso de Falso Positivo (False Positive - FP), também conhecido como Type I Error.\n",
    "  \n",
    "O oposto também pode ocorrer. Quando o modelo diz que não é uma classificação, mas na verdade é, temos um caso de Falso Negativo (FN), também conhecido como Type II Error; e quando ele diz que não é uma classificação, e ele está certo, ocorre o Verdadeiro Negativo (TN)."
   ]
  },
  {
   "cell_type": "markdown",
   "metadata": {},
   "source": [
    "## Métricas da Matriz de Confusão "
   ]
  },
  {
   "cell_type": "markdown",
   "metadata": {},
   "source": [
    "### Acurácia"
   ]
  },
  {
   "cell_type": "markdown",
   "metadata": {},
   "source": [
    "Proporção de casos que foram corretamente previstos, sejam eles verdadeiro positivo ou verdadeiro negativo.  \n",
    "Acurácia = (TP + TN) / (TP + TN + FP + FN)\n"
   ]
  },
  {
   "cell_type": "code",
   "execution_count": 327,
   "metadata": {},
   "outputs": [],
   "source": [
    "def acuracia(matriz):\n",
    "    acuracia = np.sum(np.diag(matriz)) / np.sum(matriz)\n",
    "    return acuracia"
   ]
  },
  {
   "cell_type": "markdown",
   "metadata": {},
   "source": [
    "### Sensibilidade / Recall"
   ]
  },
  {
   "cell_type": "markdown",
   "metadata": {},
   "source": [
    "Proporção de casos positivos que foram identificados corretamente.  \n",
    "Recall = TP / TP + FN"
   ]
  },
  {
   "cell_type": "code",
   "execution_count": 328,
   "metadata": {},
   "outputs": [],
   "source": [
    "def recall(matriz):\n",
    "    recall = np.diag(matriz) / np.sum(matriz, axis = 1)\n",
    "    return recall   "
   ]
  },
  {
   "cell_type": "markdown",
   "metadata": {},
   "source": [
    "### Precision"
   ]
  },
  {
   "cell_type": "markdown",
   "metadata": {},
   "source": [
    "Proporção de casos positivos com casos que foram previstos como positivos.  \n",
    "Precision = TP / TP + FP"
   ]
  },
  {
   "cell_type": "code",
   "execution_count": 329,
   "metadata": {},
   "outputs": [],
   "source": [
    "def precision(matriz):\n",
    "    precision = np.diag(matriz) / np.sum(matriz, axis = 0)\n",
    "    return precision"
   ]
  },
  {
   "cell_type": "markdown",
   "metadata": {},
   "source": [
    "## Aplicação da Matriz e Métricas"
   ]
  },
  {
   "cell_type": "markdown",
   "metadata": {},
   "source": [
    "### Decision Tree"
   ]
  },
  {
   "cell_type": "code",
   "execution_count": 330,
   "metadata": {},
   "outputs": [
    {
     "name": "stdout",
     "output_type": "stream",
     "text": [
      "[[4674    0 1381    0]\n",
      " [ 954 3537  797    0]\n",
      " [ 795   70 3473  865]\n",
      " [ 979  112  430 3587]]\n"
     ]
    }
   ],
   "source": [
    "#Predição de valores pelo modelo de Decision Tree\n",
    "Y_pred_decision = decision_tree.predict(Xval)\n",
    "matriz_confusao_decision = confusion_matrix(Yval, Y_pred_decision)\n",
    "print(matriz_confusao_decision)"
   ]
  },
  {
   "cell_type": "code",
   "execution_count": 331,
   "metadata": {},
   "outputs": [
    {
     "data": {
      "application/vnd.plotly.v1+json": {
       "config": {
        "plotlyServerURL": "https://plot.ly"
       },
       "data": [
        {
         "coloraxis": "coloraxis",
         "hovertemplate": "Y previsto: %{x}<br>Y verdadeiro: %{y}<br>Quantidade: %{z}<extra></extra>",
         "name": "0",
         "type": "heatmap",
         "x": [
          "a",
          "i",
          "r",
          "s"
         ],
         "xaxis": "x",
         "y": [
          "a",
          "i",
          "r",
          "s"
         ],
         "yaxis": "y",
         "z": [
          [
           4674,
           0,
           1381,
           0
          ],
          [
           954,
           3537,
           797,
           0
          ],
          [
           795,
           70,
           3473,
           865
          ],
          [
           979,
           112,
           430,
           3587
          ]
         ]
        }
       ],
       "layout": {
        "coloraxis": {
         "colorbar": {
          "title": {
           "text": "Quantidade"
          }
         },
         "colorscale": [
          [
           0,
           "#0d0887"
          ],
          [
           0.1111111111111111,
           "#46039f"
          ],
          [
           0.2222222222222222,
           "#7201a8"
          ],
          [
           0.3333333333333333,
           "#9c179e"
          ],
          [
           0.4444444444444444,
           "#bd3786"
          ],
          [
           0.5555555555555556,
           "#d8576b"
          ],
          [
           0.6666666666666666,
           "#ed7953"
          ],
          [
           0.7777777777777778,
           "#fb9f3a"
          ],
          [
           0.8888888888888888,
           "#fdca26"
          ],
          [
           1,
           "#f0f921"
          ]
         ]
        },
        "template": {
         "data": {
          "bar": [
           {
            "error_x": {
             "color": "#2a3f5f"
            },
            "error_y": {
             "color": "#2a3f5f"
            },
            "marker": {
             "line": {
              "color": "#E5ECF6",
              "width": 0.5
             },
             "pattern": {
              "fillmode": "overlay",
              "size": 10,
              "solidity": 0.2
             }
            },
            "type": "bar"
           }
          ],
          "barpolar": [
           {
            "marker": {
             "line": {
              "color": "#E5ECF6",
              "width": 0.5
             },
             "pattern": {
              "fillmode": "overlay",
              "size": 10,
              "solidity": 0.2
             }
            },
            "type": "barpolar"
           }
          ],
          "carpet": [
           {
            "aaxis": {
             "endlinecolor": "#2a3f5f",
             "gridcolor": "white",
             "linecolor": "white",
             "minorgridcolor": "white",
             "startlinecolor": "#2a3f5f"
            },
            "baxis": {
             "endlinecolor": "#2a3f5f",
             "gridcolor": "white",
             "linecolor": "white",
             "minorgridcolor": "white",
             "startlinecolor": "#2a3f5f"
            },
            "type": "carpet"
           }
          ],
          "choropleth": [
           {
            "colorbar": {
             "outlinewidth": 0,
             "ticks": ""
            },
            "type": "choropleth"
           }
          ],
          "contour": [
           {
            "colorbar": {
             "outlinewidth": 0,
             "ticks": ""
            },
            "colorscale": [
             [
              0,
              "#0d0887"
             ],
             [
              0.1111111111111111,
              "#46039f"
             ],
             [
              0.2222222222222222,
              "#7201a8"
             ],
             [
              0.3333333333333333,
              "#9c179e"
             ],
             [
              0.4444444444444444,
              "#bd3786"
             ],
             [
              0.5555555555555556,
              "#d8576b"
             ],
             [
              0.6666666666666666,
              "#ed7953"
             ],
             [
              0.7777777777777778,
              "#fb9f3a"
             ],
             [
              0.8888888888888888,
              "#fdca26"
             ],
             [
              1,
              "#f0f921"
             ]
            ],
            "type": "contour"
           }
          ],
          "contourcarpet": [
           {
            "colorbar": {
             "outlinewidth": 0,
             "ticks": ""
            },
            "type": "contourcarpet"
           }
          ],
          "heatmap": [
           {
            "colorbar": {
             "outlinewidth": 0,
             "ticks": ""
            },
            "colorscale": [
             [
              0,
              "#0d0887"
             ],
             [
              0.1111111111111111,
              "#46039f"
             ],
             [
              0.2222222222222222,
              "#7201a8"
             ],
             [
              0.3333333333333333,
              "#9c179e"
             ],
             [
              0.4444444444444444,
              "#bd3786"
             ],
             [
              0.5555555555555556,
              "#d8576b"
             ],
             [
              0.6666666666666666,
              "#ed7953"
             ],
             [
              0.7777777777777778,
              "#fb9f3a"
             ],
             [
              0.8888888888888888,
              "#fdca26"
             ],
             [
              1,
              "#f0f921"
             ]
            ],
            "type": "heatmap"
           }
          ],
          "heatmapgl": [
           {
            "colorbar": {
             "outlinewidth": 0,
             "ticks": ""
            },
            "colorscale": [
             [
              0,
              "#0d0887"
             ],
             [
              0.1111111111111111,
              "#46039f"
             ],
             [
              0.2222222222222222,
              "#7201a8"
             ],
             [
              0.3333333333333333,
              "#9c179e"
             ],
             [
              0.4444444444444444,
              "#bd3786"
             ],
             [
              0.5555555555555556,
              "#d8576b"
             ],
             [
              0.6666666666666666,
              "#ed7953"
             ],
             [
              0.7777777777777778,
              "#fb9f3a"
             ],
             [
              0.8888888888888888,
              "#fdca26"
             ],
             [
              1,
              "#f0f921"
             ]
            ],
            "type": "heatmapgl"
           }
          ],
          "histogram": [
           {
            "marker": {
             "pattern": {
              "fillmode": "overlay",
              "size": 10,
              "solidity": 0.2
             }
            },
            "type": "histogram"
           }
          ],
          "histogram2d": [
           {
            "colorbar": {
             "outlinewidth": 0,
             "ticks": ""
            },
            "colorscale": [
             [
              0,
              "#0d0887"
             ],
             [
              0.1111111111111111,
              "#46039f"
             ],
             [
              0.2222222222222222,
              "#7201a8"
             ],
             [
              0.3333333333333333,
              "#9c179e"
             ],
             [
              0.4444444444444444,
              "#bd3786"
             ],
             [
              0.5555555555555556,
              "#d8576b"
             ],
             [
              0.6666666666666666,
              "#ed7953"
             ],
             [
              0.7777777777777778,
              "#fb9f3a"
             ],
             [
              0.8888888888888888,
              "#fdca26"
             ],
             [
              1,
              "#f0f921"
             ]
            ],
            "type": "histogram2d"
           }
          ],
          "histogram2dcontour": [
           {
            "colorbar": {
             "outlinewidth": 0,
             "ticks": ""
            },
            "colorscale": [
             [
              0,
              "#0d0887"
             ],
             [
              0.1111111111111111,
              "#46039f"
             ],
             [
              0.2222222222222222,
              "#7201a8"
             ],
             [
              0.3333333333333333,
              "#9c179e"
             ],
             [
              0.4444444444444444,
              "#bd3786"
             ],
             [
              0.5555555555555556,
              "#d8576b"
             ],
             [
              0.6666666666666666,
              "#ed7953"
             ],
             [
              0.7777777777777778,
              "#fb9f3a"
             ],
             [
              0.8888888888888888,
              "#fdca26"
             ],
             [
              1,
              "#f0f921"
             ]
            ],
            "type": "histogram2dcontour"
           }
          ],
          "mesh3d": [
           {
            "colorbar": {
             "outlinewidth": 0,
             "ticks": ""
            },
            "type": "mesh3d"
           }
          ],
          "parcoords": [
           {
            "line": {
             "colorbar": {
              "outlinewidth": 0,
              "ticks": ""
             }
            },
            "type": "parcoords"
           }
          ],
          "pie": [
           {
            "automargin": true,
            "type": "pie"
           }
          ],
          "scatter": [
           {
            "marker": {
             "colorbar": {
              "outlinewidth": 0,
              "ticks": ""
             }
            },
            "type": "scatter"
           }
          ],
          "scatter3d": [
           {
            "line": {
             "colorbar": {
              "outlinewidth": 0,
              "ticks": ""
             }
            },
            "marker": {
             "colorbar": {
              "outlinewidth": 0,
              "ticks": ""
             }
            },
            "type": "scatter3d"
           }
          ],
          "scattercarpet": [
           {
            "marker": {
             "colorbar": {
              "outlinewidth": 0,
              "ticks": ""
             }
            },
            "type": "scattercarpet"
           }
          ],
          "scattergeo": [
           {
            "marker": {
             "colorbar": {
              "outlinewidth": 0,
              "ticks": ""
             }
            },
            "type": "scattergeo"
           }
          ],
          "scattergl": [
           {
            "marker": {
             "colorbar": {
              "outlinewidth": 0,
              "ticks": ""
             }
            },
            "type": "scattergl"
           }
          ],
          "scattermapbox": [
           {
            "marker": {
             "colorbar": {
              "outlinewidth": 0,
              "ticks": ""
             }
            },
            "type": "scattermapbox"
           }
          ],
          "scatterpolar": [
           {
            "marker": {
             "colorbar": {
              "outlinewidth": 0,
              "ticks": ""
             }
            },
            "type": "scatterpolar"
           }
          ],
          "scatterpolargl": [
           {
            "marker": {
             "colorbar": {
              "outlinewidth": 0,
              "ticks": ""
             }
            },
            "type": "scatterpolargl"
           }
          ],
          "scatterternary": [
           {
            "marker": {
             "colorbar": {
              "outlinewidth": 0,
              "ticks": ""
             }
            },
            "type": "scatterternary"
           }
          ],
          "surface": [
           {
            "colorbar": {
             "outlinewidth": 0,
             "ticks": ""
            },
            "colorscale": [
             [
              0,
              "#0d0887"
             ],
             [
              0.1111111111111111,
              "#46039f"
             ],
             [
              0.2222222222222222,
              "#7201a8"
             ],
             [
              0.3333333333333333,
              "#9c179e"
             ],
             [
              0.4444444444444444,
              "#bd3786"
             ],
             [
              0.5555555555555556,
              "#d8576b"
             ],
             [
              0.6666666666666666,
              "#ed7953"
             ],
             [
              0.7777777777777778,
              "#fb9f3a"
             ],
             [
              0.8888888888888888,
              "#fdca26"
             ],
             [
              1,
              "#f0f921"
             ]
            ],
            "type": "surface"
           }
          ],
          "table": [
           {
            "cells": {
             "fill": {
              "color": "#EBF0F8"
             },
             "line": {
              "color": "white"
             }
            },
            "header": {
             "fill": {
              "color": "#C8D4E3"
             },
             "line": {
              "color": "white"
             }
            },
            "type": "table"
           }
          ]
         },
         "layout": {
          "annotationdefaults": {
           "arrowcolor": "#2a3f5f",
           "arrowhead": 0,
           "arrowwidth": 1
          },
          "autotypenumbers": "strict",
          "coloraxis": {
           "colorbar": {
            "outlinewidth": 0,
            "ticks": ""
           }
          },
          "colorscale": {
           "diverging": [
            [
             0,
             "#8e0152"
            ],
            [
             0.1,
             "#c51b7d"
            ],
            [
             0.2,
             "#de77ae"
            ],
            [
             0.3,
             "#f1b6da"
            ],
            [
             0.4,
             "#fde0ef"
            ],
            [
             0.5,
             "#f7f7f7"
            ],
            [
             0.6,
             "#e6f5d0"
            ],
            [
             0.7,
             "#b8e186"
            ],
            [
             0.8,
             "#7fbc41"
            ],
            [
             0.9,
             "#4d9221"
            ],
            [
             1,
             "#276419"
            ]
           ],
           "sequential": [
            [
             0,
             "#0d0887"
            ],
            [
             0.1111111111111111,
             "#46039f"
            ],
            [
             0.2222222222222222,
             "#7201a8"
            ],
            [
             0.3333333333333333,
             "#9c179e"
            ],
            [
             0.4444444444444444,
             "#bd3786"
            ],
            [
             0.5555555555555556,
             "#d8576b"
            ],
            [
             0.6666666666666666,
             "#ed7953"
            ],
            [
             0.7777777777777778,
             "#fb9f3a"
            ],
            [
             0.8888888888888888,
             "#fdca26"
            ],
            [
             1,
             "#f0f921"
            ]
           ],
           "sequentialminus": [
            [
             0,
             "#0d0887"
            ],
            [
             0.1111111111111111,
             "#46039f"
            ],
            [
             0.2222222222222222,
             "#7201a8"
            ],
            [
             0.3333333333333333,
             "#9c179e"
            ],
            [
             0.4444444444444444,
             "#bd3786"
            ],
            [
             0.5555555555555556,
             "#d8576b"
            ],
            [
             0.6666666666666666,
             "#ed7953"
            ],
            [
             0.7777777777777778,
             "#fb9f3a"
            ],
            [
             0.8888888888888888,
             "#fdca26"
            ],
            [
             1,
             "#f0f921"
            ]
           ]
          },
          "colorway": [
           "#636efa",
           "#EF553B",
           "#00cc96",
           "#ab63fa",
           "#FFA15A",
           "#19d3f3",
           "#FF6692",
           "#B6E880",
           "#FF97FF",
           "#FECB52"
          ],
          "font": {
           "color": "#2a3f5f"
          },
          "geo": {
           "bgcolor": "white",
           "lakecolor": "white",
           "landcolor": "#E5ECF6",
           "showlakes": true,
           "showland": true,
           "subunitcolor": "white"
          },
          "hoverlabel": {
           "align": "left"
          },
          "hovermode": "closest",
          "mapbox": {
           "style": "light"
          },
          "paper_bgcolor": "white",
          "plot_bgcolor": "#E5ECF6",
          "polar": {
           "angularaxis": {
            "gridcolor": "white",
            "linecolor": "white",
            "ticks": ""
           },
           "bgcolor": "#E5ECF6",
           "radialaxis": {
            "gridcolor": "white",
            "linecolor": "white",
            "ticks": ""
           }
          },
          "scene": {
           "xaxis": {
            "backgroundcolor": "#E5ECF6",
            "gridcolor": "white",
            "gridwidth": 2,
            "linecolor": "white",
            "showbackground": true,
            "ticks": "",
            "zerolinecolor": "white"
           },
           "yaxis": {
            "backgroundcolor": "#E5ECF6",
            "gridcolor": "white",
            "gridwidth": 2,
            "linecolor": "white",
            "showbackground": true,
            "ticks": "",
            "zerolinecolor": "white"
           },
           "zaxis": {
            "backgroundcolor": "#E5ECF6",
            "gridcolor": "white",
            "gridwidth": 2,
            "linecolor": "white",
            "showbackground": true,
            "ticks": "",
            "zerolinecolor": "white"
           }
          },
          "shapedefaults": {
           "line": {
            "color": "#2a3f5f"
           }
          },
          "ternary": {
           "aaxis": {
            "gridcolor": "white",
            "linecolor": "white",
            "ticks": ""
           },
           "baxis": {
            "gridcolor": "white",
            "linecolor": "white",
            "ticks": ""
           },
           "bgcolor": "#E5ECF6",
           "caxis": {
            "gridcolor": "white",
            "linecolor": "white",
            "ticks": ""
           }
          },
          "title": {
           "x": 0.05
          },
          "xaxis": {
           "automargin": true,
           "gridcolor": "white",
           "linecolor": "white",
           "ticks": "",
           "title": {
            "standoff": 15
           },
           "zerolinecolor": "white",
           "zerolinewidth": 2
          },
          "yaxis": {
           "automargin": true,
           "gridcolor": "white",
           "linecolor": "white",
           "ticks": "",
           "title": {
            "standoff": 15
           },
           "zerolinecolor": "white",
           "zerolinewidth": 2
          }
         }
        },
        "title": {
         "text": "Matriz de Confusão para o modelo de Decision Tree"
        },
        "xaxis": {
         "anchor": "y",
         "constrain": "domain",
         "domain": [
          0,
          1
         ],
         "scaleanchor": "y",
         "title": {
          "text": "Y previsto"
         }
        },
        "yaxis": {
         "anchor": "x",
         "autorange": "reversed",
         "constrain": "domain",
         "domain": [
          0,
          1
         ],
         "title": {
          "text": "Y verdadeiro"
         }
        }
       }
      }
     },
     "metadata": {},
     "output_type": "display_data"
    }
   ],
   "source": [
    "fig = px.imshow(matriz_confusao_decision, labels=dict(x=\"Y previsto\", y=\"Y verdadeiro\", color=\"Quantidade\"), x = ['a', 'i', 'r', 's'], y = ['a', 'i', 'r', 's'], title = 'Matriz de Confusão para o modelo de Decision Tree')\n",
    "fig.show()"
   ]
  },
  {
   "cell_type": "code",
   "execution_count": 332,
   "metadata": {},
   "outputs": [],
   "source": [
    "acuracia_decision_tree =  acuracia(matriz_confusao_decision)\n",
    "recall_decision_tree =  recall(matriz_confusao_decision)\n",
    "precision_decision_tree =  precision(matriz_confusao_decision)"
   ]
  },
  {
   "cell_type": "code",
   "execution_count": 333,
   "metadata": {},
   "outputs": [
    {
     "name": "stdout",
     "output_type": "stream",
     "text": [
      "A acurácia do modelo de Decision Tree é 70.52276715618362%\n",
      "\n",
      "\n",
      "A recall do modelo de Decision Tree é:\n",
      "77.19240297274979% para as contas tipo \"a\"\n",
      "66.88729198184569% para as contas tipo \"i\"\n",
      "66.74995195079761% para as contas tipo \"r\"\n",
      "70.22317932654659% para as contas tipo \"s\"\n",
      "\n",
      "\n",
      "A precision do modelo de Decision Tree é:\n",
      "63.14509592002162% para as contas tipo \"a\"\n",
      "95.10621134713632% para as contas tipo \"i\"\n",
      "57.11231705311627% para as contas tipo \"r\"\n",
      "80.57053009883198% para as contas tipo \"s\"\n"
     ]
    }
   ],
   "source": [
    "print(f'A acurácia do modelo de Decision Tree é {acuracia_decision_tree*100}%')\n",
    "print('\\n')\n",
    "print(f'A recall do modelo de Decision Tree é:')\n",
    "print(f'{recall_decision_tree[0]*100}% para as contas tipo \"a\"')\n",
    "print(f'{recall_decision_tree[1]*100}% para as contas tipo \"i\"')\n",
    "print(f'{recall_decision_tree[2]*100}% para as contas tipo \"r\"')\n",
    "print(f'{recall_decision_tree[3]*100}% para as contas tipo \"s\"')\n",
    "print('\\n')\n",
    "print(f'A precision do modelo de Decision Tree é:')\n",
    "print(f'{precision_decision_tree[0]*100}% para as contas tipo \"a\"')\n",
    "print(f'{precision_decision_tree[1]*100}% para as contas tipo \"i\"')\n",
    "print(f'{precision_decision_tree[2]*100}% para as contas tipo \"r\"')\n",
    "print(f'{precision_decision_tree[3]*100}% para as contas tipo \"s\"')\n"
   ]
  },
  {
   "cell_type": "markdown",
   "metadata": {},
   "source": [
    "### Random Forest"
   ]
  },
  {
   "cell_type": "code",
   "execution_count": 334,
   "metadata": {},
   "outputs": [
    {
     "name": "stdout",
     "output_type": "stream",
     "text": [
      "[[5604    4  447    0]\n",
      " [   2 5000  285    1]\n",
      " [ 415  287 4055  446]\n",
      " [  12    6  164 4926]]\n"
     ]
    }
   ],
   "source": [
    "#Predição de valores pelo modelo de Random Forest\n",
    "Y_pred_trees = trees.predict(Xval)\n",
    "matriz_confusao_trees = confusion_matrix(Yval, Y_pred_trees)\n",
    "print(matriz_confusao_trees)"
   ]
  },
  {
   "cell_type": "code",
   "execution_count": 335,
   "metadata": {},
   "outputs": [
    {
     "data": {
      "application/vnd.plotly.v1+json": {
       "config": {
        "plotlyServerURL": "https://plot.ly"
       },
       "data": [
        {
         "coloraxis": "coloraxis",
         "hovertemplate": "Y previsto: %{x}<br>Y verdadeiro: %{y}<br>Quantidade: %{z}<extra></extra>",
         "name": "0",
         "type": "heatmap",
         "x": [
          "a",
          "i",
          "r",
          "s"
         ],
         "xaxis": "x",
         "y": [
          "a",
          "i",
          "r",
          "s"
         ],
         "yaxis": "y",
         "z": [
          [
           5604,
           4,
           447,
           0
          ],
          [
           2,
           5000,
           285,
           1
          ],
          [
           415,
           287,
           4055,
           446
          ],
          [
           12,
           6,
           164,
           4926
          ]
         ]
        }
       ],
       "layout": {
        "coloraxis": {
         "colorbar": {
          "title": {
           "text": "Quantidade"
          }
         },
         "colorscale": [
          [
           0,
           "#0d0887"
          ],
          [
           0.1111111111111111,
           "#46039f"
          ],
          [
           0.2222222222222222,
           "#7201a8"
          ],
          [
           0.3333333333333333,
           "#9c179e"
          ],
          [
           0.4444444444444444,
           "#bd3786"
          ],
          [
           0.5555555555555556,
           "#d8576b"
          ],
          [
           0.6666666666666666,
           "#ed7953"
          ],
          [
           0.7777777777777778,
           "#fb9f3a"
          ],
          [
           0.8888888888888888,
           "#fdca26"
          ],
          [
           1,
           "#f0f921"
          ]
         ]
        },
        "template": {
         "data": {
          "bar": [
           {
            "error_x": {
             "color": "#2a3f5f"
            },
            "error_y": {
             "color": "#2a3f5f"
            },
            "marker": {
             "line": {
              "color": "#E5ECF6",
              "width": 0.5
             },
             "pattern": {
              "fillmode": "overlay",
              "size": 10,
              "solidity": 0.2
             }
            },
            "type": "bar"
           }
          ],
          "barpolar": [
           {
            "marker": {
             "line": {
              "color": "#E5ECF6",
              "width": 0.5
             },
             "pattern": {
              "fillmode": "overlay",
              "size": 10,
              "solidity": 0.2
             }
            },
            "type": "barpolar"
           }
          ],
          "carpet": [
           {
            "aaxis": {
             "endlinecolor": "#2a3f5f",
             "gridcolor": "white",
             "linecolor": "white",
             "minorgridcolor": "white",
             "startlinecolor": "#2a3f5f"
            },
            "baxis": {
             "endlinecolor": "#2a3f5f",
             "gridcolor": "white",
             "linecolor": "white",
             "minorgridcolor": "white",
             "startlinecolor": "#2a3f5f"
            },
            "type": "carpet"
           }
          ],
          "choropleth": [
           {
            "colorbar": {
             "outlinewidth": 0,
             "ticks": ""
            },
            "type": "choropleth"
           }
          ],
          "contour": [
           {
            "colorbar": {
             "outlinewidth": 0,
             "ticks": ""
            },
            "colorscale": [
             [
              0,
              "#0d0887"
             ],
             [
              0.1111111111111111,
              "#46039f"
             ],
             [
              0.2222222222222222,
              "#7201a8"
             ],
             [
              0.3333333333333333,
              "#9c179e"
             ],
             [
              0.4444444444444444,
              "#bd3786"
             ],
             [
              0.5555555555555556,
              "#d8576b"
             ],
             [
              0.6666666666666666,
              "#ed7953"
             ],
             [
              0.7777777777777778,
              "#fb9f3a"
             ],
             [
              0.8888888888888888,
              "#fdca26"
             ],
             [
              1,
              "#f0f921"
             ]
            ],
            "type": "contour"
           }
          ],
          "contourcarpet": [
           {
            "colorbar": {
             "outlinewidth": 0,
             "ticks": ""
            },
            "type": "contourcarpet"
           }
          ],
          "heatmap": [
           {
            "colorbar": {
             "outlinewidth": 0,
             "ticks": ""
            },
            "colorscale": [
             [
              0,
              "#0d0887"
             ],
             [
              0.1111111111111111,
              "#46039f"
             ],
             [
              0.2222222222222222,
              "#7201a8"
             ],
             [
              0.3333333333333333,
              "#9c179e"
             ],
             [
              0.4444444444444444,
              "#bd3786"
             ],
             [
              0.5555555555555556,
              "#d8576b"
             ],
             [
              0.6666666666666666,
              "#ed7953"
             ],
             [
              0.7777777777777778,
              "#fb9f3a"
             ],
             [
              0.8888888888888888,
              "#fdca26"
             ],
             [
              1,
              "#f0f921"
             ]
            ],
            "type": "heatmap"
           }
          ],
          "heatmapgl": [
           {
            "colorbar": {
             "outlinewidth": 0,
             "ticks": ""
            },
            "colorscale": [
             [
              0,
              "#0d0887"
             ],
             [
              0.1111111111111111,
              "#46039f"
             ],
             [
              0.2222222222222222,
              "#7201a8"
             ],
             [
              0.3333333333333333,
              "#9c179e"
             ],
             [
              0.4444444444444444,
              "#bd3786"
             ],
             [
              0.5555555555555556,
              "#d8576b"
             ],
             [
              0.6666666666666666,
              "#ed7953"
             ],
             [
              0.7777777777777778,
              "#fb9f3a"
             ],
             [
              0.8888888888888888,
              "#fdca26"
             ],
             [
              1,
              "#f0f921"
             ]
            ],
            "type": "heatmapgl"
           }
          ],
          "histogram": [
           {
            "marker": {
             "pattern": {
              "fillmode": "overlay",
              "size": 10,
              "solidity": 0.2
             }
            },
            "type": "histogram"
           }
          ],
          "histogram2d": [
           {
            "colorbar": {
             "outlinewidth": 0,
             "ticks": ""
            },
            "colorscale": [
             [
              0,
              "#0d0887"
             ],
             [
              0.1111111111111111,
              "#46039f"
             ],
             [
              0.2222222222222222,
              "#7201a8"
             ],
             [
              0.3333333333333333,
              "#9c179e"
             ],
             [
              0.4444444444444444,
              "#bd3786"
             ],
             [
              0.5555555555555556,
              "#d8576b"
             ],
             [
              0.6666666666666666,
              "#ed7953"
             ],
             [
              0.7777777777777778,
              "#fb9f3a"
             ],
             [
              0.8888888888888888,
              "#fdca26"
             ],
             [
              1,
              "#f0f921"
             ]
            ],
            "type": "histogram2d"
           }
          ],
          "histogram2dcontour": [
           {
            "colorbar": {
             "outlinewidth": 0,
             "ticks": ""
            },
            "colorscale": [
             [
              0,
              "#0d0887"
             ],
             [
              0.1111111111111111,
              "#46039f"
             ],
             [
              0.2222222222222222,
              "#7201a8"
             ],
             [
              0.3333333333333333,
              "#9c179e"
             ],
             [
              0.4444444444444444,
              "#bd3786"
             ],
             [
              0.5555555555555556,
              "#d8576b"
             ],
             [
              0.6666666666666666,
              "#ed7953"
             ],
             [
              0.7777777777777778,
              "#fb9f3a"
             ],
             [
              0.8888888888888888,
              "#fdca26"
             ],
             [
              1,
              "#f0f921"
             ]
            ],
            "type": "histogram2dcontour"
           }
          ],
          "mesh3d": [
           {
            "colorbar": {
             "outlinewidth": 0,
             "ticks": ""
            },
            "type": "mesh3d"
           }
          ],
          "parcoords": [
           {
            "line": {
             "colorbar": {
              "outlinewidth": 0,
              "ticks": ""
             }
            },
            "type": "parcoords"
           }
          ],
          "pie": [
           {
            "automargin": true,
            "type": "pie"
           }
          ],
          "scatter": [
           {
            "marker": {
             "colorbar": {
              "outlinewidth": 0,
              "ticks": ""
             }
            },
            "type": "scatter"
           }
          ],
          "scatter3d": [
           {
            "line": {
             "colorbar": {
              "outlinewidth": 0,
              "ticks": ""
             }
            },
            "marker": {
             "colorbar": {
              "outlinewidth": 0,
              "ticks": ""
             }
            },
            "type": "scatter3d"
           }
          ],
          "scattercarpet": [
           {
            "marker": {
             "colorbar": {
              "outlinewidth": 0,
              "ticks": ""
             }
            },
            "type": "scattercarpet"
           }
          ],
          "scattergeo": [
           {
            "marker": {
             "colorbar": {
              "outlinewidth": 0,
              "ticks": ""
             }
            },
            "type": "scattergeo"
           }
          ],
          "scattergl": [
           {
            "marker": {
             "colorbar": {
              "outlinewidth": 0,
              "ticks": ""
             }
            },
            "type": "scattergl"
           }
          ],
          "scattermapbox": [
           {
            "marker": {
             "colorbar": {
              "outlinewidth": 0,
              "ticks": ""
             }
            },
            "type": "scattermapbox"
           }
          ],
          "scatterpolar": [
           {
            "marker": {
             "colorbar": {
              "outlinewidth": 0,
              "ticks": ""
             }
            },
            "type": "scatterpolar"
           }
          ],
          "scatterpolargl": [
           {
            "marker": {
             "colorbar": {
              "outlinewidth": 0,
              "ticks": ""
             }
            },
            "type": "scatterpolargl"
           }
          ],
          "scatterternary": [
           {
            "marker": {
             "colorbar": {
              "outlinewidth": 0,
              "ticks": ""
             }
            },
            "type": "scatterternary"
           }
          ],
          "surface": [
           {
            "colorbar": {
             "outlinewidth": 0,
             "ticks": ""
            },
            "colorscale": [
             [
              0,
              "#0d0887"
             ],
             [
              0.1111111111111111,
              "#46039f"
             ],
             [
              0.2222222222222222,
              "#7201a8"
             ],
             [
              0.3333333333333333,
              "#9c179e"
             ],
             [
              0.4444444444444444,
              "#bd3786"
             ],
             [
              0.5555555555555556,
              "#d8576b"
             ],
             [
              0.6666666666666666,
              "#ed7953"
             ],
             [
              0.7777777777777778,
              "#fb9f3a"
             ],
             [
              0.8888888888888888,
              "#fdca26"
             ],
             [
              1,
              "#f0f921"
             ]
            ],
            "type": "surface"
           }
          ],
          "table": [
           {
            "cells": {
             "fill": {
              "color": "#EBF0F8"
             },
             "line": {
              "color": "white"
             }
            },
            "header": {
             "fill": {
              "color": "#C8D4E3"
             },
             "line": {
              "color": "white"
             }
            },
            "type": "table"
           }
          ]
         },
         "layout": {
          "annotationdefaults": {
           "arrowcolor": "#2a3f5f",
           "arrowhead": 0,
           "arrowwidth": 1
          },
          "autotypenumbers": "strict",
          "coloraxis": {
           "colorbar": {
            "outlinewidth": 0,
            "ticks": ""
           }
          },
          "colorscale": {
           "diverging": [
            [
             0,
             "#8e0152"
            ],
            [
             0.1,
             "#c51b7d"
            ],
            [
             0.2,
             "#de77ae"
            ],
            [
             0.3,
             "#f1b6da"
            ],
            [
             0.4,
             "#fde0ef"
            ],
            [
             0.5,
             "#f7f7f7"
            ],
            [
             0.6,
             "#e6f5d0"
            ],
            [
             0.7,
             "#b8e186"
            ],
            [
             0.8,
             "#7fbc41"
            ],
            [
             0.9,
             "#4d9221"
            ],
            [
             1,
             "#276419"
            ]
           ],
           "sequential": [
            [
             0,
             "#0d0887"
            ],
            [
             0.1111111111111111,
             "#46039f"
            ],
            [
             0.2222222222222222,
             "#7201a8"
            ],
            [
             0.3333333333333333,
             "#9c179e"
            ],
            [
             0.4444444444444444,
             "#bd3786"
            ],
            [
             0.5555555555555556,
             "#d8576b"
            ],
            [
             0.6666666666666666,
             "#ed7953"
            ],
            [
             0.7777777777777778,
             "#fb9f3a"
            ],
            [
             0.8888888888888888,
             "#fdca26"
            ],
            [
             1,
             "#f0f921"
            ]
           ],
           "sequentialminus": [
            [
             0,
             "#0d0887"
            ],
            [
             0.1111111111111111,
             "#46039f"
            ],
            [
             0.2222222222222222,
             "#7201a8"
            ],
            [
             0.3333333333333333,
             "#9c179e"
            ],
            [
             0.4444444444444444,
             "#bd3786"
            ],
            [
             0.5555555555555556,
             "#d8576b"
            ],
            [
             0.6666666666666666,
             "#ed7953"
            ],
            [
             0.7777777777777778,
             "#fb9f3a"
            ],
            [
             0.8888888888888888,
             "#fdca26"
            ],
            [
             1,
             "#f0f921"
            ]
           ]
          },
          "colorway": [
           "#636efa",
           "#EF553B",
           "#00cc96",
           "#ab63fa",
           "#FFA15A",
           "#19d3f3",
           "#FF6692",
           "#B6E880",
           "#FF97FF",
           "#FECB52"
          ],
          "font": {
           "color": "#2a3f5f"
          },
          "geo": {
           "bgcolor": "white",
           "lakecolor": "white",
           "landcolor": "#E5ECF6",
           "showlakes": true,
           "showland": true,
           "subunitcolor": "white"
          },
          "hoverlabel": {
           "align": "left"
          },
          "hovermode": "closest",
          "mapbox": {
           "style": "light"
          },
          "paper_bgcolor": "white",
          "plot_bgcolor": "#E5ECF6",
          "polar": {
           "angularaxis": {
            "gridcolor": "white",
            "linecolor": "white",
            "ticks": ""
           },
           "bgcolor": "#E5ECF6",
           "radialaxis": {
            "gridcolor": "white",
            "linecolor": "white",
            "ticks": ""
           }
          },
          "scene": {
           "xaxis": {
            "backgroundcolor": "#E5ECF6",
            "gridcolor": "white",
            "gridwidth": 2,
            "linecolor": "white",
            "showbackground": true,
            "ticks": "",
            "zerolinecolor": "white"
           },
           "yaxis": {
            "backgroundcolor": "#E5ECF6",
            "gridcolor": "white",
            "gridwidth": 2,
            "linecolor": "white",
            "showbackground": true,
            "ticks": "",
            "zerolinecolor": "white"
           },
           "zaxis": {
            "backgroundcolor": "#E5ECF6",
            "gridcolor": "white",
            "gridwidth": 2,
            "linecolor": "white",
            "showbackground": true,
            "ticks": "",
            "zerolinecolor": "white"
           }
          },
          "shapedefaults": {
           "line": {
            "color": "#2a3f5f"
           }
          },
          "ternary": {
           "aaxis": {
            "gridcolor": "white",
            "linecolor": "white",
            "ticks": ""
           },
           "baxis": {
            "gridcolor": "white",
            "linecolor": "white",
            "ticks": ""
           },
           "bgcolor": "#E5ECF6",
           "caxis": {
            "gridcolor": "white",
            "linecolor": "white",
            "ticks": ""
           }
          },
          "title": {
           "x": 0.05
          },
          "xaxis": {
           "automargin": true,
           "gridcolor": "white",
           "linecolor": "white",
           "ticks": "",
           "title": {
            "standoff": 15
           },
           "zerolinecolor": "white",
           "zerolinewidth": 2
          },
          "yaxis": {
           "automargin": true,
           "gridcolor": "white",
           "linecolor": "white",
           "ticks": "",
           "title": {
            "standoff": 15
           },
           "zerolinecolor": "white",
           "zerolinewidth": 2
          }
         }
        },
        "title": {
         "text": "Matriz de Confusão para o modelo de Random Forest"
        },
        "xaxis": {
         "anchor": "y",
         "constrain": "domain",
         "domain": [
          0,
          1
         ],
         "scaleanchor": "y",
         "title": {
          "text": "Y previsto"
         }
        },
        "yaxis": {
         "anchor": "x",
         "autorange": "reversed",
         "constrain": "domain",
         "domain": [
          0,
          1
         ],
         "title": {
          "text": "Y verdadeiro"
         }
        }
       }
      }
     },
     "metadata": {},
     "output_type": "display_data"
    }
   ],
   "source": [
    "fig = px.imshow(matriz_confusao_trees, labels=dict(x=\"Y previsto\", y=\"Y verdadeiro\", color=\"Quantidade\"),  x = ['a', 'i', 'r', 's'], y = ['a', 'i', 'r', 's'], title = 'Matriz de Confusão para o modelo de Random Forest')\n",
    "fig.show()"
   ]
  },
  {
   "cell_type": "code",
   "execution_count": 336,
   "metadata": {},
   "outputs": [],
   "source": [
    "acuracia_random_forest =  acuracia(matriz_confusao_trees)\n",
    "recall_random_forest =  recall(matriz_confusao_trees)\n",
    "precision_random_forest =  precision(matriz_confusao_trees)"
   ]
  },
  {
   "cell_type": "code",
   "execution_count": 337,
   "metadata": {},
   "outputs": [
    {
     "name": "stdout",
     "output_type": "stream",
     "text": [
      "A acurácia do modelo de Random Forest é 90.44518333795142%\n",
      "\n",
      "\n",
      "A recall do modelo de Random Forest é:\n",
      "92.55161023947151% para as contas tipo \"a\"\n",
      "94.55370650529501% para as contas tipo \"i\"\n",
      "77.935806265616% para as contas tipo \"r\"\n",
      "96.43696162881754% para as contas tipo \"s\"\n",
      "\n",
      "\n",
      "A precision do modelo de Random Forest é:\n",
      "92.88910989557434% para as contas tipo \"a\"\n",
      "94.39305267132339% para as contas tipo \"i\"\n",
      "81.90264593011513% para as contas tipo \"r\"\n",
      "91.68062534896706% para as contas tipo \"s\"\n"
     ]
    }
   ],
   "source": [
    "\n",
    "print(f'A acurácia do modelo de Random Forest é {acuracia_random_forest*100}%')\n",
    "print('\\n')\n",
    "print(f'A recall do modelo de Random Forest é:')\n",
    "print(f'{recall_random_forest[0]*100}% para as contas tipo \"a\"')\n",
    "print(f'{recall_random_forest[1]*100}% para as contas tipo \"i\"')\n",
    "print(f'{recall_random_forest[2]*100}% para as contas tipo \"r\"')\n",
    "print(f'{recall_random_forest[3]*100}% para as contas tipo \"s\"')\n",
    "print('\\n')\n",
    "print(f'A precision do modelo de Random Forest é:')\n",
    "print(f'{precision_random_forest[0]*100}% para as contas tipo \"a\"')\n",
    "print(f'{precision_random_forest[1]*100}% para as contas tipo \"i\"')\n",
    "print(f'{precision_random_forest[2]*100}% para as contas tipo \"r\"')\n",
    "print(f'{precision_random_forest[3]*100}% para as contas tipo \"s\"')\n"
   ]
  },
  {
   "cell_type": "markdown",
   "metadata": {},
   "source": [
    "## Comparação de métricas"
   ]
  },
  {
   "cell_type": "code",
   "execution_count": 338,
   "metadata": {},
   "outputs": [
    {
     "data": {
      "text/html": [
       "<style  type=\"text/css\" >\n",
       "</style><table id=\"T_e23d4_\" ><thead>    <tr>        <th class=\"col_heading level0 col0\" ></th>        <th class=\"col_heading level0 col1\" >Decision Tree</th>        <th class=\"col_heading level0 col2\" >Random Forest</th>    </tr></thead><tbody>\n",
       "                <tr>\n",
       "                                <td id=\"T_e23d4_row0_col0\" class=\"data row0 col0\" >Acurácia/Score</td>\n",
       "                        <td id=\"T_e23d4_row0_col1\" class=\"data row0 col1\" >0.705228</td>\n",
       "                        <td id=\"T_e23d4_row0_col2\" class=\"data row0 col2\" >0.904452</td>\n",
       "            </tr>\n",
       "            <tr>\n",
       "                                <td id=\"T_e23d4_row1_col0\" class=\"data row1 col0\" >Sensibilidade/Recall para as classes:</td>\n",
       "                        <td id=\"T_e23d4_row1_col1\" class=\"data row1 col1\" ></td>\n",
       "                        <td id=\"T_e23d4_row1_col2\" class=\"data row1 col2\" ></td>\n",
       "            </tr>\n",
       "            <tr>\n",
       "                                <td id=\"T_e23d4_row2_col0\" class=\"data row2 col0\" >a</td>\n",
       "                        <td id=\"T_e23d4_row2_col1\" class=\"data row2 col1\" >0.771924</td>\n",
       "                        <td id=\"T_e23d4_row2_col2\" class=\"data row2 col2\" >0.925516</td>\n",
       "            </tr>\n",
       "            <tr>\n",
       "                                <td id=\"T_e23d4_row3_col0\" class=\"data row3 col0\" >i</td>\n",
       "                        <td id=\"T_e23d4_row3_col1\" class=\"data row3 col1\" >0.668873</td>\n",
       "                        <td id=\"T_e23d4_row3_col2\" class=\"data row3 col2\" >0.945537</td>\n",
       "            </tr>\n",
       "            <tr>\n",
       "                                <td id=\"T_e23d4_row4_col0\" class=\"data row4 col0\" >r</td>\n",
       "                        <td id=\"T_e23d4_row4_col1\" class=\"data row4 col1\" >0.667500</td>\n",
       "                        <td id=\"T_e23d4_row4_col2\" class=\"data row4 col2\" >0.779358</td>\n",
       "            </tr>\n",
       "            <tr>\n",
       "                                <td id=\"T_e23d4_row5_col0\" class=\"data row5 col0\" >s</td>\n",
       "                        <td id=\"T_e23d4_row5_col1\" class=\"data row5 col1\" >0.702232</td>\n",
       "                        <td id=\"T_e23d4_row5_col2\" class=\"data row5 col2\" >0.964370</td>\n",
       "            </tr>\n",
       "            <tr>\n",
       "                                <td id=\"T_e23d4_row6_col0\" class=\"data row6 col0\" >Precision para as classes:</td>\n",
       "                        <td id=\"T_e23d4_row6_col1\" class=\"data row6 col1\" ></td>\n",
       "                        <td id=\"T_e23d4_row6_col2\" class=\"data row6 col2\" ></td>\n",
       "            </tr>\n",
       "            <tr>\n",
       "                                <td id=\"T_e23d4_row7_col0\" class=\"data row7 col0\" >a</td>\n",
       "                        <td id=\"T_e23d4_row7_col1\" class=\"data row7 col1\" >0.631451</td>\n",
       "                        <td id=\"T_e23d4_row7_col2\" class=\"data row7 col2\" >0.928891</td>\n",
       "            </tr>\n",
       "            <tr>\n",
       "                                <td id=\"T_e23d4_row8_col0\" class=\"data row8 col0\" >i</td>\n",
       "                        <td id=\"T_e23d4_row8_col1\" class=\"data row8 col1\" >0.951062</td>\n",
       "                        <td id=\"T_e23d4_row8_col2\" class=\"data row8 col2\" >0.943931</td>\n",
       "            </tr>\n",
       "            <tr>\n",
       "                                <td id=\"T_e23d4_row9_col0\" class=\"data row9 col0\" >r</td>\n",
       "                        <td id=\"T_e23d4_row9_col1\" class=\"data row9 col1\" >0.571123</td>\n",
       "                        <td id=\"T_e23d4_row9_col2\" class=\"data row9 col2\" >0.819026</td>\n",
       "            </tr>\n",
       "            <tr>\n",
       "                                <td id=\"T_e23d4_row10_col0\" class=\"data row10 col0\" >s</td>\n",
       "                        <td id=\"T_e23d4_row10_col1\" class=\"data row10 col1\" >0.805705</td>\n",
       "                        <td id=\"T_e23d4_row10_col2\" class=\"data row10 col2\" >0.916806</td>\n",
       "            </tr>\n",
       "    </tbody></table>"
      ],
      "text/plain": [
       "<pandas.io.formats.style.Styler at 0x22268ab63c8>"
      ]
     },
     "execution_count": 338,
     "metadata": {},
     "output_type": "execute_result"
    }
   ],
   "source": [
    "d2 = {'': ['Acurácia/Score', 'Sensibilidade/Recall para as classes:', 'a', 'i', 'r', 's','Precision para as classes:', 'a', 'i', 'r', 's'], 'Decision Tree': [acuracia_decision_tree, '', recall_decision_tree[0], recall_decision_tree[1], recall_decision_tree[2], recall_decision_tree[3], '', precision_decision_tree[0], precision_decision_tree[1], precision_decision_tree[2], precision_decision_tree[3]], 'Random Forest': [acuracia_random_forest, '', recall_random_forest[0], recall_random_forest[1], recall_random_forest[2], recall_random_forest[3], '', precision_random_forest[0], precision_random_forest[1], precision_random_forest[2], precision_random_forest[3]]}\n",
    "df2 = pd.DataFrame(data=d2)\n",
    "pd.set_option('display.max_colwidth', None)\n",
    "df2.style.hide_index()"
   ]
  },
  {
   "cell_type": "markdown",
   "metadata": {},
   "source": [
    "## Cross Validation"
   ]
  },
  {
   "cell_type": "code",
   "execution_count": 339,
   "metadata": {},
   "outputs": [],
   "source": [
    "##Fez o processo de Validação Cruzada, calculou a performance média e desvio padrão para treinamento e teste. Discutiu com riqueza de detalhes\n",
    "# ! Não entendi o processo de performance média e desvio padrão \n",
    "#print(cross_val_score(decision_tree, Xval, Yval, cv = 10))  -> feito em aula\n",
    "#! pesquisar sobre 10-fold cross validation\n",
    "#! ou fazer como o projeto 1 de repitir o treinamento e teste várias vezes. Aí vc guarda em uma lista a acuracia e depois vê média e desvio padrão disso"
   ]
  },
  {
   "cell_type": "markdown",
   "metadata": {},
   "source": [
    "## ROC e AUC"
   ]
  },
  {
   "cell_type": "markdown",
   "metadata": {},
   "source": [
    "Receiver Operating Characteristics (ROC) e Area Under the Curve (AUC) são duas métricas muito utilizadas para modelos de classificação. O cálculo dessas métricas funcionam de forma muito semelhante a matriz de confusão. Você podê fazê-lo ao plotar a sensibilidade — a taxa de Verdadeiro Positivo — e (1-especificidade) — a taxa de Falso Positivo. Além disso, você deve passar mais um parâmetro, que podemos chamar de Threshold ou T parameter. Esse parâmetro pode ser imputado, onde geralmente é escolhido um valor de 0,5.  \n",
    "\n",
    "<img src='img/roc.png'>  \n",
    "  \n",
    "Quanto mais alto e mais distante da linha diagonal a sua curva estiver, melhor. Caso fique difícil para diferenciarmos a curva ROC visualizando esse gráfico acima, nós podemos transformá-lo em um número único: esse número é a Area Under the Curve (Área Sob a Curva).\n",
    "  \n",
    "Area Under the ROC Curve é um número de 0 a 1 que mostra como seu modelo está performando ao utilizar como base para o cálculo a Taxa de Falso Positivo, a Taxa de Verdadeiro Positivo e o Threshold que você definiu, e interpretá-lo é fácil: quanto mais próximo de 1 esse número estiver, melhor.  \n",
    "(Texto tirado do [artigo](https://paulovasconcellos.com.br/como-saber-se-seu-modelo-de-machine-learning-está-funcionando-mesmo-a5892f6468b))"
   ]
  },
  {
   "cell_type": "markdown",
   "metadata": {},
   "source": [
    "### Decision Tree"
   ]
  },
  {
   "cell_type": "code",
   "execution_count": 340,
   "metadata": {},
   "outputs": [
    {
     "name": "stdout",
     "output_type": "stream",
     "text": [
      "AUC do modelo de Random Forest: 0.6547508344368596\n"
     ]
    }
   ],
   "source": [
    "fprpred, tprpred, thresholds = roc_curve(Yval, Y_pred_decision, pos_label=2)\n",
    "print(f'AUC do modelo de Random Forest: {auc(fprpred, tprpred)}')"
   ]
  },
  {
   "cell_type": "markdown",
   "metadata": {},
   "source": [
    "### Random Forest"
   ]
  },
  {
   "cell_type": "code",
   "execution_count": 341,
   "metadata": {},
   "outputs": [
    {
     "name": "stdout",
     "output_type": "stream",
     "text": [
      "AUC do modelo de Random Forest: 0.638459330466975\n"
     ]
    }
   ],
   "source": [
    "fprrand, tprrand, thresholds = roc_curve(Yval, Y_pred_trees, pos_label=2)\n",
    "print(f'AUC do modelo de Random Forest: {auc(fprrand, tprrand)}')"
   ]
  },
  {
   "cell_type": "markdown",
   "metadata": {},
   "source": [
    "## E. Conclusão  \n",
    "    Faça conclusão final com detalhes levando em consideração todas as\n",
    "    interpretações realizadas no decorrer do projeto."
   ]
  },
  {
   "cell_type": "markdown",
   "metadata": {},
   "source": [
    "## F. Referências Bibliográficas    \n",
    "\n",
    "<div id=\"bibliografia\"></div>  \n",
    "\n",
    "- [Modelos de Predição | Decision Tree](https://medium.com/turing-talks/turing-talks-17-modelos-de-predição-decision-tree-610aa484cb05)\n",
    "- [Random Forest: como funciona um dos algoritmos mais populares de ML](https://medium.com/cinthiabpessanha/random-forest-como-funciona-um-dos-algoritmos-mais-populares-de-ml-cc1b8a58b3b4)\n",
    "- [Como saber se seu modelo de Machine Learning está funcionando mesmo](https://paulovasconcellos.com.br/como-saber-se-seu-modelo-de-machine-learning-está-funcionando-mesmo-a5892f6468b)"
   ]
  }
 ],
 "metadata": {
  "interpreter": {
   "hash": "b8480431bb365df6bcb1c44b7387c7b698c6b108659e761b6ab654603c809c5e"
  },
  "kernelspec": {
   "display_name": "Python 3.8.5 64-bit ('base': conda)",
   "language": "python",
   "name": "python3"
  },
  "language_info": {
   "codemirror_mode": {
    "name": "ipython",
    "version": 3
   },
   "file_extension": ".py",
   "mimetype": "text/x-python",
   "name": "python",
   "nbconvert_exporter": "python",
   "pygments_lexer": "ipython3",
   "version": "3.7.2"
  },
  "orig_nbformat": 4
 },
 "nbformat": 4,
 "nbformat_minor": 2
}

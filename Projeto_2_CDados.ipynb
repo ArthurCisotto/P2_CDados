{
 "cells": [
  {
   "cell_type": "markdown",
   "metadata": {},
   "source": [
    "# Projeto 2 - Ciência dos Dados"
   ]
  },
  {
   "cell_type": "markdown",
   "metadata": {},
   "source": [
    "### Turma A\n",
    "\n",
    "**Membros:**\n",
    "-\n",
    "+ Alessandra Yumi Carvalho Ogawa\n",
    "+ André Brito\n",
    "+ Arthur Cisotto Machado\n",
    "+ Camila Bernardi Moniz\n"
   ]
  },
  {
   "cell_type": "markdown",
   "metadata": {},
   "source": [
    "### Importando as Bibliotecas Necessárias para a execução do trabalho"
   ]
  },
  {
   "cell_type": "code",
   "execution_count": 3,
   "metadata": {},
   "outputs": [],
   "source": [
    "%matplotlib inline\n",
    "import pandas as pd\n",
    "import matplotlib.pyplot as plt\n",
    "from scipy import stats \n",
    "import itertools\n",
    "import plotly.express as px\n",
    "import seaborn as sns\n",
    "import numpy as np\n",
    "import os\n",
    "import re\n",
    "from sklearn import tree\n",
    "from sklearn.model_selection import train_test_split\n",
    "from sklearn.ensemble import RandomForestClassifier\n",
    "from sklearn.model_selection import cross_val_score\n",
    "from sklearn.metrics import accuracy_score\n",
    "from sklearn.preprocessing import LabelEncoder\n",
    "from sklearn.metrics import confusion_matrix\n",
    "from sklearn.model_selection import cross_validate\n",
    "from sklearn.metrics import confusion_matrix\n",
    "from sklearn.metrics import roc_curve\n",
    "from sklearn.metrics import auc\n",
    "from sklearn.preprocessing import label_binarize\n",
    "from sklearn.neighbors import KNeighborsClassifier\n",
    "from sklearn.tree import plot_tree"
   ]
  },
  {
   "cell_type": "markdown",
   "metadata": {},
   "source": [
    "## A. Introdução  \n",
    "A teoria da comunicação possui raízes clássicas na história das idéias.Se a filosofia tradicionalmente debate a produção do conhecimento humano da realidade, a teoria da comunicação dedica-se à mídia, modalidades e mensagens em que humanos trocam, refletem e ordenam diferentes perspectivas dessa realidade. Revisando certas questões epistemológicas, éticas e políticas, enquanto responde à crescente influência da informação e tecnologias da comunicação na sociedade e na cultura no século XX.A primeira rede social surgiu em 1995 nos Estados Unidos e Canadá, chamada Classmates, com o objetivo de conectar estudantes da faculdade.A partir de então, as redes sociais tomaram espaço na vida das pessoas facilitando a comunicação social e reduzindo distâncias kilométricas a um único \"click\".Entretanto, apesar dos benefícios, a expansão das redes sociais colaborou com o crescimento de \"fake news\" e criou os chamados \"perfis fakes\", perfis usados na Internet que ocultam a identidade real de um usuário.Entre outros, a popularização da criação desses tipos de perfis, seja para marketing, anonimidade ou fã clubes, instigou a criação de ferramentas para desvendar as pessoas ou grupos por trás das telas, assim as investigações vão da especialização de detetives virtuais até a criação  de programas de TV como \"Catfish: The Show\", um programa que se dedica a analisar o mundo dos relacionamentos virtuais repletos de ilusões e mentiras causados por um \"Catfish\", o qual é um termo usado para se referir a pessoas que criam perfis falsos na Internet para enganar usuários emocionalmente e/ou financeiramente.\n"
   ]
  },
  {
   "cell_type": "markdown",
   "metadata": {},
   "source": [
    "<img src= \"img/instagram3.png\" widht= \"500\" height=\"500\" >"
   ]
  },
  {
   "cell_type": "markdown",
   "metadata": {},
   "source": [
    "A rede Instagram foi criado em 6 de outubro de 2010 por Kevin Systrom e pelo brasileiro Mike Krieger em 2010. E em pouco tempo tornou-se um destaque na App Store.Atualmente, segundo estatísticas da Shopify o Brasil tem cerca de 99 milhões de usuários ativos no Instagram e em 2020 bateu a marca de 1 bilhão de usuários ativos mundialmente.\n",
    "Assim, com um crescimento exponencial de acessos, o Instagram também sofreu com o aumento de contas fakes. Nesse contexto, com o intuito de detectar e distinguir os diferentes tipo de usuários fakes na rede Instagram, os alunos de Cdados da turma A se propuseram a responder a seguinte pergunta: seria possível prever se um usuário é \"fake\" ($target$) e, ainda, classifica-lo dentre tipos específicos de usuários fake (spam,inativos e ativos) , a partir de uma análise de suas características ($features$)?.\n",
    "Para esse objetivo contamos com uma vasta gama de dados de usuários do Instagram e esperamos encontrar uma maneira de revelar a realidade por trás dos perfis, o qual no fim será posta a prova a partir de uma série de testes de acurácia em cima do modelo preditivo."
   ]
  },
  {
   "cell_type": "markdown",
   "metadata": {},
   "source": [
    "<img src=\"img/fake.png\" widht=\"500\" height=\"500\">"
   ]
  },
  {
   "cell_type": "markdown",
   "metadata": {},
   "source": [
    "## B. Minerando Dados e Características do Dataset  "
   ]
  },
  {
   "cell_type": "markdown",
   "metadata": {},
   "source": [
    "Nesta área do projeto nós faremos a análise exploratória do dados, avaliando a correlação entre as _features_ e elas mesmas e em seguida entre as _features_ e a _target_. "
   ]
  },
  {
   "cell_type": "markdown",
   "metadata": {},
   "source": [
    "### Importando o Dataset"
   ]
  },
  {
   "cell_type": "code",
   "execution_count": 4,
   "metadata": {},
   "outputs": [
    {
     "data": {
      "text/html": [
       "<div>\n",
       "<style scoped>\n",
       "    .dataframe tbody tr th:only-of-type {\n",
       "        vertical-align: middle;\n",
       "    }\n",
       "\n",
       "    .dataframe tbody tr th {\n",
       "        vertical-align: top;\n",
       "    }\n",
       "\n",
       "    .dataframe thead th {\n",
       "        text-align: right;\n",
       "    }\n",
       "</style>\n",
       "<table border=\"1\" class=\"dataframe\">\n",
       "  <thead>\n",
       "    <tr style=\"text-align: right;\">\n",
       "      <th></th>\n",
       "      <th>pos</th>\n",
       "      <th>flw</th>\n",
       "      <th>flg</th>\n",
       "      <th>bl</th>\n",
       "      <th>pic</th>\n",
       "      <th>lin</th>\n",
       "      <th>cl</th>\n",
       "      <th>cz</th>\n",
       "      <th>ni</th>\n",
       "      <th>erl</th>\n",
       "      <th>erc</th>\n",
       "      <th>lt</th>\n",
       "      <th>hc</th>\n",
       "      <th>pr</th>\n",
       "      <th>fo</th>\n",
       "      <th>cs</th>\n",
       "      <th>pi</th>\n",
       "      <th>class</th>\n",
       "    </tr>\n",
       "  </thead>\n",
       "  <tbody>\n",
       "    <tr>\n",
       "      <th>0</th>\n",
       "      <td>69</td>\n",
       "      <td>541</td>\n",
       "      <td>440</td>\n",
       "      <td>293</td>\n",
       "      <td>1</td>\n",
       "      <td>0</td>\n",
       "      <td>223</td>\n",
       "      <td>0.000000</td>\n",
       "      <td>0.111</td>\n",
       "      <td>10.120000</td>\n",
       "      <td>0.50</td>\n",
       "      <td>0.944</td>\n",
       "      <td>0.556</td>\n",
       "      <td>0.0</td>\n",
       "      <td>0.000</td>\n",
       "      <td>0.107055</td>\n",
       "      <td>334.596802</td>\n",
       "      <td>r</td>\n",
       "    </tr>\n",
       "    <tr>\n",
       "      <th>1</th>\n",
       "      <td>9</td>\n",
       "      <td>783</td>\n",
       "      <td>803</td>\n",
       "      <td>76</td>\n",
       "      <td>1</td>\n",
       "      <td>0</td>\n",
       "      <td>101</td>\n",
       "      <td>0.000000</td>\n",
       "      <td>0.000</td>\n",
       "      <td>19.820000</td>\n",
       "      <td>1.99</td>\n",
       "      <td>0.889</td>\n",
       "      <td>0.222</td>\n",
       "      <td>0.0</td>\n",
       "      <td>0.000</td>\n",
       "      <td>0.007400</td>\n",
       "      <td>2137.979248</td>\n",
       "      <td>r</td>\n",
       "    </tr>\n",
       "    <tr>\n",
       "      <th>2</th>\n",
       "      <td>390</td>\n",
       "      <td>1200</td>\n",
       "      <td>925</td>\n",
       "      <td>103</td>\n",
       "      <td>1</td>\n",
       "      <td>0</td>\n",
       "      <td>723</td>\n",
       "      <td>0.000000</td>\n",
       "      <td>0.000</td>\n",
       "      <td>11.540000</td>\n",
       "      <td>0.76</td>\n",
       "      <td>1.000</td>\n",
       "      <td>2.389</td>\n",
       "      <td>0.0</td>\n",
       "      <td>0.000</td>\n",
       "      <td>0.221954</td>\n",
       "      <td>96.244957</td>\n",
       "      <td>r</td>\n",
       "    </tr>\n",
       "    <tr>\n",
       "      <th>3</th>\n",
       "      <td>138</td>\n",
       "      <td>1100</td>\n",
       "      <td>1000</td>\n",
       "      <td>40</td>\n",
       "      <td>1</td>\n",
       "      <td>0</td>\n",
       "      <td>24</td>\n",
       "      <td>0.166667</td>\n",
       "      <td>0.167</td>\n",
       "      <td>20.440001</td>\n",
       "      <td>1.61</td>\n",
       "      <td>0.833</td>\n",
       "      <td>0.111</td>\n",
       "      <td>0.0</td>\n",
       "      <td>0.000</td>\n",
       "      <td>0.025055</td>\n",
       "      <td>226.622437</td>\n",
       "      <td>r</td>\n",
       "    </tr>\n",
       "    <tr>\n",
       "      <th>4</th>\n",
       "      <td>1</td>\n",
       "      <td>228</td>\n",
       "      <td>487</td>\n",
       "      <td>84</td>\n",
       "      <td>1</td>\n",
       "      <td>0</td>\n",
       "      <td>30</td>\n",
       "      <td>0.000000</td>\n",
       "      <td>0.000</td>\n",
       "      <td>9.210000</td>\n",
       "      <td>1.75</td>\n",
       "      <td>1.000</td>\n",
       "      <td>0.000</td>\n",
       "      <td>0.0</td>\n",
       "      <td>0.000</td>\n",
       "      <td>0.000000</td>\n",
       "      <td>0.000000</td>\n",
       "      <td>r</td>\n",
       "    </tr>\n",
       "    <tr>\n",
       "      <th>5</th>\n",
       "      <td>17</td>\n",
       "      <td>358</td>\n",
       "      <td>298</td>\n",
       "      <td>374</td>\n",
       "      <td>1</td>\n",
       "      <td>0</td>\n",
       "      <td>122</td>\n",
       "      <td>0.000000</td>\n",
       "      <td>0.176</td>\n",
       "      <td>20.510000</td>\n",
       "      <td>1.20</td>\n",
       "      <td>0.824</td>\n",
       "      <td>0.824</td>\n",
       "      <td>0.0</td>\n",
       "      <td>0.000</td>\n",
       "      <td>0.029504</td>\n",
       "      <td>1249.813965</td>\n",
       "      <td>r</td>\n",
       "    </tr>\n",
       "    <tr>\n",
       "      <th>6</th>\n",
       "      <td>25</td>\n",
       "      <td>1100</td>\n",
       "      <td>1400</td>\n",
       "      <td>16</td>\n",
       "      <td>1</td>\n",
       "      <td>0</td>\n",
       "      <td>68</td>\n",
       "      <td>0.000000</td>\n",
       "      <td>0.111</td>\n",
       "      <td>9.120000</td>\n",
       "      <td>0.71</td>\n",
       "      <td>0.778</td>\n",
       "      <td>0.667</td>\n",
       "      <td>0.0</td>\n",
       "      <td>0.056</td>\n",
       "      <td>0.013411</td>\n",
       "      <td>1088.083862</td>\n",
       "      <td>r</td>\n",
       "    </tr>\n",
       "    <tr>\n",
       "      <th>7</th>\n",
       "      <td>77</td>\n",
       "      <td>259</td>\n",
       "      <td>2800</td>\n",
       "      <td>15</td>\n",
       "      <td>1</td>\n",
       "      <td>0</td>\n",
       "      <td>9</td>\n",
       "      <td>0.500000</td>\n",
       "      <td>0.000</td>\n",
       "      <td>13.730000</td>\n",
       "      <td>0.86</td>\n",
       "      <td>0.833</td>\n",
       "      <td>0.000</td>\n",
       "      <td>0.0</td>\n",
       "      <td>0.000</td>\n",
       "      <td>0.235294</td>\n",
       "      <td>159.321838</td>\n",
       "      <td>r</td>\n",
       "    </tr>\n",
       "    <tr>\n",
       "      <th>8</th>\n",
       "      <td>16</td>\n",
       "      <td>157</td>\n",
       "      <td>226</td>\n",
       "      <td>233</td>\n",
       "      <td>1</td>\n",
       "      <td>0</td>\n",
       "      <td>10</td>\n",
       "      <td>0.125000</td>\n",
       "      <td>0.000</td>\n",
       "      <td>24.920000</td>\n",
       "      <td>1.27</td>\n",
       "      <td>0.875</td>\n",
       "      <td>0.000</td>\n",
       "      <td>0.0</td>\n",
       "      <td>0.063</td>\n",
       "      <td>0.000000</td>\n",
       "      <td>1160.965820</td>\n",
       "      <td>r</td>\n",
       "    </tr>\n",
       "    <tr>\n",
       "      <th>9</th>\n",
       "      <td>195</td>\n",
       "      <td>717</td>\n",
       "      <td>475</td>\n",
       "      <td>118</td>\n",
       "      <td>1</td>\n",
       "      <td>0</td>\n",
       "      <td>14</td>\n",
       "      <td>0.444444</td>\n",
       "      <td>0.056</td>\n",
       "      <td>9.950000</td>\n",
       "      <td>0.96</td>\n",
       "      <td>0.944</td>\n",
       "      <td>0.111</td>\n",
       "      <td>0.0</td>\n",
       "      <td>0.000</td>\n",
       "      <td>0.191383</td>\n",
       "      <td>847.155212</td>\n",
       "      <td>r</td>\n",
       "    </tr>\n",
       "  </tbody>\n",
       "</table>\n",
       "</div>"
      ],
      "text/plain": [
       "   pos   flw   flg   bl  pic  lin   cl        cz     ni        erl   erc  \\\n",
       "0   69   541   440  293    1    0  223  0.000000  0.111  10.120000  0.50   \n",
       "1    9   783   803   76    1    0  101  0.000000  0.000  19.820000  1.99   \n",
       "2  390  1200   925  103    1    0  723  0.000000  0.000  11.540000  0.76   \n",
       "3  138  1100  1000   40    1    0   24  0.166667  0.167  20.440001  1.61   \n",
       "4    1   228   487   84    1    0   30  0.000000  0.000   9.210000  1.75   \n",
       "5   17   358   298  374    1    0  122  0.000000  0.176  20.510000  1.20   \n",
       "6   25  1100  1400   16    1    0   68  0.000000  0.111   9.120000  0.71   \n",
       "7   77   259  2800   15    1    0    9  0.500000  0.000  13.730000  0.86   \n",
       "8   16   157   226  233    1    0   10  0.125000  0.000  24.920000  1.27   \n",
       "9  195   717   475  118    1    0   14  0.444444  0.056   9.950000  0.96   \n",
       "\n",
       "      lt     hc   pr     fo        cs           pi class  \n",
       "0  0.944  0.556  0.0  0.000  0.107055   334.596802     r  \n",
       "1  0.889  0.222  0.0  0.000  0.007400  2137.979248     r  \n",
       "2  1.000  2.389  0.0  0.000  0.221954    96.244957     r  \n",
       "3  0.833  0.111  0.0  0.000  0.025055   226.622437     r  \n",
       "4  1.000  0.000  0.0  0.000  0.000000     0.000000     r  \n",
       "5  0.824  0.824  0.0  0.000  0.029504  1249.813965     r  \n",
       "6  0.778  0.667  0.0  0.056  0.013411  1088.083862     r  \n",
       "7  0.833  0.000  0.0  0.000  0.235294   159.321838     r  \n",
       "8  0.875  0.000  0.0  0.063  0.000000  1160.965820     r  \n",
       "9  0.944  0.111  0.0  0.000  0.191383   847.155212     r  "
      ]
     },
     "execution_count": 4,
     "metadata": {},
     "output_type": "execute_result"
    }
   ],
   "source": [
    "data = pd.read_csv('user_fake_authentic_4class.csv')\n",
    "data.head(10)"
   ]
  },
  {
   "cell_type": "markdown",
   "metadata": {},
   "source": [
    "### Legenda do Dataset:  \n",
    "Explicação do significado de cada uma das _features_."
   ]
  },
  {
   "cell_type": "code",
   "execution_count": 5,
   "metadata": {},
   "outputs": [
    {
     "data": {
      "text/html": [
       "<style  type=\"text/css\" >\n",
       "</style><table id=\"T_71374_\" ><thead>    <tr>        <th class=\"col_heading level0 col0\" >Nome da Variável</th>        <th class=\"col_heading level0 col1\" >Nome da Feature</th>        <th class=\"col_heading level0 col2\" >Descrição</th>    </tr></thead><tbody>\n",
       "                <tr>\n",
       "                                <td id=\"T_71374_row0_col0\" class=\"data row0 col0\" >pos</td>\n",
       "                        <td id=\"T_71374_row0_col1\" class=\"data row0 col1\" >Número de posts</td>\n",
       "                        <td id=\"T_71374_row0_col2\" class=\"data row0 col2\" >Número total de posts que o usuário já fez</td>\n",
       "            </tr>\n",
       "            <tr>\n",
       "                                <td id=\"T_71374_row1_col0\" class=\"data row1 col0\" >flw</td>\n",
       "                        <td id=\"T_71374_row1_col1\" class=\"data row1 col1\" >Número de seguidores</td>\n",
       "                        <td id=\"T_71374_row1_col2\" class=\"data row1 col2\" >Número de seguidores</td>\n",
       "            </tr>\n",
       "            <tr>\n",
       "                                <td id=\"T_71374_row2_col0\" class=\"data row2 col0\" >flg</td>\n",
       "                        <td id=\"T_71374_row2_col1\" class=\"data row2 col1\" >Número contas seguindo</td>\n",
       "                        <td id=\"T_71374_row2_col2\" class=\"data row2 col2\" >Número de contas que o usuário segue</td>\n",
       "            </tr>\n",
       "            <tr>\n",
       "                                <td id=\"T_71374_row3_col0\" class=\"data row3 col0\" >bl</td>\n",
       "                        <td id=\"T_71374_row3_col1\" class=\"data row3 col1\" >Tamanho da Biografia</td>\n",
       "                        <td id=\"T_71374_row3_col2\" class=\"data row3 col2\" >Número de caracteres da biografia do usuário</td>\n",
       "            </tr>\n",
       "            <tr>\n",
       "                                <td id=\"T_71374_row4_col0\" class=\"data row4 col0\" >pic</td>\n",
       "                        <td id=\"T_71374_row4_col1\" class=\"data row4 col1\" >Disponibilidade de Foto</td>\n",
       "                        <td id=\"T_71374_row4_col2\" class=\"data row4 col2\" >Valor 0 se o usuário não tem foto de perfil, 1 caso contrário</td>\n",
       "            </tr>\n",
       "            <tr>\n",
       "                                <td id=\"T_71374_row5_col0\" class=\"data row5 col0\" >lin</td>\n",
       "                        <td id=\"T_71374_row5_col1\" class=\"data row5 col1\" >Disponibilidade de Link</td>\n",
       "                        <td id=\"T_71374_row5_col2\" class=\"data row5 col2\" >Valor 0 se o usuário não tem Link externo no perfil, 1 caso contrário</td>\n",
       "            </tr>\n",
       "            <tr>\n",
       "                                <td id=\"T_71374_row6_col0\" class=\"data row6 col0\" >cl</td>\n",
       "                        <td id=\"T_71374_row6_col1\" class=\"data row6 col1\" >Tamanho médio da Legenda</td>\n",
       "                        <td id=\"T_71374_row6_col2\" class=\"data row6 col2\" >Número médio de caracteres nas legendas dos posts do usuário</td>\n",
       "            </tr>\n",
       "            <tr>\n",
       "                                <td id=\"T_71374_row7_col0\" class=\"data row7 col0\" >cz</td>\n",
       "                        <td id=\"T_71374_row7_col1\" class=\"data row7 col1\" >Legenda Zero</td>\n",
       "                        <td id=\"T_71374_row7_col2\" class=\"data row7 col2\" >Porcentagem (0.0 a 1.0) de legendas que possuem quase 0 (<=3) caracteres</td>\n",
       "            </tr>\n",
       "            <tr>\n",
       "                                <td id=\"T_71374_row8_col0\" class=\"data row8 col0\" >ni</td>\n",
       "                        <td id=\"T_71374_row8_col1\" class=\"data row8 col1\" >Porcentagem Sem Imagem</td>\n",
       "                        <td id=\"T_71374_row8_col2\" class=\"data row8 col2\" >Porcentagem (0.0 a 1.0) de posts que não são do tipo imagem (Existem 3 tipos de mídia em um post no Instagram, imagem, vídeo e carrosel)</td>\n",
       "            </tr>\n",
       "            <tr>\n",
       "                                <td id=\"T_71374_row9_col0\" class=\"data row9 col0\" >erl</td>\n",
       "                        <td id=\"T_71374_row9_col1\" class=\"data row9 col1\" >Taxa de Engajamento (Like)</td>\n",
       "                        <td id=\"T_71374_row9_col2\" class=\"data row9 col2\" >Número de Likes dividido pelo Número de Seguidores</td>\n",
       "            </tr>\n",
       "            <tr>\n",
       "                                <td id=\"T_71374_row10_col0\" class=\"data row10 col0\" >erc</td>\n",
       "                        <td id=\"T_71374_row10_col1\" class=\"data row10 col1\" >Taxa de Engajamento (Comentário)</td>\n",
       "                        <td id=\"T_71374_row10_col2\" class=\"data row10 col2\" >Número de Comentários dividiodo pelo Número de Seguidores</td>\n",
       "            </tr>\n",
       "            <tr>\n",
       "                                <td id=\"T_71374_row11_col0\" class=\"data row11 col0\" >lt</td>\n",
       "                        <td id=\"T_71374_row11_col1\" class=\"data row11 col1\" >Porcentagem de Localização</td>\n",
       "                        <td id=\"T_71374_row11_col2\" class=\"data row11 col2\" >Porcentagem (0.0 a 1.0) de posts com tag de localização</td>\n",
       "            </tr>\n",
       "            <tr>\n",
       "                                <td id=\"T_71374_row12_col0\" class=\"data row12 col0\" >hc</td>\n",
       "                        <td id=\"T_71374_row12_col1\" class=\"data row12 col1\" >Média de uso de Hashtags</td>\n",
       "                        <td id=\"T_71374_row12_col2\" class=\"data row12 col2\" >Número médio de hashtags usadas em um post</td>\n",
       "            </tr>\n",
       "            <tr>\n",
       "                                <td id=\"T_71374_row13_col0\" class=\"data row13 col0\" >pr</td>\n",
       "                        <td id=\"T_71374_row13_col1\" class=\"data row13 col1\" >Palavras-Chave Promocionais</td>\n",
       "                        <td id=\"T_71374_row13_col2\" class=\"data row13 col2\" >Número médio de palavras-chave promocionais em hashtags (por exemplo, regrann, contest, repost, giveaway, mention, share, give away, quiz, etc)</td>\n",
       "            </tr>\n",
       "            <tr>\n",
       "                                <td id=\"T_71374_row14_col0\" class=\"data row14 col0\" >fo</td>\n",
       "                        <td id=\"T_71374_row14_col1\" class=\"data row14 col1\" >Palavras-Chave Seguidores</td>\n",
       "                        <td id=\"T_71374_row14_col2\" class=\"data row14 col2\" >Número médio de palavras-chave procurando seguidores em hashtags (por exemplo, follow, like, folback, follback, f4f, etc)</td>\n",
       "            </tr>\n",
       "            <tr>\n",
       "                                <td id=\"T_71374_row15_col0\" class=\"data row15 col0\" >cs</td>\n",
       "                        <td id=\"T_71374_row15_col1\" class=\"data row15 col1\" >Similaridade por Cosseno</td>\n",
       "                        <td id=\"T_71374_row15_col2\" class=\"data row15 col2\" >Medida da similaridade de entre dois vetores (posts) num espaço vetorial que avalia o valor do cosseno do ângulo compreendido entre eles.</td>\n",
       "            </tr>\n",
       "            <tr>\n",
       "                                <td id=\"T_71374_row16_col0\" class=\"data row16 col0\" >pi</td>\n",
       "                        <td id=\"T_71374_row16_col1\" class=\"data row16 col1\" >Intervalo de Posts</td>\n",
       "                        <td id=\"T_71374_row16_col2\" class=\"data row16 col2\" >Intervalo de tempo médio entre posts (em horas)</td>\n",
       "            </tr>\n",
       "            <tr>\n",
       "                                <td id=\"T_71374_row17_col0\" class=\"data row17 col0\" >class</td>\n",
       "                        <td id=\"T_71374_row17_col1\" class=\"data row17 col1\" >Classe de Usuários</td>\n",
       "                        <td id=\"T_71374_row17_col2\" class=\"data row17 col2\" >Classes 2-class: r (usuários reais/autenticados), f (Usuário fake / Comprou seguidores) | Classes 4-class: r (usuários reais/autenticados), a (Usuário fake Ativo), i (Usuário fake Inativo), s (Usuário fake Spam). Note que as 3 classes de usuário fake (a, i, s) foram determinadas por avaliadores humanos.</td>\n",
       "            </tr>\n",
       "    </tbody></table>"
      ],
      "text/plain": [
       "<pandas.io.formats.style.Styler at 0x1d9488fe5c0>"
      ]
     },
     "execution_count": 5,
     "metadata": {},
     "output_type": "execute_result"
    }
   ],
   "source": [
    "d1 = {'Nome da Variável': ['pos','flw', 'flg', 'bl', 'pic', 'lin', 'cl','cz','ni','erl', 'erc', 'lt', 'hc', 'pr', 'fo', 'cs', 'pi', 'class'], 'Nome da Feature': ['Número de posts', 'Número de seguidores', 'Número contas seguindo', 'Tamanho da Biografia', 'Disponibilidade de Foto', 'Disponibilidade de Link', 'Tamanho médio da Legenda', 'Legenda Zero', 'Porcentagem Sem Imagem', 'Taxa de Engajamento (Like)', 'Taxa de Engajamento (Comentário)', 'Porcentagem de Localização', 'Média de uso de Hashtags', 'Palavras-Chave Promocionais', 'Palavras-Chave Seguidores', 'Similaridade por Cosseno', 'Intervalo de Posts', 'Classe de Usuários'], 'Descrição': ['Número total de posts que o usuário já fez', 'Número de seguidores', 'Número de contas que o usuário segue', 'Número de caracteres da biografia do usuário', 'Valor 0 se o usuário não tem foto de perfil, 1 caso contrário', 'Valor 0 se o usuário não tem Link externo no perfil, 1 caso contrário', 'Número médio de caracteres nas legendas dos posts do usuário', 'Porcentagem (0.0 a 1.0) de legendas que possuem quase 0 (<=3) caracteres', 'Porcentagem (0.0 a 1.0) de posts que não são do tipo imagem (Existem 3 tipos de mídia em um post no Instagram, imagem, vídeo e carrosel)', 'Número de Likes dividido pelo Número de Seguidores', 'Número de Comentários dividiodo pelo Número de Seguidores', 'Porcentagem (0.0 a 1.0) de posts com tag de localização', 'Número médio de hashtags usadas em um post', 'Número médio de palavras-chave promocionais em hashtags (por exemplo, regrann, contest, repost, giveaway, mention, share, give away, quiz, etc)', 'Número médio de palavras-chave procurando seguidores em hashtags (por exemplo, follow, like, folback, follback, f4f, etc)', 'Medida da similaridade de entre dois vetores (posts) num espaço vetorial que avalia o valor do cosseno do ângulo compreendido entre eles.', 'Intervalo de tempo médio entre posts (em horas)', 'Classes 2-class: r (usuários reais/autenticados), f (Usuário fake / Comprou seguidores) | Classes 4-class: r (usuários reais/autenticados), a (Usuário fake Ativo), i (Usuário fake Inativo), s (Usuário fake Spam). Note que as 3 classes de usuário fake (a, i, s) foram determinadas por avaliadores humanos.' ]}\n",
    "df1 = pd.DataFrame(data=d1)\n",
    "pd.set_option('display.max_colwidth', None)\n",
    "df1.style.hide_index()\n"
   ]
  },
  {
   "cell_type": "markdown",
   "metadata": {},
   "source": [
    "## Análise Exploratória"
   ]
  },
  {
   "cell_type": "markdown",
   "metadata": {},
   "source": [
    "### Correlação entre as _features_:"
   ]
  },
  {
   "cell_type": "code",
   "execution_count": 6,
   "metadata": {},
   "outputs": [
    {
     "data": {
      "text/html": [
       "<div>\n",
       "<style scoped>\n",
       "    .dataframe tbody tr th:only-of-type {\n",
       "        vertical-align: middle;\n",
       "    }\n",
       "\n",
       "    .dataframe tbody tr th {\n",
       "        vertical-align: top;\n",
       "    }\n",
       "\n",
       "    .dataframe thead th {\n",
       "        text-align: right;\n",
       "    }\n",
       "</style>\n",
       "<table border=\"1\" class=\"dataframe\">\n",
       "  <thead>\n",
       "    <tr style=\"text-align: right;\">\n",
       "      <th></th>\n",
       "      <th>pos</th>\n",
       "      <th>flw</th>\n",
       "      <th>flg</th>\n",
       "      <th>bl</th>\n",
       "      <th>pic</th>\n",
       "      <th>lin</th>\n",
       "      <th>cl</th>\n",
       "      <th>cz</th>\n",
       "      <th>ni</th>\n",
       "      <th>erl</th>\n",
       "      <th>erc</th>\n",
       "      <th>lt</th>\n",
       "      <th>hc</th>\n",
       "      <th>pr</th>\n",
       "      <th>fo</th>\n",
       "      <th>cs</th>\n",
       "      <th>pi</th>\n",
       "    </tr>\n",
       "  </thead>\n",
       "  <tbody>\n",
       "    <tr>\n",
       "      <th>pos</th>\n",
       "      <td>1.000000</td>\n",
       "      <td>0.166695</td>\n",
       "      <td>0.038562</td>\n",
       "      <td>0.141610</td>\n",
       "      <td>0.055275</td>\n",
       "      <td>0.139939</td>\n",
       "      <td>0.191024</td>\n",
       "      <td>-0.063103</td>\n",
       "      <td>0.064128</td>\n",
       "      <td>-0.024753</td>\n",
       "      <td>-0.029045</td>\n",
       "      <td>0.025164</td>\n",
       "      <td>0.011754</td>\n",
       "      <td>0.027358</td>\n",
       "      <td>-0.009527</td>\n",
       "      <td>-0.028462</td>\n",
       "      <td>-0.070077</td>\n",
       "    </tr>\n",
       "    <tr>\n",
       "      <th>flw</th>\n",
       "      <td>0.166695</td>\n",
       "      <td>1.000000</td>\n",
       "      <td>0.008143</td>\n",
       "      <td>0.048008</td>\n",
       "      <td>0.013466</td>\n",
       "      <td>0.060522</td>\n",
       "      <td>0.042617</td>\n",
       "      <td>-0.022574</td>\n",
       "      <td>0.024401</td>\n",
       "      <td>-0.006315</td>\n",
       "      <td>-0.007753</td>\n",
       "      <td>0.020658</td>\n",
       "      <td>0.009011</td>\n",
       "      <td>-0.000612</td>\n",
       "      <td>-0.001073</td>\n",
       "      <td>-0.018352</td>\n",
       "      <td>-0.009618</td>\n",
       "    </tr>\n",
       "    <tr>\n",
       "      <th>flg</th>\n",
       "      <td>0.038562</td>\n",
       "      <td>0.008143</td>\n",
       "      <td>1.000000</td>\n",
       "      <td>0.031344</td>\n",
       "      <td>-0.117024</td>\n",
       "      <td>0.015255</td>\n",
       "      <td>-0.106933</td>\n",
       "      <td>0.165158</td>\n",
       "      <td>-0.098679</td>\n",
       "      <td>0.033867</td>\n",
       "      <td>-0.005908</td>\n",
       "      <td>-0.093101</td>\n",
       "      <td>-0.038603</td>\n",
       "      <td>-0.076363</td>\n",
       "      <td>0.016669</td>\n",
       "      <td>0.195926</td>\n",
       "      <td>-0.051608</td>\n",
       "    </tr>\n",
       "    <tr>\n",
       "      <th>bl</th>\n",
       "      <td>0.141610</td>\n",
       "      <td>0.048008</td>\n",
       "      <td>0.031344</td>\n",
       "      <td>1.000000</td>\n",
       "      <td>0.166773</td>\n",
       "      <td>0.366875</td>\n",
       "      <td>0.295858</td>\n",
       "      <td>-0.212018</td>\n",
       "      <td>0.121772</td>\n",
       "      <td>-0.025033</td>\n",
       "      <td>-0.034935</td>\n",
       "      <td>0.218418</td>\n",
       "      <td>0.165403</td>\n",
       "      <td>-0.017546</td>\n",
       "      <td>0.031489</td>\n",
       "      <td>-0.167572</td>\n",
       "      <td>-0.065453</td>\n",
       "    </tr>\n",
       "    <tr>\n",
       "      <th>pic</th>\n",
       "      <td>0.055275</td>\n",
       "      <td>0.013466</td>\n",
       "      <td>-0.117024</td>\n",
       "      <td>0.166773</td>\n",
       "      <td>1.000000</td>\n",
       "      <td>0.091341</td>\n",
       "      <td>0.132968</td>\n",
       "      <td>0.113378</td>\n",
       "      <td>0.145210</td>\n",
       "      <td>-0.015730</td>\n",
       "      <td>-0.016664</td>\n",
       "      <td>0.133094</td>\n",
       "      <td>0.066943</td>\n",
       "      <td>0.033606</td>\n",
       "      <td>0.005830</td>\n",
       "      <td>-0.285706</td>\n",
       "      <td>0.105846</td>\n",
       "    </tr>\n",
       "    <tr>\n",
       "      <th>lin</th>\n",
       "      <td>0.139939</td>\n",
       "      <td>0.060522</td>\n",
       "      <td>0.015255</td>\n",
       "      <td>0.366875</td>\n",
       "      <td>0.091341</td>\n",
       "      <td>1.000000</td>\n",
       "      <td>0.239230</td>\n",
       "      <td>-0.141152</td>\n",
       "      <td>0.068616</td>\n",
       "      <td>-0.025193</td>\n",
       "      <td>-0.032901</td>\n",
       "      <td>0.147633</td>\n",
       "      <td>0.087192</td>\n",
       "      <td>-0.019877</td>\n",
       "      <td>0.009055</td>\n",
       "      <td>-0.078826</td>\n",
       "      <td>-0.047884</td>\n",
       "    </tr>\n",
       "    <tr>\n",
       "      <th>cl</th>\n",
       "      <td>0.191024</td>\n",
       "      <td>0.042617</td>\n",
       "      <td>-0.106933</td>\n",
       "      <td>0.295858</td>\n",
       "      <td>0.132968</td>\n",
       "      <td>0.239230</td>\n",
       "      <td>1.000000</td>\n",
       "      <td>-0.342882</td>\n",
       "      <td>0.088381</td>\n",
       "      <td>-0.034115</td>\n",
       "      <td>-0.037111</td>\n",
       "      <td>0.061298</td>\n",
       "      <td>0.191118</td>\n",
       "      <td>0.262864</td>\n",
       "      <td>0.071502</td>\n",
       "      <td>-0.158918</td>\n",
       "      <td>-0.075580</td>\n",
       "    </tr>\n",
       "    <tr>\n",
       "      <th>cz</th>\n",
       "      <td>-0.063103</td>\n",
       "      <td>-0.022574</td>\n",
       "      <td>0.165158</td>\n",
       "      <td>-0.212018</td>\n",
       "      <td>0.113378</td>\n",
       "      <td>-0.141152</td>\n",
       "      <td>-0.342882</td>\n",
       "      <td>1.000000</td>\n",
       "      <td>-0.094043</td>\n",
       "      <td>0.075819</td>\n",
       "      <td>0.078008</td>\n",
       "      <td>-0.171646</td>\n",
       "      <td>-0.202589</td>\n",
       "      <td>-0.080290</td>\n",
       "      <td>-0.054557</td>\n",
       "      <td>0.270140</td>\n",
       "      <td>0.065315</td>\n",
       "    </tr>\n",
       "    <tr>\n",
       "      <th>ni</th>\n",
       "      <td>0.064128</td>\n",
       "      <td>0.024401</td>\n",
       "      <td>-0.098679</td>\n",
       "      <td>0.121772</td>\n",
       "      <td>0.145210</td>\n",
       "      <td>0.068616</td>\n",
       "      <td>0.088381</td>\n",
       "      <td>-0.094043</td>\n",
       "      <td>1.000000</td>\n",
       "      <td>-0.017700</td>\n",
       "      <td>-0.018242</td>\n",
       "      <td>0.210334</td>\n",
       "      <td>0.055417</td>\n",
       "      <td>-0.024935</td>\n",
       "      <td>-0.005014</td>\n",
       "      <td>-0.273763</td>\n",
       "      <td>0.038901</td>\n",
       "    </tr>\n",
       "    <tr>\n",
       "      <th>erl</th>\n",
       "      <td>-0.024753</td>\n",
       "      <td>-0.006315</td>\n",
       "      <td>0.033867</td>\n",
       "      <td>-0.025033</td>\n",
       "      <td>-0.015730</td>\n",
       "      <td>-0.025193</td>\n",
       "      <td>-0.034115</td>\n",
       "      <td>0.075819</td>\n",
       "      <td>-0.017700</td>\n",
       "      <td>1.000000</td>\n",
       "      <td>0.440497</td>\n",
       "      <td>-0.009019</td>\n",
       "      <td>0.027886</td>\n",
       "      <td>-0.006053</td>\n",
       "      <td>0.033943</td>\n",
       "      <td>-0.036677</td>\n",
       "      <td>-0.002977</td>\n",
       "    </tr>\n",
       "    <tr>\n",
       "      <th>erc</th>\n",
       "      <td>-0.029045</td>\n",
       "      <td>-0.007753</td>\n",
       "      <td>-0.005908</td>\n",
       "      <td>-0.034935</td>\n",
       "      <td>-0.016664</td>\n",
       "      <td>-0.032901</td>\n",
       "      <td>-0.037111</td>\n",
       "      <td>0.078008</td>\n",
       "      <td>-0.018242</td>\n",
       "      <td>0.440497</td>\n",
       "      <td>1.000000</td>\n",
       "      <td>-0.004940</td>\n",
       "      <td>0.034758</td>\n",
       "      <td>0.014698</td>\n",
       "      <td>0.032646</td>\n",
       "      <td>-0.067143</td>\n",
       "      <td>0.005570</td>\n",
       "    </tr>\n",
       "    <tr>\n",
       "      <th>lt</th>\n",
       "      <td>0.025164</td>\n",
       "      <td>0.020658</td>\n",
       "      <td>-0.093101</td>\n",
       "      <td>0.218418</td>\n",
       "      <td>0.133094</td>\n",
       "      <td>0.147633</td>\n",
       "      <td>0.061298</td>\n",
       "      <td>-0.171646</td>\n",
       "      <td>0.210334</td>\n",
       "      <td>-0.009019</td>\n",
       "      <td>-0.004940</td>\n",
       "      <td>1.000000</td>\n",
       "      <td>0.124301</td>\n",
       "      <td>-0.063438</td>\n",
       "      <td>0.008034</td>\n",
       "      <td>-0.285055</td>\n",
       "      <td>0.101460</td>\n",
       "    </tr>\n",
       "    <tr>\n",
       "      <th>hc</th>\n",
       "      <td>0.011754</td>\n",
       "      <td>0.009011</td>\n",
       "      <td>-0.038603</td>\n",
       "      <td>0.165403</td>\n",
       "      <td>0.066943</td>\n",
       "      <td>0.087192</td>\n",
       "      <td>0.191118</td>\n",
       "      <td>-0.202589</td>\n",
       "      <td>0.055417</td>\n",
       "      <td>0.027886</td>\n",
       "      <td>0.034758</td>\n",
       "      <td>0.124301</td>\n",
       "      <td>1.000000</td>\n",
       "      <td>0.139947</td>\n",
       "      <td>0.377892</td>\n",
       "      <td>-0.162472</td>\n",
       "      <td>0.025071</td>\n",
       "    </tr>\n",
       "    <tr>\n",
       "      <th>pr</th>\n",
       "      <td>0.027358</td>\n",
       "      <td>-0.000612</td>\n",
       "      <td>-0.076363</td>\n",
       "      <td>-0.017546</td>\n",
       "      <td>0.033606</td>\n",
       "      <td>-0.019877</td>\n",
       "      <td>0.262864</td>\n",
       "      <td>-0.080290</td>\n",
       "      <td>-0.024935</td>\n",
       "      <td>-0.006053</td>\n",
       "      <td>0.014698</td>\n",
       "      <td>-0.063438</td>\n",
       "      <td>0.139947</td>\n",
       "      <td>1.000000</td>\n",
       "      <td>0.079571</td>\n",
       "      <td>-0.076957</td>\n",
       "      <td>-0.015310</td>\n",
       "    </tr>\n",
       "    <tr>\n",
       "      <th>fo</th>\n",
       "      <td>-0.009527</td>\n",
       "      <td>-0.001073</td>\n",
       "      <td>0.016669</td>\n",
       "      <td>0.031489</td>\n",
       "      <td>0.005830</td>\n",
       "      <td>0.009055</td>\n",
       "      <td>0.071502</td>\n",
       "      <td>-0.054557</td>\n",
       "      <td>-0.005014</td>\n",
       "      <td>0.033943</td>\n",
       "      <td>0.032646</td>\n",
       "      <td>0.008034</td>\n",
       "      <td>0.377892</td>\n",
       "      <td>0.079571</td>\n",
       "      <td>1.000000</td>\n",
       "      <td>-0.030671</td>\n",
       "      <td>-0.014232</td>\n",
       "    </tr>\n",
       "    <tr>\n",
       "      <th>cs</th>\n",
       "      <td>-0.028462</td>\n",
       "      <td>-0.018352</td>\n",
       "      <td>0.195926</td>\n",
       "      <td>-0.167572</td>\n",
       "      <td>-0.285706</td>\n",
       "      <td>-0.078826</td>\n",
       "      <td>-0.158918</td>\n",
       "      <td>0.270140</td>\n",
       "      <td>-0.273763</td>\n",
       "      <td>-0.036677</td>\n",
       "      <td>-0.067143</td>\n",
       "      <td>-0.285055</td>\n",
       "      <td>-0.162472</td>\n",
       "      <td>-0.076957</td>\n",
       "      <td>-0.030671</td>\n",
       "      <td>1.000000</td>\n",
       "      <td>-0.150720</td>\n",
       "    </tr>\n",
       "    <tr>\n",
       "      <th>pi</th>\n",
       "      <td>-0.070077</td>\n",
       "      <td>-0.009618</td>\n",
       "      <td>-0.051608</td>\n",
       "      <td>-0.065453</td>\n",
       "      <td>0.105846</td>\n",
       "      <td>-0.047884</td>\n",
       "      <td>-0.075580</td>\n",
       "      <td>0.065315</td>\n",
       "      <td>0.038901</td>\n",
       "      <td>-0.002977</td>\n",
       "      <td>0.005570</td>\n",
       "      <td>0.101460</td>\n",
       "      <td>0.025071</td>\n",
       "      <td>-0.015310</td>\n",
       "      <td>-0.014232</td>\n",
       "      <td>-0.150720</td>\n",
       "      <td>1.000000</td>\n",
       "    </tr>\n",
       "  </tbody>\n",
       "</table>\n",
       "</div>"
      ],
      "text/plain": [
       "          pos       flw       flg        bl       pic       lin        cl  \\\n",
       "pos  1.000000  0.166695  0.038562  0.141610  0.055275  0.139939  0.191024   \n",
       "flw  0.166695  1.000000  0.008143  0.048008  0.013466  0.060522  0.042617   \n",
       "flg  0.038562  0.008143  1.000000  0.031344 -0.117024  0.015255 -0.106933   \n",
       "bl   0.141610  0.048008  0.031344  1.000000  0.166773  0.366875  0.295858   \n",
       "pic  0.055275  0.013466 -0.117024  0.166773  1.000000  0.091341  0.132968   \n",
       "lin  0.139939  0.060522  0.015255  0.366875  0.091341  1.000000  0.239230   \n",
       "cl   0.191024  0.042617 -0.106933  0.295858  0.132968  0.239230  1.000000   \n",
       "cz  -0.063103 -0.022574  0.165158 -0.212018  0.113378 -0.141152 -0.342882   \n",
       "ni   0.064128  0.024401 -0.098679  0.121772  0.145210  0.068616  0.088381   \n",
       "erl -0.024753 -0.006315  0.033867 -0.025033 -0.015730 -0.025193 -0.034115   \n",
       "erc -0.029045 -0.007753 -0.005908 -0.034935 -0.016664 -0.032901 -0.037111   \n",
       "lt   0.025164  0.020658 -0.093101  0.218418  0.133094  0.147633  0.061298   \n",
       "hc   0.011754  0.009011 -0.038603  0.165403  0.066943  0.087192  0.191118   \n",
       "pr   0.027358 -0.000612 -0.076363 -0.017546  0.033606 -0.019877  0.262864   \n",
       "fo  -0.009527 -0.001073  0.016669  0.031489  0.005830  0.009055  0.071502   \n",
       "cs  -0.028462 -0.018352  0.195926 -0.167572 -0.285706 -0.078826 -0.158918   \n",
       "pi  -0.070077 -0.009618 -0.051608 -0.065453  0.105846 -0.047884 -0.075580   \n",
       "\n",
       "           cz        ni       erl       erc        lt        hc        pr  \\\n",
       "pos -0.063103  0.064128 -0.024753 -0.029045  0.025164  0.011754  0.027358   \n",
       "flw -0.022574  0.024401 -0.006315 -0.007753  0.020658  0.009011 -0.000612   \n",
       "flg  0.165158 -0.098679  0.033867 -0.005908 -0.093101 -0.038603 -0.076363   \n",
       "bl  -0.212018  0.121772 -0.025033 -0.034935  0.218418  0.165403 -0.017546   \n",
       "pic  0.113378  0.145210 -0.015730 -0.016664  0.133094  0.066943  0.033606   \n",
       "lin -0.141152  0.068616 -0.025193 -0.032901  0.147633  0.087192 -0.019877   \n",
       "cl  -0.342882  0.088381 -0.034115 -0.037111  0.061298  0.191118  0.262864   \n",
       "cz   1.000000 -0.094043  0.075819  0.078008 -0.171646 -0.202589 -0.080290   \n",
       "ni  -0.094043  1.000000 -0.017700 -0.018242  0.210334  0.055417 -0.024935   \n",
       "erl  0.075819 -0.017700  1.000000  0.440497 -0.009019  0.027886 -0.006053   \n",
       "erc  0.078008 -0.018242  0.440497  1.000000 -0.004940  0.034758  0.014698   \n",
       "lt  -0.171646  0.210334 -0.009019 -0.004940  1.000000  0.124301 -0.063438   \n",
       "hc  -0.202589  0.055417  0.027886  0.034758  0.124301  1.000000  0.139947   \n",
       "pr  -0.080290 -0.024935 -0.006053  0.014698 -0.063438  0.139947  1.000000   \n",
       "fo  -0.054557 -0.005014  0.033943  0.032646  0.008034  0.377892  0.079571   \n",
       "cs   0.270140 -0.273763 -0.036677 -0.067143 -0.285055 -0.162472 -0.076957   \n",
       "pi   0.065315  0.038901 -0.002977  0.005570  0.101460  0.025071 -0.015310   \n",
       "\n",
       "           fo        cs        pi  \n",
       "pos -0.009527 -0.028462 -0.070077  \n",
       "flw -0.001073 -0.018352 -0.009618  \n",
       "flg  0.016669  0.195926 -0.051608  \n",
       "bl   0.031489 -0.167572 -0.065453  \n",
       "pic  0.005830 -0.285706  0.105846  \n",
       "lin  0.009055 -0.078826 -0.047884  \n",
       "cl   0.071502 -0.158918 -0.075580  \n",
       "cz  -0.054557  0.270140  0.065315  \n",
       "ni  -0.005014 -0.273763  0.038901  \n",
       "erl  0.033943 -0.036677 -0.002977  \n",
       "erc  0.032646 -0.067143  0.005570  \n",
       "lt   0.008034 -0.285055  0.101460  \n",
       "hc   0.377892 -0.162472  0.025071  \n",
       "pr   0.079571 -0.076957 -0.015310  \n",
       "fo   1.000000 -0.030671 -0.014232  \n",
       "cs  -0.030671  1.000000 -0.150720  \n",
       "pi  -0.014232 -0.150720  1.000000  "
      ]
     },
     "execution_count": 6,
     "metadata": {},
     "output_type": "execute_result"
    }
   ],
   "source": [
    "data.corr()"
   ]
  },
  {
   "cell_type": "markdown",
   "metadata": {},
   "source": [
    "Procurando melhorar a visualização das correlações, compusemos uma matriz de correlação que funciona como o crosstab visto acimas, só que possibilitando uma melhor percepção visual dos diferentes níveis de correlação entre si. A partir de diferentes níveis de colorimento e tonalização consegue-se perceber as variadas correlações entre as _features_ do _dataset_."
   ]
  },
  {
   "cell_type": "code",
   "execution_count": 7,
   "metadata": {},
   "outputs": [
    {
     "data": {
      "application/vnd.plotly.v1+json": {
       "config": {
        "plotlyServerURL": "https://plot.ly"
       },
       "data": [
        {
         "coloraxis": "coloraxis",
         "hovertemplate": "Features: %{x}<br>Features: %{y}<br>Correlação: %{z}<extra></extra>",
         "name": "0",
         "type": "heatmap",
         "x": [
          "pos",
          "flw",
          "flg",
          "bl",
          "pic",
          "lin",
          "cl",
          "cz",
          "ni",
          "erl",
          "erc",
          "lt",
          "hc",
          "pr",
          "fo",
          "cs",
          "pi"
         ],
         "xaxis": "x",
         "y": [
          "pos",
          "flw",
          "flg",
          "bl",
          "pic",
          "lin",
          "cl",
          "cz",
          "ni",
          "erl",
          "erc",
          "lt",
          "hc",
          "pr",
          "fo",
          "cs",
          "pi"
         ],
         "yaxis": "y",
         "z": [
          [
           1,
           0.16669460422880603,
           0.03856182465731653,
           0.14161017777669122,
           0.05527492290930087,
           0.13993918414701906,
           0.19102395872550862,
           -0.06310337746963451,
           0.06412792536240619,
           -0.024753183318311875,
           -0.02904483685762538,
           0.02516430156325721,
           0.011754339515392296,
           0.02735778442168598,
           -0.009527452160491523,
           -0.028462304503428692,
           -0.07007721984982629
          ],
          [
           0.16669460422880603,
           1,
           0.008143379878373287,
           0.048007677770055775,
           0.013465960811033802,
           0.06052224732914234,
           0.04261736652433164,
           -0.02257422604821494,
           0.02440122354636742,
           -0.006314730314818341,
           -0.007753308555735355,
           0.020657502954525776,
           0.009011258903829809,
           -0.0006118441750310768,
           -0.001072643358379281,
           -0.018352066870972013,
           -0.009618444822928089
          ],
          [
           0.03856182465731653,
           0.008143379878373287,
           1,
           0.031344057480675536,
           -0.11702444062901117,
           0.015255344038734985,
           -0.10693307131038612,
           0.165158341595721,
           -0.09867867441394518,
           0.033866894776511634,
           -0.005908104321471538,
           -0.09310063783537655,
           -0.03860346337737488,
           -0.07636272413107285,
           0.016669451207627372,
           0.19592596594377987,
           -0.05160794301337351
          ],
          [
           0.14161017777669122,
           0.048007677770055775,
           0.031344057480675536,
           1,
           0.16677272031794296,
           0.36687458764708564,
           0.29585798247859957,
           -0.2120176240204527,
           0.1217721400065441,
           -0.025033231378189275,
           -0.03493450710648151,
           0.2184184792481887,
           0.16540304350358548,
           -0.017545683469370982,
           0.031488657654174544,
           -0.16757183415817828,
           -0.06545282496060573
          ],
          [
           0.05527492290930087,
           0.013465960811033802,
           -0.11702444062901117,
           0.16677272031794296,
           1,
           0.09134105490436716,
           0.13296808191249357,
           0.11337761934200068,
           0.14521036700899803,
           -0.015730061709417653,
           -0.016663617784687897,
           0.13309378204216019,
           0.06694320833048252,
           0.03360553830534475,
           0.005829669835224548,
           -0.285706276607103,
           0.10584599351739683
          ],
          [
           0.13993918414701906,
           0.06052224732914234,
           0.015255344038734985,
           0.36687458764708564,
           0.09134105490436716,
           1,
           0.23923011919487616,
           -0.14115219168870954,
           0.06861642483650586,
           -0.0251929353007898,
           -0.0329013906651817,
           0.1476327422901998,
           0.08719166048618192,
           -0.01987742233743736,
           0.009055112274460297,
           -0.07882619503018597,
           -0.047884259541438164
          ],
          [
           0.19102395872550862,
           0.04261736652433164,
           -0.10693307131038612,
           0.29585798247859957,
           0.13296808191249357,
           0.23923011919487616,
           1,
           -0.3428821083645762,
           0.08838089157891703,
           -0.034115280554780976,
           -0.03711063161064967,
           0.06129780766108938,
           0.19111805908994037,
           0.2628638753175387,
           0.07150191991768072,
           -0.15891762546738253,
           -0.07558014371046658
          ],
          [
           -0.06310337746963451,
           -0.02257422604821494,
           0.165158341595721,
           -0.2120176240204527,
           0.11337761934200068,
           -0.14115219168870954,
           -0.3428821083645762,
           1,
           -0.09404328676792462,
           0.07581856310233434,
           0.07800844471900037,
           -0.17164585141433863,
           -0.20258887037066384,
           -0.08029022613274676,
           -0.054557167678402504,
           0.2701402484805248,
           0.06531495864830966
          ],
          [
           0.06412792536240619,
           0.02440122354636742,
           -0.09867867441394518,
           0.1217721400065441,
           0.14521036700899803,
           0.06861642483650586,
           0.08838089157891703,
           -0.09404328676792462,
           1,
           -0.017700468388179166,
           -0.018241705420564917,
           0.21033438822606604,
           0.05541678040816632,
           -0.024934714384779403,
           -0.0050138472618936536,
           -0.2737634088743421,
           0.03890083905867321
          ],
          [
           -0.024753183318311875,
           -0.006314730314818341,
           0.033866894776511634,
           -0.025033231378189275,
           -0.015730061709417653,
           -0.0251929353007898,
           -0.034115280554780976,
           0.07581856310233434,
           -0.017700468388179166,
           1,
           0.44049679787453194,
           -0.009019452137701589,
           0.02788613601190561,
           -0.006053055001751207,
           0.0339432979799171,
           -0.036677307045932035,
           -0.0029768587293548614
          ],
          [
           -0.02904483685762538,
           -0.007753308555735355,
           -0.005908104321471538,
           -0.03493450710648151,
           -0.016663617784687897,
           -0.0329013906651817,
           -0.03711063161064967,
           0.07800844471900037,
           -0.018241705420564917,
           0.44049679787453194,
           1,
           -0.004940418700426343,
           0.034758483750348575,
           0.01469810446689315,
           0.03264556175319711,
           -0.06714288392819412,
           0.005570279820299376
          ],
          [
           0.02516430156325721,
           0.020657502954525776,
           -0.09310063783537655,
           0.2184184792481887,
           0.13309378204216019,
           0.1476327422901998,
           0.06129780766108938,
           -0.17164585141433863,
           0.21033438822606604,
           -0.009019452137701589,
           -0.004940418700426343,
           1,
           0.12430140975936226,
           -0.06343841143910414,
           0.008034123246905455,
           -0.2850554813498128,
           0.10145988224521896
          ],
          [
           0.011754339515392296,
           0.009011258903829809,
           -0.03860346337737488,
           0.16540304350358548,
           0.06694320833048252,
           0.08719166048618192,
           0.19111805908994037,
           -0.20258887037066384,
           0.05541678040816632,
           0.02788613601190561,
           0.034758483750348575,
           0.12430140975936226,
           1,
           0.13994710112851919,
           0.37789202870217947,
           -0.16247245813041797,
           0.025070561179388575
          ],
          [
           0.02735778442168598,
           -0.0006118441750310768,
           -0.07636272413107285,
           -0.017545683469370982,
           0.03360553830534475,
           -0.01987742233743736,
           0.2628638753175387,
           -0.08029022613274676,
           -0.024934714384779403,
           -0.006053055001751207,
           0.01469810446689315,
           -0.06343841143910414,
           0.13994710112851919,
           1,
           0.07957063964257453,
           -0.07695724088018333,
           -0.015309545904441583
          ],
          [
           -0.009527452160491523,
           -0.001072643358379281,
           0.016669451207627372,
           0.031488657654174544,
           0.005829669835224548,
           0.009055112274460297,
           0.07150191991768072,
           -0.054557167678402504,
           -0.0050138472618936536,
           0.0339432979799171,
           0.03264556175319711,
           0.008034123246905455,
           0.37789202870217947,
           0.07957063964257453,
           1,
           -0.030670943149934522,
           -0.014232314376407337
          ],
          [
           -0.028462304503428692,
           -0.018352066870972013,
           0.19592596594377987,
           -0.16757183415817828,
           -0.285706276607103,
           -0.07882619503018597,
           -0.15891762546738253,
           0.2701402484805248,
           -0.2737634088743421,
           -0.036677307045932035,
           -0.06714288392819412,
           -0.2850554813498128,
           -0.16247245813041797,
           -0.07695724088018333,
           -0.030670943149934522,
           1,
           -0.15072047100058228
          ],
          [
           -0.07007721984982629,
           -0.009618444822928089,
           -0.05160794301337351,
           -0.06545282496060573,
           0.10584599351739683,
           -0.047884259541438164,
           -0.07558014371046658,
           0.06531495864830966,
           0.03890083905867321,
           -0.0029768587293548614,
           0.005570279820299376,
           0.10145988224521896,
           0.025070561179388575,
           -0.015309545904441583,
           -0.014232314376407337,
           -0.15072047100058228,
           1
          ]
         ]
        }
       ],
       "layout": {
        "coloraxis": {
         "cmax": 1,
         "cmin": -1,
         "colorbar": {
          "title": {
           "text": "Correlação"
          }
         },
         "colorscale": [
          [
           0,
           "#0d0887"
          ],
          [
           0.1111111111111111,
           "#46039f"
          ],
          [
           0.2222222222222222,
           "#7201a8"
          ],
          [
           0.3333333333333333,
           "#9c179e"
          ],
          [
           0.4444444444444444,
           "#bd3786"
          ],
          [
           0.5555555555555556,
           "#d8576b"
          ],
          [
           0.6666666666666666,
           "#ed7953"
          ],
          [
           0.7777777777777778,
           "#fb9f3a"
          ],
          [
           0.8888888888888888,
           "#fdca26"
          ],
          [
           1,
           "#f0f921"
          ]
         ]
        },
        "template": {
         "data": {
          "bar": [
           {
            "error_x": {
             "color": "#2a3f5f"
            },
            "error_y": {
             "color": "#2a3f5f"
            },
            "marker": {
             "line": {
              "color": "#E5ECF6",
              "width": 0.5
             },
             "pattern": {
              "fillmode": "overlay",
              "size": 10,
              "solidity": 0.2
             }
            },
            "type": "bar"
           }
          ],
          "barpolar": [
           {
            "marker": {
             "line": {
              "color": "#E5ECF6",
              "width": 0.5
             },
             "pattern": {
              "fillmode": "overlay",
              "size": 10,
              "solidity": 0.2
             }
            },
            "type": "barpolar"
           }
          ],
          "carpet": [
           {
            "aaxis": {
             "endlinecolor": "#2a3f5f",
             "gridcolor": "white",
             "linecolor": "white",
             "minorgridcolor": "white",
             "startlinecolor": "#2a3f5f"
            },
            "baxis": {
             "endlinecolor": "#2a3f5f",
             "gridcolor": "white",
             "linecolor": "white",
             "minorgridcolor": "white",
             "startlinecolor": "#2a3f5f"
            },
            "type": "carpet"
           }
          ],
          "choropleth": [
           {
            "colorbar": {
             "outlinewidth": 0,
             "ticks": ""
            },
            "type": "choropleth"
           }
          ],
          "contour": [
           {
            "colorbar": {
             "outlinewidth": 0,
             "ticks": ""
            },
            "colorscale": [
             [
              0,
              "#0d0887"
             ],
             [
              0.1111111111111111,
              "#46039f"
             ],
             [
              0.2222222222222222,
              "#7201a8"
             ],
             [
              0.3333333333333333,
              "#9c179e"
             ],
             [
              0.4444444444444444,
              "#bd3786"
             ],
             [
              0.5555555555555556,
              "#d8576b"
             ],
             [
              0.6666666666666666,
              "#ed7953"
             ],
             [
              0.7777777777777778,
              "#fb9f3a"
             ],
             [
              0.8888888888888888,
              "#fdca26"
             ],
             [
              1,
              "#f0f921"
             ]
            ],
            "type": "contour"
           }
          ],
          "contourcarpet": [
           {
            "colorbar": {
             "outlinewidth": 0,
             "ticks": ""
            },
            "type": "contourcarpet"
           }
          ],
          "heatmap": [
           {
            "colorbar": {
             "outlinewidth": 0,
             "ticks": ""
            },
            "colorscale": [
             [
              0,
              "#0d0887"
             ],
             [
              0.1111111111111111,
              "#46039f"
             ],
             [
              0.2222222222222222,
              "#7201a8"
             ],
             [
              0.3333333333333333,
              "#9c179e"
             ],
             [
              0.4444444444444444,
              "#bd3786"
             ],
             [
              0.5555555555555556,
              "#d8576b"
             ],
             [
              0.6666666666666666,
              "#ed7953"
             ],
             [
              0.7777777777777778,
              "#fb9f3a"
             ],
             [
              0.8888888888888888,
              "#fdca26"
             ],
             [
              1,
              "#f0f921"
             ]
            ],
            "type": "heatmap"
           }
          ],
          "heatmapgl": [
           {
            "colorbar": {
             "outlinewidth": 0,
             "ticks": ""
            },
            "colorscale": [
             [
              0,
              "#0d0887"
             ],
             [
              0.1111111111111111,
              "#46039f"
             ],
             [
              0.2222222222222222,
              "#7201a8"
             ],
             [
              0.3333333333333333,
              "#9c179e"
             ],
             [
              0.4444444444444444,
              "#bd3786"
             ],
             [
              0.5555555555555556,
              "#d8576b"
             ],
             [
              0.6666666666666666,
              "#ed7953"
             ],
             [
              0.7777777777777778,
              "#fb9f3a"
             ],
             [
              0.8888888888888888,
              "#fdca26"
             ],
             [
              1,
              "#f0f921"
             ]
            ],
            "type": "heatmapgl"
           }
          ],
          "histogram": [
           {
            "marker": {
             "pattern": {
              "fillmode": "overlay",
              "size": 10,
              "solidity": 0.2
             }
            },
            "type": "histogram"
           }
          ],
          "histogram2d": [
           {
            "colorbar": {
             "outlinewidth": 0,
             "ticks": ""
            },
            "colorscale": [
             [
              0,
              "#0d0887"
             ],
             [
              0.1111111111111111,
              "#46039f"
             ],
             [
              0.2222222222222222,
              "#7201a8"
             ],
             [
              0.3333333333333333,
              "#9c179e"
             ],
             [
              0.4444444444444444,
              "#bd3786"
             ],
             [
              0.5555555555555556,
              "#d8576b"
             ],
             [
              0.6666666666666666,
              "#ed7953"
             ],
             [
              0.7777777777777778,
              "#fb9f3a"
             ],
             [
              0.8888888888888888,
              "#fdca26"
             ],
             [
              1,
              "#f0f921"
             ]
            ],
            "type": "histogram2d"
           }
          ],
          "histogram2dcontour": [
           {
            "colorbar": {
             "outlinewidth": 0,
             "ticks": ""
            },
            "colorscale": [
             [
              0,
              "#0d0887"
             ],
             [
              0.1111111111111111,
              "#46039f"
             ],
             [
              0.2222222222222222,
              "#7201a8"
             ],
             [
              0.3333333333333333,
              "#9c179e"
             ],
             [
              0.4444444444444444,
              "#bd3786"
             ],
             [
              0.5555555555555556,
              "#d8576b"
             ],
             [
              0.6666666666666666,
              "#ed7953"
             ],
             [
              0.7777777777777778,
              "#fb9f3a"
             ],
             [
              0.8888888888888888,
              "#fdca26"
             ],
             [
              1,
              "#f0f921"
             ]
            ],
            "type": "histogram2dcontour"
           }
          ],
          "mesh3d": [
           {
            "colorbar": {
             "outlinewidth": 0,
             "ticks": ""
            },
            "type": "mesh3d"
           }
          ],
          "parcoords": [
           {
            "line": {
             "colorbar": {
              "outlinewidth": 0,
              "ticks": ""
             }
            },
            "type": "parcoords"
           }
          ],
          "pie": [
           {
            "automargin": true,
            "type": "pie"
           }
          ],
          "scatter": [
           {
            "marker": {
             "colorbar": {
              "outlinewidth": 0,
              "ticks": ""
             }
            },
            "type": "scatter"
           }
          ],
          "scatter3d": [
           {
            "line": {
             "colorbar": {
              "outlinewidth": 0,
              "ticks": ""
             }
            },
            "marker": {
             "colorbar": {
              "outlinewidth": 0,
              "ticks": ""
             }
            },
            "type": "scatter3d"
           }
          ],
          "scattercarpet": [
           {
            "marker": {
             "colorbar": {
              "outlinewidth": 0,
              "ticks": ""
             }
            },
            "type": "scattercarpet"
           }
          ],
          "scattergeo": [
           {
            "marker": {
             "colorbar": {
              "outlinewidth": 0,
              "ticks": ""
             }
            },
            "type": "scattergeo"
           }
          ],
          "scattergl": [
           {
            "marker": {
             "colorbar": {
              "outlinewidth": 0,
              "ticks": ""
             }
            },
            "type": "scattergl"
           }
          ],
          "scattermapbox": [
           {
            "marker": {
             "colorbar": {
              "outlinewidth": 0,
              "ticks": ""
             }
            },
            "type": "scattermapbox"
           }
          ],
          "scatterpolar": [
           {
            "marker": {
             "colorbar": {
              "outlinewidth": 0,
              "ticks": ""
             }
            },
            "type": "scatterpolar"
           }
          ],
          "scatterpolargl": [
           {
            "marker": {
             "colorbar": {
              "outlinewidth": 0,
              "ticks": ""
             }
            },
            "type": "scatterpolargl"
           }
          ],
          "scatterternary": [
           {
            "marker": {
             "colorbar": {
              "outlinewidth": 0,
              "ticks": ""
             }
            },
            "type": "scatterternary"
           }
          ],
          "surface": [
           {
            "colorbar": {
             "outlinewidth": 0,
             "ticks": ""
            },
            "colorscale": [
             [
              0,
              "#0d0887"
             ],
             [
              0.1111111111111111,
              "#46039f"
             ],
             [
              0.2222222222222222,
              "#7201a8"
             ],
             [
              0.3333333333333333,
              "#9c179e"
             ],
             [
              0.4444444444444444,
              "#bd3786"
             ],
             [
              0.5555555555555556,
              "#d8576b"
             ],
             [
              0.6666666666666666,
              "#ed7953"
             ],
             [
              0.7777777777777778,
              "#fb9f3a"
             ],
             [
              0.8888888888888888,
              "#fdca26"
             ],
             [
              1,
              "#f0f921"
             ]
            ],
            "type": "surface"
           }
          ],
          "table": [
           {
            "cells": {
             "fill": {
              "color": "#EBF0F8"
             },
             "line": {
              "color": "white"
             }
            },
            "header": {
             "fill": {
              "color": "#C8D4E3"
             },
             "line": {
              "color": "white"
             }
            },
            "type": "table"
           }
          ]
         },
         "layout": {
          "annotationdefaults": {
           "arrowcolor": "#2a3f5f",
           "arrowhead": 0,
           "arrowwidth": 1
          },
          "autotypenumbers": "strict",
          "coloraxis": {
           "colorbar": {
            "outlinewidth": 0,
            "ticks": ""
           }
          },
          "colorscale": {
           "diverging": [
            [
             0,
             "#8e0152"
            ],
            [
             0.1,
             "#c51b7d"
            ],
            [
             0.2,
             "#de77ae"
            ],
            [
             0.3,
             "#f1b6da"
            ],
            [
             0.4,
             "#fde0ef"
            ],
            [
             0.5,
             "#f7f7f7"
            ],
            [
             0.6,
             "#e6f5d0"
            ],
            [
             0.7,
             "#b8e186"
            ],
            [
             0.8,
             "#7fbc41"
            ],
            [
             0.9,
             "#4d9221"
            ],
            [
             1,
             "#276419"
            ]
           ],
           "sequential": [
            [
             0,
             "#0d0887"
            ],
            [
             0.1111111111111111,
             "#46039f"
            ],
            [
             0.2222222222222222,
             "#7201a8"
            ],
            [
             0.3333333333333333,
             "#9c179e"
            ],
            [
             0.4444444444444444,
             "#bd3786"
            ],
            [
             0.5555555555555556,
             "#d8576b"
            ],
            [
             0.6666666666666666,
             "#ed7953"
            ],
            [
             0.7777777777777778,
             "#fb9f3a"
            ],
            [
             0.8888888888888888,
             "#fdca26"
            ],
            [
             1,
             "#f0f921"
            ]
           ],
           "sequentialminus": [
            [
             0,
             "#0d0887"
            ],
            [
             0.1111111111111111,
             "#46039f"
            ],
            [
             0.2222222222222222,
             "#7201a8"
            ],
            [
             0.3333333333333333,
             "#9c179e"
            ],
            [
             0.4444444444444444,
             "#bd3786"
            ],
            [
             0.5555555555555556,
             "#d8576b"
            ],
            [
             0.6666666666666666,
             "#ed7953"
            ],
            [
             0.7777777777777778,
             "#fb9f3a"
            ],
            [
             0.8888888888888888,
             "#fdca26"
            ],
            [
             1,
             "#f0f921"
            ]
           ]
          },
          "colorway": [
           "#636efa",
           "#EF553B",
           "#00cc96",
           "#ab63fa",
           "#FFA15A",
           "#19d3f3",
           "#FF6692",
           "#B6E880",
           "#FF97FF",
           "#FECB52"
          ],
          "font": {
           "color": "#2a3f5f"
          },
          "geo": {
           "bgcolor": "white",
           "lakecolor": "white",
           "landcolor": "#E5ECF6",
           "showlakes": true,
           "showland": true,
           "subunitcolor": "white"
          },
          "hoverlabel": {
           "align": "left"
          },
          "hovermode": "closest",
          "mapbox": {
           "style": "light"
          },
          "paper_bgcolor": "white",
          "plot_bgcolor": "#E5ECF6",
          "polar": {
           "angularaxis": {
            "gridcolor": "white",
            "linecolor": "white",
            "ticks": ""
           },
           "bgcolor": "#E5ECF6",
           "radialaxis": {
            "gridcolor": "white",
            "linecolor": "white",
            "ticks": ""
           }
          },
          "scene": {
           "xaxis": {
            "backgroundcolor": "#E5ECF6",
            "gridcolor": "white",
            "gridwidth": 2,
            "linecolor": "white",
            "showbackground": true,
            "ticks": "",
            "zerolinecolor": "white"
           },
           "yaxis": {
            "backgroundcolor": "#E5ECF6",
            "gridcolor": "white",
            "gridwidth": 2,
            "linecolor": "white",
            "showbackground": true,
            "ticks": "",
            "zerolinecolor": "white"
           },
           "zaxis": {
            "backgroundcolor": "#E5ECF6",
            "gridcolor": "white",
            "gridwidth": 2,
            "linecolor": "white",
            "showbackground": true,
            "ticks": "",
            "zerolinecolor": "white"
           }
          },
          "shapedefaults": {
           "line": {
            "color": "#2a3f5f"
           }
          },
          "ternary": {
           "aaxis": {
            "gridcolor": "white",
            "linecolor": "white",
            "ticks": ""
           },
           "baxis": {
            "gridcolor": "white",
            "linecolor": "white",
            "ticks": ""
           },
           "bgcolor": "#E5ECF6",
           "caxis": {
            "gridcolor": "white",
            "linecolor": "white",
            "ticks": ""
           }
          },
          "title": {
           "x": 0.05
          },
          "xaxis": {
           "automargin": true,
           "gridcolor": "white",
           "linecolor": "white",
           "ticks": "",
           "title": {
            "standoff": 15
           },
           "zerolinecolor": "white",
           "zerolinewidth": 2
          },
          "yaxis": {
           "automargin": true,
           "gridcolor": "white",
           "linecolor": "white",
           "ticks": "",
           "title": {
            "standoff": 15
           },
           "zerolinecolor": "white",
           "zerolinewidth": 2
          }
         }
        },
        "title": {
         "text": "Correlação entre Features"
        },
        "xaxis": {
         "anchor": "y",
         "constrain": "domain",
         "domain": [
          0,
          1
         ],
         "scaleanchor": "y",
         "title": {
          "text": "Features"
         }
        },
        "yaxis": {
         "anchor": "x",
         "autorange": "reversed",
         "constrain": "domain",
         "domain": [
          0,
          1
         ],
         "title": {
          "text": "Features"
         }
        }
       }
      }
     },
     "metadata": {},
     "output_type": "display_data"
    }
   ],
   "source": [
    "x=data.corr()\n",
    "lista = x.values.tolist()\n",
    "fig = px.imshow(lista,  labels=dict(x=\"Features\", y=\"Features\", color=\"Correlação\"),\n",
    "                x=['pos', 'flw', 'flg', 'bl', 'pic', 'lin', 'cl', 'cz', 'ni', 'erl', 'erc', 'lt', 'hc', 'pr', 'fo', 'cs', 'pi'],\n",
    "                y=['pos', 'flw', 'flg', 'bl', 'pic', 'lin', 'cl', 'cz', 'ni', 'erl', 'erc', 'lt', 'hc', 'pr', 'fo', 'cs', 'pi'],\n",
    "                zmax = 1, zmin = -1, title = \"Correlação entre Features\")\n",
    "fig.show()"
   ]
  },
  {
   "cell_type": "markdown",
   "metadata": {},
   "source": [
    "Achando as maiores e menores correlações:"
   ]
  },
  {
   "cell_type": "code",
   "execution_count": 8,
   "metadata": {},
   "outputs": [
    {
     "name": "stdout",
     "output_type": "stream",
     "text": [
      "A maior correlação é 0.44049679787453194\n",
      "A menor correlação é -0.3428821083645762\n"
     ]
    }
   ],
   "source": [
    "lista_corrs = list(itertools.chain(*lista))\n",
    "\n",
    "lista_corrs_sem_1 = list(filter(lambda x: x != 1 and x != -1, lista_corrs))\n",
    "\n",
    "maximo = max(lista_corrs_sem_1)\n",
    "minimo = min(lista_corrs_sem_1)\n",
    "\n",
    "print(f\"A maior correlação é {maximo}\")\n",
    "print(f\"A menor correlação é {minimo}\")"
   ]
  },
  {
   "cell_type": "markdown",
   "metadata": {},
   "source": [
    "Como pode-se observar na célula de cima as maiores e menores correlações não são suficiente significativas a ponto de se destacarem de certo modo. Por isso, conclui-se que não será possível o descarte de nenhuma _feature_.\n",
    "\n",
    "**Considerando-se que uma correlação só poderia ser considerada forte quando acima de 0.8.**"
   ]
  },
  {
   "cell_type": "markdown",
   "metadata": {},
   "source": [
    "### Relação entre a variável _target_ ('Class') e as _features_:"
   ]
  },
  {
   "cell_type": "markdown",
   "metadata": {},
   "source": [
    "Abaixo apresenta-se a análise exploratória feita para descobrir como as _features se relacionam com a _target_ que seria a classificação do perfil de um usuário."
   ]
  },
  {
   "cell_type": "markdown",
   "metadata": {},
   "source": [
    "Separando cada uma das calssificações possíveis em variáveis diferentes:"
   ]
  },
  {
   "cell_type": "code",
   "execution_count": 9,
   "metadata": {},
   "outputs": [],
   "source": [
    "perfis_reais = data.loc[data['class']=='r']\n",
    "perfis_fake_ativo = data.loc[data['class']=='a']\n",
    "perfis_fake_inativo = data.loc[data['class']=='i']\n",
    "perfis_fake_spam = data.loc[data['class']=='s']"
   ]
  },
  {
   "cell_type": "markdown",
   "metadata": {},
   "source": [
    "Para a realização da análise exploratória plotamos dois tipos de gráficos: \n",
    "+ **_bloxplot_**: nos possibilitou a identificação da mediana das distribuições assim como os _outliers_ dentro da mesma;  \n",
    "+ **Histograma**: nos possibilitou melhor verificação visual das _features_ que influenciam mais ou menos a classificação dos usuários;  \n",
    "\n",
    "**Observação:** em muitos dos histogramas à seguir foi utilizado algum tipo de limite para os eixos Y e X, procurando ter melhor visualização da distribuição de densidade. O estabelecimento de limites foram nescessários em muitos casos vistos que as classificações de usuários se diferem muito entre si, o que contribuiu para a aparição de alguns _outliers_ dificultando a interpretação visual dos gráficos. Além disso para algumas _features_ foi plotado um gráfico diferente dados que essas categorias permitiam apenas duas classificações (0,1) representando informações como \"contém\"/\"não contém\" por exemplo. Para isso dividiu-se duas vezes a classificação: primeiro em variáveis que amazenasse apenas a classificação 0 e 1, e depois dividiu-se em 4 outras variáveis que indicariam a quantidade de ususários classificados dessa maneira dentro de cada classe."
   ]
  },
  {
   "cell_type": "markdown",
   "metadata": {},
   "source": [
    "### Funções para facilitar a plotagem dos gráficos e organização do código"
   ]
  },
  {
   "cell_type": "code",
   "execution_count": 10,
   "metadata": {},
   "outputs": [],
   "source": [
    "def box_plot(feature):\n",
    "    plt.figure(figsize=(25,25))\n",
    "    plt.figure(figsize=(25,25))\n",
    "    data.boxplot(column=feature,by=\"class\")\n",
    "    plt.tight_layout()\n",
    "    plt.show()\n"
   ]
  },
  {
   "cell_type": "code",
   "execution_count": 11,
   "metadata": {},
   "outputs": [],
   "source": [
    "def histograma(feature,eixo_x,eixo_y,titulo,x_lim = 0  ,y_lim = 0):\n",
    "    fig = plt.figure(figsize=(15, 7))\n",
    "    perfis_reais[feature].plot.hist(color=('crimson'), alpha=0.6, density=True)\n",
    "    perfis_fake_ativo[feature].plot.hist(color=('midnightblue'), alpha=0.6, density=True)\n",
    "    perfis_fake_inativo[feature].plot.hist(color=('lime'), alpha=0.6, density=True)\n",
    "    perfis_fake_spam[feature].plot.hist(color=('yellow'), alpha=0.6, density=True)\n",
    "    plt.legend(['r', 'a', 'i', 's'])\n",
    "    if x_lim != 0:\n",
    "        plt.xlim(x_lim)\n",
    "    if y_lim != 0:\n",
    "        plt.ylim(y_lim)\n",
    "    plt.xlabel(eixo_x)\n",
    "    plt.ylabel(eixo_y)\n",
    "    plt.title(titulo)\n",
    "    plt.show()\n",
    "    "
   ]
  },
  {
   "cell_type": "markdown",
   "metadata": {},
   "source": [
    "+ #### Relação entre Class e Número de posts\t"
   ]
  },
  {
   "cell_type": "code",
   "execution_count": 12,
   "metadata": {},
   "outputs": [
    {
     "data": {
      "text/plain": [
       "<Figure size 1800x1800 with 0 Axes>"
      ]
     },
     "metadata": {},
     "output_type": "display_data"
    },
    {
     "data": {
      "text/plain": [
       "<Figure size 1800x1800 with 0 Axes>"
      ]
     },
     "metadata": {},
     "output_type": "display_data"
    },
    {
     "data": {
      "image/png": "[encoded data removed]",
      "text/plain": [
       "<Figure size 432x288 with 1 Axes>"
      ]
     },
     "metadata": {
      "needs_background": "light"
     },
     "output_type": "display_data"
    }
   ],
   "source": [
    "box_plot('pos')"
   ]
  },
  {
   "cell_type": "code",
   "execution_count": 13,
   "metadata": {},
   "outputs": [
    {
     "data": {
      "image/png": "[encoded data removed]",
      "text/plain": [
       "<Figure size 1080x504 with 1 Axes>"
      ]
     },
     "metadata": {
      "needs_background": "light"
     },
     "output_type": "display_data"
    }
   ],
   "source": [
    "histograma('pos','número de posts','densidade','Histograma de densidade do Número de Posts por Classe',(0,10000),(0,0.001))"
   ]
  },
  {
   "cell_type": "markdown",
   "metadata": {},
   "source": [
    "Em relação a _feature_ posts (POS) muito pode-se concluir do histograma. Fica claro por contraste visual que usuários que possuem uma extrema quantidade de posts, com grande probabilidade serão classificados como _spam_; o que já era de se esperar do comportamento desse tipo de usuário de Instagram. Outro ponto de muito destaque, é a concentração de usuários inativos na área que representa uma quantidade baixíssima de poasts; comportamento também esperado por esse tipo de usuário."
   ]
  },
  {
   "cell_type": "markdown",
   "metadata": {},
   "source": [
    "+ #### Relação entre Class e Número de seguidores (FLW):"
   ]
  },
  {
   "cell_type": "code",
   "execution_count": 14,
   "metadata": {},
   "outputs": [
    {
     "data": {
      "text/plain": [
       "<Figure size 1800x1800 with 0 Axes>"
      ]
     },
     "metadata": {},
     "output_type": "display_data"
    },
    {
     "data": {
      "text/plain": [
       "<Figure size 1800x1800 with 0 Axes>"
      ]
     },
     "metadata": {},
     "output_type": "display_data"
    },
    {
     "data": {
      "image/png": "[encoded data removed]",
      "text/plain": [
       "<Figure size 432x288 with 1 Axes>"
      ]
     },
     "metadata": {
      "needs_background": "light"
     },
     "output_type": "display_data"
    }
   ],
   "source": [
    "box_plot('flw')"
   ]
  },
  {
   "cell_type": "code",
   "execution_count": 15,
   "metadata": {},
   "outputs": [
    {
     "data": {
      "image/png": "[encoded data removed]",
      "text/plain": [
       "<Figure size 1080x504 with 1 Axes>"
      ]
     },
     "metadata": {
      "needs_background": "light"
     },
     "output_type": "display_data"
    }
   ],
   "source": [
    "histograma('flw','número de seguidores','densidade','Histograma de densidade do Número de Seguidores por Classe',(0,30000),(0,0.0002))"
   ]
  },
  {
   "cell_type": "markdown",
   "metadata": {},
   "source": [
    "Em relação a _feature_ número de seguidores (FLW) verifica-se que tanto os usuários spam quanto os reais apresentam um comportamento similar, o que pode apresentar uma complicação na hora de classificar futuramente demais usuários. Apesar disso, verifica-se comportamentos distintos para usuários inativos e ativos fake; comportamentos esperados dada as características de atividade desses usuários."
   ]
  },
  {
   "cell_type": "markdown",
   "metadata": {},
   "source": [
    "+ #### Relação entre Class e Número contas seguindo (FLG):"
   ]
  },
  {
   "cell_type": "code",
   "execution_count": 16,
   "metadata": {},
   "outputs": [
    {
     "data": {
      "text/plain": [
       "<Figure size 1800x1800 with 0 Axes>"
      ]
     },
     "metadata": {},
     "output_type": "display_data"
    },
    {
     "data": {
      "text/plain": [
       "<Figure size 1800x1800 with 0 Axes>"
      ]
     },
     "metadata": {},
     "output_type": "display_data"
    },
    {
     "data": {
      "image/png": "[encoded data removed]",
      "text/plain": [
       "<Figure size 432x288 with 1 Axes>"
      ]
     },
     "metadata": {
      "needs_background": "light"
     },
     "output_type": "display_data"
    }
   ],
   "source": [
    "box_plot('flg')"
   ]
  },
  {
   "cell_type": "code",
   "execution_count": 17,
   "metadata": {},
   "outputs": [
    {
     "data": {
      "image/png": "[encoded data removed]",
      "text/plain": [
       "<Figure size 1080x504 with 1 Axes>"
      ]
     },
     "metadata": {
      "needs_background": "light"
     },
     "output_type": "display_data"
    }
   ],
   "source": [
    "histograma('flg','número de contas que segue','densidade','Histograma de densidade do Número de Contas que Segue por Classe',(0,10000),(0,0.001))"
   ]
  },
  {
   "cell_type": "markdown",
   "metadata": {},
   "source": [
    "Analisando o primeiro gráfico a respeito da _feature_ número de contas seguindo (FLG) percebe-se que as medianas (representadas pela linha horizontal verde) são diferentes para cada uma das classificações. Isso leva a concluir que a faixa de número de seguidores em que uma conta de Instagram se classificar será importante para a classificação final de tipo de usuário."
   ]
  },
  {
   "cell_type": "markdown",
   "metadata": {},
   "source": [
    "+ #### Relação Class e Tamanho da Biografia\t(BL):"
   ]
  },
  {
   "cell_type": "code",
   "execution_count": 18,
   "metadata": {},
   "outputs": [
    {
     "data": {
      "text/plain": [
       "<Figure size 1800x1800 with 0 Axes>"
      ]
     },
     "metadata": {},
     "output_type": "display_data"
    },
    {
     "data": {
      "text/plain": [
       "<Figure size 1800x1800 with 0 Axes>"
      ]
     },
     "metadata": {},
     "output_type": "display_data"
    },
    {
     "data": {
      "image/png": "[encoded data removed]",
      "text/plain": [
       "<Figure size 432x288 with 1 Axes>"
      ]
     },
     "metadata": {
      "needs_background": "light"
     },
     "output_type": "display_data"
    }
   ],
   "source": [
    "box_plot('bl')"
   ]
  },
  {
   "cell_type": "code",
   "execution_count": 19,
   "metadata": {},
   "outputs": [
    {
     "data": {
      "image/png": "[encoded data removed]",
      "text/plain": [
       "<Figure size 1080x504 with 1 Axes>"
      ]
     },
     "metadata": {
      "needs_background": "light"
     },
     "output_type": "display_data"
    }
   ],
   "source": [
    "histograma('bl','número de caracteres da bio','densidade','Histograma de densidade do Número de Caracteres da Bio por Classe')   \n"
   ]
  },
  {
   "cell_type": "markdown",
   "metadata": {},
   "source": [
    "A _feature_ tamanho da biografia (BL) não parece ser um elemento decisivo na classificação, dada a proximidade de suas medianas observadas no primeiro gráfico. Apesar disso, observando o histograma fica claro que há certa diferença de concentração entre as classificações, porém nada muito decisivo por se tratarem de _outliers_."
   ]
  },
  {
   "cell_type": "markdown",
   "metadata": {},
   "source": [
    "+ #### Relação Class e Disponibilidade de Foto (PIC):"
   ]
  },
  {
   "cell_type": "code",
   "execution_count": 20,
   "metadata": {},
   "outputs": [],
   "source": [
    "perfis_sem_foto = data.loc[data['pic']== 0]\n",
    "perfis_com_foto = data.loc[data['pic']== 1]\n",
    "\n",
    "perfis_reais_com_foto = perfis_com_foto.loc[perfis_com_foto['class']=='r']\n",
    "perfis_fake_ativo_com_foto = perfis_com_foto.loc[perfis_com_foto['class']=='a']\n",
    "perfis_fake_inativo_com_foto = perfis_com_foto.loc[perfis_com_foto['class']=='i']\n",
    "perfis_fake_spam_com_foto = perfis_com_foto.loc[perfis_com_foto['class']=='s']\n",
    "\n",
    "perfis_reais_sem_foto = perfis_sem_foto.loc[perfis_sem_foto['class']=='r']\n",
    "perfis_fake_ativo_sem_foto = perfis_sem_foto.loc[perfis_sem_foto['class']=='a']\n",
    "perfis_fake_inativo_sem_foto = perfis_sem_foto.loc[perfis_sem_foto['class']=='i']\n",
    "perfis_fake_spam_sem_foto = perfis_sem_foto.loc[perfis_sem_foto['class']=='s']"
   ]
  },
  {
   "cell_type": "code",
   "execution_count": 21,
   "metadata": {},
   "outputs": [
    {
     "data": {
      "image/png": "[encoded data removed]",
      "text/plain": [
       "<Figure size 432x288 with 1 Axes>"
      ]
     },
     "metadata": {
      "needs_background": "light"
     },
     "output_type": "display_data"
    }
   ],
   "source": [
    "fig = plt.figure()\n",
    "ax = fig.add_axes([0,0,1,1])\n",
    "perfis = ['r', 'a', 'i', 's']\n",
    "quantidade = [perfis_reais_com_foto.shape[0]/perfis_com_foto.shape[0], perfis_fake_ativo_com_foto.shape[0]/perfis_com_foto.shape[0], perfis_fake_inativo_com_foto.shape[0]/perfis_com_foto.shape[0], perfis_fake_spam_com_foto.shape[0]/perfis_com_foto.shape[0]]\n",
    "ax.bar(perfis,quantidade, color=['crimson', 'midnightblue', 'lime', 'yellow'])\n",
    "plt.title('Com foto de perfil')\n",
    "plt.ylabel('densidade')\n",
    "plt.show()"
   ]
  },
  {
   "cell_type": "code",
   "execution_count": 22,
   "metadata": {},
   "outputs": [
    {
     "data": {
      "image/png": "[encoded data removed]",
      "text/plain": [
       "<Figure size 432x288 with 1 Axes>"
      ]
     },
     "metadata": {
      "needs_background": "light"
     },
     "output_type": "display_data"
    }
   ],
   "source": [
    "fig = plt.figure()\n",
    "ax = fig.add_axes([0,0,1,1])\n",
    "perfis = ['r', 'a', 'i', 's']\n",
    "quantidade = [perfis_reais_sem_foto.shape[0]/perfis_sem_foto.shape[0], perfis_fake_ativo_sem_foto.shape[0]/perfis_sem_foto.shape[0], perfis_fake_inativo_sem_foto.shape[0]/perfis_sem_foto.shape[0], perfis_fake_spam_sem_foto.shape[0]/perfis_sem_foto.shape[0]]\n",
    "ax.bar(perfis,quantidade,color=['crimson', 'midnightblue', 'lime', 'yellow'])\n",
    "plt.title('Sem foto de perfil')\n",
    "plt.ylabel('densidade')\n",
    "plt.show()"
   ]
  },
  {
   "cell_type": "markdown",
   "metadata": {},
   "source": [
    "A partir dos graficos, conclui-se que perfis sem disponibilidade de fotos tendem a serem classificados como fakes inativos,comportamento esperado já que fakes inativos.\" é uma classificação refetente a usuários que estão com a conta parada.Enquanto perfis com disponibilidade de fotos variam entre perfis de usuários ativos, fakes ativos e spam."
   ]
  },
  {
   "cell_type": "markdown",
   "metadata": {},
   "source": [
    "+ #### Relação Class e Disponibilidade de Link (LIN):"
   ]
  },
  {
   "cell_type": "code",
   "execution_count": 23,
   "metadata": {},
   "outputs": [],
   "source": [
    "perfis_sem_link = data.loc[data['lin']== 0]\n",
    "perfis_com_link= data.loc[data['lin']== 1]\n",
    "\n",
    "perfis_reais_com_link = perfis_com_link.loc[perfis_com_link['class']=='r']\n",
    "perfis_fake_ativo_com_link = perfis_com_link.loc[perfis_com_link['class']=='a']\n",
    "perfis_fake_inativo_com_link = perfis_com_link.loc[perfis_com_link['class']=='i']\n",
    "perfis_fake_spam_com_link = perfis_com_link.loc[perfis_com_link['class']=='s']\n",
    "\n",
    "perfis_reais_sem_link = perfis_sem_link.loc[perfis_sem_link['class']=='r']\n",
    "perfis_fake_ativo_sem_link = perfis_sem_link.loc[perfis_sem_link['class']=='a']\n",
    "perfis_fake_inativo_sem_link = perfis_sem_link.loc[perfis_sem_link['class']=='i']\n",
    "perfis_fake_spam_sem_link = perfis_sem_link.loc[perfis_sem_link['class']=='s']"
   ]
  },
  {
   "cell_type": "code",
   "execution_count": 24,
   "metadata": {},
   "outputs": [
    {
     "data": {
      "image/png": "[encoded data removed]",
      "text/plain": [
       "<Figure size 432x288 with 1 Axes>"
      ]
     },
     "metadata": {
      "needs_background": "light"
     },
     "output_type": "display_data"
    }
   ],
   "source": [
    "fig = plt.figure()\n",
    "ax = fig.add_axes([0,0,1,1])\n",
    "perfis = ['r', 'a', 'i', 's']\n",
    "quantidade = [perfis_reais_com_link.shape[0]/perfis_com_link.shape[0], perfis_fake_ativo_com_link.shape[0]/perfis_com_link.shape[0], perfis_fake_inativo_com_link.shape[0]/perfis_com_link.shape[0], perfis_fake_spam_com_link.shape[0]/perfis_com_link.shape[0]]\n",
    "ax.bar(perfis,quantidade, color=['crimson', 'midnightblue', 'lime', 'yellow'])\n",
    "plt.title('Com link no perfil')\n",
    "plt.ylabel('densidade')\n",
    "plt.show()"
   ]
  },
  {
   "cell_type": "code",
   "execution_count": 25,
   "metadata": {},
   "outputs": [
    {
     "data": {
      "image/png": "[encoded data removed]",
      "text/plain": [
       "<Figure size 432x288 with 1 Axes>"
      ]
     },
     "metadata": {
      "needs_background": "light"
     },
     "output_type": "display_data"
    }
   ],
   "source": [
    "fig = plt.figure()\n",
    "ax = fig.add_axes([0,0,1,1])\n",
    "perfis = ['r', 'a', 'i', 's']\n",
    "quantidade = [perfis_reais_sem_link.shape[0]/perfis_sem_link.shape[0], perfis_fake_ativo_sem_link.shape[0]/perfis_sem_link.shape[0], perfis_fake_inativo_sem_link.shape[0]/perfis_sem_link.shape[0], perfis_fake_spam_sem_link.shape[0]/perfis_sem_link.shape[0]]\n",
    "ax.bar(perfis,quantidade, color=['crimson', 'midnightblue', 'lime', 'yellow'])\n",
    "plt.title('Sem link perfil')\n",
    "plt.ylabel('densidade')\n",
    "plt.show()"
   ]
  },
  {
   "cell_type": "markdown",
   "metadata": {},
   "source": [
    "A partir dos gráficos, nota-se que perfis que não possuem links tendem a estarem associados a perfis de fakes inativos, comportamento esperado pela característica da classificação de serem contas não mais acessadas. Enquanto perfis que possuem links tendem a estarem associados a usuários fakes ativos, spam e usuários reais (majoritariamente). Apesar disso, nota-se que a distribuição de quantidade de perfis em relação a ausência de links não será de muita ajuda na classificação, visto que não possuir links não é um comportamento específico de nenhuma das classificações."
   ]
  },
  {
   "cell_type": "markdown",
   "metadata": {},
   "source": [
    "+ #### Relação Class e Tamanho médio da Legenda\t(CL):"
   ]
  },
  {
   "cell_type": "code",
   "execution_count": 26,
   "metadata": {},
   "outputs": [
    {
     "data": {
      "text/plain": [
       "<Figure size 1800x1800 with 0 Axes>"
      ]
     },
     "metadata": {},
     "output_type": "display_data"
    },
    {
     "data": {
      "text/plain": [
       "<Figure size 1800x1800 with 0 Axes>"
      ]
     },
     "metadata": {},
     "output_type": "display_data"
    },
    {
     "data": {
      "image/png": "[encoded data removed]",
      "text/plain": [
       "<Figure size 432x288 with 1 Axes>"
      ]
     },
     "metadata": {
      "needs_background": "light"
     },
     "output_type": "display_data"
    }
   ],
   "source": [
    "box_plot('cl')"
   ]
  },
  {
   "cell_type": "code",
   "execution_count": 27,
   "metadata": {},
   "outputs": [
    {
     "data": {
      "image/png": "[encoded data removed]",
      "text/plain": [
       "<Figure size 1080x504 with 1 Axes>"
      ]
     },
     "metadata": {
      "needs_background": "light"
     },
     "output_type": "display_data"
    }
   ],
   "source": [
    "histograma('cl','número médio de caracteres da legenda','densidade','Histograma de densidade do Número Médio de caracteres da Legenda por Classe',(0,2500))"
   ]
  },
  {
   "cell_type": "markdown",
   "metadata": {},
   "source": [
    "A partir do gráfico, conclui-se que todas as classificações possuem um número médio de caracteres próximo, porém a classificação spam tende a ter um número de caracteres mais alto, comportamento que se justifica na caractéristica de usuários \"spam\" ligada a propagação de informação em massa."
   ]
  },
  {
   "cell_type": "markdown",
   "metadata": {},
   "source": [
    "+ #### Relação Class e Legenda Zero\t(CZ):"
   ]
  },
  {
   "cell_type": "code",
   "execution_count": 28,
   "metadata": {},
   "outputs": [
    {
     "data": {
      "text/plain": [
       "<Figure size 1800x1800 with 0 Axes>"
      ]
     },
     "metadata": {},
     "output_type": "display_data"
    },
    {
     "data": {
      "text/plain": [
       "<Figure size 1800x1800 with 0 Axes>"
      ]
     },
     "metadata": {},
     "output_type": "display_data"
    },
    {
     "data": {
      "image/png": "[encoded data removed]",
      "text/plain": [
       "<Figure size 432x288 with 1 Axes>"
      ]
     },
     "metadata": {
      "needs_background": "light"
     },
     "output_type": "display_data"
    }
   ],
   "source": [
    "box_plot('cz')"
   ]
  },
  {
   "cell_type": "code",
   "execution_count": 29,
   "metadata": {},
   "outputs": [
    {
     "data": {
      "image/png": "[encoded data removed]",
      "text/plain": [
       "<Figure size 1080x504 with 1 Axes>"
      ]
     },
     "metadata": {
      "needs_background": "light"
     },
     "output_type": "display_data"
    }
   ],
   "source": [
    "histograma('cz','Porcentagem (0.0 a 1.0) de legendas que possuem quase 0 (<=3) caracteres','densidade','Histograma de densidade da Porcentagem de Legendas que possuem quase 0 (<=3) caracteres por Classe')"
   ]
  },
  {
   "cell_type": "markdown",
   "metadata": {},
   "source": [
    "A partir do gráfico, conclui-se que usuários ativos tendem a ter menos legenda zero, devido a atividade do usuário na rede  característica de sua classificação, entretanto, podemos observar sua presença nos extremos próximos de 1 da legenda zero, correpondente a \"outliers\". Ainda, observa-se que a mediana de usuários reais indica a alta presença de legendas (exceto por pontos outliers concentrados próximos a 1). Por fim, usuários spam possuem a maior mediana, ou seja, tendem mais a não ter legenda e usuários inativos encontram-se distribuídos ao longo do parâmetro, ou seja, não é uma feature que ajude a determinar este tipo de classificação."
   ]
  },
  {
   "cell_type": "markdown",
   "metadata": {},
   "source": [
    "+ #### Relação Class e Porcentagem Sem Imagem (NI)"
   ]
  },
  {
   "cell_type": "code",
   "execution_count": 30,
   "metadata": {},
   "outputs": [
    {
     "data": {
      "text/plain": [
       "<Figure size 1800x1800 with 0 Axes>"
      ]
     },
     "metadata": {},
     "output_type": "display_data"
    },
    {
     "data": {
      "text/plain": [
       "<Figure size 1800x1800 with 0 Axes>"
      ]
     },
     "metadata": {},
     "output_type": "display_data"
    },
    {
     "data": {
      "image/png": "[encoded data removed]",
      "text/plain": [
       "<Figure size 432x288 with 1 Axes>"
      ]
     },
     "metadata": {
      "needs_background": "light"
     },
     "output_type": "display_data"
    }
   ],
   "source": [
    "box_plot('ni')"
   ]
  },
  {
   "cell_type": "code",
   "execution_count": 31,
   "metadata": {},
   "outputs": [
    {
     "data": {
      "image/png": "[encoded data removed]",
      "text/plain": [
       "<Figure size 1080x504 with 1 Axes>"
      ]
     },
     "metadata": {
      "needs_background": "light"
     },
     "output_type": "display_data"
    }
   ],
   "source": [
    "histograma('ni','Porcentagem (0.0 a 1.0) de posts que não são do tipo imagem','densidade','Histograma de densidade da Porcentagem de posts que não são do tipo imagem por Classe')"
   ]
  },
  {
   "cell_type": "markdown",
   "metadata": {},
   "source": [
    "Analisando o primeiro gráfico e o histograma a respeito da _feature_ de porcentagem de posts que não são tipo imagem (NI) percebe-se que essa variável tem comportamento semelhante para todos os tipos de perfil, no entanto perfis fakes inativos tem uma característica discrepante que é uma mediana igual a 0."
   ]
  },
  {
   "cell_type": "markdown",
   "metadata": {},
   "source": [
    "+ #### Relação Class e Taxa de Engajamento (ERL-_Likes_):"
   ]
  },
  {
   "cell_type": "code",
   "execution_count": 32,
   "metadata": {},
   "outputs": [
    {
     "data": {
      "text/plain": [
       "<Figure size 1800x1800 with 0 Axes>"
      ]
     },
     "metadata": {},
     "output_type": "display_data"
    },
    {
     "data": {
      "text/plain": [
       "<Figure size 1800x1800 with 0 Axes>"
      ]
     },
     "metadata": {},
     "output_type": "display_data"
    },
    {
     "data": {
      "image/png": "[encoded data removed]",
      "text/plain": [
       "<Figure size 432x288 with 1 Axes>"
      ]
     },
     "metadata": {
      "needs_background": "light"
     },
     "output_type": "display_data"
    }
   ],
   "source": [
    "box_plot('erl')"
   ]
  },
  {
   "cell_type": "code",
   "execution_count": 33,
   "metadata": {},
   "outputs": [
    {
     "data": {
      "image/png": "[encoded data removed]",
      "text/plain": [
       "<Figure size 1080x504 with 1 Axes>"
      ]
     },
     "metadata": {
      "needs_background": "light"
     },
     "output_type": "display_data"
    }
   ],
   "source": [
    "histograma('erl','Número de Likes dividido pelo Número de Seguidores','densidade','Histograma de densidade do Número de Likes dividido pelo Número de Seguidores por Classe',(0,4000))"
   ]
  },
  {
   "cell_type": "markdown",
   "metadata": {},
   "source": [
    "A _feature_ Taxa de Engajamento em Likes (ERL) não parece ser um elemento decisivo na classificação, dada a proximidade de suas medianas observadas no primeiro gráfico. Apesar disso, observando o histograma fica claro que há certa diferença de concentração entre as classificações, porém nada muito decisivo por se tratarem de _outliers_."
   ]
  },
  {
   "cell_type": "markdown",
   "metadata": {},
   "source": [
    "+ #### Relação Class e Taxa de Engajamento (ERC-_Comentários_):\t"
   ]
  },
  {
   "cell_type": "code",
   "execution_count": 34,
   "metadata": {},
   "outputs": [
    {
     "data": {
      "text/plain": [
       "<Figure size 1800x1800 with 0 Axes>"
      ]
     },
     "metadata": {},
     "output_type": "display_data"
    },
    {
     "data": {
      "text/plain": [
       "<Figure size 1800x1800 with 0 Axes>"
      ]
     },
     "metadata": {},
     "output_type": "display_data"
    },
    {
     "data": {
      "image/png": "[encoded data removed]",
      "text/plain": [
       "<Figure size 432x288 with 1 Axes>"
      ]
     },
     "metadata": {
      "needs_background": "light"
     },
     "output_type": "display_data"
    }
   ],
   "source": [
    "box_plot('erc')"
   ]
  },
  {
   "cell_type": "code",
   "execution_count": 35,
   "metadata": {},
   "outputs": [
    {
     "data": {
      "image/png": "[encoded data removed]",
      "text/plain": [
       "<Figure size 1080x504 with 1 Axes>"
      ]
     },
     "metadata": {
      "needs_background": "light"
     },
     "output_type": "display_data"
    }
   ],
   "source": [
    "histograma('erc','Número de Comentários dividido pelo Número de Seguidores','densidade','Histograma de densidade do Número de Comentários dividido pelo Número de Seguidores por Classe',(0,100))"
   ]
  },
  {
   "cell_type": "markdown",
   "metadata": {},
   "source": [
    "A _feature_ Taxa de Engajamento em Comentários (ERC) não parece ser um elemento decisivo na classificação, dada a proximidade de suas medianas observadas no primeiro gráfico. Apesar disso, observando o histograma fica claro que há certa diferença de concentração entre as classificações, porém nada muito decisivo por se tratarem de _outliers_."
   ]
  },
  {
   "cell_type": "markdown",
   "metadata": {},
   "source": [
    "+ #### Relação Class e Porcentagem de Localização (LT):"
   ]
  },
  {
   "cell_type": "code",
   "execution_count": 36,
   "metadata": {},
   "outputs": [
    {
     "data": {
      "text/plain": [
       "<Figure size 1800x1800 with 0 Axes>"
      ]
     },
     "metadata": {},
     "output_type": "display_data"
    },
    {
     "data": {
      "text/plain": [
       "<Figure size 1800x1800 with 0 Axes>"
      ]
     },
     "metadata": {},
     "output_type": "display_data"
    },
    {
     "data": {
      "image/png": "[encoded data removed]",
      "text/plain": [
       "<Figure size 432x288 with 1 Axes>"
      ]
     },
     "metadata": {
      "needs_background": "light"
     },
     "output_type": "display_data"
    }
   ],
   "source": [
    "box_plot('lt')"
   ]
  },
  {
   "cell_type": "code",
   "execution_count": 37,
   "metadata": {},
   "outputs": [
    {
     "data": {
      "image/png": "[encoded data removed]",
      "text/plain": [
       "<Figure size 1080x504 with 1 Axes>"
      ]
     },
     "metadata": {
      "needs_background": "light"
     },
     "output_type": "display_data"
    }
   ],
   "source": [
    "histograma('lt','Porcentagem (0.0 a 1.0) de posts com tag de localização','densidade','Histograma de densidade da Porcentagem de posts com tag de localização por Classe', (0,1))"
   ]
  },
  {
   "cell_type": "markdown",
   "metadata": {},
   "source": [
    "A _feature_ Porcentagem de Localização (LT) parece ser um elemento decisivo na classificação, dado que a mediana observada no primeiro gráfico dos perfis reais é significativamente maior do que os perfis fakes. Observa-se também que as medianas dos perfis fakes inativos e spams são iguais a 0%."
   ]
  },
  {
   "cell_type": "markdown",
   "metadata": {},
   "source": [
    "+ #### Relação Class e Média de uso de Hashtags\t(HC):"
   ]
  },
  {
   "cell_type": "code",
   "execution_count": 38,
   "metadata": {},
   "outputs": [
    {
     "data": {
      "text/plain": [
       "<Figure size 1800x1800 with 0 Axes>"
      ]
     },
     "metadata": {},
     "output_type": "display_data"
    },
    {
     "data": {
      "text/plain": [
       "<Figure size 1800x1800 with 0 Axes>"
      ]
     },
     "metadata": {},
     "output_type": "display_data"
    },
    {
     "data": {
      "image/png": "[encoded data removed]",
      "text/plain": [
       "<Figure size 432x288 with 1 Axes>"
      ]
     },
     "metadata": {
      "needs_background": "light"
     },
     "output_type": "display_data"
    }
   ],
   "source": [
    "box_plot('hc')"
   ]
  },
  {
   "cell_type": "code",
   "execution_count": 39,
   "metadata": {},
   "outputs": [
    {
     "data": {
      "image/png": "[encoded data removed]",
      "text/plain": [
       "<Figure size 1080x504 with 1 Axes>"
      ]
     },
     "metadata": {
      "needs_background": "light"
     },
     "output_type": "display_data"
    }
   ],
   "source": [
    "histograma('hc','Número médio de hashtags usadas em um post','densidade','Histograma de densidade do Número médio de hashtags usadas em um post por Classe',(0,15))"
   ]
  },
  {
   "cell_type": "markdown",
   "metadata": {},
   "source": [
    "Sobre a média de uso de hashtags (HC) o primeiro gráfico indicam que há uma grande quantidade de _outiliers_ em todas as classificações. Talvez porque o uso ou não desse símbolo parta de uma decisão mais pessoal do usuário. Apesar disso vale destacar que pelo histograma observa-se um maior uso de hashtags pelas contas spam."
   ]
  },
  {
   "cell_type": "markdown",
   "metadata": {},
   "source": [
    "+ #### Relação Class e Palavras-Chave Promocionais (PR):"
   ]
  },
  {
   "cell_type": "code",
   "execution_count": 40,
   "metadata": {},
   "outputs": [
    {
     "data": {
      "text/plain": [
       "<Figure size 1800x1800 with 0 Axes>"
      ]
     },
     "metadata": {},
     "output_type": "display_data"
    },
    {
     "data": {
      "text/plain": [
       "<Figure size 1800x1800 with 0 Axes>"
      ]
     },
     "metadata": {},
     "output_type": "display_data"
    },
    {
     "data": {
      "image/png": "[encoded data removed]",
      "text/plain": [
       "<Figure size 432x288 with 1 Axes>"
      ]
     },
     "metadata": {
      "needs_background": "light"
     },
     "output_type": "display_data"
    }
   ],
   "source": [
    "box_plot('pr')"
   ]
  },
  {
   "cell_type": "code",
   "execution_count": 41,
   "metadata": {},
   "outputs": [
    {
     "data": {
      "image/png": "[encoded data removed]",
      "text/plain": [
       "<Figure size 1080x504 with 1 Axes>"
      ]
     },
     "metadata": {
      "needs_background": "light"
     },
     "output_type": "display_data"
    }
   ],
   "source": [
    "histograma('pr','Número médio de palavras-chave promocionais em hashtags','densidade','Histograma de densidade do Número médio de palavras-chave promocionais em hashtags por Classe',(0,2.5))"
   ]
  },
  {
   "cell_type": "markdown",
   "metadata": {},
   "source": [
    "Sobre a _feature_ palavras-chave promocionais (PR) percebe-se pelo histograma que a grande maioria ocorre em contas spam; comportamento esperado por esse tipo de usuário. Além disso, vale distacar a quantidade de _outiliers_ nessa _feature_ verificada visualmente pelo primeiro gráfico; a coluna de pontos indica uma grande dispersão variada, o que talvez indique que essa variável não seja tão decisiva no momento da classificação."
   ]
  },
  {
   "cell_type": "markdown",
   "metadata": {},
   "source": [
    "+ #### Relação Class e Palavras-Chave Seguidores"
   ]
  },
  {
   "cell_type": "code",
   "execution_count": 42,
   "metadata": {},
   "outputs": [
    {
     "data": {
      "text/plain": [
       "<Figure size 1800x1800 with 0 Axes>"
      ]
     },
     "metadata": {},
     "output_type": "display_data"
    },
    {
     "data": {
      "text/plain": [
       "<Figure size 1800x1800 with 0 Axes>"
      ]
     },
     "metadata": {},
     "output_type": "display_data"
    },
    {
     "data": {
      "image/png": "[encoded data removed]",
      "text/plain": [
       "<Figure size 432x288 with 1 Axes>"
      ]
     },
     "metadata": {
      "needs_background": "light"
     },
     "output_type": "display_data"
    }
   ],
   "source": [
    "box_plot('fo')"
   ]
  },
  {
   "cell_type": "code",
   "execution_count": 43,
   "metadata": {},
   "outputs": [
    {
     "data": {
      "image/png": "[encoded data removed]",
      "text/plain": [
       "<Figure size 1080x504 with 1 Axes>"
      ]
     },
     "metadata": {
      "needs_background": "light"
     },
     "output_type": "display_data"
    }
   ],
   "source": [
    "histograma('fo','Número médio de palavras-chave procurando seguidores em hashtags','densidade','Histograma de densidade do Número médio de palavras-chave procurando seguidores em hashtags por Classe',(0,6),(0,5))"
   ]
  },
  {
   "cell_type": "markdown",
   "metadata": {},
   "source": [
    "Em relação à _feature_ palavras-chave seguidores (FO) percebe-se pelo histograma maior ocorrência em perfis ativos, abrangindo-se também para spams. Esse elemento também pode ser considerado uma importante _featrure_ para classificação visto que a rpocura por seguidores em rede sociais pode dizer muito sobre o estado de um usuário."
   ]
  },
  {
   "cell_type": "markdown",
   "metadata": {},
   "source": [
    "+ #### Relação Class e Similaridade por Cosseno (CS):"
   ]
  },
  {
   "cell_type": "code",
   "execution_count": 44,
   "metadata": {},
   "outputs": [
    {
     "data": {
      "text/plain": [
       "<Figure size 1800x1800 with 0 Axes>"
      ]
     },
     "metadata": {},
     "output_type": "display_data"
    },
    {
     "data": {
      "text/plain": [
       "<Figure size 1800x1800 with 0 Axes>"
      ]
     },
     "metadata": {},
     "output_type": "display_data"
    },
    {
     "data": {
      "image/png": "[encoded data removed]",
      "text/plain": [
       "<Figure size 432x288 with 1 Axes>"
      ]
     },
     "metadata": {
      "needs_background": "light"
     },
     "output_type": "display_data"
    }
   ],
   "source": [
    "box_plot('cs')"
   ]
  },
  {
   "cell_type": "code",
   "execution_count": 45,
   "metadata": {},
   "outputs": [
    {
     "data": {
      "image/png": "[encoded data removed]",
      "text/plain": [
       "<Figure size 1080x504 with 1 Axes>"
      ]
     },
     "metadata": {
      "needs_background": "light"
     },
     "output_type": "display_data"
    }
   ],
   "source": [
    "histograma('cs','Similaridade por Cosseno','densidade','Histograma de densidade da Similaridade por Cosseno por Classe',(0,1),(0,5))"
   ]
  },
  {
   "cell_type": "markdown",
   "metadata": {},
   "source": [
    "+ #### Relação Class e Intervalo de Posts (PI):"
   ]
  },
  {
   "cell_type": "code",
   "execution_count": 46,
   "metadata": {},
   "outputs": [
    {
     "data": {
      "text/plain": [
       "<Figure size 1800x1800 with 0 Axes>"
      ]
     },
     "metadata": {},
     "output_type": "display_data"
    },
    {
     "data": {
      "text/plain": [
       "<Figure size 1800x1800 with 0 Axes>"
      ]
     },
     "metadata": {},
     "output_type": "display_data"
    },
    {
     "data": {
      "image/png": "[encoded data removed]",
      "text/plain": [
       "<Figure size 432x288 with 1 Axes>"
      ]
     },
     "metadata": {
      "needs_background": "light"
     },
     "output_type": "display_data"
    }
   ],
   "source": [
    "box_plot('pi')"
   ]
  },
  {
   "cell_type": "code",
   "execution_count": 47,
   "metadata": {},
   "outputs": [
    {
     "data": {
      "image/png": "[encoded data removed]",
      "text/plain": [
       "<Figure size 1080x504 with 1 Axes>"
      ]
     },
     "metadata": {
      "needs_background": "light"
     },
     "output_type": "display_data"
    }
   ],
   "source": [
    "histograma('pi','Intervalo de tempo médio entre posts (em horas)','densidade','Histograma de densidade do Intervalo de tempo médio entre posts (em horas) por Classe',(0,10000))"
   ]
  },
  {
   "cell_type": "markdown",
   "metadata": {},
   "source": [
    "Observando o histograma fica muito claro o comportamento dos usuários spam em relação ao intervalo entre posts (PI) quando comparado com os outros. Em paralelo, o usuário spam possui um intervalo de tempo entre publicações significament menores; um comportamento esperado desse tipo de usuário. Outro comportamento comprovado pelo histograma que também já era esperado é o longo intervalo entre posots por parte dos usuários inativos."
   ]
  },
  {
   "cell_type": "markdown",
   "metadata": {},
   "source": [
    "## C. Modelos de Predição \n"
   ]
  },
  {
   "cell_type": "markdown",
   "metadata": {},
   "source": [
    "## Preparação do Dataset"
   ]
  },
  {
   "cell_type": "code",
   "execution_count": 48,
   "metadata": {},
   "outputs": [
    {
     "data": {
      "text/plain": [
       "0    12054\n",
       "1    10549\n",
       "2    10441\n",
       "3    10263\n",
       "Name: class, dtype: int64"
      ]
     },
     "execution_count": 48,
     "metadata": {},
     "output_type": "execute_result"
    }
   ],
   "source": [
    "dataToTree = pd.read_csv('user_fake_authentic_4class.csv')\n",
    "\n",
    "#Transformando os dados em um formato que a árvore de decisão possa entender (numérico)\n",
    "labelencoder = LabelEncoder()\n",
    "dataToTree['class'] = labelencoder.fit_transform(dataToTree['class'])\n",
    "dataToTree['class'].value_counts()\n",
    "\n",
    "# a -> 0, i -> 1, r -> 2, s -> 3"
   ]
  },
  {
   "cell_type": "code",
   "execution_count": 49,
   "metadata": {},
   "outputs": [],
   "source": [
    "#Features \n",
    "x = dataToTree.drop(\"class\", axis=1)\n",
    "#Target\n",
    "y = dataToTree[\"class\"]\n",
    "\n",
    "#Divisão do dataset em treino e teste \n",
    "Xtrain, Xval, Ytrain, Yval = train_test_split(x, y, test_size=0.5, random_state=0)"
   ]
  },
  {
   "cell_type": "markdown",
   "metadata": {},
   "source": [
    "## K-Nearest Neighbors (KNNs)"
   ]
  },
  {
   "cell_type": "markdown",
   "metadata": {},
   "source": [
    "Essa explicação foi baseada em um [artigo](#bibliografia) sobre o modelo de K-Nearest Neighbors (KNNs).  \n",
    "\n",
    "O método de aprendizagem do KNNs consiste em verificar a similaridade dos dados entre si. Para verificar essa similaridade o processo consiste em medir a distância entre os dois dados apresentados: os dados não classificados e os dados utilizados no treinamento. Para calcular essa distância, o método utiliza qualquer cálculo geométrico que meça a distância entre dois pontos. \n",
    " \n",
    "Depois de calculada as distâncias entres os dados do item a ser classificado e os dados de treinamento, verifica-se onde estão classificados os dados que obtiveram as menores distâncias comparados com o treinamento, e entre elas a classificação mais recorrente é reproduzida para classificar o novo dado inserido. \n",
    "\n",
    "Abaixo segue uma explicação imagética do processo:"
   ]
  },
  {
   "cell_type": "markdown",
   "metadata": {},
   "source": [
    "<img src=img/knn_exemplo.png>"
   ]
  },
  {
   "cell_type": "markdown",
   "metadata": {},
   "source": [
    "Observa-se que _K_ nesse processo representa a quantidade de \"vizinhos\" observados. Para o caso de observar os dados de 3 vizinhos com as menores distâncias o item a ser classificado receberia a classificação \"roxo\". Porém quando expande-se a quantidade de vizinhos com as menores distâncias a serem levados em conta o item seria classificado como \"amarelo\", já que nesse caso há mais dados com a classe \"amarelo\" do que \"roxo\" na vizinhança de 6 dados.  \n",
    "\n",
    "Desse modo, compreende-se o método KNNs: a classificação do item em questão leva em conta a distãncia entre N dados de treinamento e suas respectivas classes. Após verificados quais são os N dados com menores distâncias do item, a classe com maior recorrência entre eles é usada para classificar o item desejado."
   ]
  },
  {
   "cell_type": "markdown",
   "metadata": {},
   "source": [
    "#### Aplicação do modelo de K-Nearest Neighbors (KNNs) ao nosso Dataset com K=11:"
   ]
  },
  {
   "cell_type": "code",
   "execution_count": 50,
   "metadata": {},
   "outputs": [],
   "source": [
    "knn11 = KNeighborsClassifier(n_neighbors=11)\n",
    "knn11 = knn11.fit(Xtrain, Ytrain)"
   ]
  },
  {
   "cell_type": "markdown",
   "metadata": {},
   "source": [
    "#### Aplicação do modelo de K-Nearest Neighbors (KNNs) ao nosso Dataset com K=4:"
   ]
  },
  {
   "cell_type": "code",
   "execution_count": 51,
   "metadata": {},
   "outputs": [],
   "source": [
    "knn4 = KNeighborsClassifier(n_neighbors=4)\n",
    "knn4 = knn4.fit(Xtrain, Ytrain)"
   ]
  },
  {
   "cell_type": "markdown",
   "metadata": {},
   "source": [
    "## Decision Tree"
   ]
  },
  {
   "cell_type": "markdown",
   "metadata": {},
   "source": [
    "A aprendizagem baseada em árvores de decisão é uma das abordagens de modelagem preditiva mais usadas em estatística e machine learning. Ela usa uma árvore de decisão como modelo preditivo para, a partir de observações sobre um item (representadas nos galhos) chegar em conclusões sobre o valor de uma variável target (representada nas folhas). O modelo funciona construindo um procedimento de perguntas de sim ou não a partir de certas características (features), para obter o target, que pode ser categórico ou numérico. Escolhemos essa abordagem por conta da simplicidade de sua implementação e de sua eficácia na predição de targets categóricos.\n",
    "  \n"
   ]
  },
  {
   "cell_type": "markdown",
   "metadata": {},
   "source": [
    "#### Como interpretar uma árvore como um modelo de predição  \n",
    "Essa explicação foi baseada em um [artigo](#bibliografia) sobre o modelo de Decision Tree.  \n",
    "\n",
    "A estrutura de árvore pode ser entendida por meio dos conceitos de ramos, nós, sub-árvores e folhas, como na imagem abaixo:"
   ]
  },
  {
   "cell_type": "markdown",
   "metadata": {},
   "source": [
    "<img src=img/exemplo_arvore.png>"
   ]
  },
  {
   "cell_type": "markdown",
   "metadata": {},
   "source": [
    "Os círculos roxos são chamados de nós e as linhas pretas que os ligam, de ramos. Os nós que não tem descendentes (com borda laranja na imagem) são chamados de folhas e o primeiro nó (com borda verde) é chamado de raiz. Juntos, os nós e ramos formam uma árvore.\n",
    "  \n",
    "A raiz representa o dataset inteiro e cada ramo representa uma decisão. O número total de perguntas feitas nesse processo é chamado de profundidade (ou altura) dessa árvore. No caso da figura acima, temos uma árvore de profundidade 3: precisamos de 3 ramos (3 perguntas) para ir da raiz até as folhas."
   ]
  },
  {
   "cell_type": "markdown",
   "metadata": {},
   "source": [
    "#### Aplicação do modelo de Decision Tree ao nosso Dataset  \n",
    "Escolhemos também uma profundidade de 3 ramos em nossa árvore:"
   ]
  },
  {
   "cell_type": "code",
   "execution_count": 52,
   "metadata": {},
   "outputs": [],
   "source": [
    "dt = tree.DecisionTreeClassifier(max_depth=3,random_state=0)\n",
    "decision_tree = dt.fit(Xtrain, Ytrain)"
   ]
  },
  {
   "cell_type": "markdown",
   "metadata": {},
   "source": [
    "#### Visualização da Árvore"
   ]
  },
  {
   "cell_type": "code",
   "execution_count": 53,
   "metadata": {},
   "outputs": [
    {
     "data": {
      "image/png": "[encoded data removed]",
      "text/plain": [
       "<Figure size 1080x540 with 1 Axes>"
      ]
     },
     "metadata": {
      "needs_background": "light"
     },
     "output_type": "display_data"
    }
   ],
   "source": [
    "plt.figure(figsize=(15,7.5))\n",
    "plot_tree(dt,filled=True,rounded=True);"
   ]
  },
  {
   "cell_type": "markdown",
   "metadata": {},
   "source": [
    "## Random Forest"
   ]
  },
  {
   "cell_type": "markdown",
   "metadata": {},
   "source": [
    "Essa explicação foi baseada em um [artigo](#bibliografia) sobre o modelo de Random Forest.  \n",
    "  \n",
    "O método de Random Forest funciona basicamente de modo que ao invés de criar uma única árvore de decisão com todas as features ao mesmo tempo ele cria pequenas árvores de decisão a partir de algumas features aleatórias.  \n",
    "No final, é feita uma \"votação\" a partir dos valores retornados por cada árvore, de forma que cada mini árvore toma uma decisão a partir dos dados apresentados. A decisão mais votada é a resposta do algoritmo."
   ]
  },
  {
   "cell_type": "markdown",
   "metadata": {},
   "source": [
    "<img src=img/exemplo_random.png>"
   ]
  },
  {
   "cell_type": "markdown",
   "metadata": {},
   "source": [
    "Escolhemos essa abordagem por se tratar da evolução natural do método de Decision Tree aplicado anteriormente. Random Forests são populares por apresentarem bons resultados em diversos tipos de problema, tanto de regressão (ex.: prever valor de uma casa) quanto de classificação (e-mail é spam ou não é spam).\n",
    "\n",
    "  "
   ]
  },
  {
   "cell_type": "markdown",
   "metadata": {},
   "source": [
    "#### Aplicação do modelo de Random Forest ao nosso Dataset:"
   ]
  },
  {
   "cell_type": "code",
   "execution_count": 54,
   "metadata": {},
   "outputs": [],
   "source": [
    "trees = RandomForestClassifier(n_estimators=1000,random_state=0, n_jobs=-1)\n",
    "trees = trees.fit(Xtrain, Ytrain)"
   ]
  },
  {
   "cell_type": "markdown",
   "metadata": {},
   "source": [
    "## D. Processo e Estatísticas de Validação"
   ]
  },
  {
   "cell_type": "markdown",
   "metadata": {},
   "source": [
    "### Score\n",
    "Pontuação de 0 a 1 referente a acurácia de classificação (função da biblioteca sklearn)"
   ]
  },
  {
   "cell_type": "code",
   "execution_count": 55,
   "metadata": {},
   "outputs": [
    {
     "name": "stdout",
     "output_type": "stream",
     "text": [
      "Score para o modelo de Decision Tree\n",
      "Score na base de treinamento: 0.7088625132776059\n",
      "Score na base de teste: 0.7052276715618362\n",
      "\n",
      "\n",
      "Score para o modelo de Random Forest\n",
      "Score na base de treinamento: 1.0\n",
      "Score na base de teste: 0.9044518333795142\n",
      "\n",
      "\n",
      "Score para o modelo de K-Nearest Neighbors K=11 (KNNs)\n",
      "Score na base de treinamento: 0.6408349882233408\n",
      "Score na base de teste: 0.575459499399649\n",
      "\n",
      "\n",
      "Score para o modelo de K-Nearest Neighbors K=4 (KNNs)\n",
      "Score na base de treinamento: 0.7076155728998291\n",
      "Score na base de teste: 0.5519534497090607\n"
     ]
    }
   ],
   "source": [
    "print('Score para o modelo de Decision Tree')\n",
    "print(f'Score na base de treinamento: {decision_tree.score(Xtrain, Ytrain)}')\n",
    "print(f'Score na base de teste: {decision_tree.score(Xval, Yval)}')\n",
    "print('\\n')\n",
    "print('Score para o modelo de Random Forest')\n",
    "print(f'Score na base de treinamento: {trees.score(Xtrain, Ytrain)}')\n",
    "print(f'Score na base de teste: {trees.score(Xval, Yval)}')\n",
    "print('\\n')\n",
    "print('Score para o modelo de K-Nearest Neighbors K=11 (KNNs)')\n",
    "print(f'Score na base de treinamento: {knn11.score(Xtrain, Ytrain)}')\n",
    "print(f'Score na base de teste: {knn11.score(Xval, Yval)}')\n",
    "print('\\n')\n",
    "print('Score para o modelo de K-Nearest Neighbors K=4 (KNNs)')\n",
    "print(f'Score na base de treinamento: {knn4.score(Xtrain, Ytrain)}')\n",
    "print(f'Score na base de teste: {knn4.score(Xval, Yval)}')"
   ]
  },
  {
   "cell_type": "markdown",
   "metadata": {},
   "source": [
    "### Matriz de Confusão"
   ]
  },
  {
   "cell_type": "markdown",
   "metadata": {},
   "source": [
    "Essa explicação foi baseada em um [artigo](#bibliografia) sobre métricas de machine learning\n",
    "Uma matriz de confusão é uma métrica voltada para modelos de classificação.  \n",
    "Ela funciona como uma crosstab entre o valor previsto pelo modelo e o modelo real da base, permitindo calcular a quantidade de falso positivo e falso negativo; e de verdadeiro positivo e verdadeiro negativo, além de te fornecer a acurácia e sensibilidade. \n",
    "  \n",
    "Quando o modelo prevê um caso positivo corretamente, nós temos um caso de Verdadeiro Positivo (True Positive - TP); caso o seu modelo diga que é uma classificação, quando na verdade não é, nós temos um caso de Falso Positivo (False Positive - FP), também conhecido como Type I Error.\n",
    "  \n",
    "O oposto também pode ocorrer. Quando o modelo diz que não é uma classificação, mas na verdade é, temos um caso de Falso Negativo (FN), também conhecido como Type II Error; e quando ele diz que não é uma classificação, e ele está certo, ocorre o Verdadeiro Negativo (TN)."
   ]
  },
  {
   "cell_type": "markdown",
   "metadata": {},
   "source": [
    "## Métricas da Matriz de Confusão "
   ]
  },
  {
   "cell_type": "markdown",
   "metadata": {},
   "source": [
    "### Acurácia"
   ]
  },
  {
   "cell_type": "markdown",
   "metadata": {},
   "source": [
    "Proporção de casos que foram corretamente previstos, sejam eles verdadeiro positivo ou verdadeiro negativo.  \n",
    "Acurácia = (TP + TN) / (TP + TN + FP + FN)\n"
   ]
  },
  {
   "cell_type": "code",
   "execution_count": 56,
   "metadata": {},
   "outputs": [],
   "source": [
    "def acuracia(matriz):\n",
    "    acuracia = np.sum(np.diag(matriz)) / np.sum(matriz)\n",
    "    return acuracia"
   ]
  },
  {
   "cell_type": "markdown",
   "metadata": {},
   "source": [
    "### Sensibilidade / Recall"
   ]
  },
  {
   "cell_type": "markdown",
   "metadata": {},
   "source": [
    "Proporção de casos positivos que foram identificados corretamente.  \n",
    "Recall = TP / TP + FN"
   ]
  },
  {
   "cell_type": "code",
   "execution_count": 57,
   "metadata": {},
   "outputs": [],
   "source": [
    "def recall(matriz):\n",
    "    recall = np.diag(matriz) / np.sum(matriz, axis = 1)\n",
    "    return recall   "
   ]
  },
  {
   "cell_type": "markdown",
   "metadata": {},
   "source": [
    "### Precision"
   ]
  },
  {
   "cell_type": "markdown",
   "metadata": {},
   "source": [
    "Proporção de casos positivos com casos que foram previstos como positivos.  \n",
    "Precision = TP / TP + FP"
   ]
  },
  {
   "cell_type": "code",
   "execution_count": 58,
   "metadata": {},
   "outputs": [],
   "source": [
    "def precision(matriz):\n",
    "    precision = np.diag(matriz) / np.sum(matriz, axis = 0)\n",
    "    return precision"
   ]
  },
  {
   "cell_type": "markdown",
   "metadata": {},
   "source": [
    "## Aplicação da Matriz e Métricas"
   ]
  },
  {
   "cell_type": "markdown",
   "metadata": {},
   "source": [
    "### K-Nearest Neighbors K=11 (KNNs)"
   ]
  },
  {
   "cell_type": "code",
   "execution_count": 59,
   "metadata": {},
   "outputs": [
    {
     "name": "stdout",
     "output_type": "stream",
     "text": [
      "[[3536  498 1029  992]\n",
      " [ 525 4246  349  168]\n",
      " [1267  464 3026  446]\n",
      " [2127  611  717 1653]]\n"
     ]
    }
   ],
   "source": [
    "#Predição de valores pelo modelo de K-Nearest Neighbors K=11 (KNNs)\n",
    "Y_pred_knn11 = knn11.predict(Xval)\n",
    "matriz_confusao_knn11 = confusion_matrix(Yval, Y_pred_knn11)\n",
    "print(matriz_confusao_knn11)"
   ]
  },
  {
   "cell_type": "code",
   "execution_count": 60,
   "metadata": {},
   "outputs": [
    {
     "data": {
      "application/vnd.plotly.v1+json": {
       "config": {
        "plotlyServerURL": "https://plot.ly"
       },
       "data": [
        {
         "coloraxis": "coloraxis",
         "hovertemplate": "Y previsto: %{x}<br>Y verdadeiro: %{y}<br>Quantidade: %{z}<extra></extra>",
         "name": "0",
         "type": "heatmap",
         "x": [
          "a",
          "i",
          "r",
          "s"
         ],
         "xaxis": "x",
         "y": [
          "a",
          "i",
          "r",
          "s"
         ],
         "yaxis": "y",
         "z": [
          [
           3536,
           498,
           1029,
           992
          ],
          [
           525,
           4246,
           349,
           168
          ],
          [
           1267,
           464,
           3026,
           446
          ],
          [
           2127,
           611,
           717,
           1653
          ]
         ]
        }
       ],
       "layout": {
        "coloraxis": {
         "colorbar": {
          "title": {
           "text": "Quantidade"
          }
         },
         "colorscale": [
          [
           0,
           "#0d0887"
          ],
          [
           0.1111111111111111,
           "#46039f"
          ],
          [
           0.2222222222222222,
           "#7201a8"
          ],
          [
           0.3333333333333333,
           "#9c179e"
          ],
          [
           0.4444444444444444,
           "#bd3786"
          ],
          [
           0.5555555555555556,
           "#d8576b"
          ],
          [
           0.6666666666666666,
           "#ed7953"
          ],
          [
           0.7777777777777778,
           "#fb9f3a"
          ],
          [
           0.8888888888888888,
           "#fdca26"
          ],
          [
           1,
           "#f0f921"
          ]
         ]
        },
        "template": {
         "data": {
          "bar": [
           {
            "error_x": {
             "color": "#2a3f5f"
            },
            "error_y": {
             "color": "#2a3f5f"
            },
            "marker": {
             "line": {
              "color": "#E5ECF6",
              "width": 0.5
             },
             "pattern": {
              "fillmode": "overlay",
              "size": 10,
              "solidity": 0.2
             }
            },
            "type": "bar"
           }
          ],
          "barpolar": [
           {
            "marker": {
             "line": {
              "color": "#E5ECF6",
              "width": 0.5
             },
             "pattern": {
              "fillmode": "overlay",
              "size": 10,
              "solidity": 0.2
             }
            },
            "type": "barpolar"
           }
          ],
          "carpet": [
           {
            "aaxis": {
             "endlinecolor": "#2a3f5f",
             "gridcolor": "white",
             "linecolor": "white",
             "minorgridcolor": "white",
             "startlinecolor": "#2a3f5f"
            },
            "baxis": {
             "endlinecolor": "#2a3f5f",
             "gridcolor": "white",
             "linecolor": "white",
             "minorgridcolor": "white",
             "startlinecolor": "#2a3f5f"
            },
            "type": "carpet"
           }
          ],
          "choropleth": [
           {
            "colorbar": {
             "outlinewidth": 0,
             "ticks": ""
            },
            "type": "choropleth"
           }
          ],
          "contour": [
           {
            "colorbar": {
             "outlinewidth": 0,
             "ticks": ""
            },
            "colorscale": [
             [
              0,
              "#0d0887"
             ],
             [
              0.1111111111111111,
              "#46039f"
             ],
             [
              0.2222222222222222,
              "#7201a8"
             ],
             [
              0.3333333333333333,
              "#9c179e"
             ],
             [
              0.4444444444444444,
              "#bd3786"
             ],
             [
              0.5555555555555556,
              "#d8576b"
             ],
             [
              0.6666666666666666,
              "#ed7953"
             ],
             [
              0.7777777777777778,
              "#fb9f3a"
             ],
             [
              0.8888888888888888,
              "#fdca26"
             ],
             [
              1,
              "#f0f921"
             ]
            ],
            "type": "contour"
           }
          ],
          "contourcarpet": [
           {
            "colorbar": {
             "outlinewidth": 0,
             "ticks": ""
            },
            "type": "contourcarpet"
           }
          ],
          "heatmap": [
           {
            "colorbar": {
             "outlinewidth": 0,
             "ticks": ""
            },
            "colorscale": [
             [
              0,
              "#0d0887"
             ],
             [
              0.1111111111111111,
              "#46039f"
             ],
             [
              0.2222222222222222,
              "#7201a8"
             ],
             [
              0.3333333333333333,
              "#9c179e"
             ],
             [
              0.4444444444444444,
              "#bd3786"
             ],
             [
              0.5555555555555556,
              "#d8576b"
             ],
             [
              0.6666666666666666,
              "#ed7953"
             ],
             [
              0.7777777777777778,
              "#fb9f3a"
             ],
             [
              0.8888888888888888,
              "#fdca26"
             ],
             [
              1,
              "#f0f921"
             ]
            ],
            "type": "heatmap"
           }
          ],
          "heatmapgl": [
           {
            "colorbar": {
             "outlinewidth": 0,
             "ticks": ""
            },
            "colorscale": [
             [
              0,
              "#0d0887"
             ],
             [
              0.1111111111111111,
              "#46039f"
             ],
             [
              0.2222222222222222,
              "#7201a8"
             ],
             [
              0.3333333333333333,
              "#9c179e"
             ],
             [
              0.4444444444444444,
              "#bd3786"
             ],
             [
              0.5555555555555556,
              "#d8576b"
             ],
             [
              0.6666666666666666,
              "#ed7953"
             ],
             [
              0.7777777777777778,
              "#fb9f3a"
             ],
             [
              0.8888888888888888,
              "#fdca26"
             ],
             [
              1,
              "#f0f921"
             ]
            ],
            "type": "heatmapgl"
           }
          ],
          "histogram": [
           {
            "marker": {
             "pattern": {
              "fillmode": "overlay",
              "size": 10,
              "solidity": 0.2
             }
            },
            "type": "histogram"
           }
          ],
          "histogram2d": [
           {
            "colorbar": {
             "outlinewidth": 0,
             "ticks": ""
            },
            "colorscale": [
             [
              0,
              "#0d0887"
             ],
             [
              0.1111111111111111,
              "#46039f"
             ],
             [
              0.2222222222222222,
              "#7201a8"
             ],
             [
              0.3333333333333333,
              "#9c179e"
             ],
             [
              0.4444444444444444,
              "#bd3786"
             ],
             [
              0.5555555555555556,
              "#d8576b"
             ],
             [
              0.6666666666666666,
              "#ed7953"
             ],
             [
              0.7777777777777778,
              "#fb9f3a"
             ],
             [
              0.8888888888888888,
              "#fdca26"
             ],
             [
              1,
              "#f0f921"
             ]
            ],
            "type": "histogram2d"
           }
          ],
          "histogram2dcontour": [
           {
            "colorbar": {
             "outlinewidth": 0,
             "ticks": ""
            },
            "colorscale": [
             [
              0,
              "#0d0887"
             ],
             [
              0.1111111111111111,
              "#46039f"
             ],
             [
              0.2222222222222222,
              "#7201a8"
             ],
             [
              0.3333333333333333,
              "#9c179e"
             ],
             [
              0.4444444444444444,
              "#bd3786"
             ],
             [
              0.5555555555555556,
              "#d8576b"
             ],
             [
              0.6666666666666666,
              "#ed7953"
             ],
             [
              0.7777777777777778,
              "#fb9f3a"
             ],
             [
              0.8888888888888888,
              "#fdca26"
             ],
             [
              1,
              "#f0f921"
             ]
            ],
            "type": "histogram2dcontour"
           }
          ],
          "mesh3d": [
           {
            "colorbar": {
             "outlinewidth": 0,
             "ticks": ""
            },
            "type": "mesh3d"
           }
          ],
          "parcoords": [
           {
            "line": {
             "colorbar": {
              "outlinewidth": 0,
              "ticks": ""
             }
            },
            "type": "parcoords"
           }
          ],
          "pie": [
           {
            "automargin": true,
            "type": "pie"
           }
          ],
          "scatter": [
           {
            "marker": {
             "colorbar": {
              "outlinewidth": 0,
              "ticks": ""
             }
            },
            "type": "scatter"
           }
          ],
          "scatter3d": [
           {
            "line": {
             "colorbar": {
              "outlinewidth": 0,
              "ticks": ""
             }
            },
            "marker": {
             "colorbar": {
              "outlinewidth": 0,
              "ticks": ""
             }
            },
            "type": "scatter3d"
           }
          ],
          "scattercarpet": [
           {
            "marker": {
             "colorbar": {
              "outlinewidth": 0,
              "ticks": ""
             }
            },
            "type": "scattercarpet"
           }
          ],
          "scattergeo": [
           {
            "marker": {
             "colorbar": {
              "outlinewidth": 0,
              "ticks": ""
             }
            },
            "type": "scattergeo"
           }
          ],
          "scattergl": [
           {
            "marker": {
             "colorbar": {
              "outlinewidth": 0,
              "ticks": ""
             }
            },
            "type": "scattergl"
           }
          ],
          "scattermapbox": [
           {
            "marker": {
             "colorbar": {
              "outlinewidth": 0,
              "ticks": ""
             }
            },
            "type": "scattermapbox"
           }
          ],
          "scatterpolar": [
           {
            "marker": {
             "colorbar": {
              "outlinewidth": 0,
              "ticks": ""
             }
            },
            "type": "scatterpolar"
           }
          ],
          "scatterpolargl": [
           {
            "marker": {
             "colorbar": {
              "outlinewidth": 0,
              "ticks": ""
             }
            },
            "type": "scatterpolargl"
           }
          ],
          "scatterternary": [
           {
            "marker": {
             "colorbar": {
              "outlinewidth": 0,
              "ticks": ""
             }
            },
            "type": "scatterternary"
           }
          ],
          "surface": [
           {
            "colorbar": {
             "outlinewidth": 0,
             "ticks": ""
            },
            "colorscale": [
             [
              0,
              "#0d0887"
             ],
             [
              0.1111111111111111,
              "#46039f"
             ],
             [
              0.2222222222222222,
              "#7201a8"
             ],
             [
              0.3333333333333333,
              "#9c179e"
             ],
             [
              0.4444444444444444,
              "#bd3786"
             ],
             [
              0.5555555555555556,
              "#d8576b"
             ],
             [
              0.6666666666666666,
              "#ed7953"
             ],
             [
              0.7777777777777778,
              "#fb9f3a"
             ],
             [
              0.8888888888888888,
              "#fdca26"
             ],
             [
              1,
              "#f0f921"
             ]
            ],
            "type": "surface"
           }
          ],
          "table": [
           {
            "cells": {
             "fill": {
              "color": "#EBF0F8"
             },
             "line": {
              "color": "white"
             }
            },
            "header": {
             "fill": {
              "color": "#C8D4E3"
             },
             "line": {
              "color": "white"
             }
            },
            "type": "table"
           }
          ]
         },
         "layout": {
          "annotationdefaults": {
           "arrowcolor": "#2a3f5f",
           "arrowhead": 0,
           "arrowwidth": 1
          },
          "autotypenumbers": "strict",
          "coloraxis": {
           "colorbar": {
            "outlinewidth": 0,
            "ticks": ""
           }
          },
          "colorscale": {
           "diverging": [
            [
             0,
             "#8e0152"
            ],
            [
             0.1,
             "#c51b7d"
            ],
            [
             0.2,
             "#de77ae"
            ],
            [
             0.3,
             "#f1b6da"
            ],
            [
             0.4,
             "#fde0ef"
            ],
            [
             0.5,
             "#f7f7f7"
            ],
            [
             0.6,
             "#e6f5d0"
            ],
            [
             0.7,
             "#b8e186"
            ],
            [
             0.8,
             "#7fbc41"
            ],
            [
             0.9,
             "#4d9221"
            ],
            [
             1,
             "#276419"
            ]
           ],
           "sequential": [
            [
             0,
             "#0d0887"
            ],
            [
             0.1111111111111111,
             "#46039f"
            ],
            [
             0.2222222222222222,
             "#7201a8"
            ],
            [
             0.3333333333333333,
             "#9c179e"
            ],
            [
             0.4444444444444444,
             "#bd3786"
            ],
            [
             0.5555555555555556,
             "#d8576b"
            ],
            [
             0.6666666666666666,
             "#ed7953"
            ],
            [
             0.7777777777777778,
             "#fb9f3a"
            ],
            [
             0.8888888888888888,
             "#fdca26"
            ],
            [
             1,
             "#f0f921"
            ]
           ],
           "sequentialminus": [
            [
             0,
             "#0d0887"
            ],
            [
             0.1111111111111111,
             "#46039f"
            ],
            [
             0.2222222222222222,
             "#7201a8"
            ],
            [
             0.3333333333333333,
             "#9c179e"
            ],
            [
             0.4444444444444444,
             "#bd3786"
            ],
            [
             0.5555555555555556,
             "#d8576b"
            ],
            [
             0.6666666666666666,
             "#ed7953"
            ],
            [
             0.7777777777777778,
             "#fb9f3a"
            ],
            [
             0.8888888888888888,
             "#fdca26"
            ],
            [
             1,
             "#f0f921"
            ]
           ]
          },
          "colorway": [
           "#636efa",
           "#EF553B",
           "#00cc96",
           "#ab63fa",
           "#FFA15A",
           "#19d3f3",
           "#FF6692",
           "#B6E880",
           "#FF97FF",
           "#FECB52"
          ],
          "font": {
           "color": "#2a3f5f"
          },
          "geo": {
           "bgcolor": "white",
           "lakecolor": "white",
           "landcolor": "#E5ECF6",
           "showlakes": true,
           "showland": true,
           "subunitcolor": "white"
          },
          "hoverlabel": {
           "align": "left"
          },
          "hovermode": "closest",
          "mapbox": {
           "style": "light"
          },
          "paper_bgcolor": "white",
          "plot_bgcolor": "#E5ECF6",
          "polar": {
           "angularaxis": {
            "gridcolor": "white",
            "linecolor": "white",
            "ticks": ""
           },
           "bgcolor": "#E5ECF6",
           "radialaxis": {
            "gridcolor": "white",
            "linecolor": "white",
            "ticks": ""
           }
          },
          "scene": {
           "xaxis": {
            "backgroundcolor": "#E5ECF6",
            "gridcolor": "white",
            "gridwidth": 2,
            "linecolor": "white",
            "showbackground": true,
            "ticks": "",
            "zerolinecolor": "white"
           },
           "yaxis": {
            "backgroundcolor": "#E5ECF6",
            "gridcolor": "white",
            "gridwidth": 2,
            "linecolor": "white",
            "showbackground": true,
            "ticks": "",
            "zerolinecolor": "white"
           },
           "zaxis": {
            "backgroundcolor": "#E5ECF6",
            "gridcolor": "white",
            "gridwidth": 2,
            "linecolor": "white",
            "showbackground": true,
            "ticks": "",
            "zerolinecolor": "white"
           }
          },
          "shapedefaults": {
           "line": {
            "color": "#2a3f5f"
           }
          },
          "ternary": {
           "aaxis": {
            "gridcolor": "white",
            "linecolor": "white",
            "ticks": ""
           },
           "baxis": {
            "gridcolor": "white",
            "linecolor": "white",
            "ticks": ""
           },
           "bgcolor": "#E5ECF6",
           "caxis": {
            "gridcolor": "white",
            "linecolor": "white",
            "ticks": ""
           }
          },
          "title": {
           "x": 0.05
          },
          "xaxis": {
           "automargin": true,
           "gridcolor": "white",
           "linecolor": "white",
           "ticks": "",
           "title": {
            "standoff": 15
           },
           "zerolinecolor": "white",
           "zerolinewidth": 2
          },
          "yaxis": {
           "automargin": true,
           "gridcolor": "white",
           "linecolor": "white",
           "ticks": "",
           "title": {
            "standoff": 15
           },
           "zerolinecolor": "white",
           "zerolinewidth": 2
          }
         }
        },
        "title": {
         "text": "Matriz de Confusão para o modelo de K-Nearest Neighbors K=11 (KNNs)"
        },
        "xaxis": {
         "anchor": "y",
         "constrain": "domain",
         "domain": [
          0,
          1
         ],
         "scaleanchor": "y",
         "title": {
          "text": "Y previsto"
         }
        },
        "yaxis": {
         "anchor": "x",
         "autorange": "reversed",
         "constrain": "domain",
         "domain": [
          0,
          1
         ],
         "title": {
          "text": "Y verdadeiro"
         }
        }
       }
      }
     },
     "metadata": {},
     "output_type": "display_data"
    }
   ],
   "source": [
    "fig = px.imshow(matriz_confusao_knn11, labels=dict(x=\"Y previsto\", y=\"Y verdadeiro\", color=\"Quantidade\"),  x = ['a', 'i', 'r', 's'], y = ['a', 'i', 'r', 's'], title = 'Matriz de Confusão para o modelo de K-Nearest Neighbors K=11 (KNNs)')\n",
    "fig.show()"
   ]
  },
  {
   "cell_type": "code",
   "execution_count": 61,
   "metadata": {},
   "outputs": [],
   "source": [
    "acuracia_knn11 =  acuracia(matriz_confusao_knn11)\n",
    "recall_knn11 =  recall(matriz_confusao_knn11)\n",
    "precision_knn11 =  precision(matriz_confusao_knn11)"
   ]
  },
  {
   "cell_type": "code",
   "execution_count": 62,
   "metadata": {},
   "outputs": [
    {
     "name": "stdout",
     "output_type": "stream",
     "text": [
      "A acurácia do modelo de K-Nearest Neighbors K=11 (KNNs) é 57.5459499399649%\n",
      "\n",
      "\n",
      "A recall do modelo de K-Nearest Neighbors K=11 (KNNs) é:\n",
      "58.39801816680429% para as contas tipo \"a\"\n",
      "80.29500756429651% para as contas tipo \"i\"\n",
      "58.15875456467423% para as contas tipo \"r\"\n",
      "32.36100234925607% para as contas tipo \"s\"\n",
      "\n",
      "\n",
      "A precision do modelo de K-Nearest Neighbors K=11 (KNNs) é:\n",
      "47.43125419181757% para as contas tipo \"a\"\n",
      "72.96786389413988% para as contas tipo \"i\"\n",
      "59.09002148017966% para as contas tipo \"r\"\n",
      "50.72108008591593% para as contas tipo \"s\"\n"
     ]
    }
   ],
   "source": [
    "print(f'A acurácia do modelo de K-Nearest Neighbors K=11 (KNNs) é {acuracia_knn11*100}%')\n",
    "print('\\n')\n",
    "print(f'A recall do modelo de K-Nearest Neighbors K=11 (KNNs) é:')\n",
    "print(f'{recall_knn11[0]*100}% para as contas tipo \"a\"')\n",
    "print(f'{recall_knn11[1]*100}% para as contas tipo \"i\"')\n",
    "print(f'{recall_knn11[2]*100}% para as contas tipo \"r\"')\n",
    "print(f'{recall_knn11[3]*100}% para as contas tipo \"s\"')\n",
    "print('\\n')\n",
    "print(f'A precision do modelo de K-Nearest Neighbors K=11 (KNNs) é:')\n",
    "print(f'{precision_knn11[0]*100}% para as contas tipo \"a\"')\n",
    "print(f'{precision_knn11[1]*100}% para as contas tipo \"i\"')\n",
    "print(f'{precision_knn11[2]*100}% para as contas tipo \"r\"')\n",
    "print(f'{precision_knn11[3]*100}% para as contas tipo \"s\"')"
   ]
  },
  {
   "cell_type": "markdown",
   "metadata": {},
   "source": [
    "### K-Nearest Neighbors K=4 (KNNs)"
   ]
  },
  {
   "cell_type": "code",
   "execution_count": 63,
   "metadata": {},
   "outputs": [
    {
     "name": "stdout",
     "output_type": "stream",
     "text": [
      "[[3438  478 1050 1089]\n",
      " [ 536 4169  352  231]\n",
      " [1512  471 2749  471]\n",
      " [2187  558  767 1596]]\n"
     ]
    }
   ],
   "source": [
    "#Predição de valores pelo modelo de K-Nearest Neighbors K=4 (KNNs)\n",
    "Y_pred_knn4 = knn4.predict(Xval)\n",
    "matriz_confusao_knn4 = confusion_matrix(Yval, Y_pred_knn4)\n",
    "print(matriz_confusao_knn4)"
   ]
  },
  {
   "cell_type": "code",
   "execution_count": 64,
   "metadata": {},
   "outputs": [
    {
     "data": {
      "application/vnd.plotly.v1+json": {
       "config": {
        "plotlyServerURL": "https://plot.ly"
       },
       "data": [
        {
         "coloraxis": "coloraxis",
         "hovertemplate": "Y previsto: %{x}<br>Y verdadeiro: %{y}<br>Quantidade: %{z}<extra></extra>",
         "name": "0",
         "type": "heatmap",
         "x": [
          "a",
          "i",
          "r",
          "s"
         ],
         "xaxis": "x",
         "y": [
          "a",
          "i",
          "r",
          "s"
         ],
         "yaxis": "y",
         "z": [
          [
           3438,
           478,
           1050,
           1089
          ],
          [
           536,
           4169,
           352,
           231
          ],
          [
           1512,
           471,
           2749,
           471
          ],
          [
           2187,
           558,
           767,
           1596
          ]
         ]
        }
       ],
       "layout": {
        "coloraxis": {
         "colorbar": {
          "title": {
           "text": "Quantidade"
          }
         },
         "colorscale": [
          [
           0,
           "#0d0887"
          ],
          [
           0.1111111111111111,
           "#46039f"
          ],
          [
           0.2222222222222222,
           "#7201a8"
          ],
          [
           0.3333333333333333,
           "#9c179e"
          ],
          [
           0.4444444444444444,
           "#bd3786"
          ],
          [
           0.5555555555555556,
           "#d8576b"
          ],
          [
           0.6666666666666666,
           "#ed7953"
          ],
          [
           0.7777777777777778,
           "#fb9f3a"
          ],
          [
           0.8888888888888888,
           "#fdca26"
          ],
          [
           1,
           "#f0f921"
          ]
         ]
        },
        "template": {
         "data": {
          "bar": [
           {
            "error_x": {
             "color": "#2a3f5f"
            },
            "error_y": {
             "color": "#2a3f5f"
            },
            "marker": {
             "line": {
              "color": "#E5ECF6",
              "width": 0.5
             },
             "pattern": {
              "fillmode": "overlay",
              "size": 10,
              "solidity": 0.2
             }
            },
            "type": "bar"
           }
          ],
          "barpolar": [
           {
            "marker": {
             "line": {
              "color": "#E5ECF6",
              "width": 0.5
             },
             "pattern": {
              "fillmode": "overlay",
              "size": 10,
              "solidity": 0.2
             }
            },
            "type": "barpolar"
           }
          ],
          "carpet": [
           {
            "aaxis": {
             "endlinecolor": "#2a3f5f",
             "gridcolor": "white",
             "linecolor": "white",
             "minorgridcolor": "white",
             "startlinecolor": "#2a3f5f"
            },
            "baxis": {
             "endlinecolor": "#2a3f5f",
             "gridcolor": "white",
             "linecolor": "white",
             "minorgridcolor": "white",
             "startlinecolor": "#2a3f5f"
            },
            "type": "carpet"
           }
          ],
          "choropleth": [
           {
            "colorbar": {
             "outlinewidth": 0,
             "ticks": ""
            },
            "type": "choropleth"
           }
          ],
          "contour": [
           {
            "colorbar": {
             "outlinewidth": 0,
             "ticks": ""
            },
            "colorscale": [
             [
              0,
              "#0d0887"
             ],
             [
              0.1111111111111111,
              "#46039f"
             ],
             [
              0.2222222222222222,
              "#7201a8"
             ],
             [
              0.3333333333333333,
              "#9c179e"
             ],
             [
              0.4444444444444444,
              "#bd3786"
             ],
             [
              0.5555555555555556,
              "#d8576b"
             ],
             [
              0.6666666666666666,
              "#ed7953"
             ],
             [
              0.7777777777777778,
              "#fb9f3a"
             ],
             [
              0.8888888888888888,
              "#fdca26"
             ],
             [
              1,
              "#f0f921"
             ]
            ],
            "type": "contour"
           }
          ],
          "contourcarpet": [
           {
            "colorbar": {
             "outlinewidth": 0,
             "ticks": ""
            },
            "type": "contourcarpet"
           }
          ],
          "heatmap": [
           {
            "colorbar": {
             "outlinewidth": 0,
             "ticks": ""
            },
            "colorscale": [
             [
              0,
              "#0d0887"
             ],
             [
              0.1111111111111111,
              "#46039f"
             ],
             [
              0.2222222222222222,
              "#7201a8"
             ],
             [
              0.3333333333333333,
              "#9c179e"
             ],
             [
              0.4444444444444444,
              "#bd3786"
             ],
             [
              0.5555555555555556,
              "#d8576b"
             ],
             [
              0.6666666666666666,
              "#ed7953"
             ],
             [
              0.7777777777777778,
              "#fb9f3a"
             ],
             [
              0.8888888888888888,
              "#fdca26"
             ],
             [
              1,
              "#f0f921"
             ]
            ],
            "type": "heatmap"
           }
          ],
          "heatmapgl": [
           {
            "colorbar": {
             "outlinewidth": 0,
             "ticks": ""
            },
            "colorscale": [
             [
              0,
              "#0d0887"
             ],
             [
              0.1111111111111111,
              "#46039f"
             ],
             [
              0.2222222222222222,
              "#7201a8"
             ],
             [
              0.3333333333333333,
              "#9c179e"
             ],
             [
              0.4444444444444444,
              "#bd3786"
             ],
             [
              0.5555555555555556,
              "#d8576b"
             ],
             [
              0.6666666666666666,
              "#ed7953"
             ],
             [
              0.7777777777777778,
              "#fb9f3a"
             ],
             [
              0.8888888888888888,
              "#fdca26"
             ],
             [
              1,
              "#f0f921"
             ]
            ],
            "type": "heatmapgl"
           }
          ],
          "histogram": [
           {
            "marker": {
             "pattern": {
              "fillmode": "overlay",
              "size": 10,
              "solidity": 0.2
             }
            },
            "type": "histogram"
           }
          ],
          "histogram2d": [
           {
            "colorbar": {
             "outlinewidth": 0,
             "ticks": ""
            },
            "colorscale": [
             [
              0,
              "#0d0887"
             ],
             [
              0.1111111111111111,
              "#46039f"
             ],
             [
              0.2222222222222222,
              "#7201a8"
             ],
             [
              0.3333333333333333,
              "#9c179e"
             ],
             [
              0.4444444444444444,
              "#bd3786"
             ],
             [
              0.5555555555555556,
              "#d8576b"
             ],
             [
              0.6666666666666666,
              "#ed7953"
             ],
             [
              0.7777777777777778,
              "#fb9f3a"
             ],
             [
              0.8888888888888888,
              "#fdca26"
             ],
             [
              1,
              "#f0f921"
             ]
            ],
            "type": "histogram2d"
           }
          ],
          "histogram2dcontour": [
           {
            "colorbar": {
             "outlinewidth": 0,
             "ticks": ""
            },
            "colorscale": [
             [
              0,
              "#0d0887"
             ],
             [
              0.1111111111111111,
              "#46039f"
             ],
             [
              0.2222222222222222,
              "#7201a8"
             ],
             [
              0.3333333333333333,
              "#9c179e"
             ],
             [
              0.4444444444444444,
              "#bd3786"
             ],
             [
              0.5555555555555556,
              "#d8576b"
             ],
             [
              0.6666666666666666,
              "#ed7953"
             ],
             [
              0.7777777777777778,
              "#fb9f3a"
             ],
             [
              0.8888888888888888,
              "#fdca26"
             ],
             [
              1,
              "#f0f921"
             ]
            ],
            "type": "histogram2dcontour"
           }
          ],
          "mesh3d": [
           {
            "colorbar": {
             "outlinewidth": 0,
             "ticks": ""
            },
            "type": "mesh3d"
           }
          ],
          "parcoords": [
           {
            "line": {
             "colorbar": {
              "outlinewidth": 0,
              "ticks": ""
             }
            },
            "type": "parcoords"
           }
          ],
          "pie": [
           {
            "automargin": true,
            "type": "pie"
           }
          ],
          "scatter": [
           {
            "marker": {
             "colorbar": {
              "outlinewidth": 0,
              "ticks": ""
             }
            },
            "type": "scatter"
           }
          ],
          "scatter3d": [
           {
            "line": {
             "colorbar": {
              "outlinewidth": 0,
              "ticks": ""
             }
            },
            "marker": {
             "colorbar": {
              "outlinewidth": 0,
              "ticks": ""
             }
            },
            "type": "scatter3d"
           }
          ],
          "scattercarpet": [
           {
            "marker": {
             "colorbar": {
              "outlinewidth": 0,
              "ticks": ""
             }
            },
            "type": "scattercarpet"
           }
          ],
          "scattergeo": [
           {
            "marker": {
             "colorbar": {
              "outlinewidth": 0,
              "ticks": ""
             }
            },
            "type": "scattergeo"
           }
          ],
          "scattergl": [
           {
            "marker": {
             "colorbar": {
              "outlinewidth": 0,
              "ticks": ""
             }
            },
            "type": "scattergl"
           }
          ],
          "scattermapbox": [
           {
            "marker": {
             "colorbar": {
              "outlinewidth": 0,
              "ticks": ""
             }
            },
            "type": "scattermapbox"
           }
          ],
          "scatterpolar": [
           {
            "marker": {
             "colorbar": {
              "outlinewidth": 0,
              "ticks": ""
             }
            },
            "type": "scatterpolar"
           }
          ],
          "scatterpolargl": [
           {
            "marker": {
             "colorbar": {
              "outlinewidth": 0,
              "ticks": ""
             }
            },
            "type": "scatterpolargl"
           }
          ],
          "scatterternary": [
           {
            "marker": {
             "colorbar": {
              "outlinewidth": 0,
              "ticks": ""
             }
            },
            "type": "scatterternary"
           }
          ],
          "surface": [
           {
            "colorbar": {
             "outlinewidth": 0,
             "ticks": ""
            },
            "colorscale": [
             [
              0,
              "#0d0887"
             ],
             [
              0.1111111111111111,
              "#46039f"
             ],
             [
              0.2222222222222222,
              "#7201a8"
             ],
             [
              0.3333333333333333,
              "#9c179e"
             ],
             [
              0.4444444444444444,
              "#bd3786"
             ],
             [
              0.5555555555555556,
              "#d8576b"
             ],
             [
              0.6666666666666666,
              "#ed7953"
             ],
             [
              0.7777777777777778,
              "#fb9f3a"
             ],
             [
              0.8888888888888888,
              "#fdca26"
             ],
             [
              1,
              "#f0f921"
             ]
            ],
            "type": "surface"
           }
          ],
          "table": [
           {
            "cells": {
             "fill": {
              "color": "#EBF0F8"
             },
             "line": {
              "color": "white"
             }
            },
            "header": {
             "fill": {
              "color": "#C8D4E3"
             },
             "line": {
              "color": "white"
             }
            },
            "type": "table"
           }
          ]
         },
         "layout": {
          "annotationdefaults": {
           "arrowcolor": "#2a3f5f",
           "arrowhead": 0,
           "arrowwidth": 1
          },
          "autotypenumbers": "strict",
          "coloraxis": {
           "colorbar": {
            "outlinewidth": 0,
            "ticks": ""
           }
          },
          "colorscale": {
           "diverging": [
            [
             0,
             "#8e0152"
            ],
            [
             0.1,
             "#c51b7d"
            ],
            [
             0.2,
             "#de77ae"
            ],
            [
             0.3,
             "#f1b6da"
            ],
            [
             0.4,
             "#fde0ef"
            ],
            [
             0.5,
             "#f7f7f7"
            ],
            [
             0.6,
             "#e6f5d0"
            ],
            [
             0.7,
             "#b8e186"
            ],
            [
             0.8,
             "#7fbc41"
            ],
            [
             0.9,
             "#4d9221"
            ],
            [
             1,
             "#276419"
            ]
           ],
           "sequential": [
            [
             0,
             "#0d0887"
            ],
            [
             0.1111111111111111,
             "#46039f"
            ],
            [
             0.2222222222222222,
             "#7201a8"
            ],
            [
             0.3333333333333333,
             "#9c179e"
            ],
            [
             0.4444444444444444,
             "#bd3786"
            ],
            [
             0.5555555555555556,
             "#d8576b"
            ],
            [
             0.6666666666666666,
             "#ed7953"
            ],
            [
             0.7777777777777778,
             "#fb9f3a"
            ],
            [
             0.8888888888888888,
             "#fdca26"
            ],
            [
             1,
             "#f0f921"
            ]
           ],
           "sequentialminus": [
            [
             0,
             "#0d0887"
            ],
            [
             0.1111111111111111,
             "#46039f"
            ],
            [
             0.2222222222222222,
             "#7201a8"
            ],
            [
             0.3333333333333333,
             "#9c179e"
            ],
            [
             0.4444444444444444,
             "#bd3786"
            ],
            [
             0.5555555555555556,
             "#d8576b"
            ],
            [
             0.6666666666666666,
             "#ed7953"
            ],
            [
             0.7777777777777778,
             "#fb9f3a"
            ],
            [
             0.8888888888888888,
             "#fdca26"
            ],
            [
             1,
             "#f0f921"
            ]
           ]
          },
          "colorway": [
           "#636efa",
           "#EF553B",
           "#00cc96",
           "#ab63fa",
           "#FFA15A",
           "#19d3f3",
           "#FF6692",
           "#B6E880",
           "#FF97FF",
           "#FECB52"
          ],
          "font": {
           "color": "#2a3f5f"
          },
          "geo": {
           "bgcolor": "white",
           "lakecolor": "white",
           "landcolor": "#E5ECF6",
           "showlakes": true,
           "showland": true,
           "subunitcolor": "white"
          },
          "hoverlabel": {
           "align": "left"
          },
          "hovermode": "closest",
          "mapbox": {
           "style": "light"
          },
          "paper_bgcolor": "white",
          "plot_bgcolor": "#E5ECF6",
          "polar": {
           "angularaxis": {
            "gridcolor": "white",
            "linecolor": "white",
            "ticks": ""
           },
           "bgcolor": "#E5ECF6",
           "radialaxis": {
            "gridcolor": "white",
            "linecolor": "white",
            "ticks": ""
           }
          },
          "scene": {
           "xaxis": {
            "backgroundcolor": "#E5ECF6",
            "gridcolor": "white",
            "gridwidth": 2,
            "linecolor": "white",
            "showbackground": true,
            "ticks": "",
            "zerolinecolor": "white"
           },
           "yaxis": {
            "backgroundcolor": "#E5ECF6",
            "gridcolor": "white",
            "gridwidth": 2,
            "linecolor": "white",
            "showbackground": true,
            "ticks": "",
            "zerolinecolor": "white"
           },
           "zaxis": {
            "backgroundcolor": "#E5ECF6",
            "gridcolor": "white",
            "gridwidth": 2,
            "linecolor": "white",
            "showbackground": true,
            "ticks": "",
            "zerolinecolor": "white"
           }
          },
          "shapedefaults": {
           "line": {
            "color": "#2a3f5f"
           }
          },
          "ternary": {
           "aaxis": {
            "gridcolor": "white",
            "linecolor": "white",
            "ticks": ""
           },
           "baxis": {
            "gridcolor": "white",
            "linecolor": "white",
            "ticks": ""
           },
           "bgcolor": "#E5ECF6",
           "caxis": {
            "gridcolor": "white",
            "linecolor": "white",
            "ticks": ""
           }
          },
          "title": {
           "x": 0.05
          },
          "xaxis": {
           "automargin": true,
           "gridcolor": "white",
           "linecolor": "white",
           "ticks": "",
           "title": {
            "standoff": 15
           },
           "zerolinecolor": "white",
           "zerolinewidth": 2
          },
          "yaxis": {
           "automargin": true,
           "gridcolor": "white",
           "linecolor": "white",
           "ticks": "",
           "title": {
            "standoff": 15
           },
           "zerolinecolor": "white",
           "zerolinewidth": 2
          }
         }
        },
        "title": {
         "text": "Matriz de Confusão para o modelo de K-Nearest Neighbors K=4(KNNs)"
        },
        "xaxis": {
         "anchor": "y",
         "constrain": "domain",
         "domain": [
          0,
          1
         ],
         "scaleanchor": "y",
         "title": {
          "text": "Y previsto"
         }
        },
        "yaxis": {
         "anchor": "x",
         "autorange": "reversed",
         "constrain": "domain",
         "domain": [
          0,
          1
         ],
         "title": {
          "text": "Y verdadeiro"
         }
        }
       }
      }
     },
     "metadata": {},
     "output_type": "display_data"
    }
   ],
   "source": [
    "fig = px.imshow(matriz_confusao_knn4, labels=dict(x=\"Y previsto\", y=\"Y verdadeiro\", color=\"Quantidade\"),  x = ['a', 'i', 'r', 's'], y = ['a', 'i', 'r', 's'], title = 'Matriz de Confusão para o modelo de K-Nearest Neighbors K=4(KNNs)')\n",
    "fig.show()"
   ]
  },
  {
   "cell_type": "code",
   "execution_count": 65,
   "metadata": {},
   "outputs": [],
   "source": [
    "acuracia_knn4 =  acuracia(matriz_confusao_knn4)\n",
    "recall_knn4 =  recall(matriz_confusao_knn4)\n",
    "precision_knn4 =  precision(matriz_confusao_knn4)"
   ]
  },
  {
   "cell_type": "code",
   "execution_count": 66,
   "metadata": {},
   "outputs": [
    {
     "name": "stdout",
     "output_type": "stream",
     "text": [
      "A acurácia do modelo de K-Nearest Neighbors K=4 (KNNs) é 55.19534497090607%\n",
      "\n",
      "\n",
      "A recall do modelo de K-Nearest Neighbors K=4 (KNNs) é:\n",
      "56.7795210569777% para as contas tipo \"a\"\n",
      "78.83888048411498% para as contas tipo \"i\"\n",
      "52.83490294061119% para as contas tipo \"r\"\n",
      "31.245105716523103% para as contas tipo \"s\"\n",
      "\n",
      "\n",
      "A precision do modelo de K-Nearest Neighbors K=4 (KNNs) é:\n",
      "44.80646422520527% para as contas tipo \"a\"\n",
      "73.44961240310077% para as contas tipo \"i\"\n",
      "55.896705978039854% para as contas tipo \"r\"\n",
      "47.12134632418069% para as contas tipo \"s\"\n"
     ]
    }
   ],
   "source": [
    "print(f'A acurácia do modelo de K-Nearest Neighbors K=4 (KNNs) é {acuracia_knn4*100}%')\n",
    "print('\\n')\n",
    "print(f'A recall do modelo de K-Nearest Neighbors K=4 (KNNs) é:')\n",
    "print(f'{recall_knn4[0]*100}% para as contas tipo \"a\"')\n",
    "print(f'{recall_knn4[1]*100}% para as contas tipo \"i\"')\n",
    "print(f'{recall_knn4[2]*100}% para as contas tipo \"r\"')\n",
    "print(f'{recall_knn4[3]*100}% para as contas tipo \"s\"')\n",
    "print('\\n')\n",
    "print(f'A precision do modelo de K-Nearest Neighbors K=4 (KNNs) é:')\n",
    "print(f'{precision_knn4[0]*100}% para as contas tipo \"a\"')\n",
    "print(f'{precision_knn4[1]*100}% para as contas tipo \"i\"')\n",
    "print(f'{precision_knn4[2]*100}% para as contas tipo \"r\"')\n",
    "print(f'{precision_knn4[3]*100}% para as contas tipo \"s\"')"
   ]
  },
  {
   "cell_type": "markdown",
   "metadata": {},
   "source": [
    "### Decision Tree"
   ]
  },
  {
   "cell_type": "code",
   "execution_count": 67,
   "metadata": {},
   "outputs": [
    {
     "name": "stdout",
     "output_type": "stream",
     "text": [
      "[[4674    0 1381    0]\n",
      " [ 954 3537  797    0]\n",
      " [ 795   70 3473  865]\n",
      " [ 979  112  430 3587]]\n"
     ]
    }
   ],
   "source": [
    "#Predição de valores pelo modelo de Decision Tree\n",
    "Y_pred_decision = decision_tree.predict(Xval)\n",
    "matriz_confusao_decision = confusion_matrix(Yval, Y_pred_decision)\n",
    "print(matriz_confusao_decision)"
   ]
  },
  {
   "cell_type": "code",
   "execution_count": 68,
   "metadata": {},
   "outputs": [
    {
     "data": {
      "application/vnd.plotly.v1+json": {
       "config": {
        "plotlyServerURL": "https://plot.ly"
       },
       "data": [
        {
         "coloraxis": "coloraxis",
         "hovertemplate": "Y previsto: %{x}<br>Y verdadeiro: %{y}<br>Quantidade: %{z}<extra></extra>",
         "name": "0",
         "type": "heatmap",
         "x": [
          "a",
          "i",
          "r",
          "s"
         ],
         "xaxis": "x",
         "y": [
          "a",
          "i",
          "r",
          "s"
         ],
         "yaxis": "y",
         "z": [
          [
           4674,
           0,
           1381,
           0
          ],
          [
           954,
           3537,
           797,
           0
          ],
          [
           795,
           70,
           3473,
           865
          ],
          [
           979,
           112,
           430,
           3587
          ]
         ]
        }
       ],
       "layout": {
        "coloraxis": {
         "colorbar": {
          "title": {
           "text": "Quantidade"
          }
         },
         "colorscale": [
          [
           0,
           "#0d0887"
          ],
          [
           0.1111111111111111,
           "#46039f"
          ],
          [
           0.2222222222222222,
           "#7201a8"
          ],
          [
           0.3333333333333333,
           "#9c179e"
          ],
          [
           0.4444444444444444,
           "#bd3786"
          ],
          [
           0.5555555555555556,
           "#d8576b"
          ],
          [
           0.6666666666666666,
           "#ed7953"
          ],
          [
           0.7777777777777778,
           "#fb9f3a"
          ],
          [
           0.8888888888888888,
           "#fdca26"
          ],
          [
           1,
           "#f0f921"
          ]
         ]
        },
        "template": {
         "data": {
          "bar": [
           {
            "error_x": {
             "color": "#2a3f5f"
            },
            "error_y": {
             "color": "#2a3f5f"
            },
            "marker": {
             "line": {
              "color": "#E5ECF6",
              "width": 0.5
             },
             "pattern": {
              "fillmode": "overlay",
              "size": 10,
              "solidity": 0.2
             }
            },
            "type": "bar"
           }
          ],
          "barpolar": [
           {
            "marker": {
             "line": {
              "color": "#E5ECF6",
              "width": 0.5
             },
             "pattern": {
              "fillmode": "overlay",
              "size": 10,
              "solidity": 0.2
             }
            },
            "type": "barpolar"
           }
          ],
          "carpet": [
           {
            "aaxis": {
             "endlinecolor": "#2a3f5f",
             "gridcolor": "white",
             "linecolor": "white",
             "minorgridcolor": "white",
             "startlinecolor": "#2a3f5f"
            },
            "baxis": {
             "endlinecolor": "#2a3f5f",
             "gridcolor": "white",
             "linecolor": "white",
             "minorgridcolor": "white",
             "startlinecolor": "#2a3f5f"
            },
            "type": "carpet"
           }
          ],
          "choropleth": [
           {
            "colorbar": {
             "outlinewidth": 0,
             "ticks": ""
            },
            "type": "choropleth"
           }
          ],
          "contour": [
           {
            "colorbar": {
             "outlinewidth": 0,
             "ticks": ""
            },
            "colorscale": [
             [
              0,
              "#0d0887"
             ],
             [
              0.1111111111111111,
              "#46039f"
             ],
             [
              0.2222222222222222,
              "#7201a8"
             ],
             [
              0.3333333333333333,
              "#9c179e"
             ],
             [
              0.4444444444444444,
              "#bd3786"
             ],
             [
              0.5555555555555556,
              "#d8576b"
             ],
             [
              0.6666666666666666,
              "#ed7953"
             ],
             [
              0.7777777777777778,
              "#fb9f3a"
             ],
             [
              0.8888888888888888,
              "#fdca26"
             ],
             [
              1,
              "#f0f921"
             ]
            ],
            "type": "contour"
           }
          ],
          "contourcarpet": [
           {
            "colorbar": {
             "outlinewidth": 0,
             "ticks": ""
            },
            "type": "contourcarpet"
           }
          ],
          "heatmap": [
           {
            "colorbar": {
             "outlinewidth": 0,
             "ticks": ""
            },
            "colorscale": [
             [
              0,
              "#0d0887"
             ],
             [
              0.1111111111111111,
              "#46039f"
             ],
             [
              0.2222222222222222,
              "#7201a8"
             ],
             [
              0.3333333333333333,
              "#9c179e"
             ],
             [
              0.4444444444444444,
              "#bd3786"
             ],
             [
              0.5555555555555556,
              "#d8576b"
             ],
             [
              0.6666666666666666,
              "#ed7953"
             ],
             [
              0.7777777777777778,
              "#fb9f3a"
             ],
             [
              0.8888888888888888,
              "#fdca26"
             ],
             [
              1,
              "#f0f921"
             ]
            ],
            "type": "heatmap"
           }
          ],
          "heatmapgl": [
           {
            "colorbar": {
             "outlinewidth": 0,
             "ticks": ""
            },
            "colorscale": [
             [
              0,
              "#0d0887"
             ],
             [
              0.1111111111111111,
              "#46039f"
             ],
             [
              0.2222222222222222,
              "#7201a8"
             ],
             [
              0.3333333333333333,
              "#9c179e"
             ],
             [
              0.4444444444444444,
              "#bd3786"
             ],
             [
              0.5555555555555556,
              "#d8576b"
             ],
             [
              0.6666666666666666,
              "#ed7953"
             ],
             [
              0.7777777777777778,
              "#fb9f3a"
             ],
             [
              0.8888888888888888,
              "#fdca26"
             ],
             [
              1,
              "#f0f921"
             ]
            ],
            "type": "heatmapgl"
           }
          ],
          "histogram": [
           {
            "marker": {
             "pattern": {
              "fillmode": "overlay",
              "size": 10,
              "solidity": 0.2
             }
            },
            "type": "histogram"
           }
          ],
          "histogram2d": [
           {
            "colorbar": {
             "outlinewidth": 0,
             "ticks": ""
            },
            "colorscale": [
             [
              0,
              "#0d0887"
             ],
             [
              0.1111111111111111,
              "#46039f"
             ],
             [
              0.2222222222222222,
              "#7201a8"
             ],
             [
              0.3333333333333333,
              "#9c179e"
             ],
             [
              0.4444444444444444,
              "#bd3786"
             ],
             [
              0.5555555555555556,
              "#d8576b"
             ],
             [
              0.6666666666666666,
              "#ed7953"
             ],
             [
              0.7777777777777778,
              "#fb9f3a"
             ],
             [
              0.8888888888888888,
              "#fdca26"
             ],
             [
              1,
              "#f0f921"
             ]
            ],
            "type": "histogram2d"
           }
          ],
          "histogram2dcontour": [
           {
            "colorbar": {
             "outlinewidth": 0,
             "ticks": ""
            },
            "colorscale": [
             [
              0,
              "#0d0887"
             ],
             [
              0.1111111111111111,
              "#46039f"
             ],
             [
              0.2222222222222222,
              "#7201a8"
             ],
             [
              0.3333333333333333,
              "#9c179e"
             ],
             [
              0.4444444444444444,
              "#bd3786"
             ],
             [
              0.5555555555555556,
              "#d8576b"
             ],
             [
              0.6666666666666666,
              "#ed7953"
             ],
             [
              0.7777777777777778,
              "#fb9f3a"
             ],
             [
              0.8888888888888888,
              "#fdca26"
             ],
             [
              1,
              "#f0f921"
             ]
            ],
            "type": "histogram2dcontour"
           }
          ],
          "mesh3d": [
           {
            "colorbar": {
             "outlinewidth": 0,
             "ticks": ""
            },
            "type": "mesh3d"
           }
          ],
          "parcoords": [
           {
            "line": {
             "colorbar": {
              "outlinewidth": 0,
              "ticks": ""
             }
            },
            "type": "parcoords"
           }
          ],
          "pie": [
           {
            "automargin": true,
            "type": "pie"
           }
          ],
          "scatter": [
           {
            "marker": {
             "colorbar": {
              "outlinewidth": 0,
              "ticks": ""
             }
            },
            "type": "scatter"
           }
          ],
          "scatter3d": [
           {
            "line": {
             "colorbar": {
              "outlinewidth": 0,
              "ticks": ""
             }
            },
            "marker": {
             "colorbar": {
              "outlinewidth": 0,
              "ticks": ""
             }
            },
            "type": "scatter3d"
           }
          ],
          "scattercarpet": [
           {
            "marker": {
             "colorbar": {
              "outlinewidth": 0,
              "ticks": ""
             }
            },
            "type": "scattercarpet"
           }
          ],
          "scattergeo": [
           {
            "marker": {
             "colorbar": {
              "outlinewidth": 0,
              "ticks": ""
             }
            },
            "type": "scattergeo"
           }
          ],
          "scattergl": [
           {
            "marker": {
             "colorbar": {
              "outlinewidth": 0,
              "ticks": ""
             }
            },
            "type": "scattergl"
           }
          ],
          "scattermapbox": [
           {
            "marker": {
             "colorbar": {
              "outlinewidth": 0,
              "ticks": ""
             }
            },
            "type": "scattermapbox"
           }
          ],
          "scatterpolar": [
           {
            "marker": {
             "colorbar": {
              "outlinewidth": 0,
              "ticks": ""
             }
            },
            "type": "scatterpolar"
           }
          ],
          "scatterpolargl": [
           {
            "marker": {
             "colorbar": {
              "outlinewidth": 0,
              "ticks": ""
             }
            },
            "type": "scatterpolargl"
           }
          ],
          "scatterternary": [
           {
            "marker": {
             "colorbar": {
              "outlinewidth": 0,
              "ticks": ""
             }
            },
            "type": "scatterternary"
           }
          ],
          "surface": [
           {
            "colorbar": {
             "outlinewidth": 0,
             "ticks": ""
            },
            "colorscale": [
             [
              0,
              "#0d0887"
             ],
             [
              0.1111111111111111,
              "#46039f"
             ],
             [
              0.2222222222222222,
              "#7201a8"
             ],
             [
              0.3333333333333333,
              "#9c179e"
             ],
             [
              0.4444444444444444,
              "#bd3786"
             ],
             [
              0.5555555555555556,
              "#d8576b"
             ],
             [
              0.6666666666666666,
              "#ed7953"
             ],
             [
              0.7777777777777778,
              "#fb9f3a"
             ],
             [
              0.8888888888888888,
              "#fdca26"
             ],
             [
              1,
              "#f0f921"
             ]
            ],
            "type": "surface"
           }
          ],
          "table": [
           {
            "cells": {
             "fill": {
              "color": "#EBF0F8"
             },
             "line": {
              "color": "white"
             }
            },
            "header": {
             "fill": {
              "color": "#C8D4E3"
             },
             "line": {
              "color": "white"
             }
            },
            "type": "table"
           }
          ]
         },
         "layout": {
          "annotationdefaults": {
           "arrowcolor": "#2a3f5f",
           "arrowhead": 0,
           "arrowwidth": 1
          },
          "autotypenumbers": "strict",
          "coloraxis": {
           "colorbar": {
            "outlinewidth": 0,
            "ticks": ""
           }
          },
          "colorscale": {
           "diverging": [
            [
             0,
             "#8e0152"
            ],
            [
             0.1,
             "#c51b7d"
            ],
            [
             0.2,
             "#de77ae"
            ],
            [
             0.3,
             "#f1b6da"
            ],
            [
             0.4,
             "#fde0ef"
            ],
            [
             0.5,
             "#f7f7f7"
            ],
            [
             0.6,
             "#e6f5d0"
            ],
            [
             0.7,
             "#b8e186"
            ],
            [
             0.8,
             "#7fbc41"
            ],
            [
             0.9,
             "#4d9221"
            ],
            [
             1,
             "#276419"
            ]
           ],
           "sequential": [
            [
             0,
             "#0d0887"
            ],
            [
             0.1111111111111111,
             "#46039f"
            ],
            [
             0.2222222222222222,
             "#7201a8"
            ],
            [
             0.3333333333333333,
             "#9c179e"
            ],
            [
             0.4444444444444444,
             "#bd3786"
            ],
            [
             0.5555555555555556,
             "#d8576b"
            ],
            [
             0.6666666666666666,
             "#ed7953"
            ],
            [
             0.7777777777777778,
             "#fb9f3a"
            ],
            [
             0.8888888888888888,
             "#fdca26"
            ],
            [
             1,
             "#f0f921"
            ]
           ],
           "sequentialminus": [
            [
             0,
             "#0d0887"
            ],
            [
             0.1111111111111111,
             "#46039f"
            ],
            [
             0.2222222222222222,
             "#7201a8"
            ],
            [
             0.3333333333333333,
             "#9c179e"
            ],
            [
             0.4444444444444444,
             "#bd3786"
            ],
            [
             0.5555555555555556,
             "#d8576b"
            ],
            [
             0.6666666666666666,
             "#ed7953"
            ],
            [
             0.7777777777777778,
             "#fb9f3a"
            ],
            [
             0.8888888888888888,
             "#fdca26"
            ],
            [
             1,
             "#f0f921"
            ]
           ]
          },
          "colorway": [
           "#636efa",
           "#EF553B",
           "#00cc96",
           "#ab63fa",
           "#FFA15A",
           "#19d3f3",
           "#FF6692",
           "#B6E880",
           "#FF97FF",
           "#FECB52"
          ],
          "font": {
           "color": "#2a3f5f"
          },
          "geo": {
           "bgcolor": "white",
           "lakecolor": "white",
           "landcolor": "#E5ECF6",
           "showlakes": true,
           "showland": true,
           "subunitcolor": "white"
          },
          "hoverlabel": {
           "align": "left"
          },
          "hovermode": "closest",
          "mapbox": {
           "style": "light"
          },
          "paper_bgcolor": "white",
          "plot_bgcolor": "#E5ECF6",
          "polar": {
           "angularaxis": {
            "gridcolor": "white",
            "linecolor": "white",
            "ticks": ""
           },
           "bgcolor": "#E5ECF6",
           "radialaxis": {
            "gridcolor": "white",
            "linecolor": "white",
            "ticks": ""
           }
          },
          "scene": {
           "xaxis": {
            "backgroundcolor": "#E5ECF6",
            "gridcolor": "white",
            "gridwidth": 2,
            "linecolor": "white",
            "showbackground": true,
            "ticks": "",
            "zerolinecolor": "white"
           },
           "yaxis": {
            "backgroundcolor": "#E5ECF6",
            "gridcolor": "white",
            "gridwidth": 2,
            "linecolor": "white",
            "showbackground": true,
            "ticks": "",
            "zerolinecolor": "white"
           },
           "zaxis": {
            "backgroundcolor": "#E5ECF6",
            "gridcolor": "white",
            "gridwidth": 2,
            "linecolor": "white",
            "showbackground": true,
            "ticks": "",
            "zerolinecolor": "white"
           }
          },
          "shapedefaults": {
           "line": {
            "color": "#2a3f5f"
           }
          },
          "ternary": {
           "aaxis": {
            "gridcolor": "white",
            "linecolor": "white",
            "ticks": ""
           },
           "baxis": {
            "gridcolor": "white",
            "linecolor": "white",
            "ticks": ""
           },
           "bgcolor": "#E5ECF6",
           "caxis": {
            "gridcolor": "white",
            "linecolor": "white",
            "ticks": ""
           }
          },
          "title": {
           "x": 0.05
          },
          "xaxis": {
           "automargin": true,
           "gridcolor": "white",
           "linecolor": "white",
           "ticks": "",
           "title": {
            "standoff": 15
           },
           "zerolinecolor": "white",
           "zerolinewidth": 2
          },
          "yaxis": {
           "automargin": true,
           "gridcolor": "white",
           "linecolor": "white",
           "ticks": "",
           "title": {
            "standoff": 15
           },
           "zerolinecolor": "white",
           "zerolinewidth": 2
          }
         }
        },
        "title": {
         "text": "Matriz de Confusão para o modelo de Decision Tree"
        },
        "xaxis": {
         "anchor": "y",
         "constrain": "domain",
         "domain": [
          0,
          1
         ],
         "scaleanchor": "y",
         "title": {
          "text": "Y previsto"
         }
        },
        "yaxis": {
         "anchor": "x",
         "autorange": "reversed",
         "constrain": "domain",
         "domain": [
          0,
          1
         ],
         "title": {
          "text": "Y verdadeiro"
         }
        }
       }
      }
     },
     "metadata": {},
     "output_type": "display_data"
    }
   ],
   "source": [
    "fig = px.imshow(matriz_confusao_decision, labels=dict(x=\"Y previsto\", y=\"Y verdadeiro\", color=\"Quantidade\"), x = ['a', 'i', 'r', 's'], y = ['a', 'i', 'r', 's'], title = 'Matriz de Confusão para o modelo de Decision Tree')\n",
    "fig.show()"
   ]
  },
  {
   "cell_type": "code",
   "execution_count": 69,
   "metadata": {},
   "outputs": [],
   "source": [
    "acuracia_decision_tree =  acuracia(matriz_confusao_decision)\n",
    "recall_decision_tree =  recall(matriz_confusao_decision)\n",
    "precision_decision_tree =  precision(matriz_confusao_decision)"
   ]
  },
  {
   "cell_type": "code",
   "execution_count": 70,
   "metadata": {},
   "outputs": [
    {
     "name": "stdout",
     "output_type": "stream",
     "text": [
      "A acurácia do modelo de Decision Tree é 70.52276715618362%\n",
      "\n",
      "\n",
      "A recall do modelo de Decision Tree é:\n",
      "77.19240297274979% para as contas tipo \"a\"\n",
      "66.88729198184569% para as contas tipo \"i\"\n",
      "66.74995195079761% para as contas tipo \"r\"\n",
      "70.22317932654659% para as contas tipo \"s\"\n",
      "\n",
      "\n",
      "A precision do modelo de Decision Tree é:\n",
      "63.14509592002162% para as contas tipo \"a\"\n",
      "95.10621134713632% para as contas tipo \"i\"\n",
      "57.11231705311627% para as contas tipo \"r\"\n",
      "80.57053009883198% para as contas tipo \"s\"\n"
     ]
    }
   ],
   "source": [
    "print(f'A acurácia do modelo de Decision Tree é {acuracia_decision_tree*100}%')\n",
    "print('\\n')\n",
    "print(f'A recall do modelo de Decision Tree é:')\n",
    "print(f'{recall_decision_tree[0]*100}% para as contas tipo \"a\"')\n",
    "print(f'{recall_decision_tree[1]*100}% para as contas tipo \"i\"')\n",
    "print(f'{recall_decision_tree[2]*100}% para as contas tipo \"r\"')\n",
    "print(f'{recall_decision_tree[3]*100}% para as contas tipo \"s\"')\n",
    "print('\\n')\n",
    "print(f'A precision do modelo de Decision Tree é:')\n",
    "print(f'{precision_decision_tree[0]*100}% para as contas tipo \"a\"')\n",
    "print(f'{precision_decision_tree[1]*100}% para as contas tipo \"i\"')\n",
    "print(f'{precision_decision_tree[2]*100}% para as contas tipo \"r\"')\n",
    "print(f'{precision_decision_tree[3]*100}% para as contas tipo \"s\"')\n"
   ]
  },
  {
   "cell_type": "markdown",
   "metadata": {},
   "source": [
    "### Random Forest"
   ]
  },
  {
   "cell_type": "code",
   "execution_count": 71,
   "metadata": {},
   "outputs": [
    {
     "name": "stdout",
     "output_type": "stream",
     "text": [
      "[[5604    4  447    0]\n",
      " [   2 5000  285    1]\n",
      " [ 415  287 4055  446]\n",
      " [  12    6  164 4926]]\n"
     ]
    }
   ],
   "source": [
    "#Predição de valores pelo modelo de Random Forest\n",
    "Y_pred_trees = trees.predict(Xval)\n",
    "matriz_confusao_trees = confusion_matrix(Yval, Y_pred_trees)\n",
    "print(matriz_confusao_trees)"
   ]
  },
  {
   "cell_type": "code",
   "execution_count": 72,
   "metadata": {},
   "outputs": [
    {
     "data": {
      "application/vnd.plotly.v1+json": {
       "config": {
        "plotlyServerURL": "https://plot.ly"
       },
       "data": [
        {
         "coloraxis": "coloraxis",
         "hovertemplate": "Y previsto: %{x}<br>Y verdadeiro: %{y}<br>Quantidade: %{z}<extra></extra>",
         "name": "0",
         "type": "heatmap",
         "x": [
          "a",
          "i",
          "r",
          "s"
         ],
         "xaxis": "x",
         "y": [
          "a",
          "i",
          "r",
          "s"
         ],
         "yaxis": "y",
         "z": [
          [
           5604,
           4,
           447,
           0
          ],
          [
           2,
           5000,
           285,
           1
          ],
          [
           415,
           287,
           4055,
           446
          ],
          [
           12,
           6,
           164,
           4926
          ]
         ]
        }
       ],
       "layout": {
        "coloraxis": {
         "colorbar": {
          "title": {
           "text": "Quantidade"
          }
         },
         "colorscale": [
          [
           0,
           "#0d0887"
          ],
          [
           0.1111111111111111,
           "#46039f"
          ],
          [
           0.2222222222222222,
           "#7201a8"
          ],
          [
           0.3333333333333333,
           "#9c179e"
          ],
          [
           0.4444444444444444,
           "#bd3786"
          ],
          [
           0.5555555555555556,
           "#d8576b"
          ],
          [
           0.6666666666666666,
           "#ed7953"
          ],
          [
           0.7777777777777778,
           "#fb9f3a"
          ],
          [
           0.8888888888888888,
           "#fdca26"
          ],
          [
           1,
           "#f0f921"
          ]
         ]
        },
        "template": {
         "data": {
          "bar": [
           {
            "error_x": {
             "color": "#2a3f5f"
            },
            "error_y": {
             "color": "#2a3f5f"
            },
            "marker": {
             "line": {
              "color": "#E5ECF6",
              "width": 0.5
             },
             "pattern": {
              "fillmode": "overlay",
              "size": 10,
              "solidity": 0.2
             }
            },
            "type": "bar"
           }
          ],
          "barpolar": [
           {
            "marker": {
             "line": {
              "color": "#E5ECF6",
              "width": 0.5
             },
             "pattern": {
              "fillmode": "overlay",
              "size": 10,
              "solidity": 0.2
             }
            },
            "type": "barpolar"
           }
          ],
          "carpet": [
           {
            "aaxis": {
             "endlinecolor": "#2a3f5f",
             "gridcolor": "white",
             "linecolor": "white",
             "minorgridcolor": "white",
             "startlinecolor": "#2a3f5f"
            },
            "baxis": {
             "endlinecolor": "#2a3f5f",
             "gridcolor": "white",
             "linecolor": "white",
             "minorgridcolor": "white",
             "startlinecolor": "#2a3f5f"
            },
            "type": "carpet"
           }
          ],
          "choropleth": [
           {
            "colorbar": {
             "outlinewidth": 0,
             "ticks": ""
            },
            "type": "choropleth"
           }
          ],
          "contour": [
           {
            "colorbar": {
             "outlinewidth": 0,
             "ticks": ""
            },
            "colorscale": [
             [
              0,
              "#0d0887"
             ],
             [
              0.1111111111111111,
              "#46039f"
             ],
             [
              0.2222222222222222,
              "#7201a8"
             ],
             [
              0.3333333333333333,
              "#9c179e"
             ],
             [
              0.4444444444444444,
              "#bd3786"
             ],
             [
              0.5555555555555556,
              "#d8576b"
             ],
             [
              0.6666666666666666,
              "#ed7953"
             ],
             [
              0.7777777777777778,
              "#fb9f3a"
             ],
             [
              0.8888888888888888,
              "#fdca26"
             ],
             [
              1,
              "#f0f921"
             ]
            ],
            "type": "contour"
           }
          ],
          "contourcarpet": [
           {
            "colorbar": {
             "outlinewidth": 0,
             "ticks": ""
            },
            "type": "contourcarpet"
           }
          ],
          "heatmap": [
           {
            "colorbar": {
             "outlinewidth": 0,
             "ticks": ""
            },
            "colorscale": [
             [
              0,
              "#0d0887"
             ],
             [
              0.1111111111111111,
              "#46039f"
             ],
             [
              0.2222222222222222,
              "#7201a8"
             ],
             [
              0.3333333333333333,
              "#9c179e"
             ],
             [
              0.4444444444444444,
              "#bd3786"
             ],
             [
              0.5555555555555556,
              "#d8576b"
             ],
             [
              0.6666666666666666,
              "#ed7953"
             ],
             [
              0.7777777777777778,
              "#fb9f3a"
             ],
             [
              0.8888888888888888,
              "#fdca26"
             ],
             [
              1,
              "#f0f921"
             ]
            ],
            "type": "heatmap"
           }
          ],
          "heatmapgl": [
           {
            "colorbar": {
             "outlinewidth": 0,
             "ticks": ""
            },
            "colorscale": [
             [
              0,
              "#0d0887"
             ],
             [
              0.1111111111111111,
              "#46039f"
             ],
             [
              0.2222222222222222,
              "#7201a8"
             ],
             [
              0.3333333333333333,
              "#9c179e"
             ],
             [
              0.4444444444444444,
              "#bd3786"
             ],
             [
              0.5555555555555556,
              "#d8576b"
             ],
             [
              0.6666666666666666,
              "#ed7953"
             ],
             [
              0.7777777777777778,
              "#fb9f3a"
             ],
             [
              0.8888888888888888,
              "#fdca26"
             ],
             [
              1,
              "#f0f921"
             ]
            ],
            "type": "heatmapgl"
           }
          ],
          "histogram": [
           {
            "marker": {
             "pattern": {
              "fillmode": "overlay",
              "size": 10,
              "solidity": 0.2
             }
            },
            "type": "histogram"
           }
          ],
          "histogram2d": [
           {
            "colorbar": {
             "outlinewidth": 0,
             "ticks": ""
            },
            "colorscale": [
             [
              0,
              "#0d0887"
             ],
             [
              0.1111111111111111,
              "#46039f"
             ],
             [
              0.2222222222222222,
              "#7201a8"
             ],
             [
              0.3333333333333333,
              "#9c179e"
             ],
             [
              0.4444444444444444,
              "#bd3786"
             ],
             [
              0.5555555555555556,
              "#d8576b"
             ],
             [
              0.6666666666666666,
              "#ed7953"
             ],
             [
              0.7777777777777778,
              "#fb9f3a"
             ],
             [
              0.8888888888888888,
              "#fdca26"
             ],
             [
              1,
              "#f0f921"
             ]
            ],
            "type": "histogram2d"
           }
          ],
          "histogram2dcontour": [
           {
            "colorbar": {
             "outlinewidth": 0,
             "ticks": ""
            },
            "colorscale": [
             [
              0,
              "#0d0887"
             ],
             [
              0.1111111111111111,
              "#46039f"
             ],
             [
              0.2222222222222222,
              "#7201a8"
             ],
             [
              0.3333333333333333,
              "#9c179e"
             ],
             [
              0.4444444444444444,
              "#bd3786"
             ],
             [
              0.5555555555555556,
              "#d8576b"
             ],
             [
              0.6666666666666666,
              "#ed7953"
             ],
             [
              0.7777777777777778,
              "#fb9f3a"
             ],
             [
              0.8888888888888888,
              "#fdca26"
             ],
             [
              1,
              "#f0f921"
             ]
            ],
            "type": "histogram2dcontour"
           }
          ],
          "mesh3d": [
           {
            "colorbar": {
             "outlinewidth": 0,
             "ticks": ""
            },
            "type": "mesh3d"
           }
          ],
          "parcoords": [
           {
            "line": {
             "colorbar": {
              "outlinewidth": 0,
              "ticks": ""
             }
            },
            "type": "parcoords"
           }
          ],
          "pie": [
           {
            "automargin": true,
            "type": "pie"
           }
          ],
          "scatter": [
           {
            "marker": {
             "colorbar": {
              "outlinewidth": 0,
              "ticks": ""
             }
            },
            "type": "scatter"
           }
          ],
          "scatter3d": [
           {
            "line": {
             "colorbar": {
              "outlinewidth": 0,
              "ticks": ""
             }
            },
            "marker": {
             "colorbar": {
              "outlinewidth": 0,
              "ticks": ""
             }
            },
            "type": "scatter3d"
           }
          ],
          "scattercarpet": [
           {
            "marker": {
             "colorbar": {
              "outlinewidth": 0,
              "ticks": ""
             }
            },
            "type": "scattercarpet"
           }
          ],
          "scattergeo": [
           {
            "marker": {
             "colorbar": {
              "outlinewidth": 0,
              "ticks": ""
             }
            },
            "type": "scattergeo"
           }
          ],
          "scattergl": [
           {
            "marker": {
             "colorbar": {
              "outlinewidth": 0,
              "ticks": ""
             }
            },
            "type": "scattergl"
           }
          ],
          "scattermapbox": [
           {
            "marker": {
             "colorbar": {
              "outlinewidth": 0,
              "ticks": ""
             }
            },
            "type": "scattermapbox"
           }
          ],
          "scatterpolar": [
           {
            "marker": {
             "colorbar": {
              "outlinewidth": 0,
              "ticks": ""
             }
            },
            "type": "scatterpolar"
           }
          ],
          "scatterpolargl": [
           {
            "marker": {
             "colorbar": {
              "outlinewidth": 0,
              "ticks": ""
             }
            },
            "type": "scatterpolargl"
           }
          ],
          "scatterternary": [
           {
            "marker": {
             "colorbar": {
              "outlinewidth": 0,
              "ticks": ""
             }
            },
            "type": "scatterternary"
           }
          ],
          "surface": [
           {
            "colorbar": {
             "outlinewidth": 0,
             "ticks": ""
            },
            "colorscale": [
             [
              0,
              "#0d0887"
             ],
             [
              0.1111111111111111,
              "#46039f"
             ],
             [
              0.2222222222222222,
              "#7201a8"
             ],
             [
              0.3333333333333333,
              "#9c179e"
             ],
             [
              0.4444444444444444,
              "#bd3786"
             ],
             [
              0.5555555555555556,
              "#d8576b"
             ],
             [
              0.6666666666666666,
              "#ed7953"
             ],
             [
              0.7777777777777778,
              "#fb9f3a"
             ],
             [
              0.8888888888888888,
              "#fdca26"
             ],
             [
              1,
              "#f0f921"
             ]
            ],
            "type": "surface"
           }
          ],
          "table": [
           {
            "cells": {
             "fill": {
              "color": "#EBF0F8"
             },
             "line": {
              "color": "white"
             }
            },
            "header": {
             "fill": {
              "color": "#C8D4E3"
             },
             "line": {
              "color": "white"
             }
            },
            "type": "table"
           }
          ]
         },
         "layout": {
          "annotationdefaults": {
           "arrowcolor": "#2a3f5f",
           "arrowhead": 0,
           "arrowwidth": 1
          },
          "autotypenumbers": "strict",
          "coloraxis": {
           "colorbar": {
            "outlinewidth": 0,
            "ticks": ""
           }
          },
          "colorscale": {
           "diverging": [
            [
             0,
             "#8e0152"
            ],
            [
             0.1,
             "#c51b7d"
            ],
            [
             0.2,
             "#de77ae"
            ],
            [
             0.3,
             "#f1b6da"
            ],
            [
             0.4,
             "#fde0ef"
            ],
            [
             0.5,
             "#f7f7f7"
            ],
            [
             0.6,
             "#e6f5d0"
            ],
            [
             0.7,
             "#b8e186"
            ],
            [
             0.8,
             "#7fbc41"
            ],
            [
             0.9,
             "#4d9221"
            ],
            [
             1,
             "#276419"
            ]
           ],
           "sequential": [
            [
             0,
             "#0d0887"
            ],
            [
             0.1111111111111111,
             "#46039f"
            ],
            [
             0.2222222222222222,
             "#7201a8"
            ],
            [
             0.3333333333333333,
             "#9c179e"
            ],
            [
             0.4444444444444444,
             "#bd3786"
            ],
            [
             0.5555555555555556,
             "#d8576b"
            ],
            [
             0.6666666666666666,
             "#ed7953"
            ],
            [
             0.7777777777777778,
             "#fb9f3a"
            ],
            [
             0.8888888888888888,
             "#fdca26"
            ],
            [
             1,
             "#f0f921"
            ]
           ],
           "sequentialminus": [
            [
             0,
             "#0d0887"
            ],
            [
             0.1111111111111111,
             "#46039f"
            ],
            [
             0.2222222222222222,
             "#7201a8"
            ],
            [
             0.3333333333333333,
             "#9c179e"
            ],
            [
             0.4444444444444444,
             "#bd3786"
            ],
            [
             0.5555555555555556,
             "#d8576b"
            ],
            [
             0.6666666666666666,
             "#ed7953"
            ],
            [
             0.7777777777777778,
             "#fb9f3a"
            ],
            [
             0.8888888888888888,
             "#fdca26"
            ],
            [
             1,
             "#f0f921"
            ]
           ]
          },
          "colorway": [
           "#636efa",
           "#EF553B",
           "#00cc96",
           "#ab63fa",
           "#FFA15A",
           "#19d3f3",
           "#FF6692",
           "#B6E880",
           "#FF97FF",
           "#FECB52"
          ],
          "font": {
           "color": "#2a3f5f"
          },
          "geo": {
           "bgcolor": "white",
           "lakecolor": "white",
           "landcolor": "#E5ECF6",
           "showlakes": true,
           "showland": true,
           "subunitcolor": "white"
          },
          "hoverlabel": {
           "align": "left"
          },
          "hovermode": "closest",
          "mapbox": {
           "style": "light"
          },
          "paper_bgcolor": "white",
          "plot_bgcolor": "#E5ECF6",
          "polar": {
           "angularaxis": {
            "gridcolor": "white",
            "linecolor": "white",
            "ticks": ""
           },
           "bgcolor": "#E5ECF6",
           "radialaxis": {
            "gridcolor": "white",
            "linecolor": "white",
            "ticks": ""
           }
          },
          "scene": {
           "xaxis": {
            "backgroundcolor": "#E5ECF6",
            "gridcolor": "white",
            "gridwidth": 2,
            "linecolor": "white",
            "showbackground": true,
            "ticks": "",
            "zerolinecolor": "white"
           },
           "yaxis": {
            "backgroundcolor": "#E5ECF6",
            "gridcolor": "white",
            "gridwidth": 2,
            "linecolor": "white",
            "showbackground": true,
            "ticks": "",
            "zerolinecolor": "white"
           },
           "zaxis": {
            "backgroundcolor": "#E5ECF6",
            "gridcolor": "white",
            "gridwidth": 2,
            "linecolor": "white",
            "showbackground": true,
            "ticks": "",
            "zerolinecolor": "white"
           }
          },
          "shapedefaults": {
           "line": {
            "color": "#2a3f5f"
           }
          },
          "ternary": {
           "aaxis": {
            "gridcolor": "white",
            "linecolor": "white",
            "ticks": ""
           },
           "baxis": {
            "gridcolor": "white",
            "linecolor": "white",
            "ticks": ""
           },
           "bgcolor": "#E5ECF6",
           "caxis": {
            "gridcolor": "white",
            "linecolor": "white",
            "ticks": ""
           }
          },
          "title": {
           "x": 0.05
          },
          "xaxis": {
           "automargin": true,
           "gridcolor": "white",
           "linecolor": "white",
           "ticks": "",
           "title": {
            "standoff": 15
           },
           "zerolinecolor": "white",
           "zerolinewidth": 2
          },
          "yaxis": {
           "automargin": true,
           "gridcolor": "white",
           "linecolor": "white",
           "ticks": "",
           "title": {
            "standoff": 15
           },
           "zerolinecolor": "white",
           "zerolinewidth": 2
          }
         }
        },
        "title": {
         "text": "Matriz de Confusão para o modelo de Random Forest"
        },
        "xaxis": {
         "anchor": "y",
         "constrain": "domain",
         "domain": [
          0,
          1
         ],
         "scaleanchor": "y",
         "title": {
          "text": "Y previsto"
         }
        },
        "yaxis": {
         "anchor": "x",
         "autorange": "reversed",
         "constrain": "domain",
         "domain": [
          0,
          1
         ],
         "title": {
          "text": "Y verdadeiro"
         }
        }
       }
      }
     },
     "metadata": {},
     "output_type": "display_data"
    }
   ],
   "source": [
    "fig = px.imshow(matriz_confusao_trees, labels=dict(x=\"Y previsto\", y=\"Y verdadeiro\", color=\"Quantidade\"),  x = ['a', 'i', 'r', 's'], y = ['a', 'i', 'r', 's'], title = 'Matriz de Confusão para o modelo de Random Forest')\n",
    "fig.show()"
   ]
  },
  {
   "cell_type": "code",
   "execution_count": 73,
   "metadata": {},
   "outputs": [],
   "source": [
    "acuracia_random_forest =  acuracia(matriz_confusao_trees)\n",
    "recall_random_forest =  recall(matriz_confusao_trees)\n",
    "precision_random_forest =  precision(matriz_confusao_trees)"
   ]
  },
  {
   "cell_type": "code",
   "execution_count": 74,
   "metadata": {},
   "outputs": [
    {
     "name": "stdout",
     "output_type": "stream",
     "text": [
      "A acurácia do modelo de Random Forest é 90.44518333795142%\n",
      "\n",
      "\n",
      "A recall do modelo de Random Forest é:\n",
      "92.55161023947151% para as contas tipo \"a\"\n",
      "94.55370650529501% para as contas tipo \"i\"\n",
      "77.935806265616% para as contas tipo \"r\"\n",
      "96.43696162881754% para as contas tipo \"s\"\n",
      "\n",
      "\n",
      "A precision do modelo de Random Forest é:\n",
      "92.88910989557434% para as contas tipo \"a\"\n",
      "94.39305267132339% para as contas tipo \"i\"\n",
      "81.90264593011513% para as contas tipo \"r\"\n",
      "91.68062534896706% para as contas tipo \"s\"\n"
     ]
    }
   ],
   "source": [
    "\n",
    "print(f'A acurácia do modelo de Random Forest é {acuracia_random_forest*100}%')\n",
    "print('\\n')\n",
    "print(f'A recall do modelo de Random Forest é:')\n",
    "print(f'{recall_random_forest[0]*100}% para as contas tipo \"a\"')\n",
    "print(f'{recall_random_forest[1]*100}% para as contas tipo \"i\"')\n",
    "print(f'{recall_random_forest[2]*100}% para as contas tipo \"r\"')\n",
    "print(f'{recall_random_forest[3]*100}% para as contas tipo \"s\"')\n",
    "print('\\n')\n",
    "print(f'A precision do modelo de Random Forest é:')\n",
    "print(f'{precision_random_forest[0]*100}% para as contas tipo \"a\"')\n",
    "print(f'{precision_random_forest[1]*100}% para as contas tipo \"i\"')\n",
    "print(f'{precision_random_forest[2]*100}% para as contas tipo \"r\"')\n",
    "print(f'{precision_random_forest[3]*100}% para as contas tipo \"s\"')\n"
   ]
  },
  {
   "cell_type": "markdown",
   "metadata": {},
   "source": [
    "## Comparação de métricas"
   ]
  },
  {
   "cell_type": "code",
   "execution_count": 75,
   "metadata": {},
   "outputs": [
    {
     "data": {
      "text/html": [
       "<style  type=\"text/css\" >\n",
       "</style><table id=\"T_db3c6_\" ><thead>    <tr>        <th class=\"col_heading level0 col0\" ></th>        <th class=\"col_heading level0 col1\" >KNN: K=11</th>        <th class=\"col_heading level0 col2\" >KNN: K=4</th>        <th class=\"col_heading level0 col3\" >Decision Tree</th>        <th class=\"col_heading level0 col4\" >Random Forest</th>    </tr></thead><tbody>\n",
       "                <tr>\n",
       "                                <td id=\"T_db3c6_row0_col0\" class=\"data row0 col0\" >Acurácia/Score</td>\n",
       "                        <td id=\"T_db3c6_row0_col1\" class=\"data row0 col1\" >0.575459</td>\n",
       "                        <td id=\"T_db3c6_row0_col2\" class=\"data row0 col2\" >0.551953</td>\n",
       "                        <td id=\"T_db3c6_row0_col3\" class=\"data row0 col3\" >0.705228</td>\n",
       "                        <td id=\"T_db3c6_row0_col4\" class=\"data row0 col4\" >0.904452</td>\n",
       "            </tr>\n",
       "            <tr>\n",
       "                                <td id=\"T_db3c6_row1_col0\" class=\"data row1 col0\" >Sensibilidade/Recall para as classes:</td>\n",
       "                        <td id=\"T_db3c6_row1_col1\" class=\"data row1 col1\" ></td>\n",
       "                        <td id=\"T_db3c6_row1_col2\" class=\"data row1 col2\" ></td>\n",
       "                        <td id=\"T_db3c6_row1_col3\" class=\"data row1 col3\" ></td>\n",
       "                        <td id=\"T_db3c6_row1_col4\" class=\"data row1 col4\" ></td>\n",
       "            </tr>\n",
       "            <tr>\n",
       "                                <td id=\"T_db3c6_row2_col0\" class=\"data row2 col0\" >a</td>\n",
       "                        <td id=\"T_db3c6_row2_col1\" class=\"data row2 col1\" >0.583980</td>\n",
       "                        <td id=\"T_db3c6_row2_col2\" class=\"data row2 col2\" >0.567795</td>\n",
       "                        <td id=\"T_db3c6_row2_col3\" class=\"data row2 col3\" >0.771924</td>\n",
       "                        <td id=\"T_db3c6_row2_col4\" class=\"data row2 col4\" >0.925516</td>\n",
       "            </tr>\n",
       "            <tr>\n",
       "                                <td id=\"T_db3c6_row3_col0\" class=\"data row3 col0\" >i</td>\n",
       "                        <td id=\"T_db3c6_row3_col1\" class=\"data row3 col1\" >0.802950</td>\n",
       "                        <td id=\"T_db3c6_row3_col2\" class=\"data row3 col2\" >0.788389</td>\n",
       "                        <td id=\"T_db3c6_row3_col3\" class=\"data row3 col3\" >0.668873</td>\n",
       "                        <td id=\"T_db3c6_row3_col4\" class=\"data row3 col4\" >0.945537</td>\n",
       "            </tr>\n",
       "            <tr>\n",
       "                                <td id=\"T_db3c6_row4_col0\" class=\"data row4 col0\" >r</td>\n",
       "                        <td id=\"T_db3c6_row4_col1\" class=\"data row4 col1\" >0.581588</td>\n",
       "                        <td id=\"T_db3c6_row4_col2\" class=\"data row4 col2\" >0.528349</td>\n",
       "                        <td id=\"T_db3c6_row4_col3\" class=\"data row4 col3\" >0.667500</td>\n",
       "                        <td id=\"T_db3c6_row4_col4\" class=\"data row4 col4\" >0.779358</td>\n",
       "            </tr>\n",
       "            <tr>\n",
       "                                <td id=\"T_db3c6_row5_col0\" class=\"data row5 col0\" >s</td>\n",
       "                        <td id=\"T_db3c6_row5_col1\" class=\"data row5 col1\" >0.323610</td>\n",
       "                        <td id=\"T_db3c6_row5_col2\" class=\"data row5 col2\" >0.312451</td>\n",
       "                        <td id=\"T_db3c6_row5_col3\" class=\"data row5 col3\" >0.702232</td>\n",
       "                        <td id=\"T_db3c6_row5_col4\" class=\"data row5 col4\" >0.964370</td>\n",
       "            </tr>\n",
       "            <tr>\n",
       "                                <td id=\"T_db3c6_row6_col0\" class=\"data row6 col0\" >Precision para as classes:</td>\n",
       "                        <td id=\"T_db3c6_row6_col1\" class=\"data row6 col1\" ></td>\n",
       "                        <td id=\"T_db3c6_row6_col2\" class=\"data row6 col2\" ></td>\n",
       "                        <td id=\"T_db3c6_row6_col3\" class=\"data row6 col3\" ></td>\n",
       "                        <td id=\"T_db3c6_row6_col4\" class=\"data row6 col4\" ></td>\n",
       "            </tr>\n",
       "            <tr>\n",
       "                                <td id=\"T_db3c6_row7_col0\" class=\"data row7 col0\" >a</td>\n",
       "                        <td id=\"T_db3c6_row7_col1\" class=\"data row7 col1\" >0.474313</td>\n",
       "                        <td id=\"T_db3c6_row7_col2\" class=\"data row7 col2\" >0.448065</td>\n",
       "                        <td id=\"T_db3c6_row7_col3\" class=\"data row7 col3\" >0.631451</td>\n",
       "                        <td id=\"T_db3c6_row7_col4\" class=\"data row7 col4\" >0.928891</td>\n",
       "            </tr>\n",
       "            <tr>\n",
       "                                <td id=\"T_db3c6_row8_col0\" class=\"data row8 col0\" >i</td>\n",
       "                        <td id=\"T_db3c6_row8_col1\" class=\"data row8 col1\" >0.729679</td>\n",
       "                        <td id=\"T_db3c6_row8_col2\" class=\"data row8 col2\" >0.734496</td>\n",
       "                        <td id=\"T_db3c6_row8_col3\" class=\"data row8 col3\" >0.951062</td>\n",
       "                        <td id=\"T_db3c6_row8_col4\" class=\"data row8 col4\" >0.943931</td>\n",
       "            </tr>\n",
       "            <tr>\n",
       "                                <td id=\"T_db3c6_row9_col0\" class=\"data row9 col0\" >r</td>\n",
       "                        <td id=\"T_db3c6_row9_col1\" class=\"data row9 col1\" >0.590900</td>\n",
       "                        <td id=\"T_db3c6_row9_col2\" class=\"data row9 col2\" >0.558967</td>\n",
       "                        <td id=\"T_db3c6_row9_col3\" class=\"data row9 col3\" >0.571123</td>\n",
       "                        <td id=\"T_db3c6_row9_col4\" class=\"data row9 col4\" >0.819026</td>\n",
       "            </tr>\n",
       "            <tr>\n",
       "                                <td id=\"T_db3c6_row10_col0\" class=\"data row10 col0\" >s</td>\n",
       "                        <td id=\"T_db3c6_row10_col1\" class=\"data row10 col1\" >0.507211</td>\n",
       "                        <td id=\"T_db3c6_row10_col2\" class=\"data row10 col2\" >0.471213</td>\n",
       "                        <td id=\"T_db3c6_row10_col3\" class=\"data row10 col3\" >0.805705</td>\n",
       "                        <td id=\"T_db3c6_row10_col4\" class=\"data row10 col4\" >0.916806</td>\n",
       "            </tr>\n",
       "    </tbody></table>"
      ],
      "text/plain": [
       "<pandas.io.formats.style.Styler at 0x1d94d8dc7b8>"
      ]
     },
     "execution_count": 75,
     "metadata": {},
     "output_type": "execute_result"
    }
   ],
   "source": [
    "d2 = {'': ['Acurácia/Score', 'Sensibilidade/Recall para as classes:', 'a', 'i', 'r', 's','Precision para as classes:', 'a', 'i', 'r', 's'], 'KNN: K=11': [acuracia_knn11, '', recall_knn11[0], recall_knn11[1], recall_knn11[2], recall_knn11[3], '', precision_knn11[0], precision_knn11[1], precision_knn11[2], precision_knn11[3]],'KNN: K=4': [acuracia_knn4, '', recall_knn4[0], recall_knn4[1], recall_knn4[2], recall_knn4[3], '', precision_knn4[0], precision_knn4[1], precision_knn4[2], precision_knn4[3]], 'Decision Tree': [acuracia_decision_tree, '', recall_decision_tree[0], recall_decision_tree[1], recall_decision_tree[2], recall_decision_tree[3], '', precision_decision_tree[0], precision_decision_tree[1], precision_decision_tree[2], precision_decision_tree[3]], 'Random Forest': [acuracia_random_forest, '', recall_random_forest[0], recall_random_forest[1], recall_random_forest[2], recall_random_forest[3], '', precision_random_forest[0], precision_random_forest[1], precision_random_forest[2], precision_random_forest[3]]}\n",
    "df2 = pd.DataFrame(data=d2)\n",
    "pd.set_option('display.max_colwidth', None)\n",
    "df2.style.hide_index()"
   ]
  },
  {
   "cell_type": "markdown",
   "metadata": {},
   "source": [
    "## Cross Validation Score"
   ]
  },
  {
   "cell_type": "markdown",
   "metadata": {},
   "source": [
    "A Cross Validation Score é um método de avaliação da acurácia do modelo aplicado ao dataset estudada nesse [artigo](#bibliografia). Essa técnica conta com um algoritmo chamado _K-Fold_ que fragmenta aleatóriamente a base de treino, treianndo e avaliando mais uma vez \"K\" vezes as _folds_. Cada um dos _folds_ representa um oequeno modelo do dataset que é submetido a avaliações e previsões. Este algoritmo retorna uma lista de resultados referentes à acurácia da aplicação do modelo.  \n",
    "\n",
    "A partir da divisão randomica do dataset múltiplas vezes pode-se ter maior certeza sobre a acurácia do modelo."
   ]
  },
  {
   "cell_type": "markdown",
   "metadata": {},
   "source": [
    "### CV KNN11"
   ]
  },
  {
   "cell_type": "code",
   "execution_count": 76,
   "metadata": {},
   "outputs": [
    {
     "name": "stdout",
     "output_type": "stream",
     "text": [
      "A acurácia média do modelo de K-Nearest Neighbors K=11 (KNNs) é 56.92253789938564%\n",
      "A acurácia desvio padrão do modelo de K-Nearest Neighbors K=11 (KNNs) é 1.0925541942944599\n"
     ]
    }
   ],
   "source": [
    "cv_knn11 = cross_val_score(knn11, Xval, Yval, cv = 10)\n",
    "media_cv_knn11 = cv_knn11.mean()\n",
    "std_cv_knn11 = cv_knn11.std()\n",
    "print(f'A acurácia média do modelo de K-Nearest Neighbors K=11 (KNNs) é {media_cv_knn11*100}%')\n",
    "print(f'A acurácia desvio padrão do modelo de K-Nearest Neighbors K=11 (KNNs) é {std_cv_knn11*100}')"
   ]
  },
  {
   "cell_type": "markdown",
   "metadata": {},
   "source": [
    "### CV KNN4"
   ]
  },
  {
   "cell_type": "code",
   "execution_count": 77,
   "metadata": {},
   "outputs": [
    {
     "name": "stdout",
     "output_type": "stream",
     "text": [
      "A acurácia média do modelo de K-Nearest Neighbors K=4 (KNNs) é 54.604270491471176%\n",
      "A acurácia desvio padrão do modelo de K-Nearest Neighbors K=4 (KNNs) é 0.6295585565439649\n"
     ]
    }
   ],
   "source": [
    "cv_knn4 = cross_val_score(knn4, Xval, Yval, cv = 10)\n",
    "media_cv_knn4 = cv_knn4.mean()\n",
    "std_cv_knn4 = cv_knn4.std()\n",
    "print(f'A acurácia média do modelo de K-Nearest Neighbors K=4 (KNNs) é {media_cv_knn4*100}%')\n",
    "print(f'A acurácia desvio padrão do modelo de K-Nearest Neighbors K=4 (KNNs) é {std_cv_knn4*100}')"
   ]
  },
  {
   "cell_type": "markdown",
   "metadata": {},
   "source": [
    "### CV Decision Tree"
   ]
  },
  {
   "cell_type": "code",
   "execution_count": 78,
   "metadata": {},
   "outputs": [
    {
     "name": "stdout",
     "output_type": "stream",
     "text": [
      "A acurácia média do modelo de Decision Tree é 71.49237320845569%\n",
      "A acurácia desvio padrão do modelo de Decision Tree é 1.5250890471775047\n"
     ]
    }
   ],
   "source": [
    "cv_decision = cross_val_score(decision_tree, Xval, Yval, cv = 10)\n",
    "media_cv_decision = cv_decision.mean()\n",
    "std_cv_decision = cv_decision.std()\n",
    "print(f'A acurácia média do modelo de Decision Tree é {media_cv_decision*100}%')\n",
    "print(f'A acurácia desvio padrão do modelo de Decision Tree é {std_cv_decision*100}')"
   ]
  },
  {
   "cell_type": "markdown",
   "metadata": {},
   "source": [
    "### CV Random Forest"
   ]
  },
  {
   "cell_type": "code",
   "execution_count": 79,
   "metadata": {},
   "outputs": [
    {
     "name": "stdout",
     "output_type": "stream",
     "text": [
      "A acurácia média do modelo de Random Forest é 90.07111799189232%\n",
      "A acurácia desvio padrão do modelo de Random Forest é 0.41043499051942967\n"
     ]
    }
   ],
   "source": [
    "cv_forest = cross_val_score(trees, Xval, Yval, cv = 10)\n",
    "media_cv_forest = cv_forest.mean()\n",
    "std_cv_forest = cv_forest.std()\n",
    "print(f'A acurácia média do modelo de Random Forest é {media_cv_forest*100}%')\n",
    "print(f'A acurácia desvio padrão do modelo de Random Forest é {std_cv_forest*100}')"
   ]
  },
  {
   "cell_type": "markdown",
   "metadata": {},
   "source": [
    "##  Conclusão  \n",
    "    "
   ]
  },
  {
   "cell_type": "markdown",
   "metadata": {},
   "source": [
    "#### Conclusões Análise Exploratória\n",
    "\n",
    "Na análise exploratória examinamos os dados com foco na relação entre features e features com os possíveis targets.Assim, obtivemos um entendimento básico entre dados e comportamentos de variáveis. Ainda, percebemos que a correlação entre as features atinge no máximo o nível moderado, ou seja, cada uma delas tem um papel na análise predictiva da base dados e nenhuma possue correlação alta suficiente para ser descartada."
   ]
  },
  {
   "cell_type": "markdown",
   "metadata": {},
   "source": [
    "#### Conclusões Análise dos modelos Predictivos\n",
    "##### KNN's\n",
    "Em uma análise inicial buscamos prever resultados a partir do modelo KNNs, que classifica novos dados com base em uma medida de similaridade entre seus “vizinhos” mais próximos, ou seja, aqueles que têm características semelhantes às suas. A partir deste, obtivemos uma acurácia na base de testes de aproximadamente 57%, o qual apesar de ser um valor acima da escolha aleatória (25%) incentivou a busca por outros modelos que fossem mais eficazes. \n",
    "##### Decision Tree\n",
    "O segundo modelo implementado foram as  árvores de Decisão, ou Decision Trees, algoritmos de machine learning largamente utilizados, com uma estrutura de simples compreensão e que costumam apresentar bons resultados em suas previsões. A decisão na escolha no modelo se baseou além da técnica mais robusta de construção, mas também do melhor comportamento de predição em relação a outliers em comparação ao KNN's, o qual  é extremamente sensível a outliers e,ainda, necessita de um valor ótimo de K, o qual nem sempre é fácil de ser encontrado.\n",
    "Nesta previsão,pelo método Decion Trees, a acurácia do modelo foi de aproximadamente 70%.\n",
    "##### Random Forest\n",
    "O último modelo implementado foi o Random Forest Classifier, os algoritmos Random Forest são criados por várias árvores de decisão, geralmente treinados com o método de bagging, cuja ideia principal é que a combinação de modelos aumenta o resultado final. A decisão de implementar o metodo Random Forest está associado a ele  alavancar o poder de várias árvores de decisão e não depender da importância do recurso dada por uma única árvore de decisão.Ou seja, garante uma previsão com maior acurácia, a qual se comprova em nossos estudos já que obtivemos uma acurácia média de aproximadamente 90%. "
   ]
  },
  {
   "cell_type": "markdown",
   "metadata": {},
   "source": [
    "#### Proposta de Iteração\n",
    "Apesar de 90% representar uma acurácia elevada, com alta precisão e baixo risco, traz-se à tona a possibilidade de aumentarmos tal valor, por meio do aumento de dados na base, o qual em situações de uso corporativo do modelo, por exemplo: pelo Instagram, seria uma solução altamente viável."
   ]
  },
  {
   "cell_type": "markdown",
   "metadata": {},
   "source": [
    "#### Considerações finais\n",
    "Por fim, respondemos as perguntas iniciais considerando nossos resultados de forma positiva.Sim, é possível prever e classificar se usuários são fakes inativos, spam's, ativos ou até reais, a partir de uma base de dados e modelos preditivos que obtem uma alta acurácia de 90%, ou seja, com alta precisão e baixo risco.Dessa forma, há a possibilidade de revelar-se a realidade por trás de perfis do Instagram com segurança. Assim, nosso modelo torna-se altamente capaz de fazer tal prevenção e pode ajudar empresas a tomar decisões/ações em cima das classificações obtidas\n"
   ]
  },
  {
   "cell_type": "markdown",
   "metadata": {},
   "source": [
    "## F. Referências Bibliográficas    \n",
    "\n",
    "<div id=\"bibliografia\"></div>  \n",
    "\n",
    "- [Modelos de Predição | Decision Tree](https://medium.com/turing-talks/turing-talks-17-modelos-de-predição-decision-tree-610aa484cb05)\n",
    "- [Random Forest: como funciona um dos algoritmos mais populares de ML](https://medium.com/cinthiabpessanha/random-forest-como-funciona-um-dos-algoritmos-mais-populares-de-ml-cc1b8a58b3b4)\n",
    "- [Como saber se seu modelo de Machine Learning está funcionando mesmo](https://paulovasconcellos.com.br/como-saber-se-seu-modelo-de-machine-learning-está-funcionando-mesmo-a5892f6468b)\n",
    "- [Taking the Confusion Out of Confusion Matrices](https://towardsdatascience.com/taking-the-confusion-out-of-confusion-matrices-c1ce054b3d3e)\n",
    "- [KNN (K-Nearest Neighbors) #1](https://medium.com/brasil-ai/knn-k-nearest-neighbors-1-e140c82e9c4e)\n",
    "- [Por que cross validation?](https://medium.com/cinthiabpessanha/por-que-cross-validation-b4f57007834a)\n",
    "- [Um tour pelos 10 principais algoritmos de machine learning](https://ilumeo.com.br/todos-posts/2020/06/22/um-tour-pelos-10-principais-algoritmos-de-machine-learning)\n",
    "- [Estudo comparativo de modelos de aprendizado de máquina para detecção de email spam](https://bdm.unb.br/bitstream/10483/27588/1/2020_NicolasMachadoSchumacher_tcc.pdf)\n",
    "- [Decision Tree vs. Random Forest – Which Algorithm Should you Use?](https://www.analyticsvidhya.com/blog/2020/05/decision-tree-vs-random-forest-algorithm/)\n",
    "- [Are Decision Trees Robust to Outliers](https://datascience.stackexchange.com/questions/37394/are-decision-trees-robust-to-outliers)\n",
    "- [O que é acurácia?](https://blog.idwall.co/o-que-e-acuracia/)\n"
   ]
  },
  {
   "cell_type": "markdown",
   "metadata": {},
   "source": []
  }
 ],
 "metadata": {
  "interpreter": {
   "hash": "b8480431bb365df6bcb1c44b7387c7b698c6b108659e761b6ab654603c809c5e"
  },
  "kernelspec": {
   "display_name": "Python 3.8.5 64-bit ('base': conda)",
   "language": "python",
   "name": "python3"
  },
  "language_info": {
   "codemirror_mode": {
    "name": "ipython",
    "version": 3
   },
   "file_extension": ".py",
   "mimetype": "text/x-python",
   "name": "python",
   "nbconvert_exporter": "python",
   "pygments_lexer": "ipython3",
   "version": "3.9.7"
  },
  "orig_nbformat": 4
 },
 "nbformat": 4,
 "nbformat_minor": 2
}

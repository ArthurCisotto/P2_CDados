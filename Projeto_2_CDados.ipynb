{
 "cells": [
  {
   "cell_type": "markdown",
   "metadata": {},
   "source": [
    "# Projeto 2 - Ciência dos Dados"
   ]
  },
  {
   "cell_type": "markdown",
   "metadata": {},
   "source": [
    "### Proposta geral do Projeto 2: Prevendo _targets_ baseando-se em um grupo de _features_. \n",
    "### Turma A\n",
    "\n",
    "**Membros:**\n",
    "-\n",
    "+ Alessandra Yumi Carvalho Ogawa\n",
    "+ André Brito\n",
    "+ Arthur Cisotto Machado\n",
    "+ Camila Bernardi Moniz\n"
   ]
  },
  {
   "cell_type": "markdown",
   "metadata": {},
   "source": [
    "### Importando as Bibliotecas Necessárias"
   ]
  },
  {
   "cell_type": "code",
   "execution_count": 255,
   "metadata": {},
   "outputs": [],
   "source": [
    "%matplotlib inline\n",
    "import pandas as pd\n",
    "import matplotlib.pyplot as plt\n",
    "from scipy import stats \n",
    "import itertools\n",
    "import plotly.express as px\n",
    "import seaborn as sns\n",
    "import numpy as np\n",
    "import os\n",
    "import re "
   ]
  },
  {
   "cell_type": "markdown",
   "metadata": {},
   "source": [
    "## A. Introdução  \n",
    "    \"Detalhar objetivo escolhido para trabalhar neste projeto juntamente com\n",
    "    descrição da base de dados. Pesquise trabalhos na literatura que discutam o\n",
    "    tema escolhido. Para trabalhos acadêmicos, acesse\n",
    "    https://scholar.google.com.br/. Guarde as referências estudadas para citá-las\n",
    "    no seu projeto.\""
   ]
  },
  {
   "cell_type": "markdown",
   "metadata": {},
   "source": [
    "## B. Minerando Dados e Características do Dataset  \n",
    "    Se necessário, faça filtro na base de dados tanto de linhas como de colunas\n",
    "    em prol do objetivo traçado anteriormente. Descreva as variáveis finais que serão utilizadas a partir deste ponto.\n",
    "    Faça análise descritiva detalhada das variáveis, norteado pelo objetivo do\n",
    "    problema. Aqui, é interessante entender como sua variável target se\n",
    "    comporta cruzada com cada feature. Note que ao cruzar duas variáveis, pode obter o cruzamento entre: duas variáveis quantitativas; duas variáveis\n",
    "    qualitativas; ou uma de cada tipo. Cada cruzamento irá exigir ferramentas\n",
    "    descritivas distintas. A tabela a seguir apresenta algumas ferramentas descritivas vistas no curso:"
   ]
  },
  {
   "cell_type": "code",
   "execution_count": 256,
   "metadata": {},
   "outputs": [
    {
     "data": {
      "text/html": [
       "<style  type=\"text/css\" >\n",
       "</style><table id=\"T_bf0fc2c2_48c5_11ec_be20_acde48001122\" ><thead>    <tr>        <th class=\"col_heading level0 col0\" ></th>        <th class=\"col_heading level0 col1\" >Ferramentas estatísticas</th>    </tr></thead><tbody>\n",
       "                <tr>\n",
       "                                <td id=\"T_bf0fc2c2_48c5_11ec_be20_acde48001122row0_col0\" class=\"data row0 col0\" >Duas variáveis qualitativas</td>\n",
       "                        <td id=\"T_bf0fc2c2_48c5_11ec_be20_acde48001122row0_col1\" class=\"data row0 col1\" >Tabela cruzadas (com uso de normalize adequado ao problema); Gráficos de barras (empilhados ou stacked); entre outras</td>\n",
       "            </tr>\n",
       "            <tr>\n",
       "                                <td id=\"T_bf0fc2c2_48c5_11ec_be20_acde48001122row1_col0\" class=\"data row1 col0\" >Duas variáveis quantitativas</td>\n",
       "                        <td id=\"T_bf0fc2c2_48c5_11ec_be20_acde48001122row1_col1\" class=\"data row1 col1\" >Medidas de associação; Gráfico de dispersão; entre outras</td>\n",
       "            </tr>\n",
       "            <tr>\n",
       "                                <td id=\"T_bf0fc2c2_48c5_11ec_be20_acde48001122row2_col0\" class=\"data row2 col0\" >Uma variável de cada</td>\n",
       "                        <td id=\"T_bf0fc2c2_48c5_11ec_be20_acde48001122row2_col1\" class=\"data row2 col1\" >Medidas-resumo da variável quantitativa segmentando por rótulo da variável qualitativa; Histograma (ou boxplot) da variável quantitativa segmentando por rótulo da variável qualitativa; entre outras</td>\n",
       "            </tr>\n",
       "    </tbody></table>"
      ],
      "text/plain": [
       "<pandas.io.formats.style.Styler at 0x7fd892f9fe50>"
      ]
     },
     "execution_count": 256,
     "metadata": {},
     "output_type": "execute_result"
    }
   ],
   "source": [
    "d = {'': ['Duas variáveis qualitativas', 'Duas variáveis quantitativas', 'Uma variável de cada'], 'Ferramentas estatísticas': ['Tabela cruzadas (com uso de normalize adequado ao problema); Gráficos de barras (empilhados ou stacked); entre outras', 'Medidas de associação; Gráfico de dispersão; entre outras', 'Medidas-resumo da variável quantitativa segmentando por rótulo da variável qualitativa; Histograma (ou boxplot) da variável quantitativa segmentando por rótulo da variável qualitativa; entre outras']}\n",
    "df = pd.DataFrame(data=d)\n",
    "pd.set_option('display.max_colwidth', None)\n",
    "df.style.hide_index()"
   ]
  },
  {
   "cell_type": "markdown",
   "metadata": {},
   "source": [
    "    Storytelling com dados: encontre uma representação gráfica que descreva\n",
    "    bem os seus dados e que também favoreça no storytelling que pretende\n",
    "    fazer ao explicar sua linha de raciocínio às outras pessoas (seja em formato\n",
    "    escrito ou em apresentação). "
   ]
  },
  {
   "cell_type": "markdown",
   "metadata": {},
   "source": [
    "### Importando o Dataset"
   ]
  },
  {
   "cell_type": "code",
   "execution_count": 257,
   "metadata": {},
   "outputs": [
    {
     "data": {
      "text/html": [
       "<div>\n",
       "<style scoped>\n",
       "    .dataframe tbody tr th:only-of-type {\n",
       "        vertical-align: middle;\n",
       "    }\n",
       "\n",
       "    .dataframe tbody tr th {\n",
       "        vertical-align: top;\n",
       "    }\n",
       "\n",
       "    .dataframe thead th {\n",
       "        text-align: right;\n",
       "    }\n",
       "</style>\n",
       "<table border=\"1\" class=\"dataframe\">\n",
       "  <thead>\n",
       "    <tr style=\"text-align: right;\">\n",
       "      <th></th>\n",
       "      <th>pos</th>\n",
       "      <th>flw</th>\n",
       "      <th>flg</th>\n",
       "      <th>bl</th>\n",
       "      <th>pic</th>\n",
       "      <th>lin</th>\n",
       "      <th>cl</th>\n",
       "      <th>cz</th>\n",
       "      <th>ni</th>\n",
       "      <th>erl</th>\n",
       "      <th>erc</th>\n",
       "      <th>lt</th>\n",
       "      <th>hc</th>\n",
       "      <th>pr</th>\n",
       "      <th>fo</th>\n",
       "      <th>cs</th>\n",
       "      <th>pi</th>\n",
       "      <th>class</th>\n",
       "    </tr>\n",
       "  </thead>\n",
       "  <tbody>\n",
       "    <tr>\n",
       "      <th>0</th>\n",
       "      <td>69</td>\n",
       "      <td>541</td>\n",
       "      <td>440</td>\n",
       "      <td>293</td>\n",
       "      <td>1</td>\n",
       "      <td>0</td>\n",
       "      <td>223</td>\n",
       "      <td>0.000000</td>\n",
       "      <td>0.111</td>\n",
       "      <td>10.120000</td>\n",
       "      <td>0.50</td>\n",
       "      <td>0.944</td>\n",
       "      <td>0.556</td>\n",
       "      <td>0.0</td>\n",
       "      <td>0.000</td>\n",
       "      <td>0.107055</td>\n",
       "      <td>334.596802</td>\n",
       "      <td>r</td>\n",
       "    </tr>\n",
       "    <tr>\n",
       "      <th>1</th>\n",
       "      <td>9</td>\n",
       "      <td>783</td>\n",
       "      <td>803</td>\n",
       "      <td>76</td>\n",
       "      <td>1</td>\n",
       "      <td>0</td>\n",
       "      <td>101</td>\n",
       "      <td>0.000000</td>\n",
       "      <td>0.000</td>\n",
       "      <td>19.820000</td>\n",
       "      <td>1.99</td>\n",
       "      <td>0.889</td>\n",
       "      <td>0.222</td>\n",
       "      <td>0.0</td>\n",
       "      <td>0.000</td>\n",
       "      <td>0.007400</td>\n",
       "      <td>2137.979248</td>\n",
       "      <td>r</td>\n",
       "    </tr>\n",
       "    <tr>\n",
       "      <th>2</th>\n",
       "      <td>390</td>\n",
       "      <td>1200</td>\n",
       "      <td>925</td>\n",
       "      <td>103</td>\n",
       "      <td>1</td>\n",
       "      <td>0</td>\n",
       "      <td>723</td>\n",
       "      <td>0.000000</td>\n",
       "      <td>0.000</td>\n",
       "      <td>11.540000</td>\n",
       "      <td>0.76</td>\n",
       "      <td>1.000</td>\n",
       "      <td>2.389</td>\n",
       "      <td>0.0</td>\n",
       "      <td>0.000</td>\n",
       "      <td>0.221954</td>\n",
       "      <td>96.244957</td>\n",
       "      <td>r</td>\n",
       "    </tr>\n",
       "    <tr>\n",
       "      <th>3</th>\n",
       "      <td>138</td>\n",
       "      <td>1100</td>\n",
       "      <td>1000</td>\n",
       "      <td>40</td>\n",
       "      <td>1</td>\n",
       "      <td>0</td>\n",
       "      <td>24</td>\n",
       "      <td>0.166667</td>\n",
       "      <td>0.167</td>\n",
       "      <td>20.440001</td>\n",
       "      <td>1.61</td>\n",
       "      <td>0.833</td>\n",
       "      <td>0.111</td>\n",
       "      <td>0.0</td>\n",
       "      <td>0.000</td>\n",
       "      <td>0.025055</td>\n",
       "      <td>226.622437</td>\n",
       "      <td>r</td>\n",
       "    </tr>\n",
       "    <tr>\n",
       "      <th>4</th>\n",
       "      <td>1</td>\n",
       "      <td>228</td>\n",
       "      <td>487</td>\n",
       "      <td>84</td>\n",
       "      <td>1</td>\n",
       "      <td>0</td>\n",
       "      <td>30</td>\n",
       "      <td>0.000000</td>\n",
       "      <td>0.000</td>\n",
       "      <td>9.210000</td>\n",
       "      <td>1.75</td>\n",
       "      <td>1.000</td>\n",
       "      <td>0.000</td>\n",
       "      <td>0.0</td>\n",
       "      <td>0.000</td>\n",
       "      <td>0.000000</td>\n",
       "      <td>0.000000</td>\n",
       "      <td>r</td>\n",
       "    </tr>\n",
       "    <tr>\n",
       "      <th>5</th>\n",
       "      <td>17</td>\n",
       "      <td>358</td>\n",
       "      <td>298</td>\n",
       "      <td>374</td>\n",
       "      <td>1</td>\n",
       "      <td>0</td>\n",
       "      <td>122</td>\n",
       "      <td>0.000000</td>\n",
       "      <td>0.176</td>\n",
       "      <td>20.510000</td>\n",
       "      <td>1.20</td>\n",
       "      <td>0.824</td>\n",
       "      <td>0.824</td>\n",
       "      <td>0.0</td>\n",
       "      <td>0.000</td>\n",
       "      <td>0.029504</td>\n",
       "      <td>1249.813965</td>\n",
       "      <td>r</td>\n",
       "    </tr>\n",
       "    <tr>\n",
       "      <th>6</th>\n",
       "      <td>25</td>\n",
       "      <td>1100</td>\n",
       "      <td>1400</td>\n",
       "      <td>16</td>\n",
       "      <td>1</td>\n",
       "      <td>0</td>\n",
       "      <td>68</td>\n",
       "      <td>0.000000</td>\n",
       "      <td>0.111</td>\n",
       "      <td>9.120000</td>\n",
       "      <td>0.71</td>\n",
       "      <td>0.778</td>\n",
       "      <td>0.667</td>\n",
       "      <td>0.0</td>\n",
       "      <td>0.056</td>\n",
       "      <td>0.013411</td>\n",
       "      <td>1088.083862</td>\n",
       "      <td>r</td>\n",
       "    </tr>\n",
       "    <tr>\n",
       "      <th>7</th>\n",
       "      <td>77</td>\n",
       "      <td>259</td>\n",
       "      <td>2800</td>\n",
       "      <td>15</td>\n",
       "      <td>1</td>\n",
       "      <td>0</td>\n",
       "      <td>9</td>\n",
       "      <td>0.500000</td>\n",
       "      <td>0.000</td>\n",
       "      <td>13.730000</td>\n",
       "      <td>0.86</td>\n",
       "      <td>0.833</td>\n",
       "      <td>0.000</td>\n",
       "      <td>0.0</td>\n",
       "      <td>0.000</td>\n",
       "      <td>0.235294</td>\n",
       "      <td>159.321838</td>\n",
       "      <td>r</td>\n",
       "    </tr>\n",
       "    <tr>\n",
       "      <th>8</th>\n",
       "      <td>16</td>\n",
       "      <td>157</td>\n",
       "      <td>226</td>\n",
       "      <td>233</td>\n",
       "      <td>1</td>\n",
       "      <td>0</td>\n",
       "      <td>10</td>\n",
       "      <td>0.125000</td>\n",
       "      <td>0.000</td>\n",
       "      <td>24.920000</td>\n",
       "      <td>1.27</td>\n",
       "      <td>0.875</td>\n",
       "      <td>0.000</td>\n",
       "      <td>0.0</td>\n",
       "      <td>0.063</td>\n",
       "      <td>0.000000</td>\n",
       "      <td>1160.965820</td>\n",
       "      <td>r</td>\n",
       "    </tr>\n",
       "    <tr>\n",
       "      <th>9</th>\n",
       "      <td>195</td>\n",
       "      <td>717</td>\n",
       "      <td>475</td>\n",
       "      <td>118</td>\n",
       "      <td>1</td>\n",
       "      <td>0</td>\n",
       "      <td>14</td>\n",
       "      <td>0.444444</td>\n",
       "      <td>0.056</td>\n",
       "      <td>9.950000</td>\n",
       "      <td>0.96</td>\n",
       "      <td>0.944</td>\n",
       "      <td>0.111</td>\n",
       "      <td>0.0</td>\n",
       "      <td>0.000</td>\n",
       "      <td>0.191383</td>\n",
       "      <td>847.155212</td>\n",
       "      <td>r</td>\n",
       "    </tr>\n",
       "  </tbody>\n",
       "</table>\n",
       "</div>"
      ],
      "text/plain": [
       "   pos   flw   flg   bl  pic  lin   cl        cz     ni        erl   erc  \\\n",
       "0   69   541   440  293    1    0  223  0.000000  0.111  10.120000  0.50   \n",
       "1    9   783   803   76    1    0  101  0.000000  0.000  19.820000  1.99   \n",
       "2  390  1200   925  103    1    0  723  0.000000  0.000  11.540000  0.76   \n",
       "3  138  1100  1000   40    1    0   24  0.166667  0.167  20.440001  1.61   \n",
       "4    1   228   487   84    1    0   30  0.000000  0.000   9.210000  1.75   \n",
       "5   17   358   298  374    1    0  122  0.000000  0.176  20.510000  1.20   \n",
       "6   25  1100  1400   16    1    0   68  0.000000  0.111   9.120000  0.71   \n",
       "7   77   259  2800   15    1    0    9  0.500000  0.000  13.730000  0.86   \n",
       "8   16   157   226  233    1    0   10  0.125000  0.000  24.920000  1.27   \n",
       "9  195   717   475  118    1    0   14  0.444444  0.056   9.950000  0.96   \n",
       "\n",
       "      lt     hc   pr     fo        cs           pi class  \n",
       "0  0.944  0.556  0.0  0.000  0.107055   334.596802     r  \n",
       "1  0.889  0.222  0.0  0.000  0.007400  2137.979248     r  \n",
       "2  1.000  2.389  0.0  0.000  0.221954    96.244957     r  \n",
       "3  0.833  0.111  0.0  0.000  0.025055   226.622437     r  \n",
       "4  1.000  0.000  0.0  0.000  0.000000     0.000000     r  \n",
       "5  0.824  0.824  0.0  0.000  0.029504  1249.813965     r  \n",
       "6  0.778  0.667  0.0  0.056  0.013411  1088.083862     r  \n",
       "7  0.833  0.000  0.0  0.000  0.235294   159.321838     r  \n",
       "8  0.875  0.000  0.0  0.063  0.000000  1160.965820     r  \n",
       "9  0.944  0.111  0.0  0.000  0.191383   847.155212     r  "
      ]
     },
     "execution_count": 257,
     "metadata": {},
     "output_type": "execute_result"
    }
   ],
   "source": [
    "data = pd.read_csv('user_fake_authentic_4class.csv')\n",
    "data.head(10)"
   ]
  },
  {
   "cell_type": "markdown",
   "metadata": {},
   "source": [
    "### Legenda do Dataset:  "
   ]
  },
  {
   "cell_type": "code",
   "execution_count": 258,
   "metadata": {},
   "outputs": [
    {
     "data": {
      "text/html": [
       "<style  type=\"text/css\" >\n",
       "</style><table id=\"T_bf3449ee_48c5_11ec_be20_acde48001122\" ><thead>    <tr>        <th class=\"col_heading level0 col0\" >Nome da Variável</th>        <th class=\"col_heading level0 col1\" >Nome da Feature</th>        <th class=\"col_heading level0 col2\" >Descrição</th>    </tr></thead><tbody>\n",
       "                <tr>\n",
       "                                <td id=\"T_bf3449ee_48c5_11ec_be20_acde48001122row0_col0\" class=\"data row0 col0\" >pos</td>\n",
       "                        <td id=\"T_bf3449ee_48c5_11ec_be20_acde48001122row0_col1\" class=\"data row0 col1\" >Número de posts</td>\n",
       "                        <td id=\"T_bf3449ee_48c5_11ec_be20_acde48001122row0_col2\" class=\"data row0 col2\" >Número total de posts que o usuário já fez</td>\n",
       "            </tr>\n",
       "            <tr>\n",
       "                                <td id=\"T_bf3449ee_48c5_11ec_be20_acde48001122row1_col0\" class=\"data row1 col0\" >flw</td>\n",
       "                        <td id=\"T_bf3449ee_48c5_11ec_be20_acde48001122row1_col1\" class=\"data row1 col1\" >Número de seguidores</td>\n",
       "                        <td id=\"T_bf3449ee_48c5_11ec_be20_acde48001122row1_col2\" class=\"data row1 col2\" >Número de seguidores</td>\n",
       "            </tr>\n",
       "            <tr>\n",
       "                                <td id=\"T_bf3449ee_48c5_11ec_be20_acde48001122row2_col0\" class=\"data row2 col0\" >flg</td>\n",
       "                        <td id=\"T_bf3449ee_48c5_11ec_be20_acde48001122row2_col1\" class=\"data row2 col1\" >Número contas seguindo</td>\n",
       "                        <td id=\"T_bf3449ee_48c5_11ec_be20_acde48001122row2_col2\" class=\"data row2 col2\" >Número de contas que o usuário segue</td>\n",
       "            </tr>\n",
       "            <tr>\n",
       "                                <td id=\"T_bf3449ee_48c5_11ec_be20_acde48001122row3_col0\" class=\"data row3 col0\" >bl</td>\n",
       "                        <td id=\"T_bf3449ee_48c5_11ec_be20_acde48001122row3_col1\" class=\"data row3 col1\" >Tamanho da Biografia</td>\n",
       "                        <td id=\"T_bf3449ee_48c5_11ec_be20_acde48001122row3_col2\" class=\"data row3 col2\" >Número de caracteres da biografia do usuário</td>\n",
       "            </tr>\n",
       "            <tr>\n",
       "                                <td id=\"T_bf3449ee_48c5_11ec_be20_acde48001122row4_col0\" class=\"data row4 col0\" >pic</td>\n",
       "                        <td id=\"T_bf3449ee_48c5_11ec_be20_acde48001122row4_col1\" class=\"data row4 col1\" >Disponibilidade de Foto</td>\n",
       "                        <td id=\"T_bf3449ee_48c5_11ec_be20_acde48001122row4_col2\" class=\"data row4 col2\" >Valor 0 se o usuário não tem foto de perfil, 1 caso contrário</td>\n",
       "            </tr>\n",
       "            <tr>\n",
       "                                <td id=\"T_bf3449ee_48c5_11ec_be20_acde48001122row5_col0\" class=\"data row5 col0\" >lin</td>\n",
       "                        <td id=\"T_bf3449ee_48c5_11ec_be20_acde48001122row5_col1\" class=\"data row5 col1\" >Disponibilidade de Link</td>\n",
       "                        <td id=\"T_bf3449ee_48c5_11ec_be20_acde48001122row5_col2\" class=\"data row5 col2\" >Valor 0 se o usuário não tem Link externo no perfil, 1 caso contrário</td>\n",
       "            </tr>\n",
       "            <tr>\n",
       "                                <td id=\"T_bf3449ee_48c5_11ec_be20_acde48001122row6_col0\" class=\"data row6 col0\" >cl</td>\n",
       "                        <td id=\"T_bf3449ee_48c5_11ec_be20_acde48001122row6_col1\" class=\"data row6 col1\" >Tamanho médio da Legenda</td>\n",
       "                        <td id=\"T_bf3449ee_48c5_11ec_be20_acde48001122row6_col2\" class=\"data row6 col2\" >Número médio de caracteres nas legendas dos posts do usuário</td>\n",
       "            </tr>\n",
       "            <tr>\n",
       "                                <td id=\"T_bf3449ee_48c5_11ec_be20_acde48001122row7_col0\" class=\"data row7 col0\" >cz</td>\n",
       "                        <td id=\"T_bf3449ee_48c5_11ec_be20_acde48001122row7_col1\" class=\"data row7 col1\" >Legenda Zero</td>\n",
       "                        <td id=\"T_bf3449ee_48c5_11ec_be20_acde48001122row7_col2\" class=\"data row7 col2\" >Porcentagem (0.0 a 1.0) de legendas que possuem quase 0 (<=3) caracteres</td>\n",
       "            </tr>\n",
       "            <tr>\n",
       "                                <td id=\"T_bf3449ee_48c5_11ec_be20_acde48001122row8_col0\" class=\"data row8 col0\" >ni</td>\n",
       "                        <td id=\"T_bf3449ee_48c5_11ec_be20_acde48001122row8_col1\" class=\"data row8 col1\" >Porcentagem Sem Imagem</td>\n",
       "                        <td id=\"T_bf3449ee_48c5_11ec_be20_acde48001122row8_col2\" class=\"data row8 col2\" >Porcentagem (0.0 a 1.0) de posts que não são do tipo imagem (Existem 3 tipos de mídia em um post no Instagram, imagem, vídeo e carrosel)</td>\n",
       "            </tr>\n",
       "            <tr>\n",
       "                                <td id=\"T_bf3449ee_48c5_11ec_be20_acde48001122row9_col0\" class=\"data row9 col0\" >erl</td>\n",
       "                        <td id=\"T_bf3449ee_48c5_11ec_be20_acde48001122row9_col1\" class=\"data row9 col1\" >Taxa de Engajamento (Like)</td>\n",
       "                        <td id=\"T_bf3449ee_48c5_11ec_be20_acde48001122row9_col2\" class=\"data row9 col2\" >Número de Likes dividido pelo Número de Seguidores</td>\n",
       "            </tr>\n",
       "            <tr>\n",
       "                                <td id=\"T_bf3449ee_48c5_11ec_be20_acde48001122row10_col0\" class=\"data row10 col0\" >erc</td>\n",
       "                        <td id=\"T_bf3449ee_48c5_11ec_be20_acde48001122row10_col1\" class=\"data row10 col1\" >Taxa de Engajamento (Comentário)</td>\n",
       "                        <td id=\"T_bf3449ee_48c5_11ec_be20_acde48001122row10_col2\" class=\"data row10 col2\" >Número de Comentários dividiodo pelo Número de Seguidores</td>\n",
       "            </tr>\n",
       "            <tr>\n",
       "                                <td id=\"T_bf3449ee_48c5_11ec_be20_acde48001122row11_col0\" class=\"data row11 col0\" >lt</td>\n",
       "                        <td id=\"T_bf3449ee_48c5_11ec_be20_acde48001122row11_col1\" class=\"data row11 col1\" >Porcentagem de Localização</td>\n",
       "                        <td id=\"T_bf3449ee_48c5_11ec_be20_acde48001122row11_col2\" class=\"data row11 col2\" >Porcentagem (0.0 a 1.0) de posts com tag de localização</td>\n",
       "            </tr>\n",
       "            <tr>\n",
       "                                <td id=\"T_bf3449ee_48c5_11ec_be20_acde48001122row12_col0\" class=\"data row12 col0\" >hc</td>\n",
       "                        <td id=\"T_bf3449ee_48c5_11ec_be20_acde48001122row12_col1\" class=\"data row12 col1\" >Média de uso de Hashtags</td>\n",
       "                        <td id=\"T_bf3449ee_48c5_11ec_be20_acde48001122row12_col2\" class=\"data row12 col2\" >Número médio de hashtags usadas em um post</td>\n",
       "            </tr>\n",
       "            <tr>\n",
       "                                <td id=\"T_bf3449ee_48c5_11ec_be20_acde48001122row13_col0\" class=\"data row13 col0\" >pr</td>\n",
       "                        <td id=\"T_bf3449ee_48c5_11ec_be20_acde48001122row13_col1\" class=\"data row13 col1\" >Palavras-Chave Promocionais</td>\n",
       "                        <td id=\"T_bf3449ee_48c5_11ec_be20_acde48001122row13_col2\" class=\"data row13 col2\" >Número médio de palavras-chave promocionais em hashtags (por exemplo, regrann, contest, repost, giveaway, mention, share, give away, quiz, etc)</td>\n",
       "            </tr>\n",
       "            <tr>\n",
       "                                <td id=\"T_bf3449ee_48c5_11ec_be20_acde48001122row14_col0\" class=\"data row14 col0\" >fo</td>\n",
       "                        <td id=\"T_bf3449ee_48c5_11ec_be20_acde48001122row14_col1\" class=\"data row14 col1\" >Palavras-Chave Seguidores</td>\n",
       "                        <td id=\"T_bf3449ee_48c5_11ec_be20_acde48001122row14_col2\" class=\"data row14 col2\" >Número médio de palavras-chave procurando seguidores em hashtags (por exemplo, follow, like, folback, follback, f4f, etc)</td>\n",
       "            </tr>\n",
       "            <tr>\n",
       "                                <td id=\"T_bf3449ee_48c5_11ec_be20_acde48001122row15_col0\" class=\"data row15 col0\" >cs</td>\n",
       "                        <td id=\"T_bf3449ee_48c5_11ec_be20_acde48001122row15_col1\" class=\"data row15 col1\" >Similaridade por Cosseno</td>\n",
       "                        <td id=\"T_bf3449ee_48c5_11ec_be20_acde48001122row15_col2\" class=\"data row15 col2\" >Medida da similaridade de entre dois vetores (posts) num espaço vetorial que avalia o valor do cosseno do ângulo compreendido entre eles.</td>\n",
       "            </tr>\n",
       "            <tr>\n",
       "                                <td id=\"T_bf3449ee_48c5_11ec_be20_acde48001122row16_col0\" class=\"data row16 col0\" >pi</td>\n",
       "                        <td id=\"T_bf3449ee_48c5_11ec_be20_acde48001122row16_col1\" class=\"data row16 col1\" >Intervalo de Posts</td>\n",
       "                        <td id=\"T_bf3449ee_48c5_11ec_be20_acde48001122row16_col2\" class=\"data row16 col2\" >Intervalo de tempo médio entre posts (em horas)</td>\n",
       "            </tr>\n",
       "            <tr>\n",
       "                                <td id=\"T_bf3449ee_48c5_11ec_be20_acde48001122row17_col0\" class=\"data row17 col0\" >class</td>\n",
       "                        <td id=\"T_bf3449ee_48c5_11ec_be20_acde48001122row17_col1\" class=\"data row17 col1\" >Classe de Usuários</td>\n",
       "                        <td id=\"T_bf3449ee_48c5_11ec_be20_acde48001122row17_col2\" class=\"data row17 col2\" >Classes 2-class: r (usuários reais/autenticados), f (Usuário fake / Comprou seguidores) | Classes 4-class: r (usuários reais/autenticados), a (Usuário fake Ativo), i (Usuário fake Inativo), s (Usuário fake Spam). Note que as 3 classes de usuário fake (a, i, s) foram determinadas por avaliadores humanos.</td>\n",
       "            </tr>\n",
       "    </tbody></table>"
      ],
      "text/plain": [
       "<pandas.io.formats.style.Styler at 0x7fd89255a610>"
      ]
     },
     "execution_count": 258,
     "metadata": {},
     "output_type": "execute_result"
    }
   ],
   "source": [
    "d1 = {'Nome da Variável': ['pos','flw', 'flg', 'bl', 'pic', 'lin', 'cl','cz','ni','erl', 'erc', 'lt', 'hc', 'pr', 'fo', 'cs', 'pi', 'class'], 'Nome da Feature': ['Número de posts', 'Número de seguidores', 'Número contas seguindo', 'Tamanho da Biografia', 'Disponibilidade de Foto', 'Disponibilidade de Link', 'Tamanho médio da Legenda', 'Legenda Zero', 'Porcentagem Sem Imagem', 'Taxa de Engajamento (Like)', 'Taxa de Engajamento (Comentário)', 'Porcentagem de Localização', 'Média de uso de Hashtags', 'Palavras-Chave Promocionais', 'Palavras-Chave Seguidores', 'Similaridade por Cosseno', 'Intervalo de Posts', 'Classe de Usuários'], 'Descrição': ['Número total de posts que o usuário já fez', 'Número de seguidores', 'Número de contas que o usuário segue', 'Número de caracteres da biografia do usuário', 'Valor 0 se o usuário não tem foto de perfil, 1 caso contrário', 'Valor 0 se o usuário não tem Link externo no perfil, 1 caso contrário', 'Número médio de caracteres nas legendas dos posts do usuário', 'Porcentagem (0.0 a 1.0) de legendas que possuem quase 0 (<=3) caracteres', 'Porcentagem (0.0 a 1.0) de posts que não são do tipo imagem (Existem 3 tipos de mídia em um post no Instagram, imagem, vídeo e carrosel)', 'Número de Likes dividido pelo Número de Seguidores', 'Número de Comentários dividiodo pelo Número de Seguidores', 'Porcentagem (0.0 a 1.0) de posts com tag de localização', 'Número médio de hashtags usadas em um post', 'Número médio de palavras-chave promocionais em hashtags (por exemplo, regrann, contest, repost, giveaway, mention, share, give away, quiz, etc)', 'Número médio de palavras-chave procurando seguidores em hashtags (por exemplo, follow, like, folback, follback, f4f, etc)', 'Medida da similaridade de entre dois vetores (posts) num espaço vetorial que avalia o valor do cosseno do ângulo compreendido entre eles.', 'Intervalo de tempo médio entre posts (em horas)', 'Classes 2-class: r (usuários reais/autenticados), f (Usuário fake / Comprou seguidores) | Classes 4-class: r (usuários reais/autenticados), a (Usuário fake Ativo), i (Usuário fake Inativo), s (Usuário fake Spam). Note que as 3 classes de usuário fake (a, i, s) foram determinadas por avaliadores humanos.' ]}\n",
    "df1 = pd.DataFrame(data=d1)\n",
    "pd.set_option('display.max_colwidth', None)\n",
    "df1.style.hide_index()\n"
   ]
  },
  {
   "cell_type": "markdown",
   "metadata": {},
   "source": [
    "## Análise Exploratória"
   ]
  },
  {
   "cell_type": "markdown",
   "metadata": {},
   "source": [
    "### Relação entre features\n",
    "Primeiramente, verificamos se existem correlações fortes entre features diferentes.  \n",
    "Se existirem 2 features diferentes fortemente relacionadas podemos descartar alguma delas para facilitar a análise dos dados."
   ]
  },
  {
   "cell_type": "code",
   "execution_count": 259,
   "metadata": {},
   "outputs": [
    {
     "data": {
      "text/html": [
       "<div>\n",
       "<style scoped>\n",
       "    .dataframe tbody tr th:only-of-type {\n",
       "        vertical-align: middle;\n",
       "    }\n",
       "\n",
       "    .dataframe tbody tr th {\n",
       "        vertical-align: top;\n",
       "    }\n",
       "\n",
       "    .dataframe thead th {\n",
       "        text-align: right;\n",
       "    }\n",
       "</style>\n",
       "<table border=\"1\" class=\"dataframe\">\n",
       "  <thead>\n",
       "    <tr style=\"text-align: right;\">\n",
       "      <th></th>\n",
       "      <th>pos</th>\n",
       "      <th>flw</th>\n",
       "      <th>flg</th>\n",
       "      <th>bl</th>\n",
       "      <th>pic</th>\n",
       "      <th>lin</th>\n",
       "      <th>cl</th>\n",
       "      <th>cz</th>\n",
       "      <th>ni</th>\n",
       "      <th>erl</th>\n",
       "      <th>erc</th>\n",
       "      <th>lt</th>\n",
       "      <th>hc</th>\n",
       "      <th>pr</th>\n",
       "      <th>fo</th>\n",
       "      <th>cs</th>\n",
       "      <th>pi</th>\n",
       "    </tr>\n",
       "  </thead>\n",
       "  <tbody>\n",
       "    <tr>\n",
       "      <th>pos</th>\n",
       "      <td>1.000000</td>\n",
       "      <td>0.166695</td>\n",
       "      <td>0.038562</td>\n",
       "      <td>0.141610</td>\n",
       "      <td>0.055275</td>\n",
       "      <td>0.139939</td>\n",
       "      <td>0.191024</td>\n",
       "      <td>-0.063103</td>\n",
       "      <td>0.064128</td>\n",
       "      <td>-0.024753</td>\n",
       "      <td>-0.029045</td>\n",
       "      <td>0.025164</td>\n",
       "      <td>0.011754</td>\n",
       "      <td>0.027358</td>\n",
       "      <td>-0.009527</td>\n",
       "      <td>-0.028462</td>\n",
       "      <td>-0.070077</td>\n",
       "    </tr>\n",
       "    <tr>\n",
       "      <th>flw</th>\n",
       "      <td>0.166695</td>\n",
       "      <td>1.000000</td>\n",
       "      <td>0.008143</td>\n",
       "      <td>0.048008</td>\n",
       "      <td>0.013466</td>\n",
       "      <td>0.060522</td>\n",
       "      <td>0.042617</td>\n",
       "      <td>-0.022574</td>\n",
       "      <td>0.024401</td>\n",
       "      <td>-0.006315</td>\n",
       "      <td>-0.007753</td>\n",
       "      <td>0.020658</td>\n",
       "      <td>0.009011</td>\n",
       "      <td>-0.000612</td>\n",
       "      <td>-0.001073</td>\n",
       "      <td>-0.018352</td>\n",
       "      <td>-0.009618</td>\n",
       "    </tr>\n",
       "    <tr>\n",
       "      <th>flg</th>\n",
       "      <td>0.038562</td>\n",
       "      <td>0.008143</td>\n",
       "      <td>1.000000</td>\n",
       "      <td>0.031344</td>\n",
       "      <td>-0.117024</td>\n",
       "      <td>0.015255</td>\n",
       "      <td>-0.106933</td>\n",
       "      <td>0.165158</td>\n",
       "      <td>-0.098679</td>\n",
       "      <td>0.033867</td>\n",
       "      <td>-0.005908</td>\n",
       "      <td>-0.093101</td>\n",
       "      <td>-0.038603</td>\n",
       "      <td>-0.076363</td>\n",
       "      <td>0.016669</td>\n",
       "      <td>0.195926</td>\n",
       "      <td>-0.051608</td>\n",
       "    </tr>\n",
       "    <tr>\n",
       "      <th>bl</th>\n",
       "      <td>0.141610</td>\n",
       "      <td>0.048008</td>\n",
       "      <td>0.031344</td>\n",
       "      <td>1.000000</td>\n",
       "      <td>0.166773</td>\n",
       "      <td>0.366875</td>\n",
       "      <td>0.295858</td>\n",
       "      <td>-0.212018</td>\n",
       "      <td>0.121772</td>\n",
       "      <td>-0.025033</td>\n",
       "      <td>-0.034935</td>\n",
       "      <td>0.218418</td>\n",
       "      <td>0.165403</td>\n",
       "      <td>-0.017546</td>\n",
       "      <td>0.031489</td>\n",
       "      <td>-0.167572</td>\n",
       "      <td>-0.065453</td>\n",
       "    </tr>\n",
       "    <tr>\n",
       "      <th>pic</th>\n",
       "      <td>0.055275</td>\n",
       "      <td>0.013466</td>\n",
       "      <td>-0.117024</td>\n",
       "      <td>0.166773</td>\n",
       "      <td>1.000000</td>\n",
       "      <td>0.091341</td>\n",
       "      <td>0.132968</td>\n",
       "      <td>0.113378</td>\n",
       "      <td>0.145210</td>\n",
       "      <td>-0.015730</td>\n",
       "      <td>-0.016664</td>\n",
       "      <td>0.133094</td>\n",
       "      <td>0.066943</td>\n",
       "      <td>0.033606</td>\n",
       "      <td>0.005830</td>\n",
       "      <td>-0.285706</td>\n",
       "      <td>0.105846</td>\n",
       "    </tr>\n",
       "    <tr>\n",
       "      <th>lin</th>\n",
       "      <td>0.139939</td>\n",
       "      <td>0.060522</td>\n",
       "      <td>0.015255</td>\n",
       "      <td>0.366875</td>\n",
       "      <td>0.091341</td>\n",
       "      <td>1.000000</td>\n",
       "      <td>0.239230</td>\n",
       "      <td>-0.141152</td>\n",
       "      <td>0.068616</td>\n",
       "      <td>-0.025193</td>\n",
       "      <td>-0.032901</td>\n",
       "      <td>0.147633</td>\n",
       "      <td>0.087192</td>\n",
       "      <td>-0.019877</td>\n",
       "      <td>0.009055</td>\n",
       "      <td>-0.078826</td>\n",
       "      <td>-0.047884</td>\n",
       "    </tr>\n",
       "    <tr>\n",
       "      <th>cl</th>\n",
       "      <td>0.191024</td>\n",
       "      <td>0.042617</td>\n",
       "      <td>-0.106933</td>\n",
       "      <td>0.295858</td>\n",
       "      <td>0.132968</td>\n",
       "      <td>0.239230</td>\n",
       "      <td>1.000000</td>\n",
       "      <td>-0.342882</td>\n",
       "      <td>0.088381</td>\n",
       "      <td>-0.034115</td>\n",
       "      <td>-0.037111</td>\n",
       "      <td>0.061298</td>\n",
       "      <td>0.191118</td>\n",
       "      <td>0.262864</td>\n",
       "      <td>0.071502</td>\n",
       "      <td>-0.158918</td>\n",
       "      <td>-0.075580</td>\n",
       "    </tr>\n",
       "    <tr>\n",
       "      <th>cz</th>\n",
       "      <td>-0.063103</td>\n",
       "      <td>-0.022574</td>\n",
       "      <td>0.165158</td>\n",
       "      <td>-0.212018</td>\n",
       "      <td>0.113378</td>\n",
       "      <td>-0.141152</td>\n",
       "      <td>-0.342882</td>\n",
       "      <td>1.000000</td>\n",
       "      <td>-0.094043</td>\n",
       "      <td>0.075819</td>\n",
       "      <td>0.078008</td>\n",
       "      <td>-0.171646</td>\n",
       "      <td>-0.202589</td>\n",
       "      <td>-0.080290</td>\n",
       "      <td>-0.054557</td>\n",
       "      <td>0.270140</td>\n",
       "      <td>0.065315</td>\n",
       "    </tr>\n",
       "    <tr>\n",
       "      <th>ni</th>\n",
       "      <td>0.064128</td>\n",
       "      <td>0.024401</td>\n",
       "      <td>-0.098679</td>\n",
       "      <td>0.121772</td>\n",
       "      <td>0.145210</td>\n",
       "      <td>0.068616</td>\n",
       "      <td>0.088381</td>\n",
       "      <td>-0.094043</td>\n",
       "      <td>1.000000</td>\n",
       "      <td>-0.017700</td>\n",
       "      <td>-0.018242</td>\n",
       "      <td>0.210334</td>\n",
       "      <td>0.055417</td>\n",
       "      <td>-0.024935</td>\n",
       "      <td>-0.005014</td>\n",
       "      <td>-0.273763</td>\n",
       "      <td>0.038901</td>\n",
       "    </tr>\n",
       "    <tr>\n",
       "      <th>erl</th>\n",
       "      <td>-0.024753</td>\n",
       "      <td>-0.006315</td>\n",
       "      <td>0.033867</td>\n",
       "      <td>-0.025033</td>\n",
       "      <td>-0.015730</td>\n",
       "      <td>-0.025193</td>\n",
       "      <td>-0.034115</td>\n",
       "      <td>0.075819</td>\n",
       "      <td>-0.017700</td>\n",
       "      <td>1.000000</td>\n",
       "      <td>0.440497</td>\n",
       "      <td>-0.009019</td>\n",
       "      <td>0.027886</td>\n",
       "      <td>-0.006053</td>\n",
       "      <td>0.033943</td>\n",
       "      <td>-0.036677</td>\n",
       "      <td>-0.002977</td>\n",
       "    </tr>\n",
       "    <tr>\n",
       "      <th>erc</th>\n",
       "      <td>-0.029045</td>\n",
       "      <td>-0.007753</td>\n",
       "      <td>-0.005908</td>\n",
       "      <td>-0.034935</td>\n",
       "      <td>-0.016664</td>\n",
       "      <td>-0.032901</td>\n",
       "      <td>-0.037111</td>\n",
       "      <td>0.078008</td>\n",
       "      <td>-0.018242</td>\n",
       "      <td>0.440497</td>\n",
       "      <td>1.000000</td>\n",
       "      <td>-0.004940</td>\n",
       "      <td>0.034758</td>\n",
       "      <td>0.014698</td>\n",
       "      <td>0.032646</td>\n",
       "      <td>-0.067143</td>\n",
       "      <td>0.005570</td>\n",
       "    </tr>\n",
       "    <tr>\n",
       "      <th>lt</th>\n",
       "      <td>0.025164</td>\n",
       "      <td>0.020658</td>\n",
       "      <td>-0.093101</td>\n",
       "      <td>0.218418</td>\n",
       "      <td>0.133094</td>\n",
       "      <td>0.147633</td>\n",
       "      <td>0.061298</td>\n",
       "      <td>-0.171646</td>\n",
       "      <td>0.210334</td>\n",
       "      <td>-0.009019</td>\n",
       "      <td>-0.004940</td>\n",
       "      <td>1.000000</td>\n",
       "      <td>0.124301</td>\n",
       "      <td>-0.063438</td>\n",
       "      <td>0.008034</td>\n",
       "      <td>-0.285055</td>\n",
       "      <td>0.101460</td>\n",
       "    </tr>\n",
       "    <tr>\n",
       "      <th>hc</th>\n",
       "      <td>0.011754</td>\n",
       "      <td>0.009011</td>\n",
       "      <td>-0.038603</td>\n",
       "      <td>0.165403</td>\n",
       "      <td>0.066943</td>\n",
       "      <td>0.087192</td>\n",
       "      <td>0.191118</td>\n",
       "      <td>-0.202589</td>\n",
       "      <td>0.055417</td>\n",
       "      <td>0.027886</td>\n",
       "      <td>0.034758</td>\n",
       "      <td>0.124301</td>\n",
       "      <td>1.000000</td>\n",
       "      <td>0.139947</td>\n",
       "      <td>0.377892</td>\n",
       "      <td>-0.162472</td>\n",
       "      <td>0.025071</td>\n",
       "    </tr>\n",
       "    <tr>\n",
       "      <th>pr</th>\n",
       "      <td>0.027358</td>\n",
       "      <td>-0.000612</td>\n",
       "      <td>-0.076363</td>\n",
       "      <td>-0.017546</td>\n",
       "      <td>0.033606</td>\n",
       "      <td>-0.019877</td>\n",
       "      <td>0.262864</td>\n",
       "      <td>-0.080290</td>\n",
       "      <td>-0.024935</td>\n",
       "      <td>-0.006053</td>\n",
       "      <td>0.014698</td>\n",
       "      <td>-0.063438</td>\n",
       "      <td>0.139947</td>\n",
       "      <td>1.000000</td>\n",
       "      <td>0.079571</td>\n",
       "      <td>-0.076957</td>\n",
       "      <td>-0.015310</td>\n",
       "    </tr>\n",
       "    <tr>\n",
       "      <th>fo</th>\n",
       "      <td>-0.009527</td>\n",
       "      <td>-0.001073</td>\n",
       "      <td>0.016669</td>\n",
       "      <td>0.031489</td>\n",
       "      <td>0.005830</td>\n",
       "      <td>0.009055</td>\n",
       "      <td>0.071502</td>\n",
       "      <td>-0.054557</td>\n",
       "      <td>-0.005014</td>\n",
       "      <td>0.033943</td>\n",
       "      <td>0.032646</td>\n",
       "      <td>0.008034</td>\n",
       "      <td>0.377892</td>\n",
       "      <td>0.079571</td>\n",
       "      <td>1.000000</td>\n",
       "      <td>-0.030671</td>\n",
       "      <td>-0.014232</td>\n",
       "    </tr>\n",
       "    <tr>\n",
       "      <th>cs</th>\n",
       "      <td>-0.028462</td>\n",
       "      <td>-0.018352</td>\n",
       "      <td>0.195926</td>\n",
       "      <td>-0.167572</td>\n",
       "      <td>-0.285706</td>\n",
       "      <td>-0.078826</td>\n",
       "      <td>-0.158918</td>\n",
       "      <td>0.270140</td>\n",
       "      <td>-0.273763</td>\n",
       "      <td>-0.036677</td>\n",
       "      <td>-0.067143</td>\n",
       "      <td>-0.285055</td>\n",
       "      <td>-0.162472</td>\n",
       "      <td>-0.076957</td>\n",
       "      <td>-0.030671</td>\n",
       "      <td>1.000000</td>\n",
       "      <td>-0.150720</td>\n",
       "    </tr>\n",
       "    <tr>\n",
       "      <th>pi</th>\n",
       "      <td>-0.070077</td>\n",
       "      <td>-0.009618</td>\n",
       "      <td>-0.051608</td>\n",
       "      <td>-0.065453</td>\n",
       "      <td>0.105846</td>\n",
       "      <td>-0.047884</td>\n",
       "      <td>-0.075580</td>\n",
       "      <td>0.065315</td>\n",
       "      <td>0.038901</td>\n",
       "      <td>-0.002977</td>\n",
       "      <td>0.005570</td>\n",
       "      <td>0.101460</td>\n",
       "      <td>0.025071</td>\n",
       "      <td>-0.015310</td>\n",
       "      <td>-0.014232</td>\n",
       "      <td>-0.150720</td>\n",
       "      <td>1.000000</td>\n",
       "    </tr>\n",
       "  </tbody>\n",
       "</table>\n",
       "</div>"
      ],
      "text/plain": [
       "          pos       flw       flg        bl       pic       lin        cl  \\\n",
       "pos  1.000000  0.166695  0.038562  0.141610  0.055275  0.139939  0.191024   \n",
       "flw  0.166695  1.000000  0.008143  0.048008  0.013466  0.060522  0.042617   \n",
       "flg  0.038562  0.008143  1.000000  0.031344 -0.117024  0.015255 -0.106933   \n",
       "bl   0.141610  0.048008  0.031344  1.000000  0.166773  0.366875  0.295858   \n",
       "pic  0.055275  0.013466 -0.117024  0.166773  1.000000  0.091341  0.132968   \n",
       "lin  0.139939  0.060522  0.015255  0.366875  0.091341  1.000000  0.239230   \n",
       "cl   0.191024  0.042617 -0.106933  0.295858  0.132968  0.239230  1.000000   \n",
       "cz  -0.063103 -0.022574  0.165158 -0.212018  0.113378 -0.141152 -0.342882   \n",
       "ni   0.064128  0.024401 -0.098679  0.121772  0.145210  0.068616  0.088381   \n",
       "erl -0.024753 -0.006315  0.033867 -0.025033 -0.015730 -0.025193 -0.034115   \n",
       "erc -0.029045 -0.007753 -0.005908 -0.034935 -0.016664 -0.032901 -0.037111   \n",
       "lt   0.025164  0.020658 -0.093101  0.218418  0.133094  0.147633  0.061298   \n",
       "hc   0.011754  0.009011 -0.038603  0.165403  0.066943  0.087192  0.191118   \n",
       "pr   0.027358 -0.000612 -0.076363 -0.017546  0.033606 -0.019877  0.262864   \n",
       "fo  -0.009527 -0.001073  0.016669  0.031489  0.005830  0.009055  0.071502   \n",
       "cs  -0.028462 -0.018352  0.195926 -0.167572 -0.285706 -0.078826 -0.158918   \n",
       "pi  -0.070077 -0.009618 -0.051608 -0.065453  0.105846 -0.047884 -0.075580   \n",
       "\n",
       "           cz        ni       erl       erc        lt        hc        pr  \\\n",
       "pos -0.063103  0.064128 -0.024753 -0.029045  0.025164  0.011754  0.027358   \n",
       "flw -0.022574  0.024401 -0.006315 -0.007753  0.020658  0.009011 -0.000612   \n",
       "flg  0.165158 -0.098679  0.033867 -0.005908 -0.093101 -0.038603 -0.076363   \n",
       "bl  -0.212018  0.121772 -0.025033 -0.034935  0.218418  0.165403 -0.017546   \n",
       "pic  0.113378  0.145210 -0.015730 -0.016664  0.133094  0.066943  0.033606   \n",
       "lin -0.141152  0.068616 -0.025193 -0.032901  0.147633  0.087192 -0.019877   \n",
       "cl  -0.342882  0.088381 -0.034115 -0.037111  0.061298  0.191118  0.262864   \n",
       "cz   1.000000 -0.094043  0.075819  0.078008 -0.171646 -0.202589 -0.080290   \n",
       "ni  -0.094043  1.000000 -0.017700 -0.018242  0.210334  0.055417 -0.024935   \n",
       "erl  0.075819 -0.017700  1.000000  0.440497 -0.009019  0.027886 -0.006053   \n",
       "erc  0.078008 -0.018242  0.440497  1.000000 -0.004940  0.034758  0.014698   \n",
       "lt  -0.171646  0.210334 -0.009019 -0.004940  1.000000  0.124301 -0.063438   \n",
       "hc  -0.202589  0.055417  0.027886  0.034758  0.124301  1.000000  0.139947   \n",
       "pr  -0.080290 -0.024935 -0.006053  0.014698 -0.063438  0.139947  1.000000   \n",
       "fo  -0.054557 -0.005014  0.033943  0.032646  0.008034  0.377892  0.079571   \n",
       "cs   0.270140 -0.273763 -0.036677 -0.067143 -0.285055 -0.162472 -0.076957   \n",
       "pi   0.065315  0.038901 -0.002977  0.005570  0.101460  0.025071 -0.015310   \n",
       "\n",
       "           fo        cs        pi  \n",
       "pos -0.009527 -0.028462 -0.070077  \n",
       "flw -0.001073 -0.018352 -0.009618  \n",
       "flg  0.016669  0.195926 -0.051608  \n",
       "bl   0.031489 -0.167572 -0.065453  \n",
       "pic  0.005830 -0.285706  0.105846  \n",
       "lin  0.009055 -0.078826 -0.047884  \n",
       "cl   0.071502 -0.158918 -0.075580  \n",
       "cz  -0.054557  0.270140  0.065315  \n",
       "ni  -0.005014 -0.273763  0.038901  \n",
       "erl  0.033943 -0.036677 -0.002977  \n",
       "erc  0.032646 -0.067143  0.005570  \n",
       "lt   0.008034 -0.285055  0.101460  \n",
       "hc   0.377892 -0.162472  0.025071  \n",
       "pr   0.079571 -0.076957 -0.015310  \n",
       "fo   1.000000 -0.030671 -0.014232  \n",
       "cs  -0.030671  1.000000 -0.150720  \n",
       "pi  -0.014232 -0.150720  1.000000  "
      ]
     },
     "execution_count": 259,
     "metadata": {},
     "output_type": "execute_result"
    }
   ],
   "source": [
    "data.corr()"
   ]
  },
  {
   "cell_type": "code",
   "execution_count": 260,
   "metadata": {},
   "outputs": [
    {
     "data": {
      "application/vnd.plotly.v1+json": {
       "config": {
        "plotlyServerURL": "https://plot.ly"
       },
       "data": [
        {
         "coloraxis": "coloraxis",
         "hovertemplate": "Features: %{x}<br>Features: %{y}<br>Correlação: %{z}<extra></extra>",
         "name": "0",
         "type": "heatmap",
         "x": [
          "pos",
          "flw",
          "flg",
          "bl",
          "pic",
          "lin",
          "cl",
          "cz",
          "ni",
          "erl",
          "erc",
          "lt",
          "hc",
          "pr",
          "fo",
          "cs",
          "pi"
         ],
         "xaxis": "x",
         "y": [
          "pos",
          "flw",
          "flg",
          "bl",
          "pic",
          "lin",
          "cl",
          "cz",
          "ni",
          "erl",
          "erc",
          "lt",
          "hc",
          "pr",
          "fo",
          "cs",
          "pi"
         ],
         "yaxis": "y",
         "z": [
          [
           1,
           0.16669460422878848,
           0.038561824657316085,
           0.14161017777664167,
           0.055274922909291625,
           0.13993918414702206,
           0.1910239587255785,
           -0.06310337746963554,
           0.06412792536238575,
           -0.024753183318312146,
           -0.029044836857618238,
           0.025164301563245166,
           0.011754339515394476,
           0.02735778442167947,
           -0.009527452160490736,
           -0.0284623045034291,
           -0.07007721984982518
          ],
          [
           0.16669460422878848,
           1,
           0.008143379878373718,
           0.04800767777005317,
           0.013465960811032627,
           0.06052224732916071,
           0.04261736652433952,
           -0.022574226048212492,
           0.02440122354635977,
           -0.006314730314817977,
           -0.007753308555735093,
           0.020657502954517456,
           0.00901125890383276,
           -0.0006118441750312456,
           -0.0010726433583793467,
           -0.018352066870972215,
           -0.0096184448229297
          ],
          [
           0.038561824657316085,
           0.008143379878373718,
           1,
           0.03134405748067299,
           -0.11702444062900613,
           0.015255344038740274,
           -0.10693307131040619,
           0.16515834159571052,
           -0.09867867441393323,
           0.033866894776510906,
           -0.005908104321471552,
           -0.0931006378353477,
           -0.038603463377387515,
           -0.07636272413109656,
           0.016669451207629568,
           0.19592596594377726,
           -0.05160794301338634
          ],
          [
           0.14161017777664167,
           0.04800767777005317,
           0.03134405748067299,
           1,
           0.16677272031794663,
           0.36687458764706443,
           0.29585798247869727,
           -0.2120176240203226,
           0.12177214000649876,
           -0.025033231378185108,
           -0.034934507106484644,
           0.21841847924809138,
           0.16540304350356325,
           -0.017545683469371458,
           0.03148865765418286,
           -0.16757183415815216,
           -0.06545282496059594
          ],
          [
           0.055274922909291625,
           0.013465960811032627,
           -0.11702444062900613,
           0.16677272031794663,
           1,
           0.09134105490437562,
           0.13296808191250994,
           0.11337761934197342,
           0.14521036700897907,
           -0.01573006170941454,
           -0.01666361778468547,
           0.13309378204211036,
           0.06694320833049298,
           0.033605538305336795,
           0.005829669835223944,
           -0.28570627660707515,
           0.10584599351740206
          ],
          [
           0.13993918414702206,
           0.06052224732916071,
           0.015255344038740274,
           0.36687458764706443,
           0.09134105490437562,
           1,
           0.23923011919500886,
           -0.14115219168864865,
           0.06861642483651043,
           -0.02519293530079962,
           -0.032901390665192924,
           0.1476327422901282,
           0.08719166048620029,
           -0.019877422337437656,
           0.009055112274464969,
           -0.07882619503020467,
           -0.04788425954144753
          ],
          [
           0.1910239587255785,
           0.04261736652433952,
           -0.10693307131040619,
           0.29585798247869727,
           0.13296808191250994,
           0.23923011919500886,
           1,
           -0.3428821083645478,
           0.08838089157889108,
           -0.034115280554780435,
           -0.03711063161065385,
           0.06129780766107373,
           0.19111805909001914,
           0.2628638753176676,
           0.07150191991768866,
           -0.15891762546743068,
           -0.07558014371046465
          ],
          [
           -0.06310337746963554,
           -0.022574226048212492,
           0.16515834159571052,
           -0.2120176240203226,
           0.11337761934197342,
           -0.14115219168864865,
           -0.3428821083645478,
           1,
           -0.09404328676794244,
           0.07581856310232557,
           0.0780084447189816,
           -0.17164585141431707,
           -0.20258887037070092,
           -0.08029022613277426,
           -0.05455716767839727,
           0.270140248480423,
           0.06531495864830576
          ],
          [
           0.06412792536238575,
           0.02440122354635977,
           -0.09867867441393323,
           0.12177214000649876,
           0.14521036700897907,
           0.06861642483651043,
           0.08838089157889108,
           -0.09404328676794244,
           1,
           -0.017700468388174455,
           -0.018241705420559483,
           0.21033438822597525,
           0.05541678040815285,
           -0.02493471438479449,
           -0.0050138472618892075,
           -0.27376340887424483,
           0.03890083905865793
          ],
          [
           -0.024753183318312146,
           -0.006314730314817977,
           0.033866894776510906,
           -0.025033231378185108,
           -0.01573006170941454,
           -0.02519293530079962,
           -0.034115280554780435,
           0.07581856310232557,
           -0.017700468388174455,
           1,
           0.44049679787446205,
           -0.009019452137696659,
           0.02788613601191591,
           -0.006053055001751637,
           0.03394329797991823,
           -0.036677307045928524,
           -0.002976858729355504
          ],
          [
           -0.029044836857618238,
           -0.007753308555735093,
           -0.005908104321471552,
           -0.034934507106484644,
           -0.01666361778468547,
           -0.032901390665192924,
           -0.03711063161065385,
           0.0780084447189816,
           -0.018241705420559483,
           0.44049679787446205,
           1,
           -0.004940418700424827,
           0.03475848375036312,
           0.014698104466900761,
           0.032645561753192325,
           -0.06714288392820118,
           0.005570279820298829
          ],
          [
           0.025164301563245166,
           0.020657502954517456,
           -0.0931006378353477,
           0.21841847924809138,
           0.13309378204211036,
           0.1476327422901282,
           0.06129780766107373,
           -0.17164585141431707,
           0.21033438822597525,
           -0.009019452137696659,
           -0.004940418700424827,
           1,
           0.12430140975929756,
           -0.06343841143907167,
           0.00803412324689963,
           -0.285055481349621,
           0.10145988224516737
          ],
          [
           0.011754339515394476,
           0.00901125890383276,
           -0.038603463377387515,
           0.16540304350356325,
           0.06694320833049298,
           0.08719166048620029,
           0.19111805909001914,
           -0.20258887037070092,
           0.05541678040815285,
           0.02788613601191591,
           0.03475848375036312,
           0.12430140975929756,
           1,
           0.13994710112850148,
           0.37789202870242217,
           -0.1624724581305284,
           0.02507056117939776
          ],
          [
           0.02735778442167947,
           -0.0006118441750312456,
           -0.07636272413109656,
           -0.017545683469371458,
           0.033605538305336795,
           -0.019877422337437656,
           0.2628638753176676,
           -0.08029022613277426,
           -0.02493471438479449,
           -0.006053055001751637,
           0.014698104466900761,
           -0.06343841143907167,
           0.13994710112850148,
           1,
           0.07957063964253004,
           -0.07695724088019885,
           -0.015309545904451908
          ],
          [
           -0.009527452160490736,
           -0.0010726433583793467,
           0.016669451207629568,
           0.03148865765418286,
           0.005829669835223944,
           0.009055112274464969,
           0.07150191991768866,
           -0.05455716767839727,
           -0.0050138472618892075,
           0.03394329797991823,
           0.032645561753192325,
           0.00803412324689963,
           0.37789202870242217,
           0.07957063964253004,
           1,
           -0.03067094314994312,
           -0.014232314376412338
          ],
          [
           -0.0284623045034291,
           -0.018352066870972215,
           0.19592596594377726,
           -0.16757183415815216,
           -0.28570627660707515,
           -0.07882619503020467,
           -0.15891762546743068,
           0.270140248480423,
           -0.27376340887424483,
           -0.036677307045928524,
           -0.06714288392820118,
           -0.285055481349621,
           -0.1624724581305284,
           -0.07695724088019885,
           -0.03067094314994312,
           1,
           -0.15072047100059943
          ],
          [
           -0.07007721984982518,
           -0.0096184448229297,
           -0.05160794301338634,
           -0.06545282496059594,
           0.10584599351740206,
           -0.04788425954144753,
           -0.07558014371046465,
           0.06531495864830576,
           0.03890083905865793,
           -0.002976858729355504,
           0.005570279820298829,
           0.10145988224516737,
           0.02507056117939776,
           -0.015309545904451908,
           -0.014232314376412338,
           -0.15072047100059943,
           1
          ]
         ]
        }
       ],
       "layout": {
        "coloraxis": {
         "cmax": 1,
         "cmin": -1,
         "colorbar": {
          "title": {
           "text": "Correlação"
          }
         },
         "colorscale": [
          [
           0,
           "#0d0887"
          ],
          [
           0.1111111111111111,
           "#46039f"
          ],
          [
           0.2222222222222222,
           "#7201a8"
          ],
          [
           0.3333333333333333,
           "#9c179e"
          ],
          [
           0.4444444444444444,
           "#bd3786"
          ],
          [
           0.5555555555555556,
           "#d8576b"
          ],
          [
           0.6666666666666666,
           "#ed7953"
          ],
          [
           0.7777777777777778,
           "#fb9f3a"
          ],
          [
           0.8888888888888888,
           "#fdca26"
          ],
          [
           1,
           "#f0f921"
          ]
         ]
        },
        "margin": {
         "t": 60
        },
        "template": {
         "data": {
          "bar": [
           {
            "error_x": {
             "color": "#2a3f5f"
            },
            "error_y": {
             "color": "#2a3f5f"
            },
            "marker": {
             "line": {
              "color": "#E5ECF6",
              "width": 0.5
             },
             "pattern": {
              "fillmode": "overlay",
              "size": 10,
              "solidity": 0.2
             }
            },
            "type": "bar"
           }
          ],
          "barpolar": [
           {
            "marker": {
             "line": {
              "color": "#E5ECF6",
              "width": 0.5
             },
             "pattern": {
              "fillmode": "overlay",
              "size": 10,
              "solidity": 0.2
             }
            },
            "type": "barpolar"
           }
          ],
          "carpet": [
           {
            "aaxis": {
             "endlinecolor": "#2a3f5f",
             "gridcolor": "white",
             "linecolor": "white",
             "minorgridcolor": "white",
             "startlinecolor": "#2a3f5f"
            },
            "baxis": {
             "endlinecolor": "#2a3f5f",
             "gridcolor": "white",
             "linecolor": "white",
             "minorgridcolor": "white",
             "startlinecolor": "#2a3f5f"
            },
            "type": "carpet"
           }
          ],
          "choropleth": [
           {
            "colorbar": {
             "outlinewidth": 0,
             "ticks": ""
            },
            "type": "choropleth"
           }
          ],
          "contour": [
           {
            "colorbar": {
             "outlinewidth": 0,
             "ticks": ""
            },
            "colorscale": [
             [
              0,
              "#0d0887"
             ],
             [
              0.1111111111111111,
              "#46039f"
             ],
             [
              0.2222222222222222,
              "#7201a8"
             ],
             [
              0.3333333333333333,
              "#9c179e"
             ],
             [
              0.4444444444444444,
              "#bd3786"
             ],
             [
              0.5555555555555556,
              "#d8576b"
             ],
             [
              0.6666666666666666,
              "#ed7953"
             ],
             [
              0.7777777777777778,
              "#fb9f3a"
             ],
             [
              0.8888888888888888,
              "#fdca26"
             ],
             [
              1,
              "#f0f921"
             ]
            ],
            "type": "contour"
           }
          ],
          "contourcarpet": [
           {
            "colorbar": {
             "outlinewidth": 0,
             "ticks": ""
            },
            "type": "contourcarpet"
           }
          ],
          "heatmap": [
           {
            "colorbar": {
             "outlinewidth": 0,
             "ticks": ""
            },
            "colorscale": [
             [
              0,
              "#0d0887"
             ],
             [
              0.1111111111111111,
              "#46039f"
             ],
             [
              0.2222222222222222,
              "#7201a8"
             ],
             [
              0.3333333333333333,
              "#9c179e"
             ],
             [
              0.4444444444444444,
              "#bd3786"
             ],
             [
              0.5555555555555556,
              "#d8576b"
             ],
             [
              0.6666666666666666,
              "#ed7953"
             ],
             [
              0.7777777777777778,
              "#fb9f3a"
             ],
             [
              0.8888888888888888,
              "#fdca26"
             ],
             [
              1,
              "#f0f921"
             ]
            ],
            "type": "heatmap"
           }
          ],
          "heatmapgl": [
           {
            "colorbar": {
             "outlinewidth": 0,
             "ticks": ""
            },
            "colorscale": [
             [
              0,
              "#0d0887"
             ],
             [
              0.1111111111111111,
              "#46039f"
             ],
             [
              0.2222222222222222,
              "#7201a8"
             ],
             [
              0.3333333333333333,
              "#9c179e"
             ],
             [
              0.4444444444444444,
              "#bd3786"
             ],
             [
              0.5555555555555556,
              "#d8576b"
             ],
             [
              0.6666666666666666,
              "#ed7953"
             ],
             [
              0.7777777777777778,
              "#fb9f3a"
             ],
             [
              0.8888888888888888,
              "#fdca26"
             ],
             [
              1,
              "#f0f921"
             ]
            ],
            "type": "heatmapgl"
           }
          ],
          "histogram": [
           {
            "marker": {
             "pattern": {
              "fillmode": "overlay",
              "size": 10,
              "solidity": 0.2
             }
            },
            "type": "histogram"
           }
          ],
          "histogram2d": [
           {
            "colorbar": {
             "outlinewidth": 0,
             "ticks": ""
            },
            "colorscale": [
             [
              0,
              "#0d0887"
             ],
             [
              0.1111111111111111,
              "#46039f"
             ],
             [
              0.2222222222222222,
              "#7201a8"
             ],
             [
              0.3333333333333333,
              "#9c179e"
             ],
             [
              0.4444444444444444,
              "#bd3786"
             ],
             [
              0.5555555555555556,
              "#d8576b"
             ],
             [
              0.6666666666666666,
              "#ed7953"
             ],
             [
              0.7777777777777778,
              "#fb9f3a"
             ],
             [
              0.8888888888888888,
              "#fdca26"
             ],
             [
              1,
              "#f0f921"
             ]
            ],
            "type": "histogram2d"
           }
          ],
          "histogram2dcontour": [
           {
            "colorbar": {
             "outlinewidth": 0,
             "ticks": ""
            },
            "colorscale": [
             [
              0,
              "#0d0887"
             ],
             [
              0.1111111111111111,
              "#46039f"
             ],
             [
              0.2222222222222222,
              "#7201a8"
             ],
             [
              0.3333333333333333,
              "#9c179e"
             ],
             [
              0.4444444444444444,
              "#bd3786"
             ],
             [
              0.5555555555555556,
              "#d8576b"
             ],
             [
              0.6666666666666666,
              "#ed7953"
             ],
             [
              0.7777777777777778,
              "#fb9f3a"
             ],
             [
              0.8888888888888888,
              "#fdca26"
             ],
             [
              1,
              "#f0f921"
             ]
            ],
            "type": "histogram2dcontour"
           }
          ],
          "mesh3d": [
           {
            "colorbar": {
             "outlinewidth": 0,
             "ticks": ""
            },
            "type": "mesh3d"
           }
          ],
          "parcoords": [
           {
            "line": {
             "colorbar": {
              "outlinewidth": 0,
              "ticks": ""
             }
            },
            "type": "parcoords"
           }
          ],
          "pie": [
           {
            "automargin": true,
            "type": "pie"
           }
          ],
          "scatter": [
           {
            "marker": {
             "colorbar": {
              "outlinewidth": 0,
              "ticks": ""
             }
            },
            "type": "scatter"
           }
          ],
          "scatter3d": [
           {
            "line": {
             "colorbar": {
              "outlinewidth": 0,
              "ticks": ""
             }
            },
            "marker": {
             "colorbar": {
              "outlinewidth": 0,
              "ticks": ""
             }
            },
            "type": "scatter3d"
           }
          ],
          "scattercarpet": [
           {
            "marker": {
             "colorbar": {
              "outlinewidth": 0,
              "ticks": ""
             }
            },
            "type": "scattercarpet"
           }
          ],
          "scattergeo": [
           {
            "marker": {
             "colorbar": {
              "outlinewidth": 0,
              "ticks": ""
             }
            },
            "type": "scattergeo"
           }
          ],
          "scattergl": [
           {
            "marker": {
             "colorbar": {
              "outlinewidth": 0,
              "ticks": ""
             }
            },
            "type": "scattergl"
           }
          ],
          "scattermapbox": [
           {
            "marker": {
             "colorbar": {
              "outlinewidth": 0,
              "ticks": ""
             }
            },
            "type": "scattermapbox"
           }
          ],
          "scatterpolar": [
           {
            "marker": {
             "colorbar": {
              "outlinewidth": 0,
              "ticks": ""
             }
            },
            "type": "scatterpolar"
           }
          ],
          "scatterpolargl": [
           {
            "marker": {
             "colorbar": {
              "outlinewidth": 0,
              "ticks": ""
             }
            },
            "type": "scatterpolargl"
           }
          ],
          "scatterternary": [
           {
            "marker": {
             "colorbar": {
              "outlinewidth": 0,
              "ticks": ""
             }
            },
            "type": "scatterternary"
           }
          ],
          "surface": [
           {
            "colorbar": {
             "outlinewidth": 0,
             "ticks": ""
            },
            "colorscale": [
             [
              0,
              "#0d0887"
             ],
             [
              0.1111111111111111,
              "#46039f"
             ],
             [
              0.2222222222222222,
              "#7201a8"
             ],
             [
              0.3333333333333333,
              "#9c179e"
             ],
             [
              0.4444444444444444,
              "#bd3786"
             ],
             [
              0.5555555555555556,
              "#d8576b"
             ],
             [
              0.6666666666666666,
              "#ed7953"
             ],
             [
              0.7777777777777778,
              "#fb9f3a"
             ],
             [
              0.8888888888888888,
              "#fdca26"
             ],
             [
              1,
              "#f0f921"
             ]
            ],
            "type": "surface"
           }
          ],
          "table": [
           {
            "cells": {
             "fill": {
              "color": "#EBF0F8"
             },
             "line": {
              "color": "white"
             }
            },
            "header": {
             "fill": {
              "color": "#C8D4E3"
             },
             "line": {
              "color": "white"
             }
            },
            "type": "table"
           }
          ]
         },
         "layout": {
          "annotationdefaults": {
           "arrowcolor": "#2a3f5f",
           "arrowhead": 0,
           "arrowwidth": 1
          },
          "autotypenumbers": "strict",
          "coloraxis": {
           "colorbar": {
            "outlinewidth": 0,
            "ticks": ""
           }
          },
          "colorscale": {
           "diverging": [
            [
             0,
             "#8e0152"
            ],
            [
             0.1,
             "#c51b7d"
            ],
            [
             0.2,
             "#de77ae"
            ],
            [
             0.3,
             "#f1b6da"
            ],
            [
             0.4,
             "#fde0ef"
            ],
            [
             0.5,
             "#f7f7f7"
            ],
            [
             0.6,
             "#e6f5d0"
            ],
            [
             0.7,
             "#b8e186"
            ],
            [
             0.8,
             "#7fbc41"
            ],
            [
             0.9,
             "#4d9221"
            ],
            [
             1,
             "#276419"
            ]
           ],
           "sequential": [
            [
             0,
             "#0d0887"
            ],
            [
             0.1111111111111111,
             "#46039f"
            ],
            [
             0.2222222222222222,
             "#7201a8"
            ],
            [
             0.3333333333333333,
             "#9c179e"
            ],
            [
             0.4444444444444444,
             "#bd3786"
            ],
            [
             0.5555555555555556,
             "#d8576b"
            ],
            [
             0.6666666666666666,
             "#ed7953"
            ],
            [
             0.7777777777777778,
             "#fb9f3a"
            ],
            [
             0.8888888888888888,
             "#fdca26"
            ],
            [
             1,
             "#f0f921"
            ]
           ],
           "sequentialminus": [
            [
             0,
             "#0d0887"
            ],
            [
             0.1111111111111111,
             "#46039f"
            ],
            [
             0.2222222222222222,
             "#7201a8"
            ],
            [
             0.3333333333333333,
             "#9c179e"
            ],
            [
             0.4444444444444444,
             "#bd3786"
            ],
            [
             0.5555555555555556,
             "#d8576b"
            ],
            [
             0.6666666666666666,
             "#ed7953"
            ],
            [
             0.7777777777777778,
             "#fb9f3a"
            ],
            [
             0.8888888888888888,
             "#fdca26"
            ],
            [
             1,
             "#f0f921"
            ]
           ]
          },
          "colorway": [
           "#636efa",
           "#EF553B",
           "#00cc96",
           "#ab63fa",
           "#FFA15A",
           "#19d3f3",
           "#FF6692",
           "#B6E880",
           "#FF97FF",
           "#FECB52"
          ],
          "font": {
           "color": "#2a3f5f"
          },
          "geo": {
           "bgcolor": "white",
           "lakecolor": "white",
           "landcolor": "#E5ECF6",
           "showlakes": true,
           "showland": true,
           "subunitcolor": "white"
          },
          "hoverlabel": {
           "align": "left"
          },
          "hovermode": "closest",
          "mapbox": {
           "style": "light"
          },
          "paper_bgcolor": "white",
          "plot_bgcolor": "#E5ECF6",
          "polar": {
           "angularaxis": {
            "gridcolor": "white",
            "linecolor": "white",
            "ticks": ""
           },
           "bgcolor": "#E5ECF6",
           "radialaxis": {
            "gridcolor": "white",
            "linecolor": "white",
            "ticks": ""
           }
          },
          "scene": {
           "xaxis": {
            "backgroundcolor": "#E5ECF6",
            "gridcolor": "white",
            "gridwidth": 2,
            "linecolor": "white",
            "showbackground": true,
            "ticks": "",
            "zerolinecolor": "white"
           },
           "yaxis": {
            "backgroundcolor": "#E5ECF6",
            "gridcolor": "white",
            "gridwidth": 2,
            "linecolor": "white",
            "showbackground": true,
            "ticks": "",
            "zerolinecolor": "white"
           },
           "zaxis": {
            "backgroundcolor": "#E5ECF6",
            "gridcolor": "white",
            "gridwidth": 2,
            "linecolor": "white",
            "showbackground": true,
            "ticks": "",
            "zerolinecolor": "white"
           }
          },
          "shapedefaults": {
           "line": {
            "color": "#2a3f5f"
           }
          },
          "ternary": {
           "aaxis": {
            "gridcolor": "white",
            "linecolor": "white",
            "ticks": ""
           },
           "baxis": {
            "gridcolor": "white",
            "linecolor": "white",
            "ticks": ""
           },
           "bgcolor": "#E5ECF6",
           "caxis": {
            "gridcolor": "white",
            "linecolor": "white",
            "ticks": ""
           }
          },
          "title": {
           "x": 0.05
          },
          "xaxis": {
           "automargin": true,
           "gridcolor": "white",
           "linecolor": "white",
           "ticks": "",
           "title": {
            "standoff": 15
           },
           "zerolinecolor": "white",
           "zerolinewidth": 2
          },
          "yaxis": {
           "automargin": true,
           "gridcolor": "white",
           "linecolor": "white",
           "ticks": "",
           "title": {
            "standoff": 15
           },
           "zerolinecolor": "white",
           "zerolinewidth": 2
          }
         }
        },
        "xaxis": {
         "anchor": "y",
         "constrain": "domain",
         "domain": [
          0,
          1
         ],
         "scaleanchor": "y",
         "title": {
          "text": "Features"
         }
        },
        "yaxis": {
         "anchor": "x",
         "autorange": "reversed",
         "constrain": "domain",
         "domain": [
          0,
          1
         ],
         "title": {
          "text": "Features"
         }
        }
       }
      }
     },
     "metadata": {},
     "output_type": "display_data"
    }
   ],
   "source": [
    "x=data.corr()\n",
    "lista = x.values.tolist()\n",
    "fig = px.imshow(lista,  labels=dict(x=\"Features\", y=\"Features\", color=\"Correlação\"),\n",
    "                x=['pos', 'flw', 'flg', 'bl', 'pic', 'lin', 'cl', 'cz', 'ni', 'erl', 'erc', 'lt', 'hc', 'pr', 'fo', 'cs', 'pi'],\n",
    "                y=['pos', 'flw', 'flg', 'bl', 'pic', 'lin', 'cl', 'cz', 'ni', 'erl', 'erc', 'lt', 'hc', 'pr', 'fo', 'cs', 'pi'],\n",
    "                zmax = 1, zmin = -1)\n",
    "fig.show()"
   ]
  },
  {
   "cell_type": "markdown",
   "metadata": {},
   "source": [
    "#### Achando as maiores e menores correlações:"
   ]
  },
  {
   "cell_type": "code",
   "execution_count": 261,
   "metadata": {},
   "outputs": [
    {
     "name": "stdout",
     "output_type": "stream",
     "text": [
      "A maior correlação é 0.44049679787446205\n",
      "A menor correlação é -0.3428821083645478\n"
     ]
    }
   ],
   "source": [
    "lista_corrs = list(itertools.chain(*lista))\n",
    "\n",
    "lista_corrs_sem_1 = list(filter(lambda x: x != 1 and x != -1, lista_corrs))\n",
    "\n",
    "maximo = max(lista_corrs_sem_1)\n",
    "minimo = min(lista_corrs_sem_1)\n",
    "\n",
    "print(f\"A maior correlação é {maximo}\")\n",
    "print(f\"A menor correlação é {minimo}\")"
   ]
  },
  {
   "cell_type": "markdown",
   "metadata": {},
   "source": [
    "#### Como pode-se observar na célula de cima as maiores e menores correlações não são suficiente significativas a ponto de se destacarem de certo modo. Por isso, conclui-se que não será possível o descarte de nenhuma _feature_.\n",
    "\n",
    "Considerando-se que uma correlação só poderia ser considerada forte quando acima de 8."
   ]
  },
  {
   "cell_type": "markdown",
   "metadata": {},
   "source": [
    "### Relação entre a variável target (Class) e as features"
   ]
  },
  {
   "cell_type": "code",
   "execution_count": 262,
   "metadata": {},
   "outputs": [],
   "source": [
    "perfis_reais = data.loc[data['class']=='r']\n",
    "perfis_fake_ativo = data.loc[data['class']=='a']\n",
    "perfis_fake_inativo = data.loc[data['class']=='i']\n",
    "perfis_fake_spam = data.loc[data['class']=='s']"
   ]
  },
  {
   "cell_type": "markdown",
   "metadata": {},
   "source": [
    "#### Relação entre Class e Número de posts\t"
   ]
  },
  {
   "cell_type": "code",
   "execution_count": 263,
   "metadata": {},
   "outputs": [
    {
     "data": {
      "text/plain": [
       "<Figure size 1800x1800 with 0 Axes>"
      ]
     },
     "metadata": {},
     "output_type": "display_data"
    },
    {
     "data": {
      "image/png": "[encoded data removed]",
      "text/plain": [
       "<Figure size 432x288 with 1 Axes>"
      ]
     },
     "metadata": {
      "needs_background": "light"
     },
     "output_type": "display_data"
    }
   ],
   "source": [
    "plt.figure(figsize=(25,25))\n",
    "data.boxplot(column=\"pos\",by=\"class\")\n",
    "plt.tight_layout()\n",
    "plt.show()"
   ]
  },
  {
   "cell_type": "code",
   "execution_count": 264,
   "metadata": {},
   "outputs": [
    {
     "data": {
      "image/png": "[encoded data removed]",
      "text/plain": [
       "<Figure size 1080x504 with 1 Axes>"
      ]
     },
     "metadata": {
      "needs_background": "light"
     },
     "output_type": "display_data"
    }
   ],
   "source": [
    "fig = plt.figure(figsize=(15, 7))\n",
    "perfis_reais['pos'].plot.hist(color=('red'), alpha=0.6, density=True)\n",
    "perfis_fake_ativo['pos'].plot.hist(color=('blue'), alpha=0.6, density=True)\n",
    "perfis_fake_inativo['pos'].plot.hist(color=('green'), alpha=0.6, density=True)\n",
    "perfis_fake_spam['pos'].plot.hist(color=('orange'), alpha=0.6, density=True)\n",
    "plt.legend(['r', 'a', 'i', 's'])\n",
    "plt.xlim(0,10000)\n",
    "plt.ylim(0,0.001)\n",
    "plt.show()"
   ]
  },
  {
   "cell_type": "markdown",
   "metadata": {},
   "source": [
    "#### Relação entre Class e Flw"
   ]
  },
  {
   "cell_type": "code",
   "execution_count": 265,
   "metadata": {},
   "outputs": [
    {
     "data": {
      "text/plain": [
       "<Figure size 1800x1800 with 0 Axes>"
      ]
     },
     "metadata": {},
     "output_type": "display_data"
    },
    {
     "data": {
      "image/png": "[encoded data removed]",
      "text/plain": [
       "<Figure size 432x288 with 1 Axes>"
      ]
     },
     "metadata": {
      "needs_background": "light"
     },
     "output_type": "display_data"
    }
   ],
   "source": [
    "plt.figure(figsize=(25,25))\n",
    "data.boxplot(column=\"flw\",by=\"class\")\n",
    "plt.tight_layout()\n",
    "plt.show()"
   ]
  },
  {
   "cell_type": "code",
   "execution_count": 266,
   "metadata": {},
   "outputs": [
    {
     "data": {
      "image/png": "[encoded data removed]",
      "text/plain": [
       "<Figure size 1080x504 with 1 Axes>"
      ]
     },
     "metadata": {
      "needs_background": "light"
     },
     "output_type": "display_data"
    }
   ],
   "source": [
    "fig = plt.figure(figsize=(15, 7))\n",
    "perfis_reais['flw'].plot.hist(color=('red'), alpha=0.6, density=True)\n",
    "perfis_fake_ativo['flw'].plot.hist(color=('blue'), alpha=0.6, density=True)\n",
    "perfis_fake_inativo['flw'].plot.hist(color=('green'), alpha=0.6, density=True)\n",
    "perfis_fake_spam['flw'].plot.hist(color=('orange'), alpha=0.6, density=True)\n",
    "plt.legend(['r', 'a', 'i', 's'])\n",
    "plt.xlim(0,30000)\n",
    "plt.ylim(0,0.0002)\n",
    "plt.show()"
   ]
  },
  {
   "cell_type": "markdown",
   "metadata": {},
   "source": [
    "#### Relação entre Class e Flg"
   ]
  },
  {
   "cell_type": "code",
   "execution_count": 267,
   "metadata": {},
   "outputs": [
    {
     "data": {
      "text/plain": [
       "<Figure size 1800x1800 with 0 Axes>"
      ]
     },
     "metadata": {},
     "output_type": "display_data"
    },
    {
     "data": {
      "image/png": "[encoded data removed]",
      "text/plain": [
       "<Figure size 432x288 with 1 Axes>"
      ]
     },
     "metadata": {
      "needs_background": "light"
     },
     "output_type": "display_data"
    }
   ],
   "source": [
    "plt.figure(figsize=(25,25))\n",
    "data.boxplot(column=\"flg\",by=\"class\")\n",
    "plt.tight_layout()\n",
    "plt.show()"
   ]
  },
  {
   "cell_type": "code",
   "execution_count": 268,
   "metadata": {},
   "outputs": [
    {
     "data": {
      "image/png": "[encoded data removed]",
      "text/plain": [
       "<Figure size 1080x504 with 1 Axes>"
      ]
     },
     "metadata": {
      "needs_background": "light"
     },
     "output_type": "display_data"
    }
   ],
   "source": [
    "fig = plt.figure(figsize=(15, 7))\n",
    "perfis_reais['flg'].plot.hist(color=('red'), alpha=0.6, density=True)\n",
    "perfis_fake_ativo['flg'].plot.hist(color=('blue'), alpha=0.6, density=True)\n",
    "perfis_fake_inativo['flg'].plot.hist(color=('green'), alpha=0.6, density=True)\n",
    "perfis_fake_spam['flg'].plot.hist(color=('orange'), alpha=0.6, density=True)\n",
    "plt.legend(['r', 'a', 'i', 's'])\n",
    "plt.xlim(0,10000)\n",
    "plt.ylim(0,0.001)\n",
    "plt.show()"
   ]
  },
  {
   "cell_type": "markdown",
   "metadata": {},
   "source": [
    "#### Relação Class e bl"
   ]
  },
  {
   "cell_type": "code",
   "execution_count": 269,
   "metadata": {},
   "outputs": [
    {
     "data": {
      "text/plain": [
       "<Figure size 1800x1800 with 0 Axes>"
      ]
     },
     "metadata": {},
     "output_type": "display_data"
    },
    {
     "data": {
      "image/png": "[encoded data removed]",
      "text/plain": [
       "<Figure size 432x288 with 1 Axes>"
      ]
     },
     "metadata": {
      "needs_background": "light"
     },
     "output_type": "display_data"
    }
   ],
   "source": [
    "plt.figure(figsize=(25,25))\n",
    "data.boxplot(column=\"bl\",by=\"class\")\n",
    "plt.tight_layout()\n",
    "plt.show()"
   ]
  },
  {
   "cell_type": "code",
   "execution_count": 270,
   "metadata": {},
   "outputs": [
    {
     "data": {
      "image/png": "[encoded data removed]",
      "text/plain": [
       "<Figure size 1080x504 with 1 Axes>"
      ]
     },
     "metadata": {
      "needs_background": "light"
     },
     "output_type": "display_data"
    }
   ],
   "source": [
    "fig = plt.figure(figsize=(15, 7))\n",
    "perfis_reais['bl'].plot.hist(color=('red'), alpha=0.6, density=True)\n",
    "perfis_fake_ativo['bl'].plot.hist(color=('blue'), alpha=0.6, density=True)\n",
    "perfis_fake_inativo['bl'].plot.hist(color=('green'), alpha=0.6, density=True)\n",
    "perfis_fake_spam['bl'].plot.hist(color=('orange'), alpha=0.6, density=True)\n",
    "plt.legend(['r', 'a', 'i', 's'])\n",
    "\n",
    "plt.show()"
   ]
  },
  {
   "cell_type": "markdown",
   "metadata": {},
   "source": [
    "#### Relação Class e pic"
   ]
  },
  {
   "cell_type": "code",
   "execution_count": 271,
   "metadata": {},
   "outputs": [
    {
     "data": {
      "text/plain": [
       "<Figure size 1800x1800 with 0 Axes>"
      ]
     },
     "metadata": {},
     "output_type": "display_data"
    },
    {
     "data": {
      "image/png": "[encoded data removed]",
      "text/plain": [
       "<Figure size 432x288 with 1 Axes>"
      ]
     },
     "metadata": {
      "needs_background": "light"
     },
     "output_type": "display_data"
    }
   ],
   "source": [
    "plt.figure(figsize=(25,25))\n",
    "data.boxplot(column=\"pic\",by=\"class\")\n",
    "plt.tight_layout()\n",
    "plt.show()"
   ]
  },
  {
   "cell_type": "code",
   "execution_count": 272,
   "metadata": {},
   "outputs": [],
   "source": [
    "perfis_sem_foto = data.loc[data['pic']== 0]\n",
    "perfis_com_foto = data.loc[data['pic']== 1]\n",
    "\n",
    "perfis_reais_com_foto = perfis_com_foto.loc[perfis_com_foto['class']=='r']\n",
    "perfis_fake_ativo_com_foto = perfis_com_foto.loc[perfis_com_foto['class']=='a']\n",
    "perfis_fake_inativo_com_foto = perfis_com_foto.loc[perfis_com_foto['class']=='i']\n",
    "perfis_fake_spam_com_foto = perfis_com_foto.loc[perfis_com_foto['class']=='s']\n",
    "\n",
    "perfis_reais_sem_foto = perfis_sem_foto.loc[perfis_sem_foto['class']=='r']\n",
    "perfis_fake_ativo_sem_foto = perfis_sem_foto.loc[perfis_sem_foto['class']=='a']\n",
    "perfis_fake_inativo_sem_foto = perfis_sem_foto.loc[perfis_sem_foto['class']=='i']\n",
    "perfis_fake_spam_sem_foto = perfis_sem_foto.loc[perfis_sem_foto['class']=='s']"
   ]
  },
  {
   "cell_type": "code",
   "execution_count": 273,
   "metadata": {},
   "outputs": [
    {
     "data": {
      "image/png": "[encoded data removed]",
      "text/plain": [
       "<Figure size 432x288 with 1 Axes>"
      ]
     },
     "metadata": {
      "needs_background": "light"
     },
     "output_type": "display_data"
    }
   ],
   "source": [
    "fig = plt.figure()\n",
    "ax = fig.add_axes([0,0,1,1])\n",
    "perfis = ['r', 'a', 'i', 's']\n",
    "quantidade = [perfis_reais_com_foto.shape[0], perfis_fake_ativo_com_foto.shape[0], perfis_fake_inativo_com_foto.shape[0], perfis_fake_spam_com_foto.shape[0]]\n",
    "ax.bar(perfis,quantidade)\n",
    "plt.title('Com foto de perfil')\n",
    "plt.show()"
   ]
  },
  {
   "cell_type": "code",
   "execution_count": 274,
   "metadata": {},
   "outputs": [
    {
     "data": {
      "image/png": "[encoded data removed]",
      "text/plain": [
       "<Figure size 432x288 with 1 Axes>"
      ]
     },
     "metadata": {
      "needs_background": "light"
     },
     "output_type": "display_data"
    }
   ],
   "source": [
    "fig = plt.figure()\n",
    "ax = fig.add_axes([0,0,1,1])\n",
    "perfis = ['r', 'a', 'i', 's']\n",
    "quantidade = [perfis_reais_sem_foto.shape[0], perfis_fake_ativo_sem_foto.shape[0], perfis_fake_inativo_sem_foto.shape[0], perfis_fake_spam_sem_foto.shape[0]]\n",
    "ax.bar(perfis,quantidade)\n",
    "plt.title('Sem foto de perfil')\n",
    "plt.show()"
   ]
  },
  {
   "cell_type": "markdown",
   "metadata": {},
   "source": [
    "#### Relação Class e lin"
   ]
  },
  {
   "cell_type": "code",
   "execution_count": 275,
   "metadata": {},
   "outputs": [
    {
     "data": {
      "text/plain": [
       "<Figure size 1800x1800 with 0 Axes>"
      ]
     },
     "metadata": {},
     "output_type": "display_data"
    },
    {
     "data": {
      "image/png": "[encoded data removed]",
      "text/plain": [
       "<Figure size 432x288 with 1 Axes>"
      ]
     },
     "metadata": {
      "needs_background": "light"
     },
     "output_type": "display_data"
    }
   ],
   "source": [
    "plt.figure(figsize=(25,25))\n",
    "data.boxplot(column=\"lin\",by=\"class\")\n",
    "plt.tight_layout()\n",
    "plt.show()"
   ]
  },
  {
   "cell_type": "code",
   "execution_count": 300,
   "metadata": {},
   "outputs": [],
   "source": [
    "perfis_sem_link = data.loc[data['pic']== 0]\n",
    "perfis_com_link= data.loc[data['pic']== 1]\n",
    "\n",
    "perfis_reais_com_link = perfis_com_link.loc[perfis_com_link['class']=='r']\n",
    "perfis_fake_ativo_com_link = perfis_com_link.loc[perfis_com_link['class']=='a']\n",
    "perfis_fake_inativo_com_link = perfis_com_link.loc[perfis_com_link['class']=='i']\n",
    "perfis_fake_spam_com_link = perfis_com_link.loc[perfis_com_link['class']=='s']\n",
    "\n",
    "perfis_reais_sem_link = perfis_sem_link.loc[perfis_sem_link['class']=='r']\n",
    "perfis_fake_ativo_sem_link = perfis_sem_link.loc[perfis_sem_link['class']=='a']\n",
    "perfis_fake_inativo_sem_link = perfis_sem_link.loc[perfis_sem_link['class']=='i']\n",
    "perfis_fake_spam_sem_link = perfis_sem_link.loc[perfis_sem_link['class']=='s']"
   ]
  },
  {
   "cell_type": "code",
   "execution_count": 301,
   "metadata": {},
   "outputs": [
    {
     "data": {
      "image/png": "[encoded data removed]",
      "text/plain": [
       "<Figure size 432x288 with 1 Axes>"
      ]
     },
     "metadata": {
      "needs_background": "light"
     },
     "output_type": "display_data"
    }
   ],
   "source": [
    "fig = plt.figure()\n",
    "ax = fig.add_axes([0,0,1,1])\n",
    "perfis = ['r', 'a', 'i', 's']\n",
    "quantidade = [perfis_reais_com_link.shape[0], perfis_fake_ativo_com_link.shape[0], perfis_fake_inativo_com_link.shape[0], perfis_fake_spam_com_link.shape[0]]\n",
    "ax.bar(perfis,quantidade)\n",
    "plt.title('Com link no perfil')\n",
    "plt.show()"
   ]
  },
  {
   "cell_type": "code",
   "execution_count": 302,
   "metadata": {},
   "outputs": [
    {
     "data": {
      "image/png": "[encoded data removed]",
      "text/plain": [
       "<Figure size 432x288 with 1 Axes>"
      ]
     },
     "metadata": {
      "needs_background": "light"
     },
     "output_type": "display_data"
    }
   ],
   "source": [
    "fig = plt.figure()\n",
    "ax = fig.add_axes([0,0,1,1])\n",
    "perfis = ['r', 'a', 'i', 's']\n",
    "quantidade = [perfis_reais_sem_link.shape[0], perfis_fake_ativo_sem_link.shape[0], perfis_fake_inativo_sem_link.shape[0], perfis_fake_spam_sem_link.shape[0]]\n",
    "ax.bar(perfis,quantidade)\n",
    "plt.title('Sem link perfil')\n",
    "plt.show()"
   ]
  },
  {
   "cell_type": "markdown",
   "metadata": {},
   "source": [
    "#### Relação Class e cl"
   ]
  },
  {
   "cell_type": "code",
   "execution_count": 277,
   "metadata": {},
   "outputs": [
    {
     "data": {
      "text/plain": [
       "<Figure size 1800x1800 with 0 Axes>"
      ]
     },
     "metadata": {},
     "output_type": "display_data"
    },
    {
     "data": {
      "image/png": "[encoded data removed]",
      "text/plain": [
       "<Figure size 432x288 with 1 Axes>"
      ]
     },
     "metadata": {
      "needs_background": "light"
     },
     "output_type": "display_data"
    }
   ],
   "source": [
    "plt.figure(figsize=(25,25))\n",
    "data.boxplot(column=\"cl\",by=\"class\")\n",
    "plt.tight_layout()\n",
    "plt.show()"
   ]
  },
  {
   "cell_type": "code",
   "execution_count": 278,
   "metadata": {},
   "outputs": [
    {
     "data": {
      "image/png": "[encoded data removed]",
      "text/plain": [
       "<Figure size 1080x504 with 1 Axes>"
      ]
     },
     "metadata": {
      "needs_background": "light"
     },
     "output_type": "display_data"
    }
   ],
   "source": [
    "fig = plt.figure(figsize=(15, 7))\n",
    "perfis_reais['cl'].plot.hist(color=('red'), alpha=0.6, density=True)\n",
    "perfis_fake_ativo['cl'].plot.hist(color=('blue'), alpha=0.6, density=True)\n",
    "perfis_fake_inativo['cl'].plot.hist(color=('green'), alpha=0.6, density=True)\n",
    "perfis_fake_spam['cl'].plot.hist(color=('orange'), alpha=0.6, density=True)\n",
    "plt.legend(['r', 'a', 'i', 's'])\n",
    "\n",
    "plt.xlim(0,2500)\n",
    "\n",
    "plt.show()"
   ]
  },
  {
   "cell_type": "markdown",
   "metadata": {},
   "source": [
    "#### Relação Class e cz"
   ]
  },
  {
   "cell_type": "code",
   "execution_count": 279,
   "metadata": {},
   "outputs": [
    {
     "data": {
      "text/plain": [
       "<Figure size 1800x1800 with 0 Axes>"
      ]
     },
     "metadata": {},
     "output_type": "display_data"
    },
    {
     "data": {
      "image/png": "[encoded data removed]",
      "text/plain": [
       "<Figure size 432x288 with 1 Axes>"
      ]
     },
     "metadata": {
      "needs_background": "light"
     },
     "output_type": "display_data"
    }
   ],
   "source": [
    "plt.figure(figsize=(25,25))\n",
    "data.boxplot(column=\"cz\",by=\"class\")\n",
    "plt.tight_layout()\n",
    "plt.show()"
   ]
  },
  {
   "cell_type": "code",
   "execution_count": 280,
   "metadata": {},
   "outputs": [
    {
     "data": {
      "image/png": "[encoded data removed]",
      "text/plain": [
       "<Figure size 1080x504 with 1 Axes>"
      ]
     },
     "metadata": {
      "needs_background": "light"
     },
     "output_type": "display_data"
    }
   ],
   "source": [
    "fig = plt.figure(figsize=(15, 7))\n",
    "perfis_reais['cz'].plot.hist(color=('red'), alpha=0.6, density=True)\n",
    "perfis_fake_ativo['cz'].plot.hist(color=('blue'), alpha=0.6, density=True)\n",
    "perfis_fake_inativo['cz'].plot.hist(color=('green'), alpha=0.6, density=True)\n",
    "perfis_fake_spam['cz'].plot.hist(color=('orange'), alpha=0.6, density=True)\n",
    "plt.legend(['r', 'a', 'i', 's'])\n",
    "\n",
    "plt.show()"
   ]
  },
  {
   "cell_type": "markdown",
   "metadata": {},
   "source": [
    "#### Relação Class e ni"
   ]
  },
  {
   "cell_type": "code",
   "execution_count": 281,
   "metadata": {},
   "outputs": [
    {
     "data": {
      "text/plain": [
       "<Figure size 1800x1800 with 0 Axes>"
      ]
     },
     "metadata": {},
     "output_type": "display_data"
    },
    {
     "data": {
      "image/png": "[encoded data removed]",
      "text/plain": [
       "<Figure size 432x288 with 1 Axes>"
      ]
     },
     "metadata": {
      "needs_background": "light"
     },
     "output_type": "display_data"
    }
   ],
   "source": [
    "plt.figure(figsize=(25,25))\n",
    "data.boxplot(column=\"ni\",by=\"class\")\n",
    "plt.tight_layout()\n",
    "plt.show()"
   ]
  },
  {
   "cell_type": "code",
   "execution_count": 282,
   "metadata": {},
   "outputs": [
    {
     "data": {
      "image/png": "[encoded data removed]",
      "text/plain": [
       "<Figure size 1080x504 with 1 Axes>"
      ]
     },
     "metadata": {
      "needs_background": "light"
     },
     "output_type": "display_data"
    }
   ],
   "source": [
    "fig = plt.figure(figsize=(15, 7))\n",
    "perfis_reais['ni'].plot.hist(color=('red'), alpha=0.6, density=True)\n",
    "perfis_fake_ativo['ni'].plot.hist(color=('blue'), alpha=0.6, density=True)\n",
    "perfis_fake_inativo['ni'].plot.hist(color=('green'), alpha=0.6, density=True)\n",
    "perfis_fake_spam['ni'].plot.hist(color=('orange'), alpha=0.6, density=True)\n",
    "plt.legend(['r', 'a', 'i', 's'])\n",
    "\n",
    "plt.show()"
   ]
  },
  {
   "cell_type": "markdown",
   "metadata": {},
   "source": [
    "#### Relação Class e erl"
   ]
  },
  {
   "cell_type": "code",
   "execution_count": 283,
   "metadata": {},
   "outputs": [
    {
     "data": {
      "text/plain": [
       "<Figure size 1800x1800 with 0 Axes>"
      ]
     },
     "metadata": {},
     "output_type": "display_data"
    },
    {
     "data": {
      "image/png": "[encoded data removed]",
      "text/plain": [
       "<Figure size 432x288 with 1 Axes>"
      ]
     },
     "metadata": {
      "needs_background": "light"
     },
     "output_type": "display_data"
    }
   ],
   "source": [
    "plt.figure(figsize=(25,25))\n",
    "data.boxplot(column=\"erl\",by=\"class\")\n",
    "plt.tight_layout()\n",
    "plt.show()"
   ]
  },
  {
   "cell_type": "code",
   "execution_count": 284,
   "metadata": {},
   "outputs": [
    {
     "data": {
      "image/png": "[encoded data removed]",
      "text/plain": [
       "<Figure size 1080x504 with 1 Axes>"
      ]
     },
     "metadata": {
      "needs_background": "light"
     },
     "output_type": "display_data"
    }
   ],
   "source": [
    "fig = plt.figure(figsize=(15, 7))\n",
    "perfis_reais['erl'].plot.hist(color=('red'), alpha=0.6, density=True)\n",
    "perfis_fake_ativo['erl'].plot.hist(color=('blue'), alpha=0.6, density=True)\n",
    "perfis_fake_inativo['erl'].plot.hist(color=('green'), alpha=0.6, density=True)\n",
    "perfis_fake_spam['erl'].plot.hist(color=('orange'), alpha=0.6, density=True)\n",
    "plt.legend(['r', 'a', 'i', 's'])\n",
    "plt.xlim(0,4000)\n",
    "plt.show()"
   ]
  },
  {
   "cell_type": "markdown",
   "metadata": {},
   "source": [
    "#### Relação Class e erc"
   ]
  },
  {
   "cell_type": "code",
   "execution_count": 285,
   "metadata": {},
   "outputs": [
    {
     "data": {
      "text/plain": [
       "<Figure size 1800x1800 with 0 Axes>"
      ]
     },
     "metadata": {},
     "output_type": "display_data"
    },
    {
     "data": {
      "image/png": "[encoded data removed]",
      "text/plain": [
       "<Figure size 432x288 with 1 Axes>"
      ]
     },
     "metadata": {
      "needs_background": "light"
     },
     "output_type": "display_data"
    }
   ],
   "source": [
    "plt.figure(figsize=(25,25))\n",
    "data.boxplot(column=\"erc\",by=\"class\")\n",
    "plt.tight_layout()\n",
    "plt.show()"
   ]
  },
  {
   "cell_type": "code",
   "execution_count": 286,
   "metadata": {},
   "outputs": [
    {
     "data": {
      "image/png": "[encoded data removed]",
      "text/plain": [
       "<Figure size 1080x504 with 1 Axes>"
      ]
     },
     "metadata": {
      "needs_background": "light"
     },
     "output_type": "display_data"
    }
   ],
   "source": [
    "fig = plt.figure(figsize=(15, 7))\n",
    "perfis_reais['erc'].plot.hist(color=('red'), alpha=0.6, density=True)\n",
    "perfis_fake_ativo['erc'].plot.hist(color=('blue'), alpha=0.6, density=True)\n",
    "perfis_fake_inativo['erc'].plot.hist(color=('green'), alpha=0.6, density=True)\n",
    "perfis_fake_spam['erc'].plot.hist(color=('orange'), alpha=0.6, density=True)\n",
    "plt.legend(['r', 'a', 'i', 's'])\n",
    "\n",
    "plt.xlim(0,100)\n",
    "\n",
    "plt.show()"
   ]
  },
  {
   "cell_type": "markdown",
   "metadata": {},
   "source": [
    "#### Relação Class e lt"
   ]
  },
  {
   "cell_type": "code",
   "execution_count": 287,
   "metadata": {},
   "outputs": [
    {
     "data": {
      "text/plain": [
       "<Figure size 1800x1800 with 0 Axes>"
      ]
     },
     "metadata": {},
     "output_type": "display_data"
    },
    {
     "data": {
      "image/png": "[encoded data removed]",
      "text/plain": [
       "<Figure size 432x288 with 1 Axes>"
      ]
     },
     "metadata": {
      "needs_background": "light"
     },
     "output_type": "display_data"
    }
   ],
   "source": [
    "plt.figure(figsize=(25,25))\n",
    "data.boxplot(column=\"lt\",by=\"class\")\n",
    "plt.tight_layout()\n",
    "plt.show()"
   ]
  },
  {
   "cell_type": "code",
   "execution_count": 288,
   "metadata": {},
   "outputs": [
    {
     "data": {
      "image/png": "[encoded data removed]",
      "text/plain": [
       "<Figure size 1080x504 with 1 Axes>"
      ]
     },
     "metadata": {
      "needs_background": "light"
     },
     "output_type": "display_data"
    }
   ],
   "source": [
    "fig = plt.figure(figsize=(15, 7))\n",
    "perfis_reais['lt'].plot.hist(color=('red'), alpha=0.6, density=True)\n",
    "perfis_fake_ativo['lt'].plot.hist(color=('blue'), alpha=0.6, density=True)\n",
    "perfis_fake_inativo['lt'].plot.hist(color=('green'), alpha=0.6, density=True)\n",
    "perfis_fake_spam['lt'].plot.hist(color=('orange'), alpha=0.6, density=True)\n",
    "plt.legend(['r', 'a', 'i', 's'])\n",
    "\n",
    "plt.xlim(0,1)\n",
    "\n",
    "plt.show()"
   ]
  },
  {
   "cell_type": "markdown",
   "metadata": {},
   "source": [
    "#### Relação Class e hc"
   ]
  },
  {
   "cell_type": "code",
   "execution_count": 289,
   "metadata": {},
   "outputs": [
    {
     "data": {
      "text/plain": [
       "<Figure size 1800x1800 with 0 Axes>"
      ]
     },
     "metadata": {},
     "output_type": "display_data"
    },
    {
     "data": {
      "image/png": "[encoded data removed]",
      "text/plain": [
       "<Figure size 432x288 with 1 Axes>"
      ]
     },
     "metadata": {
      "needs_background": "light"
     },
     "output_type": "display_data"
    }
   ],
   "source": [
    "plt.figure(figsize=(25,25))\n",
    "data.boxplot(column=\"hc\",by=\"class\")\n",
    "plt.tight_layout()\n",
    "plt.show()"
   ]
  },
  {
   "cell_type": "code",
   "execution_count": 290,
   "metadata": {},
   "outputs": [
    {
     "data": {
      "image/png": "[encoded data removed]",
      "text/plain": [
       "<Figure size 1080x504 with 1 Axes>"
      ]
     },
     "metadata": {
      "needs_background": "light"
     },
     "output_type": "display_data"
    }
   ],
   "source": [
    "fig = plt.figure(figsize=(15, 7))\n",
    "perfis_reais['hc'].plot.hist(color=('red'), alpha=0.6, density=True)\n",
    "perfis_fake_ativo['hc'].plot.hist(color=('blue'), alpha=0.6, density=True)\n",
    "perfis_fake_inativo['hc'].plot.hist(color=('green'), alpha=0.6, density=True)\n",
    "perfis_fake_spam['hc'].plot.hist(color=('orange'), alpha=0.6, density=True)\n",
    "plt.legend(['r', 'a', 'i', 's'])\n",
    "\n",
    "plt.xlim(0,15)\n",
    "\n",
    "plt.show()"
   ]
  },
  {
   "cell_type": "markdown",
   "metadata": {},
   "source": [
    "#### Relação Class e pr"
   ]
  },
  {
   "cell_type": "code",
   "execution_count": 291,
   "metadata": {},
   "outputs": [
    {
     "data": {
      "text/plain": [
       "<Figure size 1800x1800 with 0 Axes>"
      ]
     },
     "metadata": {},
     "output_type": "display_data"
    },
    {
     "data": {
      "image/png": "[encoded data removed]",
      "text/plain": [
       "<Figure size 432x288 with 1 Axes>"
      ]
     },
     "metadata": {
      "needs_background": "light"
     },
     "output_type": "display_data"
    }
   ],
   "source": [
    "plt.figure(figsize=(25,25))\n",
    "data.boxplot(column=\"hc\",by=\"class\")\n",
    "plt.tight_layout()\n",
    "plt.show()"
   ]
  },
  {
   "cell_type": "code",
   "execution_count": 292,
   "metadata": {},
   "outputs": [
    {
     "data": {
      "image/png": "[encoded data removed]",
      "text/plain": [
       "<Figure size 1080x504 with 1 Axes>"
      ]
     },
     "metadata": {
      "needs_background": "light"
     },
     "output_type": "display_data"
    }
   ],
   "source": [
    "fig = plt.figure(figsize=(15, 7))\n",
    "perfis_reais['pr'].plot.hist(color=('red'), alpha=0.6, density=True)\n",
    "perfis_fake_ativo['pr'].plot.hist(color=('blue'), alpha=0.6, density=True)\n",
    "perfis_fake_inativo['pr'].plot.hist(color=('green'), alpha=0.6, density=True)\n",
    "perfis_fake_spam['pr'].plot.hist(color=('orange'), alpha=0.6, density=True)\n",
    "plt.legend(['r', 'a', 'i', 's'])\n",
    "\n",
    "plt.xlim(0,2.5)\n",
    "\n",
    "plt.show()"
   ]
  },
  {
   "cell_type": "markdown",
   "metadata": {},
   "source": [
    "#### Relação Class e fo"
   ]
  },
  {
   "cell_type": "code",
   "execution_count": 293,
   "metadata": {},
   "outputs": [
    {
     "data": {
      "text/plain": [
       "<Figure size 1800x1800 with 0 Axes>"
      ]
     },
     "metadata": {},
     "output_type": "display_data"
    },
    {
     "data": {
      "image/png": "[encoded data removed]",
      "text/plain": [
       "<Figure size 432x288 with 1 Axes>"
      ]
     },
     "metadata": {
      "needs_background": "light"
     },
     "output_type": "display_data"
    }
   ],
   "source": [
    "plt.figure(figsize=(25,25))\n",
    "data.boxplot(column=\"fo\",by=\"class\")\n",
    "plt.tight_layout()\n",
    "plt.show()"
   ]
  },
  {
   "cell_type": "code",
   "execution_count": 294,
   "metadata": {},
   "outputs": [
    {
     "data": {
      "image/png": "[encoded data removed]",
      "text/plain": [
       "<Figure size 1080x504 with 1 Axes>"
      ]
     },
     "metadata": {
      "needs_background": "light"
     },
     "output_type": "display_data"
    }
   ],
   "source": [
    "fig = plt.figure(figsize=(15, 7))\n",
    "perfis_reais['fo'].plot.hist(color=('red'), alpha=0.6, density=True)\n",
    "perfis_fake_ativo['fo'].plot.hist(color=('blue'), alpha=0.6, density=True)\n",
    "perfis_fake_inativo['fo'].plot.hist(color=('green'), alpha=0.6, density=True)\n",
    "perfis_fake_spam['fo'].plot.hist(color=('orange'), alpha=0.6, density=True)\n",
    "plt.legend(['r', 'a', 'i', 's'])\n",
    "\n",
    "plt.xlim(0,6)\n",
    "plt.ylim(0,5)\n",
    "\n",
    "plt.show()"
   ]
  },
  {
   "cell_type": "markdown",
   "metadata": {},
   "source": [
    "#### Relação Class e cs"
   ]
  },
  {
   "cell_type": "code",
   "execution_count": 295,
   "metadata": {},
   "outputs": [
    {
     "data": {
      "text/plain": [
       "<Figure size 1800x1800 with 0 Axes>"
      ]
     },
     "metadata": {},
     "output_type": "display_data"
    },
    {
     "data": {
      "image/png": "[encoded data removed]",
      "text/plain": [
       "<Figure size 432x288 with 1 Axes>"
      ]
     },
     "metadata": {
      "needs_background": "light"
     },
     "output_type": "display_data"
    }
   ],
   "source": [
    "plt.figure(figsize=(25,25))\n",
    "data.boxplot(column=\"cs\",by=\"class\")\n",
    "plt.tight_layout()\n",
    "plt.show()"
   ]
  },
  {
   "cell_type": "code",
   "execution_count": 296,
   "metadata": {},
   "outputs": [
    {
     "data": {
      "image/png": "[encoded data removed]",
      "text/plain": [
       "<Figure size 1080x504 with 1 Axes>"
      ]
     },
     "metadata": {
      "needs_background": "light"
     },
     "output_type": "display_data"
    }
   ],
   "source": [
    "fig = plt.figure(figsize=(15, 7))\n",
    "perfis_reais['cs'].plot.hist(color=('red'), alpha=0.6, density=True)\n",
    "perfis_fake_ativo['cs'].plot.hist(color=('blue'), alpha=0.6, density=True)\n",
    "perfis_fake_inativo['cs'].plot.hist(color=('green'), alpha=0.6, density=True)\n",
    "perfis_fake_spam['cs'].plot.hist(color=('orange'), alpha=0.6, density=True)\n",
    "plt.legend(['r', 'a', 'i', 's'])\n",
    "\n",
    "plt.xlim(0,1)\n",
    "plt.ylim(0,5)\n",
    "\n",
    "plt.show()"
   ]
  },
  {
   "cell_type": "markdown",
   "metadata": {},
   "source": [
    "#### Relação Class e pi"
   ]
  },
  {
   "cell_type": "code",
   "execution_count": 297,
   "metadata": {},
   "outputs": [
    {
     "data": {
      "text/plain": [
       "<Figure size 1800x1800 with 0 Axes>"
      ]
     },
     "metadata": {},
     "output_type": "display_data"
    },
    {
     "data": {
      "image/png": "[encoded data removed]",
      "text/plain": [
       "<Figure size 432x288 with 1 Axes>"
      ]
     },
     "metadata": {
      "needs_background": "light"
     },
     "output_type": "display_data"
    }
   ],
   "source": [
    "plt.figure(figsize=(25,25))\n",
    "data.boxplot(column=\"pi\",by=\"class\")\n",
    "plt.tight_layout()\n",
    "plt.show()"
   ]
  },
  {
   "cell_type": "code",
   "execution_count": 299,
   "metadata": {},
   "outputs": [
    {
     "data": {
      "image/png": "[encoded data removed]",
      "text/plain": [
       "<Figure size 1080x504 with 1 Axes>"
      ]
     },
     "metadata": {
      "needs_background": "light"
     },
     "output_type": "display_data"
    }
   ],
   "source": [
    "fig = plt.figure(figsize=(15, 7))\n",
    "perfis_reais['pi'].plot.hist(color=('red'), alpha=0.6, density=True)\n",
    "perfis_fake_ativo['pi'].plot.hist(color=('blue'), alpha=0.6, density=True)\n",
    "perfis_fake_inativo['pi'].plot.hist(color=('green'), alpha=0.6, density=True)\n",
    "perfis_fake_spam['pi'].plot.hist(color=('orange'), alpha=0.6, density=True)\n",
    "plt.legend(['r', 'a', 'i', 's'])\n",
    "\n",
    "plt.xlim(0,10000)\n",
    "\n",
    "plt.show()"
   ]
  },
  {
   "cell_type": "markdown",
   "metadata": {},
   "source": [
    "## C. Modelos de Predição  \n",
    "    Descreva e justifique sua escolha de pelo menos DOIS modelos de predição. Exemplos de uso de modelos neste trabalho:\n",
    "    https://paulovasconcellos.com.br/10-skills-que-voc%C3%AA-precisar%C3%A1-para-trabalhar-com-data-science-em-2020-d1fe0da75914\n",
    "    Mas você pode usar outros que\n",
    "    fizerem mais sentido para o seu problema. Nesta etapa, ajuste cada modelo\n",
    "    preditivo apenas a uma parte da base de dados chamada de treinamento. A\n",
    "    validação do modelo está descrita no próximo subitem."
   ]
  },
  {
   "cell_type": "markdown",
   "metadata": {},
   "source": [
    "## D. Processo e Estatísticas de Validação\n",
    "    \n",
    "    Para os modelos preditivos que foram desenvolvidos no item anterior, é\n",
    "    necessário calcular medidas que informam a performance de cada modelo\n",
    "    ajustado. Assim, para cada modelo preditivo, faça:\n",
    "     \n",
    "    o  Divida a base de dados na parte treinamento e na parte teste. Use a\n",
    "    parte treinamento para estimar cada modelo preditivo. \n",
    "    o  Estude as medidas que permitem validar que seu modelo de previsão\n",
    "    está funcionando bem. Veja alguns exemplos nos links a seguir: link 1,\n",
    "    link 2 e link 3 (este apenas se target for quantitativo). Escolha medidas\n",
    "    de performance para os modelos de predição feitos em seu projeto e\n",
    "    compare-as após calcular tanto predizer a variável usando os dados de\n",
    "    treinamento como para a parte dos dados teste (o mais importante). \n",
    "    o  Discuta se essas duas medidas se comportam de forma semelhante\n",
    "    para as duas partes de dados. Leia o texto disponível aqui para\n",
    "    compreender overfitting e underfitting e refinar senso crítico para\n",
    "    discutir sobre as medidas calculadas. \n",
    "    o  Extra: Faça o processo de Validação Cruzada utilizando\n",
    "    também 10 ciclos e calcule a performance média e desvio\n",
    "    padrão das duas medidas R2 e RMS tanto para a parte\n",
    "    treinamento como para a parte teste. Discuta com riqueza de\n",
    "    detalhes."
   ]
  },
  {
   "cell_type": "markdown",
   "metadata": {},
   "source": [
    "## E. Conclusão  \n",
    "    Faça conclusão final com detalhes levando em consideração todas as\n",
    "    interpretações realizadas no decorrer do projeto."
   ]
  },
  {
   "cell_type": "markdown",
   "metadata": {},
   "source": [
    "## F. Referências Bibliográficas    \n",
    "    Todas as pesquisas feitas e estudadas que foram relevantes para o\n",
    "    desenvolvimento devem ser citadas no projeto. "
   ]
  }
 ],
 "metadata": {
  "interpreter": {
   "hash": "b8480431bb365df6bcb1c44b7387c7b698c6b108659e761b6ab654603c809c5e"
  },
  "kernelspec": {
   "display_name": "Python 3.8.5 64-bit ('base': conda)",
   "language": "python",
   "name": "python3"
  },
  "language_info": {
   "codemirror_mode": {
    "name": "ipython",
    "version": 3
   },
   "file_extension": ".py",
   "mimetype": "text/x-python",
   "name": "python",
   "nbconvert_exporter": "python",
   "pygments_lexer": "ipython3",
   "version": "3.8.5"
  },
  "orig_nbformat": 4
 },
 "nbformat": 4,
 "nbformat_minor": 2
}
